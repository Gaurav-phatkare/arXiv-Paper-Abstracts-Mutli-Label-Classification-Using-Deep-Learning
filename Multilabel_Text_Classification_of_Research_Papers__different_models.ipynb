{
  "nbformat": 4,
  "nbformat_minor": 0,
  "metadata": {
    "colab": {
      "provenance": [],
      "gpuType": "T4",
      "toc_visible": true,
      "include_colab_link": true
    },
    "kernelspec": {
      "name": "python3",
      "display_name": "Python 3"
    },
    "language_info": {
      "name": "python"
    },
    "accelerator": "GPU"
  },
  "cells": [
    {
      "cell_type": "markdown",
      "metadata": {
        "id": "view-in-github",
        "colab_type": "text"
      },
      "source": [
        "<a href=\"https://colab.research.google.com/github/Gaurav-phatkare/arXiv-Paper-Abstracts-Mutli-Label-Classification-Using-Deep-Learning/blob/main/Multilabel_Text_Classification_of_Research_Papers__different_models.ipynb\" target=\"_parent\"><img src=\"https://colab.research.google.com/assets/colab-badge.svg\" alt=\"Open In Colab\"/></a>"
      ]
    },
    {
      "cell_type": "code",
      "execution_count": 1,
      "metadata": {
        "colab": {
          "base_uri": "https://localhost:8080/"
        },
        "id": "LZG031iCXwCX",
        "outputId": "081d7fb5-bf3c-4926-e1d3-badc57bab253"
      },
      "outputs": [
        {
          "output_type": "stream",
          "name": "stdout",
          "text": [
            "Tue Aug  8 04:59:13 2023       \n",
            "+-----------------------------------------------------------------------------+\n",
            "| NVIDIA-SMI 525.105.17   Driver Version: 525.105.17   CUDA Version: 12.0     |\n",
            "|-------------------------------+----------------------+----------------------+\n",
            "| GPU  Name        Persistence-M| Bus-Id        Disp.A | Volatile Uncorr. ECC |\n",
            "| Fan  Temp  Perf  Pwr:Usage/Cap|         Memory-Usage | GPU-Util  Compute M. |\n",
            "|                               |                      |               MIG M. |\n",
            "|===============================+======================+======================|\n",
            "|   0  Tesla T4            Off  | 00000000:00:04.0 Off |                    0 |\n",
            "| N/A   52C    P8    10W /  70W |      0MiB / 15360MiB |      0%      Default |\n",
            "|                               |                      |                  N/A |\n",
            "+-------------------------------+----------------------+----------------------+\n",
            "                                                                               \n",
            "+-----------------------------------------------------------------------------+\n",
            "| Processes:                                                                  |\n",
            "|  GPU   GI   CI        PID   Type   Process name                  GPU Memory |\n",
            "|        ID   ID                                                   Usage      |\n",
            "|=============================================================================|\n",
            "|  No running processes found                                                 |\n",
            "+-----------------------------------------------------------------------------+\n"
          ]
        }
      ],
      "source": [
        "!nvidia-smi"
      ]
    },
    {
      "cell_type": "code",
      "source": [
        "import pandas as pd\n",
        "import numpy as np\n",
        "import matplotlib.pyplot as plt\n",
        "import seaborn as sns\n",
        "import tensorflow as tf"
      ],
      "metadata": {
        "id": "c17etficYib0"
      },
      "execution_count": 2,
      "outputs": []
    },
    {
      "cell_type": "code",
      "source": [
        "!pip install kaggle"
      ],
      "metadata": {
        "colab": {
          "base_uri": "https://localhost:8080/"
        },
        "id": "G88XD7JBYojR",
        "outputId": "6dc096c2-4a89-4b29-d678-a33cfc0c76ab"
      },
      "execution_count": 3,
      "outputs": [
        {
          "output_type": "stream",
          "name": "stdout",
          "text": [
            "Requirement already satisfied: kaggle in /usr/local/lib/python3.10/dist-packages (1.5.16)\n",
            "Requirement already satisfied: six>=1.10 in /usr/local/lib/python3.10/dist-packages (from kaggle) (1.16.0)\n",
            "Requirement already satisfied: certifi in /usr/local/lib/python3.10/dist-packages (from kaggle) (2023.7.22)\n",
            "Requirement already satisfied: python-dateutil in /usr/local/lib/python3.10/dist-packages (from kaggle) (2.8.2)\n",
            "Requirement already satisfied: requests in /usr/local/lib/python3.10/dist-packages (from kaggle) (2.27.1)\n",
            "Requirement already satisfied: tqdm in /usr/local/lib/python3.10/dist-packages (from kaggle) (4.65.0)\n",
            "Requirement already satisfied: python-slugify in /usr/local/lib/python3.10/dist-packages (from kaggle) (8.0.1)\n",
            "Requirement already satisfied: urllib3 in /usr/local/lib/python3.10/dist-packages (from kaggle) (1.26.16)\n",
            "Requirement already satisfied: bleach in /usr/local/lib/python3.10/dist-packages (from kaggle) (6.0.0)\n",
            "Requirement already satisfied: webencodings in /usr/local/lib/python3.10/dist-packages (from bleach->kaggle) (0.5.1)\n",
            "Requirement already satisfied: text-unidecode>=1.3 in /usr/local/lib/python3.10/dist-packages (from python-slugify->kaggle) (1.3)\n",
            "Requirement already satisfied: charset-normalizer~=2.0.0 in /usr/local/lib/python3.10/dist-packages (from requests->kaggle) (2.0.12)\n",
            "Requirement already satisfied: idna<4,>=2.5 in /usr/local/lib/python3.10/dist-packages (from requests->kaggle) (3.4)\n"
          ]
        }
      ]
    },
    {
      "cell_type": "code",
      "source": [
        "!mkdir ~/.kaggle"
      ],
      "metadata": {
        "id": "6gxIMLlO671J"
      },
      "execution_count": 4,
      "outputs": []
    },
    {
      "cell_type": "code",
      "source": [
        "!cp kaggle.json ~/.kaggle/"
      ],
      "metadata": {
        "id": "hHLR3Oc46-5s"
      },
      "execution_count": 5,
      "outputs": []
    },
    {
      "cell_type": "code",
      "source": [
        "!chmod 600 ~/.kaggle/kaggle.json"
      ],
      "metadata": {
        "id": "zRUsfqIU7AEm"
      },
      "execution_count": 6,
      "outputs": []
    },
    {
      "cell_type": "code",
      "source": [
        "!kaggle datasets download -d spsayakpaul/arxiv-paper-abstracts"
      ],
      "metadata": {
        "colab": {
          "base_uri": "https://localhost:8080/"
        },
        "id": "I7bt0OFz7Gdu",
        "outputId": "9d1b1e97-96e9-43c1-bd8a-92f9dbec6c44"
      },
      "execution_count": 7,
      "outputs": [
        {
          "output_type": "stream",
          "name": "stdout",
          "text": [
            "Downloading arxiv-paper-abstracts.zip to /content\n",
            " 94% 42.0M/44.6M [00:02<00:00, 29.1MB/s]\n",
            "100% 44.6M/44.6M [00:02<00:00, 21.2MB/s]\n"
          ]
        }
      ]
    },
    {
      "cell_type": "code",
      "source": [
        "!unzip /content/arxiv-paper-abstracts.zip"
      ],
      "metadata": {
        "colab": {
          "base_uri": "https://localhost:8080/"
        },
        "id": "ca57RTQ87Hu1",
        "outputId": "607a8a6c-810a-4ed1-8d7a-cc0f39095f0c"
      },
      "execution_count": 8,
      "outputs": [
        {
          "output_type": "stream",
          "name": "stdout",
          "text": [
            "Archive:  /content/arxiv-paper-abstracts.zip\n",
            "  inflating: arxiv_data.csv          \n",
            "  inflating: arxiv_data_210930-054931.csv  \n"
          ]
        }
      ]
    },
    {
      "cell_type": "markdown",
      "source": [
        "#Load The Data"
      ],
      "metadata": {
        "id": "lFWaQ_rUz0nN"
      }
    },
    {
      "cell_type": "code",
      "source": [
        "df = pd.read_csv(\"/content/arxiv_data.csv\")"
      ],
      "metadata": {
        "id": "1G5vHOno7Jj7"
      },
      "execution_count": 9,
      "outputs": []
    },
    {
      "cell_type": "code",
      "source": [
        "df.shape"
      ],
      "metadata": {
        "colab": {
          "base_uri": "https://localhost:8080/"
        },
        "id": "SwL0gdt47LRS",
        "outputId": "c5701d11-abad-4a75-fa86-ec9a28051ff2"
      },
      "execution_count": 10,
      "outputs": [
        {
          "output_type": "execute_result",
          "data": {
            "text/plain": [
              "(51774, 3)"
            ]
          },
          "metadata": {},
          "execution_count": 10
        }
      ]
    },
    {
      "cell_type": "code",
      "source": [
        "df.head()"
      ],
      "metadata": {
        "colab": {
          "base_uri": "https://localhost:8080/",
          "height": 206
        },
        "id": "IhxchxdV7Mfw",
        "outputId": "16d19998-fcbd-4d25-ec40-364a678baf6b"
      },
      "execution_count": 11,
      "outputs": [
        {
          "output_type": "execute_result",
          "data": {
            "text/plain": [
              "                                              titles  \\\n",
              "0  Survey on Semantic Stereo Matching / Semantic ...   \n",
              "1  FUTURE-AI: Guiding Principles and Consensus Re...   \n",
              "2  Enforcing Mutual Consistency of Hard Regions f...   \n",
              "3  Parameter Decoupling Strategy for Semi-supervi...   \n",
              "4  Background-Foreground Segmentation for Interio...   \n",
              "\n",
              "                                           summaries  \\\n",
              "0  Stereo matching is one of the widely used tech...   \n",
              "1  The recent advancements in artificial intellig...   \n",
              "2  In this paper, we proposed a novel mutual cons...   \n",
              "3  Consistency training has proven to be an advan...   \n",
              "4  To ensure safety in automated driving, the cor...   \n",
              "\n",
              "                         terms  \n",
              "0           ['cs.CV', 'cs.LG']  \n",
              "1  ['cs.CV', 'cs.AI', 'cs.LG']  \n",
              "2           ['cs.CV', 'cs.AI']  \n",
              "3                    ['cs.CV']  \n",
              "4           ['cs.CV', 'cs.LG']  "
            ],
            "text/html": [
              "\n",
              "\n",
              "  <div id=\"df-619120c8-f6b4-4436-8237-4e61000a9006\">\n",
              "    <div class=\"colab-df-container\">\n",
              "      <div>\n",
              "<style scoped>\n",
              "    .dataframe tbody tr th:only-of-type {\n",
              "        vertical-align: middle;\n",
              "    }\n",
              "\n",
              "    .dataframe tbody tr th {\n",
              "        vertical-align: top;\n",
              "    }\n",
              "\n",
              "    .dataframe thead th {\n",
              "        text-align: right;\n",
              "    }\n",
              "</style>\n",
              "<table border=\"1\" class=\"dataframe\">\n",
              "  <thead>\n",
              "    <tr style=\"text-align: right;\">\n",
              "      <th></th>\n",
              "      <th>titles</th>\n",
              "      <th>summaries</th>\n",
              "      <th>terms</th>\n",
              "    </tr>\n",
              "  </thead>\n",
              "  <tbody>\n",
              "    <tr>\n",
              "      <th>0</th>\n",
              "      <td>Survey on Semantic Stereo Matching / Semantic ...</td>\n",
              "      <td>Stereo matching is one of the widely used tech...</td>\n",
              "      <td>['cs.CV', 'cs.LG']</td>\n",
              "    </tr>\n",
              "    <tr>\n",
              "      <th>1</th>\n",
              "      <td>FUTURE-AI: Guiding Principles and Consensus Re...</td>\n",
              "      <td>The recent advancements in artificial intellig...</td>\n",
              "      <td>['cs.CV', 'cs.AI', 'cs.LG']</td>\n",
              "    </tr>\n",
              "    <tr>\n",
              "      <th>2</th>\n",
              "      <td>Enforcing Mutual Consistency of Hard Regions f...</td>\n",
              "      <td>In this paper, we proposed a novel mutual cons...</td>\n",
              "      <td>['cs.CV', 'cs.AI']</td>\n",
              "    </tr>\n",
              "    <tr>\n",
              "      <th>3</th>\n",
              "      <td>Parameter Decoupling Strategy for Semi-supervi...</td>\n",
              "      <td>Consistency training has proven to be an advan...</td>\n",
              "      <td>['cs.CV']</td>\n",
              "    </tr>\n",
              "    <tr>\n",
              "      <th>4</th>\n",
              "      <td>Background-Foreground Segmentation for Interio...</td>\n",
              "      <td>To ensure safety in automated driving, the cor...</td>\n",
              "      <td>['cs.CV', 'cs.LG']</td>\n",
              "    </tr>\n",
              "  </tbody>\n",
              "</table>\n",
              "</div>\n",
              "      <button class=\"colab-df-convert\" onclick=\"convertToInteractive('df-619120c8-f6b4-4436-8237-4e61000a9006')\"\n",
              "              title=\"Convert this dataframe to an interactive table.\"\n",
              "              style=\"display:none;\">\n",
              "\n",
              "  <svg xmlns=\"http://www.w3.org/2000/svg\" height=\"24px\"viewBox=\"0 0 24 24\"\n",
              "       width=\"24px\">\n",
              "    <path d=\"M0 0h24v24H0V0z\" fill=\"none\"/>\n",
              "    <path d=\"M18.56 5.44l.94 2.06.94-2.06 2.06-.94-2.06-.94-.94-2.06-.94 2.06-2.06.94zm-11 1L8.5 8.5l.94-2.06 2.06-.94-2.06-.94L8.5 2.5l-.94 2.06-2.06.94zm10 10l.94 2.06.94-2.06 2.06-.94-2.06-.94-.94-2.06-.94 2.06-2.06.94z\"/><path d=\"M17.41 7.96l-1.37-1.37c-.4-.4-.92-.59-1.43-.59-.52 0-1.04.2-1.43.59L10.3 9.45l-7.72 7.72c-.78.78-.78 2.05 0 2.83L4 21.41c.39.39.9.59 1.41.59.51 0 1.02-.2 1.41-.59l7.78-7.78 2.81-2.81c.8-.78.8-2.07 0-2.86zM5.41 20L4 18.59l7.72-7.72 1.47 1.35L5.41 20z\"/>\n",
              "  </svg>\n",
              "      </button>\n",
              "\n",
              "\n",
              "\n",
              "    <div id=\"df-5bdea8b3-6ab8-4824-b43e-f14ba57c58f7\">\n",
              "      <button class=\"colab-df-quickchart\" onclick=\"quickchart('df-5bdea8b3-6ab8-4824-b43e-f14ba57c58f7')\"\n",
              "              title=\"Suggest charts.\"\n",
              "              style=\"display:none;\">\n",
              "\n",
              "<svg xmlns=\"http://www.w3.org/2000/svg\" height=\"24px\"viewBox=\"0 0 24 24\"\n",
              "     width=\"24px\">\n",
              "    <g>\n",
              "        <path d=\"M19 3H5c-1.1 0-2 .9-2 2v14c0 1.1.9 2 2 2h14c1.1 0 2-.9 2-2V5c0-1.1-.9-2-2-2zM9 17H7v-7h2v7zm4 0h-2V7h2v10zm4 0h-2v-4h2v4z\"/>\n",
              "    </g>\n",
              "</svg>\n",
              "      </button>\n",
              "    </div>\n",
              "\n",
              "<style>\n",
              "  .colab-df-quickchart {\n",
              "    background-color: #E8F0FE;\n",
              "    border: none;\n",
              "    border-radius: 50%;\n",
              "    cursor: pointer;\n",
              "    display: none;\n",
              "    fill: #1967D2;\n",
              "    height: 32px;\n",
              "    padding: 0 0 0 0;\n",
              "    width: 32px;\n",
              "  }\n",
              "\n",
              "  .colab-df-quickchart:hover {\n",
              "    background-color: #E2EBFA;\n",
              "    box-shadow: 0px 1px 2px rgba(60, 64, 67, 0.3), 0px 1px 3px 1px rgba(60, 64, 67, 0.15);\n",
              "    fill: #174EA6;\n",
              "  }\n",
              "\n",
              "  [theme=dark] .colab-df-quickchart {\n",
              "    background-color: #3B4455;\n",
              "    fill: #D2E3FC;\n",
              "  }\n",
              "\n",
              "  [theme=dark] .colab-df-quickchart:hover {\n",
              "    background-color: #434B5C;\n",
              "    box-shadow: 0px 1px 3px 1px rgba(0, 0, 0, 0.15);\n",
              "    filter: drop-shadow(0px 1px 2px rgba(0, 0, 0, 0.3));\n",
              "    fill: #FFFFFF;\n",
              "  }\n",
              "</style>\n",
              "\n",
              "    <script>\n",
              "      async function quickchart(key) {\n",
              "        const containerElement = document.querySelector('#' + key);\n",
              "        const charts = await google.colab.kernel.invokeFunction(\n",
              "            'suggestCharts', [key], {});\n",
              "      }\n",
              "    </script>\n",
              "\n",
              "      <script>\n",
              "\n",
              "function displayQuickchartButton(domScope) {\n",
              "  let quickchartButtonEl =\n",
              "    domScope.querySelector('#df-5bdea8b3-6ab8-4824-b43e-f14ba57c58f7 button.colab-df-quickchart');\n",
              "  quickchartButtonEl.style.display =\n",
              "    google.colab.kernel.accessAllowed ? 'block' : 'none';\n",
              "}\n",
              "\n",
              "        displayQuickchartButton(document);\n",
              "      </script>\n",
              "      <style>\n",
              "    .colab-df-container {\n",
              "      display:flex;\n",
              "      flex-wrap:wrap;\n",
              "      gap: 12px;\n",
              "    }\n",
              "\n",
              "    .colab-df-convert {\n",
              "      background-color: #E8F0FE;\n",
              "      border: none;\n",
              "      border-radius: 50%;\n",
              "      cursor: pointer;\n",
              "      display: none;\n",
              "      fill: #1967D2;\n",
              "      height: 32px;\n",
              "      padding: 0 0 0 0;\n",
              "      width: 32px;\n",
              "    }\n",
              "\n",
              "    .colab-df-convert:hover {\n",
              "      background-color: #E2EBFA;\n",
              "      box-shadow: 0px 1px 2px rgba(60, 64, 67, 0.3), 0px 1px 3px 1px rgba(60, 64, 67, 0.15);\n",
              "      fill: #174EA6;\n",
              "    }\n",
              "\n",
              "    [theme=dark] .colab-df-convert {\n",
              "      background-color: #3B4455;\n",
              "      fill: #D2E3FC;\n",
              "    }\n",
              "\n",
              "    [theme=dark] .colab-df-convert:hover {\n",
              "      background-color: #434B5C;\n",
              "      box-shadow: 0px 1px 3px 1px rgba(0, 0, 0, 0.15);\n",
              "      filter: drop-shadow(0px 1px 2px rgba(0, 0, 0, 0.3));\n",
              "      fill: #FFFFFF;\n",
              "    }\n",
              "  </style>\n",
              "\n",
              "      <script>\n",
              "        const buttonEl =\n",
              "          document.querySelector('#df-619120c8-f6b4-4436-8237-4e61000a9006 button.colab-df-convert');\n",
              "        buttonEl.style.display =\n",
              "          google.colab.kernel.accessAllowed ? 'block' : 'none';\n",
              "\n",
              "        async function convertToInteractive(key) {\n",
              "          const element = document.querySelector('#df-619120c8-f6b4-4436-8237-4e61000a9006');\n",
              "          const dataTable =\n",
              "            await google.colab.kernel.invokeFunction('convertToInteractive',\n",
              "                                                     [key], {});\n",
              "          if (!dataTable) return;\n",
              "\n",
              "          const docLinkHtml = 'Like what you see? Visit the ' +\n",
              "            '<a target=\"_blank\" href=https://colab.research.google.com/notebooks/data_table.ipynb>data table notebook</a>'\n",
              "            + ' to learn more about interactive tables.';\n",
              "          element.innerHTML = '';\n",
              "          dataTable['output_type'] = 'display_data';\n",
              "          await google.colab.output.renderOutput(dataTable, element);\n",
              "          const docLink = document.createElement('div');\n",
              "          docLink.innerHTML = docLinkHtml;\n",
              "          element.appendChild(docLink);\n",
              "        }\n",
              "      </script>\n",
              "    </div>\n",
              "  </div>\n"
            ]
          },
          "metadata": {},
          "execution_count": 11
        }
      ]
    },
    {
      "cell_type": "code",
      "source": [
        "df.iloc[4].summaries,df.iloc[4].terms"
      ],
      "metadata": {
        "colab": {
          "base_uri": "https://localhost:8080/"
        },
        "id": "4ymwaki57PHF",
        "outputId": "60b6aa3f-7d82-4c27-f2af-37789fce01f6"
      },
      "execution_count": 12,
      "outputs": [
        {
          "output_type": "execute_result",
          "data": {
            "text/plain": [
              "('To ensure safety in automated driving, the correct perception of the\\nsituation inside the car is as important as its environment. Thus, seat\\noccupancy detection and classification of detected instances play an important\\nrole in interior sensing. By the knowledge of the seat occupancy status, it is\\npossible to, e.g., automate the airbag deployment control. Furthermore, the\\npresence of a driver, which is necessary for partially automated driving cars\\nat the automation levels two to four can be verified. In this work, we compare\\ndifferent statistical methods from the field of image segmentation to approach\\nthe problem of background-foreground segmentation in camera based interior\\nsensing. In the recent years, several methods based on different techniques\\nhave been developed and applied to images or videos from different\\napplications. The peculiarity of the given scenarios of interior sensing is,\\nthat the foreground instances and the background both contain static as well as\\ndynamic elements. In data considered in this work, even the camera position is\\nnot completely fixed. We review and benchmark three different methods ranging,\\ni.e., Gaussian Mixture Models (GMM), Morphological Snakes and a deep neural\\nnetwork, namely a Mask R-CNN. In particular, the limitations of the classical\\nmethods, GMM and Morphological Snakes, for interior sensing are shown.\\nFurthermore, it turns, that it is possible to overcome these limitations by\\ndeep learning, e.g.\\\\ using a Mask R-CNN. Although only a small amount of ground\\ntruth data was available for training, we enabled the Mask R-CNN to produce\\nhigh quality background-foreground masks via transfer learning. Moreover, we\\ndemonstrate that certain augmentation as well as pre- and post-processing\\nmethods further enhance the performance of the investigated methods.',\n",
              " \"['cs.CV', 'cs.LG']\")"
            ]
          },
          "metadata": {},
          "execution_count": 12
        }
      ]
    },
    {
      "cell_type": "code",
      "source": [
        "df['titles'].duplicated().sum()"
      ],
      "metadata": {
        "colab": {
          "base_uri": "https://localhost:8080/"
        },
        "id": "usvKOgBD8qdt",
        "outputId": "b643b76c-e31f-447e-d9ea-cd8ec52ae3b0"
      },
      "execution_count": 13,
      "outputs": [
        {
          "output_type": "execute_result",
          "data": {
            "text/plain": [
              "12802"
            ]
          },
          "metadata": {},
          "execution_count": 13
        }
      ]
    },
    {
      "cell_type": "code",
      "source": [
        "df.drop_duplicates(inplace = True)"
      ],
      "metadata": {
        "id": "UhqhXojC88nd"
      },
      "execution_count": 14,
      "outputs": []
    },
    {
      "cell_type": "code",
      "source": [
        "df.shape"
      ],
      "metadata": {
        "colab": {
          "base_uri": "https://localhost:8080/"
        },
        "id": "pek6hNut9A85",
        "outputId": "5a24f7e3-b590-4853-ef40-8d9ce213a29a"
      },
      "execution_count": 15,
      "outputs": [
        {
          "output_type": "execute_result",
          "data": {
            "text/plain": [
              "(38991, 3)"
            ]
          },
          "metadata": {},
          "execution_count": 15
        }
      ]
    },
    {
      "cell_type": "markdown",
      "source": [
        "##Text Cleaning"
      ],
      "metadata": {
        "id": "9zXQBOABz5Mt"
      }
    },
    {
      "cell_type": "code",
      "source": [
        "import re\n",
        "def Text_cleaning(text):\n",
        "  text = re.sub(r\"\\n\" , \" \", text)\n",
        "\n",
        "  text = re.sub(r\"\\s+\" , \" \", text)\n",
        "\n",
        "  text = text.lower()\n",
        "  text = text.replace('\\n',\" \")\n",
        "\n",
        "  return text\n",
        "\n"
      ],
      "metadata": {
        "id": "_Y2dmL0l9Ccl"
      },
      "execution_count": 16,
      "outputs": []
    },
    {
      "cell_type": "code",
      "source": [
        "Text_cleaning(df.iloc[4].summaries)"
      ],
      "metadata": {
        "colab": {
          "base_uri": "https://localhost:8080/",
          "height": 165
        },
        "id": "eicvEAWQ9Dyw",
        "outputId": "83503f7f-93fc-4168-8429-080edc8a1539"
      },
      "execution_count": 17,
      "outputs": [
        {
          "output_type": "execute_result",
          "data": {
            "text/plain": [
              "'to ensure safety in automated driving, the correct perception of the situation inside the car is as important as its environment. thus, seat occupancy detection and classification of detected instances play an important role in interior sensing. by the knowledge of the seat occupancy status, it is possible to, e.g., automate the airbag deployment control. furthermore, the presence of a driver, which is necessary for partially automated driving cars at the automation levels two to four can be verified. in this work, we compare different statistical methods from the field of image segmentation to approach the problem of background-foreground segmentation in camera based interior sensing. in the recent years, several methods based on different techniques have been developed and applied to images or videos from different applications. the peculiarity of the given scenarios of interior sensing is, that the foreground instances and the background both contain static as well as dynamic elements. in data considered in this work, even the camera position is not completely fixed. we review and benchmark three different methods ranging, i.e., gaussian mixture models (gmm), morphological snakes and a deep neural network, namely a mask r-cnn. in particular, the limitations of the classical methods, gmm and morphological snakes, for interior sensing are shown. furthermore, it turns, that it is possible to overcome these limitations by deep learning, e.g.\\\\ using a mask r-cnn. although only a small amount of ground truth data was available for training, we enabled the mask r-cnn to produce high quality background-foreground masks via transfer learning. moreover, we demonstrate that certain augmentation as well as pre- and post-processing methods further enhance the performance of the investigated methods.'"
            ],
            "application/vnd.google.colaboratory.intrinsic+json": {
              "type": "string"
            }
          },
          "metadata": {},
          "execution_count": 17
        }
      ]
    },
    {
      "cell_type": "code",
      "source": [
        "df['cleaned_summary'] = df['summaries'].apply(Text_cleaning)"
      ],
      "metadata": {
        "id": "auxSmlm49E5j"
      },
      "execution_count": 18,
      "outputs": []
    },
    {
      "cell_type": "code",
      "source": [
        "df.head()"
      ],
      "metadata": {
        "colab": {
          "base_uri": "https://localhost:8080/",
          "height": 337
        },
        "id": "ANoNoXvI9HhF",
        "outputId": "f62dd959-5c09-4768-b1ec-7801cb10d714"
      },
      "execution_count": 19,
      "outputs": [
        {
          "output_type": "execute_result",
          "data": {
            "text/plain": [
              "                                              titles  \\\n",
              "0  Survey on Semantic Stereo Matching / Semantic ...   \n",
              "1  FUTURE-AI: Guiding Principles and Consensus Re...   \n",
              "2  Enforcing Mutual Consistency of Hard Regions f...   \n",
              "3  Parameter Decoupling Strategy for Semi-supervi...   \n",
              "4  Background-Foreground Segmentation for Interio...   \n",
              "\n",
              "                                           summaries  \\\n",
              "0  Stereo matching is one of the widely used tech...   \n",
              "1  The recent advancements in artificial intellig...   \n",
              "2  In this paper, we proposed a novel mutual cons...   \n",
              "3  Consistency training has proven to be an advan...   \n",
              "4  To ensure safety in automated driving, the cor...   \n",
              "\n",
              "                         terms  \\\n",
              "0           ['cs.CV', 'cs.LG']   \n",
              "1  ['cs.CV', 'cs.AI', 'cs.LG']   \n",
              "2           ['cs.CV', 'cs.AI']   \n",
              "3                    ['cs.CV']   \n",
              "4           ['cs.CV', 'cs.LG']   \n",
              "\n",
              "                                     cleaned_summary  \n",
              "0  stereo matching is one of the widely used tech...  \n",
              "1  the recent advancements in artificial intellig...  \n",
              "2  in this paper, we proposed a novel mutual cons...  \n",
              "3  consistency training has proven to be an advan...  \n",
              "4  to ensure safety in automated driving, the cor...  "
            ],
            "text/html": [
              "\n",
              "\n",
              "  <div id=\"df-8f91c19b-33bd-477d-a9f9-36b6b64ae062\">\n",
              "    <div class=\"colab-df-container\">\n",
              "      <div>\n",
              "<style scoped>\n",
              "    .dataframe tbody tr th:only-of-type {\n",
              "        vertical-align: middle;\n",
              "    }\n",
              "\n",
              "    .dataframe tbody tr th {\n",
              "        vertical-align: top;\n",
              "    }\n",
              "\n",
              "    .dataframe thead th {\n",
              "        text-align: right;\n",
              "    }\n",
              "</style>\n",
              "<table border=\"1\" class=\"dataframe\">\n",
              "  <thead>\n",
              "    <tr style=\"text-align: right;\">\n",
              "      <th></th>\n",
              "      <th>titles</th>\n",
              "      <th>summaries</th>\n",
              "      <th>terms</th>\n",
              "      <th>cleaned_summary</th>\n",
              "    </tr>\n",
              "  </thead>\n",
              "  <tbody>\n",
              "    <tr>\n",
              "      <th>0</th>\n",
              "      <td>Survey on Semantic Stereo Matching / Semantic ...</td>\n",
              "      <td>Stereo matching is one of the widely used tech...</td>\n",
              "      <td>['cs.CV', 'cs.LG']</td>\n",
              "      <td>stereo matching is one of the widely used tech...</td>\n",
              "    </tr>\n",
              "    <tr>\n",
              "      <th>1</th>\n",
              "      <td>FUTURE-AI: Guiding Principles and Consensus Re...</td>\n",
              "      <td>The recent advancements in artificial intellig...</td>\n",
              "      <td>['cs.CV', 'cs.AI', 'cs.LG']</td>\n",
              "      <td>the recent advancements in artificial intellig...</td>\n",
              "    </tr>\n",
              "    <tr>\n",
              "      <th>2</th>\n",
              "      <td>Enforcing Mutual Consistency of Hard Regions f...</td>\n",
              "      <td>In this paper, we proposed a novel mutual cons...</td>\n",
              "      <td>['cs.CV', 'cs.AI']</td>\n",
              "      <td>in this paper, we proposed a novel mutual cons...</td>\n",
              "    </tr>\n",
              "    <tr>\n",
              "      <th>3</th>\n",
              "      <td>Parameter Decoupling Strategy for Semi-supervi...</td>\n",
              "      <td>Consistency training has proven to be an advan...</td>\n",
              "      <td>['cs.CV']</td>\n",
              "      <td>consistency training has proven to be an advan...</td>\n",
              "    </tr>\n",
              "    <tr>\n",
              "      <th>4</th>\n",
              "      <td>Background-Foreground Segmentation for Interio...</td>\n",
              "      <td>To ensure safety in automated driving, the cor...</td>\n",
              "      <td>['cs.CV', 'cs.LG']</td>\n",
              "      <td>to ensure safety in automated driving, the cor...</td>\n",
              "    </tr>\n",
              "  </tbody>\n",
              "</table>\n",
              "</div>\n",
              "      <button class=\"colab-df-convert\" onclick=\"convertToInteractive('df-8f91c19b-33bd-477d-a9f9-36b6b64ae062')\"\n",
              "              title=\"Convert this dataframe to an interactive table.\"\n",
              "              style=\"display:none;\">\n",
              "\n",
              "  <svg xmlns=\"http://www.w3.org/2000/svg\" height=\"24px\"viewBox=\"0 0 24 24\"\n",
              "       width=\"24px\">\n",
              "    <path d=\"M0 0h24v24H0V0z\" fill=\"none\"/>\n",
              "    <path d=\"M18.56 5.44l.94 2.06.94-2.06 2.06-.94-2.06-.94-.94-2.06-.94 2.06-2.06.94zm-11 1L8.5 8.5l.94-2.06 2.06-.94-2.06-.94L8.5 2.5l-.94 2.06-2.06.94zm10 10l.94 2.06.94-2.06 2.06-.94-2.06-.94-.94-2.06-.94 2.06-2.06.94z\"/><path d=\"M17.41 7.96l-1.37-1.37c-.4-.4-.92-.59-1.43-.59-.52 0-1.04.2-1.43.59L10.3 9.45l-7.72 7.72c-.78.78-.78 2.05 0 2.83L4 21.41c.39.39.9.59 1.41.59.51 0 1.02-.2 1.41-.59l7.78-7.78 2.81-2.81c.8-.78.8-2.07 0-2.86zM5.41 20L4 18.59l7.72-7.72 1.47 1.35L5.41 20z\"/>\n",
              "  </svg>\n",
              "      </button>\n",
              "\n",
              "\n",
              "\n",
              "    <div id=\"df-2252166a-f87a-434a-bbf9-96bcded181b0\">\n",
              "      <button class=\"colab-df-quickchart\" onclick=\"quickchart('df-2252166a-f87a-434a-bbf9-96bcded181b0')\"\n",
              "              title=\"Suggest charts.\"\n",
              "              style=\"display:none;\">\n",
              "\n",
              "<svg xmlns=\"http://www.w3.org/2000/svg\" height=\"24px\"viewBox=\"0 0 24 24\"\n",
              "     width=\"24px\">\n",
              "    <g>\n",
              "        <path d=\"M19 3H5c-1.1 0-2 .9-2 2v14c0 1.1.9 2 2 2h14c1.1 0 2-.9 2-2V5c0-1.1-.9-2-2-2zM9 17H7v-7h2v7zm4 0h-2V7h2v10zm4 0h-2v-4h2v4z\"/>\n",
              "    </g>\n",
              "</svg>\n",
              "      </button>\n",
              "    </div>\n",
              "\n",
              "<style>\n",
              "  .colab-df-quickchart {\n",
              "    background-color: #E8F0FE;\n",
              "    border: none;\n",
              "    border-radius: 50%;\n",
              "    cursor: pointer;\n",
              "    display: none;\n",
              "    fill: #1967D2;\n",
              "    height: 32px;\n",
              "    padding: 0 0 0 0;\n",
              "    width: 32px;\n",
              "  }\n",
              "\n",
              "  .colab-df-quickchart:hover {\n",
              "    background-color: #E2EBFA;\n",
              "    box-shadow: 0px 1px 2px rgba(60, 64, 67, 0.3), 0px 1px 3px 1px rgba(60, 64, 67, 0.15);\n",
              "    fill: #174EA6;\n",
              "  }\n",
              "\n",
              "  [theme=dark] .colab-df-quickchart {\n",
              "    background-color: #3B4455;\n",
              "    fill: #D2E3FC;\n",
              "  }\n",
              "\n",
              "  [theme=dark] .colab-df-quickchart:hover {\n",
              "    background-color: #434B5C;\n",
              "    box-shadow: 0px 1px 3px 1px rgba(0, 0, 0, 0.15);\n",
              "    filter: drop-shadow(0px 1px 2px rgba(0, 0, 0, 0.3));\n",
              "    fill: #FFFFFF;\n",
              "  }\n",
              "</style>\n",
              "\n",
              "    <script>\n",
              "      async function quickchart(key) {\n",
              "        const containerElement = document.querySelector('#' + key);\n",
              "        const charts = await google.colab.kernel.invokeFunction(\n",
              "            'suggestCharts', [key], {});\n",
              "      }\n",
              "    </script>\n",
              "\n",
              "      <script>\n",
              "\n",
              "function displayQuickchartButton(domScope) {\n",
              "  let quickchartButtonEl =\n",
              "    domScope.querySelector('#df-2252166a-f87a-434a-bbf9-96bcded181b0 button.colab-df-quickchart');\n",
              "  quickchartButtonEl.style.display =\n",
              "    google.colab.kernel.accessAllowed ? 'block' : 'none';\n",
              "}\n",
              "\n",
              "        displayQuickchartButton(document);\n",
              "      </script>\n",
              "      <style>\n",
              "    .colab-df-container {\n",
              "      display:flex;\n",
              "      flex-wrap:wrap;\n",
              "      gap: 12px;\n",
              "    }\n",
              "\n",
              "    .colab-df-convert {\n",
              "      background-color: #E8F0FE;\n",
              "      border: none;\n",
              "      border-radius: 50%;\n",
              "      cursor: pointer;\n",
              "      display: none;\n",
              "      fill: #1967D2;\n",
              "      height: 32px;\n",
              "      padding: 0 0 0 0;\n",
              "      width: 32px;\n",
              "    }\n",
              "\n",
              "    .colab-df-convert:hover {\n",
              "      background-color: #E2EBFA;\n",
              "      box-shadow: 0px 1px 2px rgba(60, 64, 67, 0.3), 0px 1px 3px 1px rgba(60, 64, 67, 0.15);\n",
              "      fill: #174EA6;\n",
              "    }\n",
              "\n",
              "    [theme=dark] .colab-df-convert {\n",
              "      background-color: #3B4455;\n",
              "      fill: #D2E3FC;\n",
              "    }\n",
              "\n",
              "    [theme=dark] .colab-df-convert:hover {\n",
              "      background-color: #434B5C;\n",
              "      box-shadow: 0px 1px 3px 1px rgba(0, 0, 0, 0.15);\n",
              "      filter: drop-shadow(0px 1px 2px rgba(0, 0, 0, 0.3));\n",
              "      fill: #FFFFFF;\n",
              "    }\n",
              "  </style>\n",
              "\n",
              "      <script>\n",
              "        const buttonEl =\n",
              "          document.querySelector('#df-8f91c19b-33bd-477d-a9f9-36b6b64ae062 button.colab-df-convert');\n",
              "        buttonEl.style.display =\n",
              "          google.colab.kernel.accessAllowed ? 'block' : 'none';\n",
              "\n",
              "        async function convertToInteractive(key) {\n",
              "          const element = document.querySelector('#df-8f91c19b-33bd-477d-a9f9-36b6b64ae062');\n",
              "          const dataTable =\n",
              "            await google.colab.kernel.invokeFunction('convertToInteractive',\n",
              "                                                     [key], {});\n",
              "          if (!dataTable) return;\n",
              "\n",
              "          const docLinkHtml = 'Like what you see? Visit the ' +\n",
              "            '<a target=\"_blank\" href=https://colab.research.google.com/notebooks/data_table.ipynb>data table notebook</a>'\n",
              "            + ' to learn more about interactive tables.';\n",
              "          element.innerHTML = '';\n",
              "          dataTable['output_type'] = 'display_data';\n",
              "          await google.colab.output.renderOutput(dataTable, element);\n",
              "          const docLink = document.createElement('div');\n",
              "          docLink.innerHTML = docLinkHtml;\n",
              "          element.appendChild(docLink);\n",
              "        }\n",
              "      </script>\n",
              "    </div>\n",
              "  </div>\n"
            ]
          },
          "metadata": {},
          "execution_count": 19
        }
      ]
    },
    {
      "cell_type": "code",
      "source": [
        "df.info()"
      ],
      "metadata": {
        "colab": {
          "base_uri": "https://localhost:8080/"
        },
        "id": "5SBUZzHi9I7s",
        "outputId": "5096a394-2e5c-470e-ff9f-13269710183f"
      },
      "execution_count": 20,
      "outputs": [
        {
          "output_type": "stream",
          "name": "stdout",
          "text": [
            "<class 'pandas.core.frame.DataFrame'>\n",
            "Int64Index: 38991 entries, 0 to 51772\n",
            "Data columns (total 4 columns):\n",
            " #   Column           Non-Null Count  Dtype \n",
            "---  ------           --------------  ----- \n",
            " 0   titles           38991 non-null  object\n",
            " 1   summaries        38991 non-null  object\n",
            " 2   terms            38991 non-null  object\n",
            " 3   cleaned_summary  38991 non-null  object\n",
            "dtypes: object(4)\n",
            "memory usage: 1.5+ MB\n"
          ]
        }
      ]
    },
    {
      "cell_type": "code",
      "source": [
        "df.terms.value_counts()"
      ],
      "metadata": {
        "colab": {
          "base_uri": "https://localhost:8080/"
        },
        "id": "riT5cJg29SCp",
        "outputId": "9edf49db-560f-4aa8-f97d-3641fc0c62bb"
      },
      "execution_count": 21,
      "outputs": [
        {
          "output_type": "execute_result",
          "data": {
            "text/plain": [
              "['cs.CV']                                          12753\n",
              "['cs.LG', 'stat.ML']                                4076\n",
              "['cs.LG']                                           2047\n",
              "['cs.CV', 'cs.LG']                                  1488\n",
              "['cs.LG', 'cs.AI']                                  1207\n",
              "                                                   ...  \n",
              "['cs.LG', 'cs.CL', 'cs.HC', 'stat.ML']                 1\n",
              "['cs.LG', 'cs.AI', 'cs.CL', 'cs.PL', 'stat.ML']        1\n",
              "['cs.LG', 'cs.CL', 'stat.ME', 'stat.ML']               1\n",
              "['cs.LG', 'cs.CL', 'cs.LO', 'stat.ML']                 1\n",
              "['stat.ML', 'cs.CV', 'cs.LG', 'q-bio.QM']              1\n",
              "Name: terms, Length: 3157, dtype: int64"
            ]
          },
          "metadata": {},
          "execution_count": 21
        }
      ]
    },
    {
      "cell_type": "code",
      "source": [
        "new_df = df.groupby('terms').filter(lambda x: len(x) > 1)"
      ],
      "metadata": {
        "id": "llrK57tI9TqU"
      },
      "execution_count": 22,
      "outputs": []
    },
    {
      "cell_type": "code",
      "source": [
        "new_df.terms.value_counts()"
      ],
      "metadata": {
        "colab": {
          "base_uri": "https://localhost:8080/"
        },
        "id": "15-JRp7S9U_D",
        "outputId": "0e5735ec-a7ff-4c2c-f1c5-e9621d40b509"
      },
      "execution_count": 23,
      "outputs": [
        {
          "output_type": "execute_result",
          "data": {
            "text/plain": [
              "['cs.CV']                                                         12753\n",
              "['cs.LG', 'stat.ML']                                               4076\n",
              "['cs.LG']                                                          2047\n",
              "['cs.CV', 'cs.LG']                                                 1488\n",
              "['cs.LG', 'cs.AI']                                                 1207\n",
              "                                                                  ...  \n",
              "['cs.CV', 'cs.LG', 'eess.IV', 'eess.SP', 'stat.ML']                   2\n",
              "['cs.LG', 'cs.CL', 'cs.CV', 'cs.NE', 'stat.ML']                       2\n",
              "['stat.ML', 'cs.IT', 'cs.LG', 'math.IT', 'math.ST', 'stat.TH']        2\n",
              "['cs.CV', 'cs.CL', 'cs.LG', 'eess.AS', 'eess.IV']                     2\n",
              "['cs.LG', 'G.3']                                                      2\n",
              "Name: terms, Length: 836, dtype: int64"
            ]
          },
          "metadata": {},
          "execution_count": 23
        }
      ]
    },
    {
      "cell_type": "code",
      "source": [
        "len(new_df.iloc[2].terms),new_df.iloc[2].terms"
      ],
      "metadata": {
        "colab": {
          "base_uri": "https://localhost:8080/"
        },
        "id": "MxpjZd-k9WGT",
        "outputId": "c2ae076f-2744-4b15-9086-05fb79a2f8db"
      },
      "execution_count": 24,
      "outputs": [
        {
          "output_type": "execute_result",
          "data": {
            "text/plain": [
              "(18, \"['cs.CV', 'cs.AI']\")"
            ]
          },
          "metadata": {},
          "execution_count": 24
        }
      ]
    },
    {
      "cell_type": "code",
      "source": [
        "new_df['terms'].values[:5]"
      ],
      "metadata": {
        "colab": {
          "base_uri": "https://localhost:8080/"
        },
        "id": "Rj66a_Qg9Xhw",
        "outputId": "869e7ab4-1319-4f61-9f21-5b8ee29c8725"
      },
      "execution_count": 25,
      "outputs": [
        {
          "output_type": "execute_result",
          "data": {
            "text/plain": [
              "array([\"['cs.CV', 'cs.LG']\", \"['cs.CV', 'cs.AI', 'cs.LG']\",\n",
              "       \"['cs.CV', 'cs.AI']\", \"['cs.CV']\", \"['cs.CV', 'cs.LG']\"],\n",
              "      dtype=object)"
            ]
          },
          "metadata": {},
          "execution_count": 25
        }
      ]
    },
    {
      "cell_type": "markdown",
      "source": [
        "## convert the string labels to lists of strings"
      ],
      "metadata": {
        "id": "vDFCaI4gH7Rg"
      }
    },
    {
      "cell_type": "code",
      "source": [
        "import ast\n",
        "new_df['terms'] = new_df['terms'].apply(lambda x: ast.literal_eval(x))"
      ],
      "metadata": {
        "id": "2dSou-XYH7JY"
      },
      "execution_count": 26,
      "outputs": []
    },
    {
      "cell_type": "code",
      "source": [
        "len(new_df.iloc[2].terms),new_df.iloc[2].terms"
      ],
      "metadata": {
        "colab": {
          "base_uri": "https://localhost:8080/"
        },
        "id": "2hIPUKoBH7Bg",
        "outputId": "f9ecc7fa-a1fe-45f6-9185-333237c75820"
      },
      "execution_count": 27,
      "outputs": [
        {
          "output_type": "execute_result",
          "data": {
            "text/plain": [
              "(2, ['cs.CV', 'cs.AI'])"
            ]
          },
          "metadata": {},
          "execution_count": 27
        }
      ]
    },
    {
      "cell_type": "code",
      "source": [
        "new_df['terms'].values[:5]"
      ],
      "metadata": {
        "colab": {
          "base_uri": "https://localhost:8080/"
        },
        "id": "-8yvN72SH65G",
        "outputId": "1dd35699-b1ca-49ba-c9c7-ff3e8bfbb132"
      },
      "execution_count": 28,
      "outputs": [
        {
          "output_type": "execute_result",
          "data": {
            "text/plain": [
              "array([list(['cs.CV', 'cs.LG']), list(['cs.CV', 'cs.AI', 'cs.LG']),\n",
              "       list(['cs.CV', 'cs.AI']), list(['cs.CV']),\n",
              "       list(['cs.CV', 'cs.LG'])], dtype=object)"
            ]
          },
          "metadata": {},
          "execution_count": 28
        }
      ]
    },
    {
      "cell_type": "code",
      "source": [
        "new_df['terms'].explode().value_counts()[:10]"
      ],
      "metadata": {
        "colab": {
          "base_uri": "https://localhost:8080/"
        },
        "id": "Lpn1Rnvoz0l_",
        "outputId": "49b7c4e3-8a47-46f7-b661-700960870817"
      },
      "execution_count": 29,
      "outputs": [
        {
          "output_type": "execute_result",
          "data": {
            "text/plain": [
              "cs.CV      21334\n",
              "cs.LG      20483\n",
              "stat.ML    11422\n",
              "cs.AI       5465\n",
              "eess.IV     1585\n",
              "cs.RO       1371\n",
              "cs.CL        974\n",
              "cs.NE        851\n",
              "cs.CR        520\n",
              "math.OC      452\n",
              "Name: terms, dtype: int64"
            ]
          },
          "metadata": {},
          "execution_count": 29
        }
      ]
    },
    {
      "cell_type": "markdown",
      "source": [
        "## Spliting into train test split"
      ],
      "metadata": {
        "id": "LJSGDKdNA2R7"
      }
    },
    {
      "cell_type": "code",
      "source": [
        "from sklearn.model_selection import train_test_split\n",
        "\n",
        "def split_dataset(data, train_ratio=0.8, test_ratio=0.1, val_ratio=0.1, random_seed=42):\n",
        "\n",
        "    train_data, temp_data = train_test_split(data, train_size=train_ratio, random_state=random_seed)\n",
        "    test_data, val_data = train_test_split(temp_data, train_size=test_ratio / (test_ratio + val_ratio),\n",
        "                                           random_state=random_seed)\n",
        "\n",
        "    return train_data, test_data, val_data\n",
        "\n",
        "\n",
        "train_data, test_data, val_data = split_dataset(new_df, train_ratio=0.8, test_ratio=0.1, val_ratio=0.1)\n"
      ],
      "metadata": {
        "id": "-3YvakoVCiE-"
      },
      "execution_count": 30,
      "outputs": []
    },
    {
      "cell_type": "code",
      "source": [
        "len(train_data),len(test_data),len(val_data)"
      ],
      "metadata": {
        "colab": {
          "base_uri": "https://localhost:8080/"
        },
        "id": "cOAYXmHFCkp1",
        "outputId": "f895d9e8-dc45-42c6-a724-bf5d157b7073"
      },
      "execution_count": 31,
      "outputs": [
        {
          "output_type": "execute_result",
          "data": {
            "text/plain": [
              "(29336, 3667, 3667)"
            ]
          },
          "metadata": {},
          "execution_count": 31
        }
      ]
    },
    {
      "cell_type": "markdown",
      "source": [
        "### Multi-label Binarization"
      ],
      "metadata": {
        "id": "JHP2VYUmCmK6"
      }
    },
    {
      "cell_type": "code",
      "source": [
        "tf.keras.layers.StringLookup(output_mode = 'multi_hot')"
      ],
      "metadata": {
        "colab": {
          "base_uri": "https://localhost:8080/"
        },
        "id": "4bc-yE8TCpDc",
        "outputId": "850e3b42-d1e6-4116-a121-f7513822ff01"
      },
      "execution_count": 32,
      "outputs": [
        {
          "output_type": "execute_result",
          "data": {
            "text/plain": [
              "<keras.layers.preprocessing.string_lookup.StringLookup at 0x79c6de627400>"
            ]
          },
          "metadata": {},
          "execution_count": 32
        }
      ]
    },
    {
      "cell_type": "code",
      "source": [
        "terms = tf.ragged.constant(train_data['terms'].values)\n",
        "lookup = tf.keras.layers.StringLookup(output_mode = 'multi_hot')\n",
        "lookup.adapt(terms)\n",
        "vocab = lookup.get_vocabulary()"
      ],
      "metadata": {
        "id": "LJJQTGGQHlfq"
      },
      "execution_count": 33,
      "outputs": []
    },
    {
      "cell_type": "code",
      "source": [
        "terms[:5]"
      ],
      "metadata": {
        "colab": {
          "base_uri": "https://localhost:8080/"
        },
        "id": "5GnHkfoeHpts",
        "outputId": "5a92a5d9-1886-46ce-d764-cbd992b7bfee"
      },
      "execution_count": 34,
      "outputs": [
        {
          "output_type": "execute_result",
          "data": {
            "text/plain": [
              "<tf.RaggedTensor [[b'cs.CV', b'cs.LG', b'eess.IV'], [b'cs.CV', b'cs.AI', b'stat.ML'],\n",
              " [b'cs.LG'], [b'cs.CV'], [b'cs.CV', b'cs.AI']]>"
            ]
          },
          "metadata": {},
          "execution_count": 34
        }
      ]
    },
    {
      "cell_type": "code",
      "source": [
        "vocab"
      ],
      "metadata": {
        "colab": {
          "base_uri": "https://localhost:8080/"
        },
        "id": "A_E5MR2yHrN8",
        "outputId": "6fa2bca6-27b0-4274-cdeb-d4ebe89cf26a"
      },
      "execution_count": 35,
      "outputs": [
        {
          "output_type": "execute_result",
          "data": {
            "text/plain": [
              "['[UNK]',\n",
              " 'cs.CV',\n",
              " 'cs.LG',\n",
              " 'stat.ML',\n",
              " 'cs.AI',\n",
              " 'eess.IV',\n",
              " 'cs.RO',\n",
              " 'cs.CL',\n",
              " 'cs.NE',\n",
              " 'cs.CR',\n",
              " 'math.OC',\n",
              " 'eess.SP',\n",
              " 'cs.GR',\n",
              " 'cs.SI',\n",
              " 'cs.MM',\n",
              " 'cs.SY',\n",
              " 'cs.IR',\n",
              " 'eess.SY',\n",
              " 'cs.MA',\n",
              " 'cs.HC',\n",
              " 'cs.DC',\n",
              " 'math.IT',\n",
              " 'cs.IT',\n",
              " 'cs.CY',\n",
              " 'stat.AP',\n",
              " 'stat.TH',\n",
              " 'math.ST',\n",
              " 'stat.ME',\n",
              " 'eess.AS',\n",
              " 'cs.SD',\n",
              " 'q-bio.QM',\n",
              " 'cs.DS',\n",
              " 'q-bio.NC',\n",
              " 'cs.NI',\n",
              " 'cs.SE',\n",
              " 'I.2.6',\n",
              " 'stat.CO',\n",
              " 'cs.CG',\n",
              " 'cs.GT',\n",
              " 'math.NA',\n",
              " 'physics.chem-ph',\n",
              " 'cs.NA',\n",
              " 'cs.DB',\n",
              " 'cs.LO',\n",
              " 'cs.PL',\n",
              " '68T45',\n",
              " 'q-bio.BM',\n",
              " 'physics.comp-ph',\n",
              " 'math.PR',\n",
              " 'cs.AR',\n",
              " 'cond-mat.dis-nn',\n",
              " 'math.DS',\n",
              " 'I.2.10',\n",
              " 'cs.CE',\n",
              " 'physics.data-an',\n",
              " 'quant-ph',\n",
              " '68T05',\n",
              " 'q-fin.ST',\n",
              " 'cond-mat.stat-mech',\n",
              " 'cs.DM',\n",
              " 'physics.soc-ph',\n",
              " 'cs.CC',\n",
              " 'astro-ph.IM',\n",
              " 'I.4.6',\n",
              " 'q-bio.GN',\n",
              " 'econ.EM',\n",
              " 'physics.med-ph',\n",
              " 'cs.PF',\n",
              " 'I.4.8',\n",
              " 'q-fin.TR',\n",
              " 'physics.ao-ph',\n",
              " '68U10',\n",
              " 'math.AT',\n",
              " 'I.2',\n",
              " 'hep-ex',\n",
              " 'cs.FL',\n",
              " 'cond-mat.mtrl-sci',\n",
              " 'I.5.4',\n",
              " 'I.4',\n",
              " 'physics.optics',\n",
              " 'physics.geo-ph',\n",
              " 'math.AP',\n",
              " 'I.4; I.5',\n",
              " 'I.2.6; I.2.8',\n",
              " '68T01',\n",
              " '65D19',\n",
              " 'q-fin.CP',\n",
              " 'physics.flu-dyn',\n",
              " 'nlin.CD',\n",
              " '68T10',\n",
              " 'math.CO',\n",
              " 'cs.SC',\n",
              " 'cs.MS',\n",
              " 'I.4.9',\n",
              " 'I.2.8',\n",
              " 'I.2.6; I.5.1',\n",
              " 'I.2.0; I.2.6',\n",
              " '68U01',\n",
              " '68T30',\n",
              " '68T07',\n",
              " '68',\n",
              " 'q-fin.GN',\n",
              " 'q-fin.EC',\n",
              " 'econ.GN',\n",
              " 'cs.ET',\n",
              " 'K.3.2',\n",
              " 'I.4.5',\n",
              " 'I.2; I.5',\n",
              " 'I.2.10; I.4.8',\n",
              " 'q-fin.RM',\n",
              " 'q-bio.TO',\n",
              " 'q-bio.OT',\n",
              " 'q-bio.MN',\n",
              " 'physics.bio-ph',\n",
              " 'math.FA',\n",
              " 'cond-mat.soft',\n",
              " 'I.4.9; I.5.4',\n",
              " 'I.4.6; I.4.8',\n",
              " 'I.4.4',\n",
              " 'I.4.3',\n",
              " 'I.2; I.4; I.5',\n",
              " 'I.2; I.2.6; I.2.7',\n",
              " 'I.2.7',\n",
              " 'I.2.6; I.5.4',\n",
              " 'I.2.6; I.2.9',\n",
              " 'I.2.6; I.2.7; H.3.1; H.3.3',\n",
              " 'I.2.6; I.2.7',\n",
              " 'I.2.6, I.5.4',\n",
              " 'I.2.1; J.3',\n",
              " 'I.2.10; I.4; I.5',\n",
              " 'I.2.10; I.4.8; I.5.4',\n",
              " 'I.2.1',\n",
              " 'H.3.1; I.2.6; I.2.7',\n",
              " 'H.3.1; H.3.3; I.2.6; I.2.7',\n",
              " 'G.3',\n",
              " 'F.2.2; I.2.7',\n",
              " 'E.5; E.4; E.2; H.1.1; F.1.1; F.1.3',\n",
              " '68T99',\n",
              " '68Q32',\n",
              " '14J60 (Primary) 14F05, 14J26 (Secondary)',\n",
              " 'q-fin.PM',\n",
              " 'nlin.AO',\n",
              " 'hep-ph',\n",
              " 'I.4.0',\n",
              " 'I.2; J.2',\n",
              " 'I.2.6; I.2.10',\n",
              " 'I.2.10; I.5.1; I.4.8',\n",
              " 'I.2.10; I.2.6',\n",
              " '68Txx',\n",
              " '62H99',\n",
              " '62H30']"
            ]
          },
          "metadata": {},
          "execution_count": 35
        }
      ]
    },
    {
      "cell_type": "code",
      "source": [
        "def invert_multi_hot(encoded_labels):\n",
        "  hot_indices = np.argwhere(encoded_labels == 1.0)[:,0]\n",
        "  return np.take(vocab, hot_indices)"
      ],
      "metadata": {
        "id": "ueuK_ZWVIQZu"
      },
      "execution_count": 36,
      "outputs": []
    },
    {
      "cell_type": "code",
      "source": [
        "import numpy as np\n",
        "ind = np.argwhere([1,0,0,1,0])[:,0]\n",
        "np.take(['a','b','c','d','e'],ind)"
      ],
      "metadata": {
        "colab": {
          "base_uri": "https://localhost:8080/"
        },
        "id": "CVfH9_YBIUEu",
        "outputId": "e19fb961-834c-448b-be9c-e5eafcab9f66"
      },
      "execution_count": 37,
      "outputs": [
        {
          "output_type": "execute_result",
          "data": {
            "text/plain": [
              "array(['a', 'd'], dtype='<U1')"
            ]
          },
          "metadata": {},
          "execution_count": 37
        }
      ]
    },
    {
      "cell_type": "markdown",
      "source": [
        "**Try multi hot with some sample**"
      ],
      "metadata": {
        "id": "y2fvf93nJKAq"
      }
    },
    {
      "cell_type": "code",
      "source": [
        "sample_label = train_data['terms'].iloc[0]\n",
        "sample_label"
      ],
      "metadata": {
        "colab": {
          "base_uri": "https://localhost:8080/"
        },
        "id": "HxU3WdXOJsWK",
        "outputId": "92a8ded2-f9f3-4bb7-a6c9-8e0738abc17e"
      },
      "execution_count": 38,
      "outputs": [
        {
          "output_type": "execute_result",
          "data": {
            "text/plain": [
              "['cs.CV', 'cs.LG', 'eess.IV']"
            ]
          },
          "metadata": {},
          "execution_count": 38
        }
      ]
    },
    {
      "cell_type": "code",
      "source": [
        "label_binarized = lookup(sample_label)\n",
        "label_binarized"
      ],
      "metadata": {
        "colab": {
          "base_uri": "https://localhost:8080/"
        },
        "id": "2d3yg7f4Jtms",
        "outputId": "7b57b044-647f-43c9-ce03-e11552a841c0"
      },
      "execution_count": 39,
      "outputs": [
        {
          "output_type": "execute_result",
          "data": {
            "text/plain": [
              "<tf.Tensor: shape=(151,), dtype=float32, numpy=\n",
              "array([0., 1., 1., 0., 0., 1., 0., 0., 0., 0., 0., 0., 0., 0., 0., 0., 0.,\n",
              "       0., 0., 0., 0., 0., 0., 0., 0., 0., 0., 0., 0., 0., 0., 0., 0., 0.,\n",
              "       0., 0., 0., 0., 0., 0., 0., 0., 0., 0., 0., 0., 0., 0., 0., 0., 0.,\n",
              "       0., 0., 0., 0., 0., 0., 0., 0., 0., 0., 0., 0., 0., 0., 0., 0., 0.,\n",
              "       0., 0., 0., 0., 0., 0., 0., 0., 0., 0., 0., 0., 0., 0., 0., 0., 0.,\n",
              "       0., 0., 0., 0., 0., 0., 0., 0., 0., 0., 0., 0., 0., 0., 0., 0., 0.,\n",
              "       0., 0., 0., 0., 0., 0., 0., 0., 0., 0., 0., 0., 0., 0., 0., 0., 0.,\n",
              "       0., 0., 0., 0., 0., 0., 0., 0., 0., 0., 0., 0., 0., 0., 0., 0., 0.,\n",
              "       0., 0., 0., 0., 0., 0., 0., 0., 0., 0., 0., 0., 0., 0., 0.],\n",
              "      dtype=float32)>"
            ]
          },
          "metadata": {},
          "execution_count": 39
        }
      ]
    },
    {
      "cell_type": "markdown",
      "source": [
        "**Invert binarized labels to sample labels**"
      ],
      "metadata": {
        "id": "rjAKZV_uJwM1"
      }
    },
    {
      "cell_type": "code",
      "source": [
        "invert_multi_hot(label_binarized)"
      ],
      "metadata": {
        "colab": {
          "base_uri": "https://localhost:8080/"
        },
        "id": "32-MPBJKJzh4",
        "outputId": "29e802ca-98ed-4b00-a542-61c4325936d1"
      },
      "execution_count": 40,
      "outputs": [
        {
          "output_type": "execute_result",
          "data": {
            "text/plain": [
              "array(['cs.CV', 'cs.LG', 'eess.IV'], dtype='<U40')"
            ]
          },
          "metadata": {},
          "execution_count": 40
        }
      ]
    },
    {
      "cell_type": "code",
      "source": [
        "def length(x):\n",
        "  x = x.split(\" \")\n",
        "  return len(x)"
      ],
      "metadata": {
        "id": "vLZAC9e3J2hQ"
      },
      "execution_count": 41,
      "outputs": []
    },
    {
      "cell_type": "code",
      "source": [
        "train_data['cleaned_summary'].apply(length).describe()"
      ],
      "metadata": {
        "colab": {
          "base_uri": "https://localhost:8080/"
        },
        "id": "xOZfMQiqJ5an",
        "outputId": "999c19a7-f079-4def-e2be-197d05c16166"
      },
      "execution_count": 42,
      "outputs": [
        {
          "output_type": "execute_result",
          "data": {
            "text/plain": [
              "count    29336.000000\n",
              "mean       171.597491\n",
              "std         45.364715\n",
              "min          5.000000\n",
              "25%        140.000000\n",
              "50%        169.000000\n",
              "75%        201.000000\n",
              "max        498.000000\n",
              "Name: cleaned_summary, dtype: float64"
            ]
          },
          "metadata": {},
          "execution_count": 42
        }
      ]
    },
    {
      "cell_type": "markdown",
      "source": [
        "##Preprocessing the data"
      ],
      "metadata": {
        "id": "UZKjnvlIJ6jG"
      }
    },
    {
      "cell_type": "code",
      "source": [
        "max_length = 250\n",
        "batch_size = 32\n",
        "padding_token = '<pad>'\n",
        "auto = tf.data.AUTOTUNE"
      ],
      "metadata": {
        "id": "hjulf_whJ-fx"
      },
      "execution_count": 43,
      "outputs": []
    },
    {
      "cell_type": "code",
      "source": [
        "tf.ragged.constant(train_data['terms'].values)"
      ],
      "metadata": {
        "colab": {
          "base_uri": "https://localhost:8080/"
        },
        "id": "JY3HDJfEKFRw",
        "outputId": "f93d98e5-463d-4275-9c44-30a93aa94116"
      },
      "execution_count": 44,
      "outputs": [
        {
          "output_type": "execute_result",
          "data": {
            "text/plain": [
              "<tf.RaggedTensor [[b'cs.CV', b'cs.LG', b'eess.IV'], [b'cs.CV', b'cs.AI', b'stat.ML'],\n",
              " [b'cs.LG'], ..., [b'cs.CV', b'cs.CL'], [b'cs.CV'], [b'cs.CV', b'cs.CL']]>"
            ]
          },
          "metadata": {},
          "execution_count": 44
        }
      ]
    },
    {
      "cell_type": "code",
      "source": [
        "lookup([b'cs.CV', b'cs.AI', b'stat.ML']).numpy()"
      ],
      "metadata": {
        "colab": {
          "base_uri": "https://localhost:8080/"
        },
        "id": "l-5HGg2lKxep",
        "outputId": "5250f2e4-79d7-4062-b3ef-a275a5004f09"
      },
      "execution_count": 45,
      "outputs": [
        {
          "output_type": "execute_result",
          "data": {
            "text/plain": [
              "array([0., 1., 0., 1., 1., 0., 0., 0., 0., 0., 0., 0., 0., 0., 0., 0., 0.,\n",
              "       0., 0., 0., 0., 0., 0., 0., 0., 0., 0., 0., 0., 0., 0., 0., 0., 0.,\n",
              "       0., 0., 0., 0., 0., 0., 0., 0., 0., 0., 0., 0., 0., 0., 0., 0., 0.,\n",
              "       0., 0., 0., 0., 0., 0., 0., 0., 0., 0., 0., 0., 0., 0., 0., 0., 0.,\n",
              "       0., 0., 0., 0., 0., 0., 0., 0., 0., 0., 0., 0., 0., 0., 0., 0., 0.,\n",
              "       0., 0., 0., 0., 0., 0., 0., 0., 0., 0., 0., 0., 0., 0., 0., 0., 0.,\n",
              "       0., 0., 0., 0., 0., 0., 0., 0., 0., 0., 0., 0., 0., 0., 0., 0., 0.,\n",
              "       0., 0., 0., 0., 0., 0., 0., 0., 0., 0., 0., 0., 0., 0., 0., 0., 0.,\n",
              "       0., 0., 0., 0., 0., 0., 0., 0., 0., 0., 0., 0., 0., 0., 0.],\n",
              "      dtype=float32)"
            ]
          },
          "metadata": {},
          "execution_count": 45
        }
      ]
    },
    {
      "cell_type": "code",
      "source": [
        "vocabulary = set()\n",
        "train_data['cleaned_summary'].str.split().apply(vocabulary.update)\n",
        "vocabulary_size = len(vocabulary)\n",
        "print(vocabulary_size)"
      ],
      "metadata": {
        "colab": {
          "base_uri": "https://localhost:8080/"
        },
        "id": "aITFpfUgLptO",
        "outputId": "b74f62a4-9eaa-4b21-b64c-79a34869671b"
      },
      "execution_count": 46,
      "outputs": [
        {
          "output_type": "stream",
          "name": "stdout",
          "text": [
            "141608\n"
          ]
        }
      ]
    },
    {
      "cell_type": "code",
      "source": [
        "from tensorflow.keras.layers.experimental.preprocessing import TextVectorization\n",
        "\n",
        "text_vectorizer = TextVectorization(max_tokens = vocabulary_size,\n",
        "                                    output_sequence_length = max_length)"
      ],
      "metadata": {
        "id": "OoubTXgXMH2M"
      },
      "execution_count": 47,
      "outputs": []
    },
    {
      "cell_type": "code",
      "source": [
        "# train_data['cleaned_summary'].tolist()"
      ],
      "metadata": {
        "id": "9YvjGkdGMsdT"
      },
      "execution_count": 48,
      "outputs": []
    },
    {
      "cell_type": "code",
      "source": [
        "text_vectorizer.adapt(train_data['cleaned_summary'].tolist())"
      ],
      "metadata": {
        "id": "1lb510RyMhRE"
      },
      "execution_count": 49,
      "outputs": []
    },
    {
      "cell_type": "code",
      "source": [
        "import random\n",
        "\n",
        "target_sentance = random.choice(train_data['cleaned_summary'].tolist())\n",
        "print(f'text:\\n{target_sentance}')\n",
        "print(f'text_length:\\n{length(target_sentance)}')\n",
        "print(f'\\nVectorized text: {text_vectorizer([target_sentance])}')"
      ],
      "metadata": {
        "colab": {
          "base_uri": "https://localhost:8080/"
        },
        "id": "Ca0DEKzdMx8A",
        "outputId": "e1b67f8f-da8b-4a4a-f54e-1d6a23685834"
      },
      "execution_count": 50,
      "outputs": [
        {
          "output_type": "stream",
          "name": "stdout",
          "text": [
            "text:\n",
            "inducing symmetry equivariance in deep neural architectures has resolved into improved data efficiency and generalization. in this work, we utilize the concept of scale and translation equivariance to tackle the problem of learning on time-series from raw waveforms. as a result, we obtain representations that largely resemble those of the wavelet transform at the first layer, but that evolve into much more descriptive ones as a function of depth. our empirical results support the suitability of our wavelet networks which with a simple architecture design perform consistently better than cnns on raw waveforms and on par with spectrogram-based methods.\n",
            "text_length:\n",
            "99\n",
            "\n",
            "Vectorized text: [[ 4360  3025  3420     7    35    43   252    51  5646    89   404    22\n",
            "    301     4   286     7    13    79     8   750     2   967     3   386\n",
            "      4   653  3420     5   624     2    54     3    15    11   904    21\n",
            "    963  8659    16     6   351     8   363   120    12  1434  5367   437\n",
            "      3     2  2441   772    59     2    98   306   108    12  4173    89\n",
            "    366    64  3919   777    16     6   141     3   171    17   456    41\n",
            "    637     2  5075     3    17  2441    42    24    14     6   213   133\n",
            "    189   244  1089   130   106   434    11   963  8659     4    11  2477\n",
            "     14 47309    30     0     0     0     0     0     0     0     0     0\n",
            "      0     0     0     0     0     0     0     0     0     0     0     0\n",
            "      0     0     0     0     0     0     0     0     0     0     0     0\n",
            "      0     0     0     0     0     0     0     0     0     0     0     0\n",
            "      0     0     0     0     0     0     0     0     0     0     0     0\n",
            "      0     0     0     0     0     0     0     0     0     0     0     0\n",
            "      0     0     0     0     0     0     0     0     0     0     0     0\n",
            "      0     0     0     0     0     0     0     0     0     0     0     0\n",
            "      0     0     0     0     0     0     0     0     0     0     0     0\n",
            "      0     0     0     0     0     0     0     0     0     0     0     0\n",
            "      0     0     0     0     0     0     0     0     0     0     0     0\n",
            "      0     0     0     0     0     0     0     0     0     0     0     0\n",
            "      0     0     0     0     0     0     0     0     0     0]]\n"
          ]
        }
      ]
    },
    {
      "cell_type": "code",
      "source": [
        "\n",
        "# get the config of our text vectorizer\n",
        "text_vectorizer.get_config()\n"
      ],
      "metadata": {
        "colab": {
          "base_uri": "https://localhost:8080/"
        },
        "id": "NP4vBLddNDWF",
        "outputId": "816613d4-011f-4e91-82b8-752571c8c293"
      },
      "execution_count": 51,
      "outputs": [
        {
          "output_type": "execute_result",
          "data": {
            "text/plain": [
              "{'name': 'text_vectorization',\n",
              " 'trainable': True,\n",
              " 'dtype': 'string',\n",
              " 'batch_input_shape': (None,),\n",
              " 'max_tokens': 141608,\n",
              " 'standardize': 'lower_and_strip_punctuation',\n",
              " 'split': 'whitespace',\n",
              " 'ngrams': None,\n",
              " 'output_mode': 'int',\n",
              " 'output_sequence_length': 250,\n",
              " 'pad_to_max_tokens': False,\n",
              " 'sparse': False,\n",
              " 'ragged': False,\n",
              " 'vocabulary': None,\n",
              " 'idf_weights': None,\n",
              " 'encoding': 'utf-8',\n",
              " 'vocabulary_size': 81092}"
            ]
          },
          "metadata": {},
          "execution_count": 51
        }
      ]
    },
    {
      "cell_type": "code",
      "source": [
        "# custom text embedding\n",
        "\n",
        "text_vocab = text_vectorizer.get_vocabulary()\n",
        "print(f\"Number of words in vocabulary: {len(text_vocab)}\"),\n",
        "print(f\"Most common words in the vocabulary: {text_vocab[:5]}\")\n",
        "print(f\"Least common words in the vocabulary: {text_vocab[-5:]}\")"
      ],
      "metadata": {
        "colab": {
          "base_uri": "https://localhost:8080/"
        },
        "id": "xbULTh0rNL7M",
        "outputId": "f0e3c0cf-7c0b-4287-b3e0-74699ff5d2b6"
      },
      "execution_count": 52,
      "outputs": [
        {
          "output_type": "stream",
          "name": "stdout",
          "text": [
            "Number of words in vocabulary: 81092\n",
            "Most common words in the vocabulary: ['', '[UNK]', 'the', 'of', 'and']\n",
            "Least common words in the vocabulary: ['000168', '00013acer', '00010', '00003', '00002']\n"
          ]
        }
      ]
    },
    {
      "cell_type": "code",
      "source": [
        "import tensorflow as tf\n",
        "\n",
        "token_embed = tf.keras.layers.Embedding(input_dim = len(text_vocab),\n",
        "                                        output_dim = 256,\n",
        "                                        mask_zero = True,\n",
        "                                        name = 'token_embedding')"
      ],
      "metadata": {
        "id": "vHboNesLOL8q"
      },
      "execution_count": 53,
      "outputs": []
    },
    {
      "cell_type": "code",
      "source": [
        "print(f'Target sentance:\\n{target_sentance}\\n\\n')\n",
        "print(f'Vectorized target sentance:\\n{text_vectorizer([target_sentance])}\\n\\n')\n",
        "print(f'shape of vectorized sentance:{text_vectorizer([target_sentance]).shape}\\n\\n')\n",
        "print(f'embedded target sentance:\\n{token_embed(text_vectorizer([target_sentance]))}\\n\\n')\n",
        "print(f'shape of embedded sentance:{token_embed(text_vectorizer([target_sentance])).shape}')"
      ],
      "metadata": {
        "colab": {
          "base_uri": "https://localhost:8080/"
        },
        "id": "wBxsPxZOOe1S",
        "outputId": "3c504840-724f-4f03-97e4-aa6e67de1cc8"
      },
      "execution_count": 54,
      "outputs": [
        {
          "output_type": "stream",
          "name": "stdout",
          "text": [
            "Target sentance:\n",
            "inducing symmetry equivariance in deep neural architectures has resolved into improved data efficiency and generalization. in this work, we utilize the concept of scale and translation equivariance to tackle the problem of learning on time-series from raw waveforms. as a result, we obtain representations that largely resemble those of the wavelet transform at the first layer, but that evolve into much more descriptive ones as a function of depth. our empirical results support the suitability of our wavelet networks which with a simple architecture design perform consistently better than cnns on raw waveforms and on par with spectrogram-based methods.\n",
            "\n",
            "\n",
            "Vectorized target sentance:\n",
            "[[ 4360  3025  3420     7    35    43   252    51  5646    89   404    22\n",
            "    301     4   286     7    13    79     8   750     2   967     3   386\n",
            "      4   653  3420     5   624     2    54     3    15    11   904    21\n",
            "    963  8659    16     6   351     8   363   120    12  1434  5367   437\n",
            "      3     2  2441   772    59     2    98   306   108    12  4173    89\n",
            "    366    64  3919   777    16     6   141     3   171    17   456    41\n",
            "    637     2  5075     3    17  2441    42    24    14     6   213   133\n",
            "    189   244  1089   130   106   434    11   963  8659     4    11  2477\n",
            "     14 47309    30     0     0     0     0     0     0     0     0     0\n",
            "      0     0     0     0     0     0     0     0     0     0     0     0\n",
            "      0     0     0     0     0     0     0     0     0     0     0     0\n",
            "      0     0     0     0     0     0     0     0     0     0     0     0\n",
            "      0     0     0     0     0     0     0     0     0     0     0     0\n",
            "      0     0     0     0     0     0     0     0     0     0     0     0\n",
            "      0     0     0     0     0     0     0     0     0     0     0     0\n",
            "      0     0     0     0     0     0     0     0     0     0     0     0\n",
            "      0     0     0     0     0     0     0     0     0     0     0     0\n",
            "      0     0     0     0     0     0     0     0     0     0     0     0\n",
            "      0     0     0     0     0     0     0     0     0     0     0     0\n",
            "      0     0     0     0     0     0     0     0     0     0     0     0\n",
            "      0     0     0     0     0     0     0     0     0     0]]\n",
            "\n",
            "\n",
            "shape of vectorized sentance:(1, 250)\n",
            "\n",
            "\n",
            "embedded target sentance:\n",
            "[[[-0.04985937 -0.00975638 -0.03313571 ...  0.03575161  0.0214763\n",
            "   -0.02224518]\n",
            "  [-0.04803721  0.01926161 -0.00777654 ... -0.04010221 -0.00711079\n",
            "   -0.02038862]\n",
            "  [-0.04036818 -0.01889461  0.02322813 ... -0.00502764 -0.03248503\n",
            "    0.02462283]\n",
            "  ...\n",
            "  [-0.03378513  0.03001283 -0.03989879 ... -0.01796    -0.04155773\n",
            "   -0.01904761]\n",
            "  [-0.03378513  0.03001283 -0.03989879 ... -0.01796    -0.04155773\n",
            "   -0.01904761]\n",
            "  [-0.03378513  0.03001283 -0.03989879 ... -0.01796    -0.04155773\n",
            "   -0.01904761]]]\n",
            "\n",
            "\n",
            "shape of embedded sentance:(1, 250, 256)\n"
          ]
        }
      ]
    },
    {
      "cell_type": "code",
      "source": [
        "# def make_dataset(dataframe, is_train=True):\n",
        "#   labels = tf.ragged.constant(dataframe['terms'].values)\n",
        "#   label_binarized = lookup(labels).numpy()\n",
        "#   dataset = tf.data.Dataset.from_tensor_slices(\n",
        "#       (dataframe['cleaned_summary'].values, label_binarized)\n",
        "#   )\n",
        "#   dataset = dataset.shuffle(batch_size * 10) if is_train else dataset\n",
        "#   return dataset.batch(batch_size)"
      ],
      "metadata": {
        "id": "mx9y552VOhZ-"
      },
      "execution_count": 55,
      "outputs": []
    },
    {
      "cell_type": "code",
      "source": [
        "train_sentances = train_data['cleaned_summary'].tolist()\n",
        "val_sentances = val_data['cleaned_summary'].tolist()\n",
        "test_sentances = test_data['cleaned_summary'].tolist()"
      ],
      "metadata": {
        "id": "wH72de04O-VY"
      },
      "execution_count": 56,
      "outputs": []
    },
    {
      "cell_type": "code",
      "source": [
        "def make_dataset(dataframe, is_train=True):\n",
        "  labels = tf.ragged.constant(dataframe['terms'].values)\n",
        "  label_binarized = lookup(labels).numpy()\n",
        "  dataset = tf.data.Dataset.from_tensor_slices(\n",
        "      (dataframe['cleaned_summary'].tolist(), label_binarized)\n",
        "  )\n",
        "  dataset = dataset.shuffle(batch_size * 10) if is_train else dataset\n",
        "  return dataset.batch(32).prefetch(tf.data.AUTOTUNE)"
      ],
      "metadata": {
        "id": "0k2KR6v3PASJ"
      },
      "execution_count": 57,
      "outputs": []
    },
    {
      "cell_type": "code",
      "source": [
        "train_dataset = make_dataset(train_data, is_train= True)\n",
        "val_dataset = make_dataset(val_data, is_train= False)\n",
        "test_dataset = make_dataset(test_data, is_train= False)"
      ],
      "metadata": {
        "id": "0LeFIg81QqAv"
      },
      "execution_count": 58,
      "outputs": []
    },
    {
      "cell_type": "code",
      "source": [
        "train_dataset"
      ],
      "metadata": {
        "colab": {
          "base_uri": "https://localhost:8080/"
        },
        "id": "oY2XKLiOSV8S",
        "outputId": "6cc0bad0-a729-42d8-9ec0-fc0687f28b76"
      },
      "execution_count": 59,
      "outputs": [
        {
          "output_type": "execute_result",
          "data": {
            "text/plain": [
              "<_PrefetchDataset element_spec=(TensorSpec(shape=(None,), dtype=tf.string, name=None), TensorSpec(shape=(None, 151), dtype=tf.float32, name=None))>"
            ]
          },
          "metadata": {},
          "execution_count": 59
        }
      ]
    },
    {
      "cell_type": "markdown",
      "source": [
        "#model 1 : Conv1D witth token embeddings"
      ],
      "metadata": {
        "id": "doSPYb8nSDss"
      }
    },
    {
      "cell_type": "code",
      "source": [
        "#model 1 : Conv1D witth token embeddings\n",
        "\n",
        "import tensorflow as tf\n",
        "from tensorflow.keras import layers\n",
        "\n",
        "inputs = layers.Input(shape=(1,), dtype = tf.string)\n",
        "text_vectors = text_vectorizer(inputs)\n",
        "\n",
        "token_embeddings = token_embed(text_vectors)\n",
        "\n",
        "x = layers.Conv1D(64, kernel_size = 5, padding = 'same',activation = 'relu')(token_embeddings)\n",
        "x = layers.GlobalMaxPooling1D()(x)\n",
        "outputs = layers.Dense(151, activation = 'sigmoid')(x)\n",
        "model_1 = tf.keras.Model(inputs,outputs)\n",
        "\n",
        "model_1.compile(loss=\"binary_crossentropy\", # if your labels are integer form (not one hot) use sparse_categorical_crossentropy\n",
        "                optimizer=tf.keras.optimizers.Adam(),\n",
        "                metrics=[\"accuracy\"])"
      ],
      "metadata": {
        "id": "jJ2fZvOPSYfT"
      },
      "execution_count": 60,
      "outputs": []
    },
    {
      "cell_type": "code",
      "source": [
        "model_1.summary()"
      ],
      "metadata": {
        "colab": {
          "base_uri": "https://localhost:8080/"
        },
        "id": "nvaS5KOLT0_-",
        "outputId": "f3b41560-7846-4b97-d2d5-65f99a7ddc53"
      },
      "execution_count": 61,
      "outputs": [
        {
          "output_type": "stream",
          "name": "stdout",
          "text": [
            "Model: \"model\"\n",
            "_________________________________________________________________\n",
            " Layer (type)                Output Shape              Param #   \n",
            "=================================================================\n",
            " input_1 (InputLayer)        [(None, 1)]               0         \n",
            "                                                                 \n",
            " text_vectorization (TextVec  (None, 250)              0         \n",
            " torization)                                                     \n",
            "                                                                 \n",
            " token_embedding (Embedding)  (None, 250, 256)         20759552  \n",
            "                                                                 \n",
            " conv1d (Conv1D)             (None, 250, 64)           81984     \n",
            "                                                                 \n",
            " global_max_pooling1d (Globa  (None, 64)               0         \n",
            " lMaxPooling1D)                                                  \n",
            "                                                                 \n",
            " dense (Dense)               (None, 151)               9815      \n",
            "                                                                 \n",
            "=================================================================\n",
            "Total params: 20,851,351\n",
            "Trainable params: 20,851,351\n",
            "Non-trainable params: 0\n",
            "_________________________________________________________________\n"
          ]
        }
      ]
    },
    {
      "cell_type": "code",
      "source": [
        "# fit the model\n",
        "\n",
        "model_1_history = model_1.fit(train_dataset,\n",
        "                              steps_per_epoch = int(0.1*len(train_dataset)),\n",
        "                              epochs = 10,\n",
        "                              validation_data = val_dataset,\n",
        "                              validation_steps = int(0.1*len(val_dataset)))"
      ],
      "metadata": {
        "colab": {
          "base_uri": "https://localhost:8080/"
        },
        "id": "kGMNtlc7UQRt",
        "outputId": "f0c49662-9ee0-4efc-97c1-ac8e99752e12"
      },
      "execution_count": 62,
      "outputs": [
        {
          "output_type": "stream",
          "name": "stdout",
          "text": [
            "Epoch 1/10\n",
            "91/91 [==============================] - 30s 217ms/step - loss: 0.2147 - accuracy: 0.3898 - val_loss: 0.0274 - val_accuracy: 0.5341\n",
            "Epoch 2/10\n",
            "91/91 [==============================] - 13s 138ms/step - loss: 0.0284 - accuracy: 0.5501 - val_loss: 0.0263 - val_accuracy: 0.6335\n",
            "Epoch 3/10\n",
            "91/91 [==============================] - 8s 89ms/step - loss: 0.0285 - accuracy: 0.5457 - val_loss: 0.0260 - val_accuracy: 0.6506\n",
            "Epoch 4/10\n",
            "91/91 [==============================] - 9s 100ms/step - loss: 0.0279 - accuracy: 0.5955 - val_loss: 0.0257 - val_accuracy: 0.6278\n",
            "Epoch 5/10\n",
            "91/91 [==============================] - 4s 46ms/step - loss: 0.0262 - accuracy: 0.7349 - val_loss: 0.0221 - val_accuracy: 0.8097\n",
            "Epoch 6/10\n",
            "91/91 [==============================] - 4s 45ms/step - loss: 0.0241 - accuracy: 0.8245 - val_loss: 0.0208 - val_accuracy: 0.8722\n",
            "Epoch 7/10\n",
            "91/91 [==============================] - 5s 52ms/step - loss: 0.0224 - accuracy: 0.8698 - val_loss: 0.0203 - val_accuracy: 0.8920\n",
            "Epoch 8/10\n",
            "91/91 [==============================] - 4s 41ms/step - loss: 0.0221 - accuracy: 0.8846 - val_loss: 0.0201 - val_accuracy: 0.9034\n",
            "Epoch 9/10\n",
            "91/91 [==============================] - 4s 45ms/step - loss: 0.0228 - accuracy: 0.8767 - val_loss: 0.0196 - val_accuracy: 0.9006\n",
            "Epoch 10/10\n",
            "91/91 [==============================] - 3s 36ms/step - loss: 0.0213 - accuracy: 0.8908 - val_loss: 0.0193 - val_accuracy: 0.9119\n"
          ]
        }
      ]
    },
    {
      "cell_type": "code",
      "source": [
        "# helper function\n",
        "def plot_loss_curves(history):\n",
        "\n",
        "  loss = history.history['loss']\n",
        "  val_loss = history.history['val_loss']\n",
        "\n",
        "  accuracy = history.history['accuracy']\n",
        "  val_accuracy = history.history['val_accuracy']\n",
        "\n",
        "  epochs = range(len(history.history['loss']))\n",
        "\n",
        "\n",
        "\n",
        "\n",
        "  plt.figure(figsize = (8,4))\n",
        "  plt.subplot(1,2,1)\n",
        "\n",
        "  # Plot loss\n",
        "  plt.plot(epochs, loss, label='training_loss')\n",
        "  plt.plot(epochs, val_loss, label='val_loss')\n",
        "  plt.title('Loss')\n",
        "  plt.xlabel('Epochs')\n",
        "  plt.legend()\n",
        "\n",
        "  plt.subplot(1,2,2)\n",
        "\n",
        "\n",
        "  # Plot accuracy\n",
        "  plt.plot(epochs, accuracy, label='training_accuracy')\n",
        "  plt.plot(epochs, val_accuracy, label='val_accuracy')\n",
        "  plt.title('Accuracy')\n",
        "  plt.xlabel('Epochs')\n",
        "  plt.legend();"
      ],
      "metadata": {
        "id": "9na_pwDET4UW"
      },
      "execution_count": 63,
      "outputs": []
    },
    {
      "cell_type": "code",
      "source": [
        "plot_loss_curves(model_1_history)"
      ],
      "metadata": {
        "colab": {
          "base_uri": "https://localhost:8080/",
          "height": 410
        },
        "id": "r7OfE0v_VJ6h",
        "outputId": "2919abed-3543-42d4-d775-61dc373941c8"
      },
      "execution_count": 64,
      "outputs": [
        {
          "output_type": "display_data",
          "data": {
            "text/plain": [
              "<Figure size 800x400 with 2 Axes>"
            ],
            "image/png": "[encoded data removed]"
          },
          "metadata": {}
        }
      ]
    },
    {
      "cell_type": "code",
      "source": [
        "model_1.evaluate(val_dataset)"
      ],
      "metadata": {
        "colab": {
          "base_uri": "https://localhost:8080/"
        },
        "id": "OKsn-X5jUj5m",
        "outputId": "683c9003-9886-4f20-9bca-85ddd0f217ab"
      },
      "execution_count": 65,
      "outputs": [
        {
          "output_type": "stream",
          "name": "stdout",
          "text": [
            "115/115 [==============================] - 1s 6ms/step - loss: 0.0212 - accuracy: 0.9007\n"
          ]
        },
        {
          "output_type": "execute_result",
          "data": {
            "text/plain": [
              "[0.02117079123854637, 0.9007362723350525]"
            ]
          },
          "metadata": {},
          "execution_count": 65
        }
      ]
    },
    {
      "cell_type": "code",
      "source": [
        "model_1.evaluate(test_dataset)"
      ],
      "metadata": {
        "colab": {
          "base_uri": "https://localhost:8080/"
        },
        "id": "0ZLZvG7AU5BC",
        "outputId": "cb077fd9-f56e-4b08-9623-cb0c10193cb4"
      },
      "execution_count": 66,
      "outputs": [
        {
          "output_type": "stream",
          "name": "stdout",
          "text": [
            "115/115 [==============================] - 1s 5ms/step - loss: 0.0213 - accuracy: 0.8956\n"
          ]
        },
        {
          "output_type": "execute_result",
          "data": {
            "text/plain": [
              "[0.021265733987092972, 0.8955549597740173]"
            ]
          },
          "metadata": {},
          "execution_count": 66
        }
      ]
    },
    {
      "cell_type": "code",
      "source": [
        "model_1_pred_probs = model_1.predict(test_dataset)\n",
        "model_1_pred_probs"
      ],
      "metadata": {
        "colab": {
          "base_uri": "https://localhost:8080/"
        },
        "id": "DtH0AA38U65Y",
        "outputId": "ed0458aa-ef2f-4cfc-c75f-a4ff42280ced"
      },
      "execution_count": 67,
      "outputs": [
        {
          "output_type": "stream",
          "name": "stdout",
          "text": [
            "115/115 [==============================] - 1s 4ms/step\n"
          ]
        },
        {
          "output_type": "execute_result",
          "data": {
            "text/plain": [
              "array([[3.71547270e-04, 5.82515374e-02, 9.51752245e-01, ...,\n",
              "        4.24859063e-05, 1.77090944e-04, 1.78010756e-04],\n",
              "       [1.60349500e-05, 9.88866031e-01, 1.04279630e-01, ...,\n",
              "        1.80710587e-04, 1.51827435e-05, 2.84762245e-05],\n",
              "       [2.29666271e-04, 3.30895633e-02, 9.76431966e-01, ...,\n",
              "        1.96067176e-05, 1.01255668e-04, 9.78154421e-05],\n",
              "       ...,\n",
              "       [2.86884938e-06, 9.60887790e-01, 1.93750441e-01, ...,\n",
              "        1.40184902e-05, 4.32680235e-06, 3.70639759e-06],\n",
              "       [5.61213085e-07, 9.97881472e-01, 3.59745324e-02, ...,\n",
              "        6.79380719e-06, 7.62260981e-07, 8.77231344e-07],\n",
              "       [9.92725982e-05, 5.02034068e-01, 7.80899525e-01, ...,\n",
              "        6.87096472e-05, 1.50471969e-04, 7.27364604e-05]], dtype=float32)"
            ]
          },
          "metadata": {},
          "execution_count": 67
        }
      ]
    },
    {
      "cell_type": "code",
      "source": [
        "model_1_pred_probs.shape"
      ],
      "metadata": {
        "colab": {
          "base_uri": "https://localhost:8080/"
        },
        "id": "9WdWT8DYVI9V",
        "outputId": "c1b5c45c-4796-4485-ede4-3494e56b3a91"
      },
      "execution_count": 68,
      "outputs": [
        {
          "output_type": "execute_result",
          "data": {
            "text/plain": [
              "(3667, 151)"
            ]
          },
          "metadata": {},
          "execution_count": 68
        }
      ]
    },
    {
      "cell_type": "code",
      "source": [
        "test_dataset"
      ],
      "metadata": {
        "colab": {
          "base_uri": "https://localhost:8080/"
        },
        "id": "UOdDU-l1VM2E",
        "outputId": "135ae4b6-989e-4e38-ea85-48f206e94f36"
      },
      "execution_count": 69,
      "outputs": [
        {
          "output_type": "execute_result",
          "data": {
            "text/plain": [
              "<_PrefetchDataset element_spec=(TensorSpec(shape=(None,), dtype=tf.string, name=None), TensorSpec(shape=(None, 151), dtype=tf.float32, name=None))>"
            ]
          },
          "metadata": {},
          "execution_count": 69
        }
      ]
    },
    {
      "cell_type": "code",
      "source": [
        "text, label = next(iter(test_dataset))\n",
        "\n",
        "print(text[15])\n",
        "print(label[15])\n",
        "print(invert_multi_hot(label[15]))"
      ],
      "metadata": {
        "colab": {
          "base_uri": "https://localhost:8080/"
        },
        "id": "CdfqZ6W2VTHT",
        "outputId": "1858caf2-72f7-4564-d8cf-d11f9e1cd4f9"
      },
      "execution_count": 70,
      "outputs": [
        {
          "output_type": "stream",
          "name": "stdout",
          "text": [
            "tf.Tensor(b\"in this work, we perform unsupervised learning of representations by maximizing mutual information between an input and the output of a deep neural network encoder. importantly, we show that structure matters: incorporating knowledge about locality of the input to the objective can greatly influence a representation's suitability for downstream tasks. we further control characteristics of the representation by matching to a prior distribution adversarially. our method, which we call deep infomax (dim), outperforms a number of popular unsupervised learning methods and competes with fully-supervised learning on several classification tasks. dim opens new avenues for unsupervised learning of representations and is an important step towards flexible formulations of representation-learning objectives for specific end-goals.\", shape=(), dtype=string)\n",
            "tf.Tensor(\n",
            "[0. 0. 1. 1. 0. 0. 0. 0. 0. 0. 0. 0. 0. 0. 0. 0. 0. 0. 0. 0. 0. 0. 0. 0.\n",
            " 0. 0. 0. 0. 0. 0. 0. 0. 0. 0. 0. 0. 0. 0. 0. 0. 0. 0. 0. 0. 0. 0. 0. 0.\n",
            " 0. 0. 0. 0. 0. 0. 0. 0. 0. 0. 0. 0. 0. 0. 0. 0. 0. 0. 0. 0. 0. 0. 0. 0.\n",
            " 0. 0. 0. 0. 0. 0. 0. 0. 0. 0. 0. 0. 0. 0. 0. 0. 0. 0. 0. 0. 0. 0. 0. 0.\n",
            " 0. 0. 0. 0. 0. 0. 0. 0. 0. 0. 0. 0. 0. 0. 0. 0. 0. 0. 0. 0. 0. 0. 0. 0.\n",
            " 0. 0. 0. 0. 0. 0. 0. 0. 0. 0. 0. 0. 0. 0. 0. 0. 0. 0. 0. 0. 0. 0. 0. 0.\n",
            " 0. 0. 0. 0. 0. 0. 0.], shape=(151,), dtype=float32)\n",
            "['cs.LG' 'stat.ML']\n"
          ]
        }
      ]
    },
    {
      "cell_type": "code",
      "source": [
        "test_pred_prob = model_1_pred_probs[15]"
      ],
      "metadata": {
        "id": "7nrz9dEXVYwm"
      },
      "execution_count": 71,
      "outputs": []
    },
    {
      "cell_type": "code",
      "source": [
        "test_pred_prob.shape"
      ],
      "metadata": {
        "colab": {
          "base_uri": "https://localhost:8080/"
        },
        "id": "TLn2LlnslU6-",
        "outputId": "27fccb7e-5ea1-4fee-8ff1-09153944582c"
      },
      "execution_count": 72,
      "outputs": [
        {
          "output_type": "execute_result",
          "data": {
            "text/plain": [
              "(151,)"
            ]
          },
          "metadata": {},
          "execution_count": 72
        }
      ]
    },
    {
      "cell_type": "code",
      "source": [
        "sorted_prob = sorted(zip(test_pred_prob, vocab), key = lambda pair : pair[0],reverse = True)"
      ],
      "metadata": {
        "id": "zwMK3FnZVxoH"
      },
      "execution_count": 73,
      "outputs": []
    },
    {
      "cell_type": "code",
      "source": [
        "sorted_prob[:10]"
      ],
      "metadata": {
        "colab": {
          "base_uri": "https://localhost:8080/"
        },
        "id": "_sEHBCBwfOPE",
        "outputId": "3814c3c1-cb75-45ee-b6d8-658fe11af689"
      },
      "execution_count": 74,
      "outputs": [
        {
          "output_type": "execute_result",
          "data": {
            "text/plain": [
              "[(0.9617836, 'cs.LG'),\n",
              " (0.6148493, 'stat.ML'),\n",
              " (0.25072816, 'cs.AI'),\n",
              " (0.0601808, 'cs.CV'),\n",
              " (0.033442985, 'math.OC'),\n",
              " (0.029870553, 'cs.NE'),\n",
              " (0.019042311, 'cs.CL'),\n",
              " (0.018458175, 'cs.CR'),\n",
              " (0.015847808, 'cs.SI'),\n",
              " (0.0143085625, 'cs.SY')]"
            ]
          },
          "metadata": {},
          "execution_count": 74
        }
      ]
    },
    {
      "cell_type": "code",
      "source": [
        "i, j = next(iter(test_dataset))\n",
        "print(i[21])\n",
        "print(j[21])\n",
        "print(invert_multi_hot(j[21]))"
      ],
      "metadata": {
        "colab": {
          "base_uri": "https://localhost:8080/"
        },
        "id": "qNQCjpbNfhcl",
        "outputId": "d3aacb79-148c-4ebe-9047-ca35bdce3c6f"
      },
      "execution_count": 75,
      "outputs": [
        {
          "output_type": "stream",
          "name": "stdout",
          "text": [
            "tf.Tensor(b\"deep learning achieves state-of-the-art results in many tasks in computer vision and natural language processing. however, recent works have shown that deep networks can be vulnerable to adversarial perturbations, which raised a serious robustness issue of deep networks. adversarial training, typically formulated as a robust optimization problem, is an effective way of improving the robustness of deep networks. a major drawback of existing adversarial training algorithms is the computational overhead of the generation of adversarial examples, typically far greater than that of the network training. this leads to the unbearable overall computational cost of adversarial training. in this paper, we show that adversarial training can be cast as a discrete time differential game. through analyzing the pontryagin's maximal principle (pmp) of the problem, we observe that the adversary update is only coupled with the parameters of the first layer of the network. this inspires us to restrict most of the forward and back propagation within the first layer of the network during adversary updates. this effectively reduces the total number of full forward and backward propagation to only one for each group of adversary updates. therefore, we refer to this algorithm yopo (you only propagate once). numerical experiments demonstrate that yopo can achieve comparable defense accuracy with approximately 1/5 ~ 1/4 gpu time of the projected gradient descent (pgd) algorithm. our codes are available at https://https://github.com/a1600012888/yopo-you-only-propagate-once.\", shape=(), dtype=string)\n",
            "tf.Tensor(\n",
            "[0. 0. 1. 1. 0. 0. 0. 0. 0. 0. 1. 0. 0. 0. 0. 0. 0. 0. 0. 0. 0. 0. 0. 0.\n",
            " 0. 0. 0. 0. 0. 0. 0. 0. 0. 0. 0. 0. 0. 0. 0. 0. 0. 0. 0. 0. 0. 0. 0. 0.\n",
            " 0. 0. 0. 0. 0. 0. 0. 0. 0. 0. 0. 0. 0. 0. 0. 0. 0. 0. 0. 0. 0. 0. 0. 0.\n",
            " 0. 0. 0. 0. 0. 0. 0. 0. 0. 0. 0. 0. 0. 0. 0. 0. 0. 0. 0. 0. 0. 0. 0. 0.\n",
            " 0. 0. 0. 0. 0. 0. 0. 0. 0. 0. 0. 0. 0. 0. 0. 0. 0. 0. 0. 0. 0. 0. 0. 0.\n",
            " 0. 0. 0. 0. 0. 0. 0. 0. 0. 0. 0. 0. 0. 0. 0. 0. 0. 0. 0. 0. 0. 0. 0. 0.\n",
            " 0. 0. 0. 0. 0. 0. 0.], shape=(151,), dtype=float32)\n",
            "['cs.LG' 'stat.ML' 'math.OC']\n"
          ]
        }
      ]
    },
    {
      "cell_type": "code",
      "source": [
        "# i['']"
      ],
      "metadata": {
        "id": "ikDMdaZu9gNQ"
      },
      "execution_count": 76,
      "outputs": []
    },
    {
      "cell_type": "code",
      "source": [
        "test2 = model_1.predict([\"deep learning achieves state-of-the-art results in many tasks in computer vision and natural language processing. however, recent works have shown that deep networks can be vulnerable to adversarial perturbations, which raised a serious robustness issue of deep networks. adversarial training, typically formulated as a robust optimization problem, is an effective way of improving the robustness of deep networks. a major drawback of existing adversarial training algorithms is the computational overhead of the generation of adversarial examples, typically far greater than that of the network training. this leads to the unbearable overall computational cost of adversarial training. in this paper, we show that adversarial training can be cast as a discrete time differential game. through analyzing the pontryagin's maximal principle (pmp) of the problem, we observe that the adversary update is only coupled with the parameters of the first layer of the network. this inspires us to restrict most of the forward and back propagation within the first layer of the network during adversary updates. this effectively reduces the total number of full forward and backward propagation to only one for each group of adversary updates. therefore, we refer to this algorithm yopo (you only propagate once). numerical experiments demonstrate that yopo can achieve comparable defense accuracy with approximately 1/5 ~ 1/4 gpu time of the projected gradient descent (pgd) algorithm. our codes are available at https://https://github.com/a1600012888/yopo-you-only-propagate-once.\"])"
      ],
      "metadata": {
        "colab": {
          "base_uri": "https://localhost:8080/"
        },
        "id": "yaNNisJKiNFp",
        "outputId": "2c4b678e-6347-455a-bff0-ce9f924b3750"
      },
      "execution_count": 77,
      "outputs": [
        {
          "output_type": "stream",
          "name": "stdout",
          "text": [
            "1/1 [==============================] - 0s 214ms/step\n"
          ]
        }
      ]
    },
    {
      "cell_type": "code",
      "source": [
        "tf.squeeze(test2).numpy()"
      ],
      "metadata": {
        "colab": {
          "base_uri": "https://localhost:8080/"
        },
        "id": "N53l-Z3PlOYx",
        "outputId": "a01bd980-2148-4bc3-ca0f-9432d81086b0"
      },
      "execution_count": 78,
      "outputs": [
        {
          "output_type": "execute_result",
          "data": {
            "text/plain": [
              "array([1.13612601e-04, 2.47010216e-01, 9.02216256e-01, 4.87285048e-01,\n",
              "       1.81279466e-01, 2.03380678e-02, 1.07357856e-02, 1.19431242e-02,\n",
              "       2.13454403e-02, 1.70227699e-02, 1.47856222e-02, 5.85269835e-03,\n",
              "       3.02933832e-03, 6.77742809e-03, 3.68505763e-03, 8.03576037e-03,\n",
              "       6.89550629e-03, 5.15026972e-03, 6.04630401e-03, 7.17037497e-03,\n",
              "       2.53954763e-03, 1.79617398e-03, 1.42934651e-03, 5.97384200e-03,\n",
              "       1.73440122e-03, 2.39167875e-03, 2.18012277e-03, 2.16755783e-03,\n",
              "       4.36579436e-03, 5.11646876e-03, 7.50589650e-04, 1.72788382e-03,\n",
              "       6.63601211e-04, 8.17438122e-04, 1.71827176e-03, 1.07748725e-03,\n",
              "       9.56412347e-04, 9.28326976e-04, 1.00700138e-03, 5.15870401e-04,\n",
              "       5.00520691e-04, 3.47165042e-04, 5.78818668e-04, 1.85140385e-03,\n",
              "       9.86958505e-04, 6.61831466e-04, 1.32072985e-03, 6.23502128e-04,\n",
              "       3.46051675e-04, 3.76635406e-04, 5.55923034e-04, 2.27314347e-04,\n",
              "       5.97743783e-04, 2.91143748e-04, 7.98586843e-05, 2.68319825e-04,\n",
              "       4.52889479e-04, 2.87369505e-04, 1.61985561e-04, 1.52595079e-04,\n",
              "       1.74297355e-04, 2.90559168e-04, 1.94630251e-04, 5.11200924e-04,\n",
              "       2.04630560e-04, 1.17402880e-04, 2.99921288e-04, 1.28880973e-04,\n",
              "       2.68039847e-04, 1.22685218e-04, 2.90326338e-04, 4.10546258e-04,\n",
              "       1.30124477e-04, 1.74999936e-04, 2.92170938e-04, 8.81479500e-05,\n",
              "       7.06992505e-05, 2.14405532e-04, 5.91332617e-04, 1.32501969e-04,\n",
              "       6.53533643e-05, 2.15333217e-04, 7.45037833e-05, 7.83374999e-05,\n",
              "       8.09810736e-05, 1.52151799e-04, 1.83490236e-04, 8.54587197e-05,\n",
              "       8.61889857e-05, 1.18679956e-04, 1.36730538e-04, 1.74918212e-04,\n",
              "       4.04974489e-05, 8.29468700e-05, 8.81509768e-05, 1.80144591e-04,\n",
              "       4.46206104e-05, 2.42818307e-04, 5.46256269e-05, 1.11252739e-04,\n",
              "       1.23447651e-04, 9.81910343e-05, 1.24144717e-04, 6.03700973e-05,\n",
              "       3.56451674e-05, 5.06263168e-05, 1.64857978e-04, 7.57725575e-05,\n",
              "       1.89347309e-04, 1.76608355e-05, 4.76511923e-05, 4.21982513e-05,\n",
              "       6.43015810e-05, 2.83232057e-05, 1.18768374e-04, 6.96806019e-05,\n",
              "       2.19626218e-05, 9.60483667e-05, 1.37948169e-04, 6.39714854e-05,\n",
              "       7.35876238e-05, 6.84974220e-05, 5.85656780e-05, 4.59676412e-05,\n",
              "       7.58215683e-05, 3.01128894e-05, 8.00295311e-05, 5.92127253e-05,\n",
              "       4.78133297e-05, 3.59210608e-05, 6.29554997e-05, 7.27705337e-05,\n",
              "       2.18954701e-05, 1.06174019e-04, 1.18614684e-04, 5.31242949e-05,\n",
              "       1.17089381e-04, 4.93963053e-05, 7.73327483e-05, 4.51339874e-05,\n",
              "       1.00176854e-04, 1.09808068e-04, 2.49785444e-05, 4.54984147e-05,\n",
              "       5.25130235e-05, 4.89668382e-05, 9.55811993e-05, 5.69844342e-05,\n",
              "       1.96478595e-05, 5.03294577e-05, 3.28529968e-05], dtype=float32)"
            ]
          },
          "metadata": {},
          "execution_count": 78
        }
      ]
    },
    {
      "cell_type": "code",
      "source": [
        "sorted_prob_01 = sorted(zip(tf.squeeze(test2).numpy(), vocab), key = lambda pair : pair[0],reverse = True)"
      ],
      "metadata": {
        "id": "H9Pwke21jHNv"
      },
      "execution_count": 79,
      "outputs": []
    },
    {
      "cell_type": "code",
      "source": [
        "sorted_prob_01[:10]"
      ],
      "metadata": {
        "colab": {
          "base_uri": "https://localhost:8080/"
        },
        "id": "P0cDhaKLk--U",
        "outputId": "be682870-176c-420a-ace1-6d227d43194e"
      },
      "execution_count": 80,
      "outputs": [
        {
          "output_type": "execute_result",
          "data": {
            "text/plain": [
              "[(0.90221626, 'cs.LG'),\n",
              " (0.48728505, 'stat.ML'),\n",
              " (0.24701022, 'cs.CV'),\n",
              " (0.18127947, 'cs.AI'),\n",
              " (0.02134544, 'cs.NE'),\n",
              " (0.020338068, 'eess.IV'),\n",
              " (0.01702277, 'cs.CR'),\n",
              " (0.014785622, 'math.OC'),\n",
              " (0.011943124, 'cs.CL'),\n",
              " (0.010735786, 'cs.RO')]"
            ]
          },
          "metadata": {},
          "execution_count": 80
        }
      ]
    },
    {
      "cell_type": "code",
      "source": [
        "# test_samples  = test_data.sample(10)\n",
        "# labels = tf.ragged.constant(test_samples['terms'].values)\n",
        "# label_binarized = lookup(labels).numpy()\n",
        "# test_tensor_dataset = tf.data.Dataset.from_tensor_slices((test_samples['cleaned_summary'].tolist(),label_binarized)).batch(100)"
      ],
      "metadata": {
        "id": "r_PrHUABAoBM"
      },
      "execution_count": 81,
      "outputs": []
    },
    {
      "cell_type": "code",
      "source": [
        "# test_tensor_dataset"
      ],
      "metadata": {
        "id": "WKxLgPRaDgQH"
      },
      "execution_count": 82,
      "outputs": []
    },
    {
      "cell_type": "code",
      "source": [
        "# text, label = next(iter(test_tensor_dataset))\n",
        "# print(label)"
      ],
      "metadata": {
        "id": "_Hl6meBuD6Ul"
      },
      "execution_count": 83,
      "outputs": []
    },
    {
      "cell_type": "markdown",
      "source": [
        "## Function to Predict and return Output with actual labels"
      ],
      "metadata": {
        "id": "4ngVWpkbJE7O"
      }
    },
    {
      "cell_type": "code",
      "source": [
        "test_samples  = test_data.sample(5)\n",
        "labels = tf.ragged.constant(test_samples['terms'].values)\n",
        "label_binarized = lookup(labels).numpy()\n",
        "test_tensor_dataset = tf.data.Dataset.from_tensor_slices((test_samples['cleaned_summary'].tolist(),label_binarized)).batch(5)\n",
        "\n",
        "\n",
        "def predict_abstract(model):\n",
        "\n",
        "\n",
        "    abs, encoded_label = next(iter(test_tensor_dataset))\n",
        "\n",
        "    pred_prob = model.predict(test_tensor_dataset)\n",
        "\n",
        "    for i, text in enumerate(abs):\n",
        "        label = invert_multi_hot(encoded_label[i])\n",
        "        print(f'Abstract:{text}')\n",
        "        print(f'Actual labels:{label}')\n",
        "        pred = sorted(zip(tf.squeeze(pred_prob[i]).numpy(), vocab), key = lambda pair : pair[0],reverse = True)\n",
        "        print(f\"predicted_labels(with probability):\")\n",
        "        for i,j in pred[:5]:\n",
        "            print(f\"{j} - {round(i*100,2)}%\")\n",
        "        print(\"\")"
      ],
      "metadata": {
        "id": "IiW45Jdy8jGt"
      },
      "execution_count": 84,
      "outputs": []
    },
    {
      "cell_type": "code",
      "source": [
        "test_samples[:5]"
      ],
      "metadata": {
        "colab": {
          "base_uri": "https://localhost:8080/",
          "height": 337
        },
        "id": "BOlZMnYgF0qq",
        "outputId": "873ca867-d506-4208-d608-6d4164080d6c"
      },
      "execution_count": 85,
      "outputs": [
        {
          "output_type": "execute_result",
          "data": {
            "text/plain": [
              "                                                  titles  \\\n",
              "33855  Black-box Off-policy Estimation for Infinite-H...   \n",
              "11155                  Solving Machine Learning Problems   \n",
              "1206   A Parallel Framework for Parametric Maximum Fl...   \n",
              "3602   Deep Autoencoding Models for Unsupervised Anom...   \n",
              "3739   Stochastic Descent Analysis of Representation ...   \n",
              "\n",
              "                                               summaries  \\\n",
              "33855  Off-policy estimation for long-horizon problem...   \n",
              "11155  Can a machine learn Machine Learning? This wor...   \n",
              "1206   This paper presents a framework that supports ...   \n",
              "3602   Reliably modeling normality and differentiatin...   \n",
              "3739   Although stochastic approximation learning met...   \n",
              "\n",
              "                         terms  \\\n",
              "33855  [cs.LG, cs.AI, stat.ML]   \n",
              "11155                  [cs.LG]   \n",
              "1206                   [cs.CV]   \n",
              "3602                   [cs.CV]   \n",
              "3739          [stat.ML, cs.LG]   \n",
              "\n",
              "                                         cleaned_summary  \n",
              "33855  off-policy estimation for long-horizon problem...  \n",
              "11155  can a machine learn machine learning? this wor...  \n",
              "1206   this paper presents a framework that supports ...  \n",
              "3602   reliably modeling normality and differentiatin...  \n",
              "3739   although stochastic approximation learning met...  "
            ],
            "text/html": [
              "\n",
              "\n",
              "  <div id=\"df-01505025-3555-417f-bfe0-4cdfa1679610\">\n",
              "    <div class=\"colab-df-container\">\n",
              "      <div>\n",
              "<style scoped>\n",
              "    .dataframe tbody tr th:only-of-type {\n",
              "        vertical-align: middle;\n",
              "    }\n",
              "\n",
              "    .dataframe tbody tr th {\n",
              "        vertical-align: top;\n",
              "    }\n",
              "\n",
              "    .dataframe thead th {\n",
              "        text-align: right;\n",
              "    }\n",
              "</style>\n",
              "<table border=\"1\" class=\"dataframe\">\n",
              "  <thead>\n",
              "    <tr style=\"text-align: right;\">\n",
              "      <th></th>\n",
              "      <th>titles</th>\n",
              "      <th>summaries</th>\n",
              "      <th>terms</th>\n",
              "      <th>cleaned_summary</th>\n",
              "    </tr>\n",
              "  </thead>\n",
              "  <tbody>\n",
              "    <tr>\n",
              "      <th>33855</th>\n",
              "      <td>Black-box Off-policy Estimation for Infinite-H...</td>\n",
              "      <td>Off-policy estimation for long-horizon problem...</td>\n",
              "      <td>[cs.LG, cs.AI, stat.ML]</td>\n",
              "      <td>off-policy estimation for long-horizon problem...</td>\n",
              "    </tr>\n",
              "    <tr>\n",
              "      <th>11155</th>\n",
              "      <td>Solving Machine Learning Problems</td>\n",
              "      <td>Can a machine learn Machine Learning? This wor...</td>\n",
              "      <td>[cs.LG]</td>\n",
              "      <td>can a machine learn machine learning? this wor...</td>\n",
              "    </tr>\n",
              "    <tr>\n",
              "      <th>1206</th>\n",
              "      <td>A Parallel Framework for Parametric Maximum Fl...</td>\n",
              "      <td>This paper presents a framework that supports ...</td>\n",
              "      <td>[cs.CV]</td>\n",
              "      <td>this paper presents a framework that supports ...</td>\n",
              "    </tr>\n",
              "    <tr>\n",
              "      <th>3602</th>\n",
              "      <td>Deep Autoencoding Models for Unsupervised Anom...</td>\n",
              "      <td>Reliably modeling normality and differentiatin...</td>\n",
              "      <td>[cs.CV]</td>\n",
              "      <td>reliably modeling normality and differentiatin...</td>\n",
              "    </tr>\n",
              "    <tr>\n",
              "      <th>3739</th>\n",
              "      <td>Stochastic Descent Analysis of Representation ...</td>\n",
              "      <td>Although stochastic approximation learning met...</td>\n",
              "      <td>[stat.ML, cs.LG]</td>\n",
              "      <td>although stochastic approximation learning met...</td>\n",
              "    </tr>\n",
              "  </tbody>\n",
              "</table>\n",
              "</div>\n",
              "      <button class=\"colab-df-convert\" onclick=\"convertToInteractive('df-01505025-3555-417f-bfe0-4cdfa1679610')\"\n",
              "              title=\"Convert this dataframe to an interactive table.\"\n",
              "              style=\"display:none;\">\n",
              "\n",
              "  <svg xmlns=\"http://www.w3.org/2000/svg\" height=\"24px\"viewBox=\"0 0 24 24\"\n",
              "       width=\"24px\">\n",
              "    <path d=\"M0 0h24v24H0V0z\" fill=\"none\"/>\n",
              "    <path d=\"M18.56 5.44l.94 2.06.94-2.06 2.06-.94-2.06-.94-.94-2.06-.94 2.06-2.06.94zm-11 1L8.5 8.5l.94-2.06 2.06-.94-2.06-.94L8.5 2.5l-.94 2.06-2.06.94zm10 10l.94 2.06.94-2.06 2.06-.94-2.06-.94-.94-2.06-.94 2.06-2.06.94z\"/><path d=\"M17.41 7.96l-1.37-1.37c-.4-.4-.92-.59-1.43-.59-.52 0-1.04.2-1.43.59L10.3 9.45l-7.72 7.72c-.78.78-.78 2.05 0 2.83L4 21.41c.39.39.9.59 1.41.59.51 0 1.02-.2 1.41-.59l7.78-7.78 2.81-2.81c.8-.78.8-2.07 0-2.86zM5.41 20L4 18.59l7.72-7.72 1.47 1.35L5.41 20z\"/>\n",
              "  </svg>\n",
              "      </button>\n",
              "\n",
              "\n",
              "\n",
              "    <div id=\"df-a3570c11-84d2-4f86-bdca-a9d26e5848bb\">\n",
              "      <button class=\"colab-df-quickchart\" onclick=\"quickchart('df-a3570c11-84d2-4f86-bdca-a9d26e5848bb')\"\n",
              "              title=\"Suggest charts.\"\n",
              "              style=\"display:none;\">\n",
              "\n",
              "<svg xmlns=\"http://www.w3.org/2000/svg\" height=\"24px\"viewBox=\"0 0 24 24\"\n",
              "     width=\"24px\">\n",
              "    <g>\n",
              "        <path d=\"M19 3H5c-1.1 0-2 .9-2 2v14c0 1.1.9 2 2 2h14c1.1 0 2-.9 2-2V5c0-1.1-.9-2-2-2zM9 17H7v-7h2v7zm4 0h-2V7h2v10zm4 0h-2v-4h2v4z\"/>\n",
              "    </g>\n",
              "</svg>\n",
              "      </button>\n",
              "    </div>\n",
              "\n",
              "<style>\n",
              "  .colab-df-quickchart {\n",
              "    background-color: #E8F0FE;\n",
              "    border: none;\n",
              "    border-radius: 50%;\n",
              "    cursor: pointer;\n",
              "    display: none;\n",
              "    fill: #1967D2;\n",
              "    height: 32px;\n",
              "    padding: 0 0 0 0;\n",
              "    width: 32px;\n",
              "  }\n",
              "\n",
              "  .colab-df-quickchart:hover {\n",
              "    background-color: #E2EBFA;\n",
              "    box-shadow: 0px 1px 2px rgba(60, 64, 67, 0.3), 0px 1px 3px 1px rgba(60, 64, 67, 0.15);\n",
              "    fill: #174EA6;\n",
              "  }\n",
              "\n",
              "  [theme=dark] .colab-df-quickchart {\n",
              "    background-color: #3B4455;\n",
              "    fill: #D2E3FC;\n",
              "  }\n",
              "\n",
              "  [theme=dark] .colab-df-quickchart:hover {\n",
              "    background-color: #434B5C;\n",
              "    box-shadow: 0px 1px 3px 1px rgba(0, 0, 0, 0.15);\n",
              "    filter: drop-shadow(0px 1px 2px rgba(0, 0, 0, 0.3));\n",
              "    fill: #FFFFFF;\n",
              "  }\n",
              "</style>\n",
              "\n",
              "    <script>\n",
              "      async function quickchart(key) {\n",
              "        const containerElement = document.querySelector('#' + key);\n",
              "        const charts = await google.colab.kernel.invokeFunction(\n",
              "            'suggestCharts', [key], {});\n",
              "      }\n",
              "    </script>\n",
              "\n",
              "      <script>\n",
              "\n",
              "function displayQuickchartButton(domScope) {\n",
              "  let quickchartButtonEl =\n",
              "    domScope.querySelector('#df-a3570c11-84d2-4f86-bdca-a9d26e5848bb button.colab-df-quickchart');\n",
              "  quickchartButtonEl.style.display =\n",
              "    google.colab.kernel.accessAllowed ? 'block' : 'none';\n",
              "}\n",
              "\n",
              "        displayQuickchartButton(document);\n",
              "      </script>\n",
              "      <style>\n",
              "    .colab-df-container {\n",
              "      display:flex;\n",
              "      flex-wrap:wrap;\n",
              "      gap: 12px;\n",
              "    }\n",
              "\n",
              "    .colab-df-convert {\n",
              "      background-color: #E8F0FE;\n",
              "      border: none;\n",
              "      border-radius: 50%;\n",
              "      cursor: pointer;\n",
              "      display: none;\n",
              "      fill: #1967D2;\n",
              "      height: 32px;\n",
              "      padding: 0 0 0 0;\n",
              "      width: 32px;\n",
              "    }\n",
              "\n",
              "    .colab-df-convert:hover {\n",
              "      background-color: #E2EBFA;\n",
              "      box-shadow: 0px 1px 2px rgba(60, 64, 67, 0.3), 0px 1px 3px 1px rgba(60, 64, 67, 0.15);\n",
              "      fill: #174EA6;\n",
              "    }\n",
              "\n",
              "    [theme=dark] .colab-df-convert {\n",
              "      background-color: #3B4455;\n",
              "      fill: #D2E3FC;\n",
              "    }\n",
              "\n",
              "    [theme=dark] .colab-df-convert:hover {\n",
              "      background-color: #434B5C;\n",
              "      box-shadow: 0px 1px 3px 1px rgba(0, 0, 0, 0.15);\n",
              "      filter: drop-shadow(0px 1px 2px rgba(0, 0, 0, 0.3));\n",
              "      fill: #FFFFFF;\n",
              "    }\n",
              "  </style>\n",
              "\n",
              "      <script>\n",
              "        const buttonEl =\n",
              "          document.querySelector('#df-01505025-3555-417f-bfe0-4cdfa1679610 button.colab-df-convert');\n",
              "        buttonEl.style.display =\n",
              "          google.colab.kernel.accessAllowed ? 'block' : 'none';\n",
              "\n",
              "        async function convertToInteractive(key) {\n",
              "          const element = document.querySelector('#df-01505025-3555-417f-bfe0-4cdfa1679610');\n",
              "          const dataTable =\n",
              "            await google.colab.kernel.invokeFunction('convertToInteractive',\n",
              "                                                     [key], {});\n",
              "          if (!dataTable) return;\n",
              "\n",
              "          const docLinkHtml = 'Like what you see? Visit the ' +\n",
              "            '<a target=\"_blank\" href=https://colab.research.google.com/notebooks/data_table.ipynb>data table notebook</a>'\n",
              "            + ' to learn more about interactive tables.';\n",
              "          element.innerHTML = '';\n",
              "          dataTable['output_type'] = 'display_data';\n",
              "          await google.colab.output.renderOutput(dataTable, element);\n",
              "          const docLink = document.createElement('div');\n",
              "          docLink.innerHTML = docLinkHtml;\n",
              "          element.appendChild(docLink);\n",
              "        }\n",
              "      </script>\n",
              "    </div>\n",
              "  </div>\n"
            ]
          },
          "metadata": {},
          "execution_count": 85
        }
      ]
    },
    {
      "cell_type": "code",
      "source": [
        "predict_abstract(model_1)"
      ],
      "metadata": {
        "colab": {
          "base_uri": "https://localhost:8080/"
        },
        "id": "zOzGdPbYFiVB",
        "outputId": "f40a327c-3a7e-4f8e-8ecf-671b2a6412d9"
      },
      "execution_count": 86,
      "outputs": [
        {
          "output_type": "stream",
          "name": "stdout",
          "text": [
            "1/1 [==============================] - 0s 43ms/step\n",
            "Abstract:b'off-policy estimation for long-horizon problems is important in many real-life applications such as healthcare and robotics, where high-fidelity simulators may not be available and on-policy evaluation is expensive or impossible. recently, \\\\cite{liu18breaking} proposed an approach that avoids the \\\\emph{curse of horizon} suffered by typical importance-sampling-based methods. while showing promising results, this approach is limited in practice as it requires data be drawn from the \\\\emph{stationary distribution} of a \\\\emph{known} behavior policy. in this work, we propose a novel approach that eliminates such limitations. in particular, we formulate the problem as solving for the fixed point of a certain operator. using tools from reproducing kernel hilbert spaces (rkhss), we develop a new estimator that computes importance ratios of stationary distributions, without knowledge of how the off-policy data are collected. we analyze its asymptotic consistency and finite-sample generalization. experiments on benchmarks verify the effectiveness of our approach.'\n",
            "Actual labels:['cs.LG' 'stat.ML' 'cs.AI']\n",
            "predicted_labels(with probability):\n",
            "cs.LG - 88.51%\n",
            "stat.ML - 58.63%\n",
            "cs.AI - 25.24%\n",
            "cs.CV - 11.76%\n",
            "cs.SI - 5.36%\n",
            "\n",
            "Abstract:b\"can a machine learn machine learning? this work trains a machine learning model to solve machine learning problems from a university undergraduate level course. we generate a new training set of questions and answers consisting of course exercises, homework, and quiz questions from mit's 6.036 introduction to machine learning course and train a machine learning model to answer these questions. our system demonstrates an overall accuracy of 96% for open-response questions and 97% for multiple-choice questions, compared with mit students' average of 93%, achieving grade a performance in the course, all in real-time. questions cover all 12 topics taught in the course, excluding coding questions or questions with images. topics include: (i) basic machine learning principles; (ii) perceptrons; (iii) feature extraction and selection; (iv) logistic regression; (v) regression; (vi) neural networks; (vii) advanced neural networks; (viii) convolutional neural networks; (ix) recurrent neural networks; (x) state machines and mdps; (xi) reinforcement learning; and (xii) decision trees. our system uses transformer models within an encoder-decoder architecture with graph and tree representations. an important aspect of our approach is a data-augmentation scheme for generating new example problems. we also train a machine learning model to generate problem hints. thus, our system automatically generates new questions across topics, answers both open-response questions and multiple-choice questions, classifies problems, and generates problem hints, pushing the envelope of ai for stem education.\"\n",
            "Actual labels:['cs.LG']\n",
            "predicted_labels(with probability):\n",
            "cs.LG - 76.42%\n",
            "cs.CV - 53.93%\n",
            "cs.AI - 31.41%\n",
            "stat.ML - 26.82%\n",
            "cs.NE - 4.07%\n",
            "\n",
            "Abstract:b'this paper presents a framework that supports the implementation of parallel solutions for the widespread parametric maximum flow computational routines used in image segmentation algorithms. the framework is based on supergraphs, a special construction combining several image graphs into a larger one, and works on various architectures (multi-core or gpu), either locally or remotely in a cluster of computing nodes. the framework can also be used for performance evaluation of parallel implementations of maximum flow algorithms. we present the case study of a state-of-the-art image segmentation algorithm based on graph cuts, constrained parametric min-cut (cpmc), that uses the parallel framework to solve parametric maximum flow problems, based on a gpu implementation of the well-known push-relabel algorithm. our results indicate that real-time implementations based on the proposed techniques are possible.'\n",
            "Actual labels:['cs.CV']\n",
            "predicted_labels(with probability):\n",
            "cs.CV - 96.7%\n",
            "cs.LG - 21.85%\n",
            "eess.IV - 6.22%\n",
            "cs.AI - 6.14%\n",
            "stat.ML - 5.64%\n",
            "\n",
            "Abstract:b'reliably modeling normality and differentiating abnormal appearances from normal cases is a very appealing approach for detecting pathologies in medical images. a plethora of such unsupervised anomaly detection approaches has been made in the medical domain, based on statistical methods, content-based retrieval, clustering and recently also deep learning. previous approaches towards deep unsupervised anomaly detection model patches of normal anatomy with variants of autoencoders or gans, and detect anomalies either as outliers in the learned feature space or from large reconstruction errors. in contrast to these patch-based approaches, we show that deep spatial autoencoding models can be efficiently used to capture normal anatomical variability of entire 2d brain mr images. a variety of experiments on real mr data containing ms lesions corroborates our hypothesis that we can detect and even delineate anomalies in brain mr images by simply comparing input images to their reconstruction. results show that constraints on the latent space and adversarial training can further improve the segmentation performance over standard deep representation learning.'\n",
            "Actual labels:['cs.CV']\n",
            "predicted_labels(with probability):\n",
            "cs.CV - 94.53%\n",
            "cs.LG - 37.02%\n",
            "cs.AI - 8.98%\n",
            "stat.ML - 8.53%\n",
            "eess.IV - 6.36%\n",
            "\n",
            "Abstract:b'although stochastic approximation learning methods have been widely used in the machine learning literature for over 50 years, formal theoretical analyses of specific machine learning algorithms are less common because stochastic approximation theorems typically possess assumptions which are difficult to communicate and verify. this paper presents a new stochastic approximation theorem for state-dependent noise with easily verifiable assumptions applicable to the analysis and design of important deep learning algorithms including: adaptive learning, contrastive divergence learning, stochastic descent expectation maximization, and active learning.'\n",
            "Actual labels:['cs.LG' 'stat.ML']\n",
            "predicted_labels(with probability):\n",
            "cs.LG - 96.43%\n",
            "stat.ML - 62.69%\n",
            "cs.AI - 34.37%\n",
            "cs.NE - 6.48%\n",
            "cs.MA - 4.17%\n",
            "\n"
          ]
        }
      ]
    },
    {
      "cell_type": "markdown",
      "source": [
        "# Model 2: Tf Hub pretrained Feature Extractor"
      ],
      "metadata": {
        "id": "21ggBstCFlEs"
      }
    },
    {
      "cell_type": "code",
      "source": [
        "# Download pretrained Tf Hub USE\n",
        "import tensorflow_hub as hub\n",
        "tf_hub_embedding_layer = hub.KerasLayer('https://tfhub.dev/google/universal-sentence-encoder/4',\n",
        "                                        trainable = False,\n",
        "                                        name = 'universal_sentance_encoder')"
      ],
      "metadata": {
        "id": "1VRqx-4kWGUI"
      },
      "execution_count": 87,
      "outputs": []
    },
    {
      "cell_type": "code",
      "source": [
        "# Test out the pretrained embedding on a random sentance\n",
        "\n",
        "random_train_sentance = random.choice(train_sentances)\n",
        "\n",
        "print(f'Random sentance is:\\n{random_train_sentance}\\n\\n')\n",
        "print(f\"embedding sentance:\\n{tf_hub_embedding_layer([random_train_sentance])}\\n\\n\")\n",
        "print(tf_hub_embedding_layer([random_train_sentance]).shape)\n"
      ],
      "metadata": {
        "colab": {
          "base_uri": "https://localhost:8080/"
        },
        "id": "sCW0LCIYWL7c",
        "outputId": "8ca4dd53-6218-48da-acdf-c012764b6aa4"
      },
      "execution_count": 88,
      "outputs": [
        {
          "output_type": "stream",
          "name": "stdout",
          "text": [
            "Random sentance is:\n",
            "we present \\textsc{vx2text}, a framework for text generation from multimodal inputs consisting of video plus text, speech, or audio. in order to leverage transformer networks, which have been shown to be effective at modeling language, each modality is first converted into a set of language embeddings by a learnable tokenizer. this allows our approach to perform multimodal fusion in the language space, thus eliminating the need for ad-hoc cross-modal fusion modules. to address the non-differentiability of tokenization on continuous inputs (e.g., video or audio), we utilize a relaxation scheme that enables end-to-end training. furthermore, unlike prior encoder-only models, our network includes an autoregressive decoder to generate open-ended text from the multimodal embeddings fused by the language encoder. this renders our approach fully generative and makes it directly applicable to different \"video+$x$ to text\" problems without the need to design specialized network heads for each task. the proposed framework is not only conceptually simple but also remarkably effective: experiments demonstrate that our approach based on a single architecture outperforms the state-of-the-art on three video-based text-generation tasks -- captioning, question answering and audio-visual scene-aware dialog.\n",
            "\n",
            "\n",
            "embedding sentance:\n",
            "[[-0.05734916 -0.04865858 -0.01939522 -0.03700839 -0.06454849  0.02522906\n",
            "  -0.00301122  0.05260758 -0.01021594  0.05186245 -0.03855341 -0.0362693\n",
            "  -0.04357338 -0.00791943 -0.04618795  0.06098001  0.06233978 -0.03709026\n",
            "  -0.05523185 -0.02296356  0.02631864  0.01336942 -0.06652646  0.04903446\n",
            "  -0.06737213  0.05159317 -0.02881468 -0.04474463 -0.00817152  0.03454505\n",
            "   0.05717334 -0.05951288  0.05298051 -0.02815255 -0.05256183  0.06107206\n",
            "  -0.00735869 -0.01851235 -0.06469219  0.01034372  0.0067209   0.05799259\n",
            "   0.01853973  0.02910541  0.05068093 -0.04631277  0.02204686 -0.04419665\n",
            "  -0.04085759 -0.03845898 -0.06517898 -0.02152961 -0.04890649  0.00390017\n",
            "   0.00395988 -0.03631603 -0.03061412  0.01272416  0.06226499 -0.04580339\n",
            "  -0.02244402 -0.03051077 -0.04042519 -0.00987902 -0.01118261  0.05512197\n",
            "   0.0655812  -0.04781195  0.01112997 -0.03937134 -0.00256885  0.06128959\n",
            "   0.0206857  -0.00291511 -0.04524735  0.02208903  0.04107453 -0.02158182\n",
            "   0.00222991  0.06490642  0.05480905 -0.01615092 -0.0117188  -0.03046698\n",
            "  -0.03810991 -0.0232609  -0.03174465  0.01546116 -0.05380975  0.02122616\n",
            "   0.02423061 -0.01286557 -0.02924625  0.0008244   0.02250821  0.04240432\n",
            "  -0.06342544  0.03319247  0.05880669 -0.06728205  0.05721144  0.00521211\n",
            "  -0.06429972  0.06535877  0.04723655  0.00721908  0.03023534  0.0480424\n",
            "  -0.06358914  0.06013505  0.00094051  0.03938612 -0.00661498  0.02123313\n",
            "  -0.00463635  0.06024559 -0.05926815 -0.04670637 -0.00347716  0.05917335\n",
            "   0.05556096  0.06433756  0.0645187  -0.04834085  0.05245067  0.01469329\n",
            "  -0.00359329 -0.05909095  0.06089932  0.02420969 -0.04299374 -0.04766082\n",
            "   0.06417075  0.01843872  0.04386133  0.00837197 -0.0065538  -0.01630232\n",
            "  -0.04389048 -0.05251033 -0.04893746  0.06741029 -0.06654038 -0.02766538\n",
            "  -0.02247575 -0.06722408  0.03796735 -0.04296036  0.05819871 -0.05032957\n",
            "  -0.02073107 -0.06658148 -0.06706053  0.05421047 -0.02958698  0.02421997\n",
            "   0.06518014  0.06443516  0.04490004  0.01538723  0.01875247  0.00532868\n",
            "   0.05699928  0.06707489 -0.02536872 -0.04176901  0.05689453 -0.03785598\n",
            "  -0.00722709 -0.03153057 -0.02765194  0.05530026 -0.06693791  0.04481553\n",
            "   0.06486533  0.00381915 -0.02670598 -0.05707316  0.06109878 -0.0575596\n",
            "  -0.03644275  0.05306242 -0.05831813  0.04531641  0.06332513  0.05388138\n",
            "  -0.02296219 -0.06130023 -0.03501222 -0.01467672  0.06521953 -0.04932142\n",
            "  -0.02206782 -0.05487179  0.02919003 -0.06462413  0.05711435  0.0672295\n",
            "   0.03679656 -0.06015338 -0.05902487 -0.03014078 -0.0221309   0.01701271\n",
            "   0.05809689 -0.06711848  0.05367714  0.06091994  0.00115691  0.06081159\n",
            "  -0.03478541  0.0529555   0.06338664  0.06531768 -0.06567429  0.01394954\n",
            "   0.00836528  0.05828642  0.05838123  0.05790861  0.03088054 -0.05852863\n",
            "   0.03802644 -0.003435   -0.01349472 -0.02913081 -0.06599975 -0.02485518\n",
            "  -0.02794135  0.03210564 -0.0564129  -0.00018302 -0.06163358 -0.06747148\n",
            "   0.01856511  0.0423186   0.01691915  0.0285818   0.01077748  0.01549697\n",
            "   0.00634213  0.01757697 -0.05526362 -0.04783048 -0.03137439 -0.04991893\n",
            "   0.02011111  0.01521723 -0.0356142   0.02880115 -0.06691904 -0.06198981\n",
            "   0.06184995  0.05323888  0.04725818 -0.065097    0.0320798   0.06750409\n",
            "  -0.05971976  0.03809424 -0.02506972  0.06461943  0.06507327  0.05867767\n",
            "   0.06167499  0.03532031 -0.00648758 -0.05167374 -0.04705233  0.05290893\n",
            "   0.04633554  0.03134743  0.01870269  0.04105074 -0.04894839  0.00785317\n",
            "   0.0042056  -0.00390118  0.06404451  0.06378567 -0.04068468 -0.0449597\n",
            "  -0.03047683  0.061047   -0.0662701  -0.01460044  0.04396176 -0.04071124\n",
            "   0.05192174 -0.04339001  0.06192466  0.01913345  0.06329059 -0.0601005\n",
            "   0.06721561 -0.05583435 -0.03738376  0.01480058  0.01210483 -0.02374407\n",
            "  -0.00703241 -0.01952397  0.0489203  -0.06219318  0.03569273  0.03265371\n",
            "  -0.02245821 -0.05697146  0.04593924  0.03844998 -0.02375422 -0.00829779\n",
            "   0.04758867 -0.0572749   0.05373229  0.02011904 -0.0086256   0.03895291\n",
            "   0.0625971  -0.06497464 -0.06546596  0.01034317 -0.01347844 -0.05707316\n",
            "  -0.03226154 -0.0422538  -0.03507264  0.00557485  0.01326653 -0.04970658\n",
            "  -0.00675967  0.04668794  0.00082799  0.06740231 -0.01598502 -0.01633035\n",
            "  -0.04535173 -0.04755555  0.03013219  0.03369382 -0.05836925 -0.05260755\n",
            "  -0.01175665  0.01842324 -0.06750055  0.01357006  0.04082876 -0.02523945\n",
            "  -0.0665753   0.04453095  0.03935562 -0.03839584  0.00673731  0.06295885\n",
            "   0.05769211  0.00707299 -0.06748944 -0.00982262 -0.06449804 -0.06103128\n",
            "   0.01091436 -0.02490658 -0.06358214  0.01119745  0.04789725 -0.03677375\n",
            "   0.06702477  0.04423932  0.02456617 -0.00325035  0.05448071  0.05759141\n",
            "  -0.02152649  0.03035212  0.02337078 -0.02589391  0.02541228 -0.06154648\n",
            "  -0.02824184 -0.06074023 -0.06076642  0.06704322  0.05591845  0.06459124\n",
            "   0.03784422 -0.06521691 -0.04671615  0.03193437  0.06520013 -0.03835433\n",
            "  -0.06234159 -0.00932946  0.06572411  0.01908469  0.0569058   0.06333967\n",
            "   0.0656279  -0.05770048  0.03332271  0.0346535   0.03491817  0.05342298\n",
            "  -0.01631802  0.0440149   0.047364   -0.02421734  0.00210945 -0.0390338\n",
            "   0.03106112  0.03904381  0.06291381 -0.0602255   0.05136058  0.01265825\n",
            "   0.01215083  0.05245744  0.03141933  0.05467203 -0.04828068 -0.02816657\n",
            "   0.04465136  0.06198559 -0.06168317  0.0426197  -0.01694461 -0.05170333\n",
            "   0.00668992  0.06696202 -0.02547963 -0.06243217  0.02668236  0.00727696\n",
            "  -0.05280263  0.0407178  -0.06656355  0.03095592  0.03845699  0.06187774\n",
            "  -0.06349613 -0.00471996  0.05356758 -0.04185912 -0.04507788  0.06127856\n",
            "  -0.02803505 -0.0631503   0.03365774 -0.03101901 -0.01831383  0.00416906\n",
            "   0.01927106 -0.04149733 -0.03859163 -0.03385092 -0.00395972 -0.05182947\n",
            "  -0.04877355  0.06710874  0.03785014 -0.00844632 -0.05621908  0.02924848\n",
            "   0.03792755  0.0601435   0.04037211  0.01330215 -0.04478459 -0.04661505\n",
            "  -0.0487146   0.05098831 -0.05633482 -0.0639385  -0.05134202 -0.06532633\n",
            "   0.02078893  0.04975708 -0.00614113 -0.04231637 -0.02330833 -0.06661248\n",
            "   0.01926979  0.0158833   0.00743395 -0.06749192  0.0374678   0.06361634\n",
            "   0.06638213  0.00728717  0.05175038  0.00152645 -0.00301156 -0.05450338\n",
            "  -0.01335027  0.06117547  0.04564121  0.05091932 -0.01734532 -0.02723182\n",
            "  -0.04737429  0.04225631  0.04166017 -0.05867741 -0.00851084 -0.06750467\n",
            "  -0.06243928 -0.00902748 -0.00014167  0.02470343 -0.02356211  0.06265431\n",
            "   0.01258903 -0.04870566]]\n",
            "\n",
            "\n",
            "(1, 512)\n"
          ]
        }
      ]
    },
    {
      "cell_type": "markdown",
      "source": [
        "##Build model with pretrined tf hub models"
      ],
      "metadata": {
        "id": "nH6GQGZBWRoh"
      }
    },
    {
      "cell_type": "code",
      "source": [
        "\n",
        "# define feature extraction layers\n",
        "inputs = layers.Input(shape = [], dtype = tf.string)\n",
        "\n",
        "pretrained_embedding = tf_hub_embedding_layer(inputs)\n",
        "\n",
        "x = layers.Dense(128, activation = 'relu')(pretrained_embedding)\n",
        "\n",
        "outputs = layers.Dense(151, activation = 'sigmoid')(x)\n",
        "\n",
        "model_2 = tf.keras.Model(inputs,\n",
        "                         outputs,\n",
        "                         name = 'model_2_feature_extractor')\n",
        "\n",
        "\n",
        "# compile a model\n",
        "model_2.compile(loss = 'binary_crossentropy',\n",
        "                optimizer = tf.keras.optimizers.Adam(),\n",
        "                metrics = ['accuracy'])"
      ],
      "metadata": {
        "id": "O7jdhZHKW1Jj"
      },
      "execution_count": 89,
      "outputs": []
    },
    {
      "cell_type": "code",
      "source": [
        "model_2.summary()"
      ],
      "metadata": {
        "colab": {
          "base_uri": "https://localhost:8080/"
        },
        "id": "e-M-J3AFXCbG",
        "outputId": "6246a58e-c128-4cdf-ee65-28036d2e5747"
      },
      "execution_count": 90,
      "outputs": [
        {
          "output_type": "stream",
          "name": "stdout",
          "text": [
            "Model: \"model_2_feature_extractor\"\n",
            "_________________________________________________________________\n",
            " Layer (type)                Output Shape              Param #   \n",
            "=================================================================\n",
            " input_2 (InputLayer)        [(None,)]                 0         \n",
            "                                                                 \n",
            " universal_sentance_encoder   (None, 512)              256797824 \n",
            " (KerasLayer)                                                    \n",
            "                                                                 \n",
            " dense_1 (Dense)             (None, 128)               65664     \n",
            "                                                                 \n",
            " dense_2 (Dense)             (None, 151)               19479     \n",
            "                                                                 \n",
            "=================================================================\n",
            "Total params: 256,882,967\n",
            "Trainable params: 85,143\n",
            "Non-trainable params: 256,797,824\n",
            "_________________________________________________________________\n"
          ]
        }
      ]
    },
    {
      "cell_type": "code",
      "source": [
        "# fit the model\n",
        "# fit the model\n",
        "model_2_history = model_2.fit(train_dataset,\n",
        "                              steps_per_epoch = int(0.1 * len(train_dataset)),\n",
        "                              epochs = 10,\n",
        "                              validation_data = val_dataset,\n",
        "                              validation_steps = int(0.1 * len(val_dataset)))"
      ],
      "metadata": {
        "colab": {
          "base_uri": "https://localhost:8080/"
        },
        "id": "kcc8RO-tXENz",
        "outputId": "6b9a2579-33cc-4483-d31f-8b34655f5adb"
      },
      "execution_count": 91,
      "outputs": [
        {
          "output_type": "stream",
          "name": "stdout",
          "text": [
            "Epoch 1/10\n",
            "91/91 [==============================] - 7s 46ms/step - loss: 0.2253 - accuracy: 0.5563 - val_loss: 0.0300 - val_accuracy: 0.6534\n",
            "Epoch 2/10\n",
            "91/91 [==============================] - 2s 27ms/step - loss: 0.0284 - accuracy: 0.7442 - val_loss: 0.0257 - val_accuracy: 0.8466\n",
            "Epoch 3/10\n",
            "91/91 [==============================] - 2s 27ms/step - loss: 0.0262 - accuracy: 0.8139 - val_loss: 0.0236 - val_accuracy: 0.8494\n",
            "Epoch 4/10\n",
            "91/91 [==============================] - 2s 26ms/step - loss: 0.0240 - accuracy: 0.8314 - val_loss: 0.0218 - val_accuracy: 0.8580\n",
            "Epoch 5/10\n",
            "91/91 [==============================] - 3s 38ms/step - loss: 0.0230 - accuracy: 0.8503 - val_loss: 0.0210 - val_accuracy: 0.8636\n",
            "Epoch 6/10\n",
            "91/91 [==============================] - 3s 27ms/step - loss: 0.0229 - accuracy: 0.8455 - val_loss: 0.0206 - val_accuracy: 0.8750\n",
            "Epoch 7/10\n",
            "91/91 [==============================] - 2s 26ms/step - loss: 0.0216 - accuracy: 0.8551 - val_loss: 0.0203 - val_accuracy: 0.8778\n",
            "Epoch 8/10\n",
            "91/91 [==============================] - 2s 26ms/step - loss: 0.0221 - accuracy: 0.8674 - val_loss: 0.0201 - val_accuracy: 0.8807\n",
            "Epoch 9/10\n",
            "91/91 [==============================] - 2s 27ms/step - loss: 0.0227 - accuracy: 0.8541 - val_loss: 0.0200 - val_accuracy: 0.8892\n",
            "Epoch 10/10\n",
            "91/91 [==============================] - 3s 38ms/step - loss: 0.0212 - accuracy: 0.8661 - val_loss: 0.0199 - val_accuracy: 0.8892\n"
          ]
        }
      ]
    },
    {
      "cell_type": "code",
      "source": [
        "plot_loss_curves(model_2_history)"
      ],
      "metadata": {
        "colab": {
          "base_uri": "https://localhost:8080/",
          "height": 410
        },
        "id": "rOy7MG_MXTfZ",
        "outputId": "9bb766a8-a6e1-4760-9cc3-056a837b6bbb"
      },
      "execution_count": 92,
      "outputs": [
        {
          "output_type": "display_data",
          "data": {
            "text/plain": [
              "<Figure size 800x400 with 2 Axes>"
            ],
            "image/png": "[encoded data removed]"
          },
          "metadata": {}
        }
      ]
    },
    {
      "cell_type": "code",
      "source": [
        "model_2.evaluate(test_dataset)"
      ],
      "metadata": {
        "colab": {
          "base_uri": "https://localhost:8080/"
        },
        "id": "4JG4WlaCXd08",
        "outputId": "52fc7200-0501-4df8-e1e1-471736da1eef"
      },
      "execution_count": 93,
      "outputs": [
        {
          "output_type": "stream",
          "name": "stdout",
          "text": [
            "115/115 [==============================] - 3s 23ms/step - loss: 0.0214 - accuracy: 0.8596\n"
          ]
        },
        {
          "output_type": "execute_result",
          "data": {
            "text/plain": [
              "[0.02143513411283493, 0.8595582246780396]"
            ]
          },
          "metadata": {},
          "execution_count": 93
        }
      ]
    },
    {
      "cell_type": "code",
      "source": [
        "model_1.evaluate(test_dataset)"
      ],
      "metadata": {
        "colab": {
          "base_uri": "https://localhost:8080/"
        },
        "id": "kHw2SeW_XizZ",
        "outputId": "1599f002-c88f-40e4-c122-c3de3fbc13a0"
      },
      "execution_count": 94,
      "outputs": [
        {
          "output_type": "stream",
          "name": "stdout",
          "text": [
            "115/115 [==============================] - 1s 5ms/step - loss: 0.0213 - accuracy: 0.8956\n"
          ]
        },
        {
          "output_type": "execute_result",
          "data": {
            "text/plain": [
              "[0.021265733987092972, 0.8955549597740173]"
            ]
          },
          "metadata": {},
          "execution_count": 94
        }
      ]
    },
    {
      "cell_type": "code",
      "source": [
        "predict_abstract(model_2)"
      ],
      "metadata": {
        "colab": {
          "base_uri": "https://localhost:8080/"
        },
        "id": "IrWRtKM7XmAm",
        "outputId": "77ae5416-d5f1-4b11-c03c-ed05ab519f42"
      },
      "execution_count": 95,
      "outputs": [
        {
          "output_type": "stream",
          "name": "stdout",
          "text": [
            "1/1 [==============================] - 0s 348ms/step\n",
            "Abstract:b'off-policy estimation for long-horizon problems is important in many real-life applications such as healthcare and robotics, where high-fidelity simulators may not be available and on-policy evaluation is expensive or impossible. recently, \\\\cite{liu18breaking} proposed an approach that avoids the \\\\emph{curse of horizon} suffered by typical importance-sampling-based methods. while showing promising results, this approach is limited in practice as it requires data be drawn from the \\\\emph{stationary distribution} of a \\\\emph{known} behavior policy. in this work, we propose a novel approach that eliminates such limitations. in particular, we formulate the problem as solving for the fixed point of a certain operator. using tools from reproducing kernel hilbert spaces (rkhss), we develop a new estimator that computes importance ratios of stationary distributions, without knowledge of how the off-policy data are collected. we analyze its asymptotic consistency and finite-sample generalization. experiments on benchmarks verify the effectiveness of our approach.'\n",
            "Actual labels:['cs.LG' 'stat.ML' 'cs.AI']\n",
            "predicted_labels(with probability):\n",
            "cs.LG - 97.36%\n",
            "stat.ML - 75.35%\n",
            "cs.AI - 31.88%\n",
            "math.OC - 3.33%\n",
            "cs.CV - 3.15%\n",
            "\n",
            "Abstract:b\"can a machine learn machine learning? this work trains a machine learning model to solve machine learning problems from a university undergraduate level course. we generate a new training set of questions and answers consisting of course exercises, homework, and quiz questions from mit's 6.036 introduction to machine learning course and train a machine learning model to answer these questions. our system demonstrates an overall accuracy of 96% for open-response questions and 97% for multiple-choice questions, compared with mit students' average of 93%, achieving grade a performance in the course, all in real-time. questions cover all 12 topics taught in the course, excluding coding questions or questions with images. topics include: (i) basic machine learning principles; (ii) perceptrons; (iii) feature extraction and selection; (iv) logistic regression; (v) regression; (vi) neural networks; (vii) advanced neural networks; (viii) convolutional neural networks; (ix) recurrent neural networks; (x) state machines and mdps; (xi) reinforcement learning; and (xii) decision trees. our system uses transformer models within an encoder-decoder architecture with graph and tree representations. an important aspect of our approach is a data-augmentation scheme for generating new example problems. we also train a machine learning model to generate problem hints. thus, our system automatically generates new questions across topics, answers both open-response questions and multiple-choice questions, classifies problems, and generates problem hints, pushing the envelope of ai for stem education.\"\n",
            "Actual labels:['cs.LG']\n",
            "predicted_labels(with probability):\n",
            "cs.LG - 95.36%\n",
            "stat.ML - 62.76%\n",
            "cs.AI - 33.74%\n",
            "cs.CV - 9.86%\n",
            "cs.CL - 4.76%\n",
            "\n",
            "Abstract:b'this paper presents a framework that supports the implementation of parallel solutions for the widespread parametric maximum flow computational routines used in image segmentation algorithms. the framework is based on supergraphs, a special construction combining several image graphs into a larger one, and works on various architectures (multi-core or gpu), either locally or remotely in a cluster of computing nodes. the framework can also be used for performance evaluation of parallel implementations of maximum flow algorithms. we present the case study of a state-of-the-art image segmentation algorithm based on graph cuts, constrained parametric min-cut (cpmc), that uses the parallel framework to solve parametric maximum flow problems, based on a gpu implementation of the well-known push-relabel algorithm. our results indicate that real-time implementations based on the proposed techniques are possible.'\n",
            "Actual labels:['cs.CV']\n",
            "predicted_labels(with probability):\n",
            "cs.LG - 76.31%\n",
            "cs.CV - 45.45%\n",
            "stat.ML - 31.92%\n",
            "cs.AI - 15.67%\n",
            "cs.CL - 2.81%\n",
            "\n",
            "Abstract:b'reliably modeling normality and differentiating abnormal appearances from normal cases is a very appealing approach for detecting pathologies in medical images. a plethora of such unsupervised anomaly detection approaches has been made in the medical domain, based on statistical methods, content-based retrieval, clustering and recently also deep learning. previous approaches towards deep unsupervised anomaly detection model patches of normal anatomy with variants of autoencoders or gans, and detect anomalies either as outliers in the learned feature space or from large reconstruction errors. in contrast to these patch-based approaches, we show that deep spatial autoencoding models can be efficiently used to capture normal anatomical variability of entire 2d brain mr images. a variety of experiments on real mr data containing ms lesions corroborates our hypothesis that we can detect and even delineate anomalies in brain mr images by simply comparing input images to their reconstruction. results show that constraints on the latent space and adversarial training can further improve the segmentation performance over standard deep representation learning.'\n",
            "Actual labels:['cs.CV']\n",
            "predicted_labels(with probability):\n",
            "cs.CV - 96.35%\n",
            "cs.LG - 26.3%\n",
            "cs.AI - 6.87%\n",
            "stat.ML - 5.52%\n",
            "eess.IV - 3.82%\n",
            "\n",
            "Abstract:b'although stochastic approximation learning methods have been widely used in the machine learning literature for over 50 years, formal theoretical analyses of specific machine learning algorithms are less common because stochastic approximation theorems typically possess assumptions which are difficult to communicate and verify. this paper presents a new stochastic approximation theorem for state-dependent noise with easily verifiable assumptions applicable to the analysis and design of important deep learning algorithms including: adaptive learning, contrastive divergence learning, stochastic descent expectation maximization, and active learning.'\n",
            "Actual labels:['cs.LG' 'stat.ML']\n",
            "predicted_labels(with probability):\n",
            "cs.LG - 97.7%\n",
            "stat.ML - 84.26%\n",
            "cs.AI - 30.54%\n",
            "cs.SY - 4.15%\n",
            "math.OC - 4.11%\n",
            "\n"
          ]
        }
      ]
    },
    {
      "cell_type": "markdown",
      "source": [
        "#model 3: character embeddings Conv1D"
      ],
      "metadata": {
        "id": "y5e8s2PrX13y"
      }
    },
    {
      "cell_type": "code",
      "source": [
        "train_sentances[:5]"
      ],
      "metadata": {
        "colab": {
          "base_uri": "https://localhost:8080/"
        },
        "id": "M5QK8MlBb0cn",
        "outputId": "40ca2b56-cf83-469a-d480-d10343b6c3ab"
      },
      "execution_count": 96,
      "outputs": [
        {
          "output_type": "execute_result",
          "data": {
            "text/plain": [
              "['point clouds have been widely adopted in 3d semantic scene understanding. however, point clouds for typical tasks such as 3d shape segmentation or indoor scenario parsing are much denser than outdoor lidar sweeps for the application of autonomous driving perception. due to the spatial property disparity, many successful methods designed for dense point clouds behave depreciated effectiveness on the sparse data. in this paper, we focus on the semantic segmentation task of sparse outdoor point clouds. we propose a new method called mnew, including multi-domain neighborhood embedding, and attention weighting based on their geometry distance, feature similarity, and neighborhood sparsity. the network architecture inherits pointnet which directly process point clouds to capture pointwise details and global semantics, and is improved by involving multi-scale local neighborhoods in static geometry domain and dynamic feature space. the distance/similarity attention and sparsity-adapted weighting mechanism of mnew enable its capability for a wide range of data sparsity distribution. with experiments conducted on virtual and real kitti semantic datasets, mnew achieves the top performance for sparse point clouds, which is important to the application of lidar-based automated driving perception.',\n",
              " 'synthesizing high-quality images from text descriptions is a challenging problem in computer vision and has many practical applications. samples generated by existing text-to-image approaches can roughly reflect the meaning of the given descriptions, but they fail to contain necessary details and vivid object parts. in this paper, we propose stacked generative adversarial networks (stackgan) to generate 256x256 photo-realistic images conditioned on text descriptions. we decompose the hard problem into more manageable sub-problems through a sketch-refinement process. the stage-i gan sketches the primitive shape and colors of the object based on the given text description, yielding stage-i low-resolution images. the stage-ii gan takes stage-i results and text descriptions as inputs, and generates high-resolution images with photo-realistic details. it is able to rectify defects in stage-i results and add compelling details with the refinement process. to improve the diversity of the synthesized images and stabilize the training of the conditional-gan, we introduce a novel conditioning augmentation technique that encourages smoothness in the latent conditioning manifold. extensive experiments and comparisons with state-of-the-arts on benchmark datasets demonstrate that the proposed method achieves significant improvements on generating photo-realistic images conditioned on text descriptions.',\n",
              " 'we introduce a new problem, the online selective anomaly detection (osad), to model a specific scenario emerging from research in sleep science. scientists have segmented sleep into several stages and stage two is characterized by two patterns (or anomalies) in the eeg time series recorded on sleep subjects. these two patterns are sleep spindle (ss) and k-complex. the osad problem was introduced to design a residual system, where all anomalies (known and unknown) are detected but the system only triggers an alarm when non-ss anomalies appear. the solution of the osad problem required us to combine techniques from both machine learning and control theory. experiments on data from real subjects attest to the effectiveness of our approach.',\n",
              " 'weakly supervised object detection (wsod) is a challenging task when provided with image category supervision but required to simultaneously learn object locations and object detectors. many wsod approaches adopt multiple instance learning (mil) and have non-convex loss functions which are prone to get stuck into local minima (falsely localize object parts) while missing full object extent during training. in this paper, we introduce a continuation optimization method into mil and thereby creating continuation multiple instance learning (c-mil), with the intention of alleviating the non-convexity problem in a systematic way. we partition instances into spatially related and class related subsets, and approximate the original loss function with a series of smoothed loss functions defined within the subsets. optimizing smoothed loss functions prevents the training procedure falling prematurely into local minima and facilitates the discovery of stable semantic extremal regions (ssers) which indicate full object extent. on the pascal voc 2007 and 2012 datasets, c-mil improves the state-of-the-art of weakly supervised object detection and weakly supervised object localization with large margins.',\n",
              " 'we present border-seggcn, a novel architecture to improve semantic segmentation by refining the border outline using graph convolutional networks (gcn). the semantic segmentation network such as unet or deeplabv3+ is used as a base network to have pre-segmented output. this output is converted into a graphical structure and fed into the gcn to improve the border pixel prediction of the pre-segmented output. we explored and studied the factors such as border thickness, number of edges for a node, and the number of features to be fed into the gcn by performing experiments. we demonstrate the effectiveness of the border-seggcn on the camvid and carla dataset, achieving a test set performance of 81.96% without any post-processing on camvid dataset. it is higher than the reported state of the art miou achieved on camvid dataset by 0.404%']"
            ]
          },
          "metadata": {},
          "execution_count": 96
        }
      ]
    },
    {
      "cell_type": "code",
      "source": [
        "# make function to split sentances into characters\n",
        "def split_chars(text):\n",
        "  return ' '.join(list(text))\n",
        "\n",
        "# text splittin non character level squence into characters\n",
        "split_chars(random_train_sentance)"
      ],
      "metadata": {
        "colab": {
          "base_uri": "https://localhost:8080/",
          "height": 165
        },
        "id": "0LebyFRmb2iB",
        "outputId": "f83f32d8-5d75-40d1-f4bb-a4a668b1f4d7"
      },
      "execution_count": 97,
      "outputs": [
        {
          "output_type": "execute_result",
          "data": {
            "text/plain": [
              "'w e   p r e s e n t   \\\\ t e x t s c { v x 2 t e x t } ,   a   f r a m e w o r k   f o r   t e x t   g e n e r a t i o n   f r o m   m u l t i m o d a l   i n p u t s   c o n s i s t i n g   o f   v i d e o   p l u s   t e x t ,   s p e e c h ,   o r   a u d i o .   i n   o r d e r   t o   l e v e r a g e   t r a n s f o r m e r   n e t w o r k s ,   w h i c h   h a v e   b e e n   s h o w n   t o   b e   e f f e c t i v e   a t   m o d e l i n g   l a n g u a g e ,   e a c h   m o d a l i t y   i s   f i r s t   c o n v e r t e d   i n t o   a   s e t   o f   l a n g u a g e   e m b e d d i n g s   b y   a   l e a r n a b l e   t o k e n i z e r .   t h i s   a l l o w s   o u r   a p p r o a c h   t o   p e r f o r m   m u l t i m o d a l   f u s i o n   i n   t h e   l a n g u a g e   s p a c e ,   t h u s   e l i m i n a t i n g   t h e   n e e d   f o r   a d - h o c   c r o s s - m o d a l   f u s i o n   m o d u l e s .   t o   a d d r e s s   t h e   n o n - d i f f e r e n t i a b i l i t y   o f   t o k e n i z a t i o n   o n   c o n t i n u o u s   i n p u t s   ( e . g . ,   v i d e o   o r   a u d i o ) ,   w e   u t i l i z e   a   r e l a x a t i o n   s c h e m e   t h a t   e n a b l e s   e n d - t o - e n d   t r a i n i n g .   f u r t h e r m o r e ,   u n l i k e   p r i o r   e n c o d e r - o n l y   m o d e l s ,   o u r   n e t w o r k   i n c l u d e s   a n   a u t o r e g r e s s i v e   d e c o d e r   t o   g e n e r a t e   o p e n - e n d e d   t e x t   f r o m   t h e   m u l t i m o d a l   e m b e d d i n g s   f u s e d   b y   t h e   l a n g u a g e   e n c o d e r .   t h i s   r e n d e r s   o u r   a p p r o a c h   f u l l y   g e n e r a t i v e   a n d   m a k e s   i t   d i r e c t l y   a p p l i c a b l e   t o   d i f f e r e n t   \" v i d e o + $ x $   t o   t e x t \"   p r o b l e m s   w i t h o u t   t h e   n e e d   t o   d e s i g n   s p e c i a l i z e d   n e t w o r k   h e a d s   f o r   e a c h   t a s k .   t h e   p r o p o s e d   f r a m e w o r k   i s   n o t   o n l y   c o n c e p t u a l l y   s i m p l e   b u t   a l s o   r e m a r k a b l y   e f f e c t i v e :   e x p e r i m e n t s   d e m o n s t r a t e   t h a t   o u r   a p p r o a c h   b a s e d   o n   a   s i n g l e   a r c h i t e c t u r e   o u t p e r f o r m s   t h e   s t a t e - o f - t h e - a r t   o n   t h r e e   v i d e o - b a s e d   t e x t - g e n e r a t i o n   t a s k s   - -   c a p t i o n i n g ,   q u e s t i o n   a n s w e r i n g   a n d   a u d i o - v i s u a l   s c e n e - a w a r e   d i a l o g .'"
            ],
            "application/vnd.google.colaboratory.intrinsic+json": {
              "type": "string"
            }
          },
          "metadata": {},
          "execution_count": 97
        }
      ]
    },
    {
      "cell_type": "code",
      "source": [
        "train_chars = [split_chars(sentance) for sentance in train_sentances]\n",
        "val_chars = [split_chars(sentance) for sentance in val_sentances]\n",
        "test_chars = [split_chars(sentance) for sentance in test_sentances]"
      ],
      "metadata": {
        "id": "bMnEtHQTb9e3"
      },
      "execution_count": 98,
      "outputs": []
    },
    {
      "cell_type": "code",
      "source": [
        "train_chars[2]"
      ],
      "metadata": {
        "colab": {
          "base_uri": "https://localhost:8080/",
          "height": 165
        },
        "id": "5gsFDoP6cCX6",
        "outputId": "5c796807-f21c-42c9-b400-37009116607c"
      },
      "execution_count": 99,
      "outputs": [
        {
          "output_type": "execute_result",
          "data": {
            "text/plain": [
              "'w e   i n t r o d u c e   a   n e w   p r o b l e m ,   t h e   o n l i n e   s e l e c t i v e   a n o m a l y   d e t e c t i o n   ( o s a d ) ,   t o   m o d e l   a   s p e c i f i c   s c e n a r i o   e m e r g i n g   f r o m   r e s e a r c h   i n   s l e e p   s c i e n c e .   s c i e n t i s t s   h a v e   s e g m e n t e d   s l e e p   i n t o   s e v e r a l   s t a g e s   a n d   s t a g e   t w o   i s   c h a r a c t e r i z e d   b y   t w o   p a t t e r n s   ( o r   a n o m a l i e s )   i n   t h e   e e g   t i m e   s e r i e s   r e c o r d e d   o n   s l e e p   s u b j e c t s .   t h e s e   t w o   p a t t e r n s   a r e   s l e e p   s p i n d l e   ( s s )   a n d   k - c o m p l e x .   t h e   o s a d   p r o b l e m   w a s   i n t r o d u c e d   t o   d e s i g n   a   r e s i d u a l   s y s t e m ,   w h e r e   a l l   a n o m a l i e s   ( k n o w n   a n d   u n k n o w n )   a r e   d e t e c t e d   b u t   t h e   s y s t e m   o n l y   t r i g g e r s   a n   a l a r m   w h e n   n o n - s s   a n o m a l i e s   a p p e a r .   t h e   s o l u t i o n   o f   t h e   o s a d   p r o b l e m   r e q u i r e d   u s   t o   c o m b i n e   t e c h n i q u e s   f r o m   b o t h   m a c h i n e   l e a r n i n g   a n d   c o n t r o l   t h e o r y .   e x p e r i m e n t s   o n   d a t a   f r o m   r e a l   s u b j e c t s   a t t e s t   t o   t h e   e f f e c t i v e n e s s   o f   o u r   a p p r o a c h .'"
            ],
            "application/vnd.google.colaboratory.intrinsic+json": {
              "type": "string"
            }
          },
          "metadata": {},
          "execution_count": 99
        }
      ]
    },
    {
      "cell_type": "code",
      "source": [
        "char_lens = [len(sentance) for sentance in train_sentances]\n",
        "mean_char_len = np.mean(char_lens)\n",
        "mean_char_len\n"
      ],
      "metadata": {
        "colab": {
          "base_uri": "https://localhost:8080/"
        },
        "id": "1j_sC7jrcMLk",
        "outputId": "e8dcdbda-5ad2-44ae-c517-0c1f0727421b"
      },
      "execution_count": 100,
      "outputs": [
        {
          "output_type": "execute_result",
          "data": {
            "text/plain": [
              "1191.31848241069"
            ]
          },
          "metadata": {},
          "execution_count": 100
        }
      ]
    },
    {
      "cell_type": "code",
      "source": [
        "# check the distribution of characters\n",
        "import matplotlib.pyplot as plt\n",
        "plt.hist(char_lens, bins = 30)"
      ],
      "metadata": {
        "colab": {
          "base_uri": "https://localhost:8080/",
          "height": 688
        },
        "id": "VhZQpIEmcQgc",
        "outputId": "cc00ff55-a627-470f-c6d5-5579da9c972e"
      },
      "execution_count": 101,
      "outputs": [
        {
          "output_type": "execute_result",
          "data": {
            "text/plain": [
              "(array([4.000e+00, 1.000e+01, 4.300e+01, 1.160e+02, 3.760e+02, 8.470e+02,\n",
              "        1.467e+03, 2.375e+03, 3.273e+03, 4.004e+03, 3.903e+03, 3.715e+03,\n",
              "        3.223e+03, 2.092e+03, 1.568e+03, 1.098e+03, 7.940e+02, 4.240e+02,\n",
              "        2.000e+00, 0.000e+00, 1.000e+00, 0.000e+00, 0.000e+00, 0.000e+00,\n",
              "        0.000e+00, 0.000e+00, 0.000e+00, 0.000e+00, 0.000e+00, 1.000e+00]),\n",
              " array([  29.        ,  138.06666667,  247.13333333,  356.2       ,\n",
              "         465.26666667,  574.33333333,  683.4       ,  792.46666667,\n",
              "         901.53333333, 1010.6       , 1119.66666667, 1228.73333333,\n",
              "        1337.8       , 1446.86666667, 1555.93333333, 1665.        ,\n",
              "        1774.06666667, 1883.13333333, 1992.2       , 2101.26666667,\n",
              "        2210.33333333, 2319.4       , 2428.46666667, 2537.53333333,\n",
              "        2646.6       , 2755.66666667, 2864.73333333, 2973.8       ,\n",
              "        3082.86666667, 3191.93333333, 3301.        ]),\n",
              " <BarContainer object of 30 artists>)"
            ]
          },
          "metadata": {},
          "execution_count": 101
        },
        {
          "output_type": "display_data",
          "data": {
            "text/plain": [
              "<Figure size 640x480 with 1 Axes>"
            ],
            "image/png": "[encoded data removed]"
          },
          "metadata": {}
        }
      ]
    },
    {
      "cell_type": "code",
      "source": [
        "# Find what character length covers 95% of sequences\n",
        "output_seq_char_len = int(np.percentile(char_lens, 95))\n",
        "output_seq_char_len"
      ],
      "metadata": {
        "colab": {
          "base_uri": "https://localhost:8080/"
        },
        "id": "YA-N4Er5cU33",
        "outputId": "bfff224b-cafc-4367-a5f8-27049ab1d31e"
      },
      "execution_count": 102,
      "outputs": [
        {
          "output_type": "execute_result",
          "data": {
            "text/plain": [
              "1745"
            ]
          },
          "metadata": {},
          "execution_count": 102
        }
      ]
    },
    {
      "cell_type": "code",
      "source": [
        "\n",
        "import string\n",
        "alphabet = string.ascii_lowercase + string.digits + string.punctuation\n",
        "alphabet\n"
      ],
      "metadata": {
        "colab": {
          "base_uri": "https://localhost:8080/",
          "height": 36
        },
        "id": "CCtyhEU1dg-V",
        "outputId": "76066b76-eeb6-469b-ab73-07e81f04247c"
      },
      "execution_count": 103,
      "outputs": [
        {
          "output_type": "execute_result",
          "data": {
            "text/plain": [
              "'abcdefghijklmnopqrstuvwxyz0123456789!\"#$%&\\'()*+,-./:;<=>?@[\\\\]^_`{|}~'"
            ],
            "application/vnd.google.colaboratory.intrinsic+json": {
              "type": "string"
            }
          },
          "metadata": {},
          "execution_count": 103
        }
      ]
    },
    {
      "cell_type": "code",
      "source": [
        "# create char- level token vectorizer instance\n",
        "\n",
        "NUM_CHAR_TOKENS = len(alphabet) + 2\n",
        "char_vectorizer = TextVectorization(max_tokens = NUM_CHAR_TOKENS,\n",
        "                                    output_sequence_length = output_seq_char_len,\n",
        "                                    standardize = None,\n",
        "                                    name = 'char_vectorizer')\n"
      ],
      "metadata": {
        "id": "eiSWTX8qdoEs"
      },
      "execution_count": 104,
      "outputs": []
    },
    {
      "cell_type": "code",
      "source": [
        "\n",
        "# Adapt character char vectorizer to training character\n",
        "char_vectorizer.adapt(train_chars)"
      ],
      "metadata": {
        "id": "UdeZIVu-d5uj"
      },
      "execution_count": 105,
      "outputs": []
    },
    {
      "cell_type": "code",
      "source": [
        "\n",
        "char_vocab = char_vectorizer.get_vocabulary()\n",
        "char_vocab"
      ],
      "metadata": {
        "colab": {
          "base_uri": "https://localhost:8080/"
        },
        "id": "vw2NWiHGd7DJ",
        "outputId": "4ead19a0-a04c-4738-adf5-97f54ffa4f23"
      },
      "execution_count": 106,
      "outputs": [
        {
          "output_type": "execute_result",
          "data": {
            "text/plain": [
              "['',\n",
              " '[UNK]',\n",
              " 'e',\n",
              " 't',\n",
              " 'a',\n",
              " 'i',\n",
              " 'n',\n",
              " 'o',\n",
              " 'r',\n",
              " 's',\n",
              " 'l',\n",
              " 'c',\n",
              " 'd',\n",
              " 'h',\n",
              " 'm',\n",
              " 'p',\n",
              " 'u',\n",
              " 'f',\n",
              " 'g',\n",
              " 'w',\n",
              " 'b',\n",
              " 'v',\n",
              " 'y',\n",
              " '.',\n",
              " ',',\n",
              " '-',\n",
              " 'k',\n",
              " 'x',\n",
              " ')',\n",
              " '(',\n",
              " 'z',\n",
              " 'q',\n",
              " 'j',\n",
              " '1',\n",
              " '0',\n",
              " '2',\n",
              " '3',\n",
              " '/',\n",
              " '$',\n",
              " ':',\n",
              " '\\\\',\n",
              " '%',\n",
              " \"'\",\n",
              " '5',\n",
              " '4',\n",
              " '9',\n",
              " '}',\n",
              " '{',\n",
              " '6',\n",
              " '8',\n",
              " '\"',\n",
              " '7',\n",
              " ';',\n",
              " '_',\n",
              " '+',\n",
              " '^',\n",
              " '?',\n",
              " '`',\n",
              " ']',\n",
              " '[',\n",
              " '~',\n",
              " '=',\n",
              " '&',\n",
              " '|',\n",
              " '*',\n",
              " '>',\n",
              " '<',\n",
              " '@',\n",
              " '!',\n",
              " '#']"
            ]
          },
          "metadata": {},
          "execution_count": 106
        }
      ]
    },
    {
      "cell_type": "code",
      "source": [
        "### creating character level embedding\n",
        "char_embed   = layers.Embedding(input_dim = len(char_vocab),\n",
        "                                output_dim = 25,\n",
        "                                mask_zero = True,\n",
        "                                name = \"char_embed\")"
      ],
      "metadata": {
        "id": "525jNkjad9N1"
      },
      "execution_count": 107,
      "outputs": []
    },
    {
      "cell_type": "code",
      "source": [
        "random_sent = random.choice(train_chars)\n",
        "\n",
        "\n",
        "print(f\"Characterized sentance : \\n{random_sent}\\n\")\n",
        "print(f\"Len of sentance:{len(random_sent.split())}\\n\")\n",
        "print(f\"Embedded sentance : \\n{char_vectorizer(random_sent)}\\n\")\n",
        "print(f'len of embedded sentance(Preset): {len(char_vectorizer(random_sent))}\\n')\n",
        "\n",
        "print(f\"embedded char sentance:\\n{char_embed(char_vectorizer(random_sent))}\\n\")\n",
        "print(f\"shape of embedded char sentance:{char_embed(char_vectorizer(random_sent)).shape}\")"
      ],
      "metadata": {
        "colab": {
          "base_uri": "https://localhost:8080/"
        },
        "id": "krq-t7iYeObb",
        "outputId": "5ef430b0-32dd-4b57-a13f-85ae97d57300"
      },
      "execution_count": 108,
      "outputs": [
        {
          "output_type": "stream",
          "name": "stdout",
          "text": [
            "Characterized sentance : \n",
            "o b j e c t   d e t e c t i o n   i n   t h r e e - d i m e n s i o n a l   ( 3 d )   s p a c e   a t t r a c t s   m u c h   i n t e r e s t   f r o m   a c a d e m i a   a n d   i n d u s t r y   s i n c e   i t   i s   a n   e s s e n t i a l   t a s k   i n   a i - d r i v e n   a p p l i c a t i o n s   s u c h   a s   r o b o t i c s ,   a u t o n o m o u s   d r i v i n g ,   a n d   a u g m e n t e d   r e a l i t y .   a s   t h e   b a s i c   f o r m a t   o f   3 d   d a t a ,   t h e   p o i n t   c l o u d   c a n   p r o v i d e   d e t a i l e d   g e o m e t r i c   i n f o r m a t i o n   a b o u t   t h e   o b j e c t s   i n   t h e   o r i g i n a l   3 d   s p a c e .   h o w e v e r ,   d u e   t o   3 d   d a t a ' s   s p a r s i t y   a n d   u n o r d e r e d n e s s ,   s p e c i a l l y   d e s i g n e d   n e t w o r k s   a n d   m o d u l e s   a r e   n e e d e d   t o   p r o c e s s   t h i s   t y p e   o f   d a t a .   a t t e n t i o n   m e c h a n i s m   h a s   a c h i e v e d   i m p r e s s i v e   p e r f o r m a n c e   i n   d i v e r s e   c o m p u t e r   v i s i o n   t a s k s ;   h o w e v e r ,   i t   i s   u n c l e a r   h o w   a t t e n t i o n   m o d u l e s   w o u l d   a f f e c t   t h e   p e r f o r m a n c e   o f   3 d   p o i n t   c l o u d   o b j e c t   d e t e c t i o n   a n d   w h a t   s o r t   o f   a t t e n t i o n   m o d u l e s   c o u l d   f i t   w i t h   t h e   i n h e r e n t   p r o p e r t i e s   o f   3 d   d a t a .   t h i s   w o r k   i n v e s t i g a t e s   t h e   r o l e   o f   t h e   a t t e n t i o n   m e c h a n i s m   i n   3 d   p o i n t   c l o u d   o b j e c t   d e t e c t i o n   a n d   p r o v i d e s   i n s i g h t s   i n t o   t h e   p o t e n t i a l   o f   d i f f e r e n t   a t t e n t i o n   m o d u l e s .   t o   a c h i e v e   t h a t ,   w e   c o m p r e h e n s i v e l y   i n v e s t i g a t e   c l a s s i c a l   2 d   a t t e n t i o n s ,   n o v e l   3 d   a t t e n t i o n s ,   i n c l u d i n g   t h e   l a t e s t   p o i n t   c l o u d   t r a n s f o r m e r s   o n   s u n   r g b - d   a n d   s c a n n e t v 2   d a t a s e t s .   b a s e d   o n   t h e   d e t a i l e d   e x p e r i m e n t s   a n d   a n a l y s i s ,   w e   c o n c l u d e   t h e   e f f e c t s   o f   d i f f e r e n t   a t t e n t i o n   m o d u l e s .   t h i s   p a p e r   i s   e x p e c t e d   t o   s e r v e   a s   a   r e f e r e n c e   s o u r c e   f o r   b e n e f i t i n g   a t t e n t i o n - e m b e d d e d   3 d   p o i n t   c l o u d   o b j e c t   d e t e c t i o n .   t h e   c o d e   a n d   t r a i n e d   m o d e l s   a r e   a v a i l a b l e   a t :   h t t p s : / / g i t h u b . c o m / s h i q i u 0 4 1 9 / a t t e n t i o n s _ i n _ 3 d _ d e t e c t i o n .\n",
            "\n",
            "Len of sentance:1236\n",
            "\n",
            "Embedded sentance : \n",
            "[ 7 20 32 ...  0  0  0]\n",
            "\n",
            "len of embedded sentance(Preset): 1745\n",
            "\n",
            "embedded char sentance:\n",
            "[[-0.03619152 -0.01472422  0.04613364 ...  0.02518263  0.03897199\n",
            "   0.04555685]\n",
            " [-0.03810722  0.03126666  0.04821849 ...  0.04784939  0.03328855\n",
            "  -0.04583216]\n",
            " [-0.0216838   0.01239211  0.04444445 ...  0.00055227  0.00911675\n",
            "   0.03981083]\n",
            " ...\n",
            " [-0.01959272 -0.02991639 -0.0365423  ...  0.00417225 -0.00949279\n",
            "   0.04615624]\n",
            " [-0.01959272 -0.02991639 -0.0365423  ...  0.00417225 -0.00949279\n",
            "   0.04615624]\n",
            " [-0.01959272 -0.02991639 -0.0365423  ...  0.00417225 -0.00949279\n",
            "   0.04615624]]\n",
            "\n",
            "shape of embedded char sentance:(1745, 25)\n"
          ]
        }
      ]
    },
    {
      "cell_type": "markdown",
      "source": [
        "## Build a Conv1D Model to fit on character embeddings"
      ],
      "metadata": {
        "id": "Cgt9V4NJeZ7A"
      }
    },
    {
      "cell_type": "code",
      "source": [
        "inputs = layers.Input(shape = (1,), dtype = 'string')\n",
        "\n",
        "char_vectors = char_vectorizer(inputs)\n",
        "char_embeddings = char_embed(char_vectors)\n",
        "\n",
        "x = layers.Conv1D(128, kernel_size = 5, padding = 'same', activation = 'relu')(char_embeddings)\n",
        "x = layers.GlobalMaxPooling1D()(x)\n",
        "outputs = layers.Dense(151, activation = 'sigmoid')(x)\n",
        "model_3 = tf.keras.Model(inputs,\n",
        "                         outputs,\n",
        "                         name = 'model_3_conv1d_char_embeddings')\n",
        "\n",
        "# compile the model\n",
        "model_3.compile(loss = 'binary_crossentropy',\n",
        "                optimizer = tf.keras.optimizers.Adam(),\n",
        "                metrics= ['accuracy'])\n",
        "\n",
        "\n"
      ],
      "metadata": {
        "id": "xUrk5wcYekpb"
      },
      "execution_count": 109,
      "outputs": []
    },
    {
      "cell_type": "code",
      "source": [
        "model_3.summary()"
      ],
      "metadata": {
        "colab": {
          "base_uri": "https://localhost:8080/"
        },
        "id": "V_4NSGmNeuYr",
        "outputId": "2cd6dc72-753c-4a9c-c142-3342d5f7fb17"
      },
      "execution_count": 110,
      "outputs": [
        {
          "output_type": "stream",
          "name": "stdout",
          "text": [
            "Model: \"model_3_conv1d_char_embeddings\"\n",
            "_________________________________________________________________\n",
            " Layer (type)                Output Shape              Param #   \n",
            "=================================================================\n",
            " input_3 (InputLayer)        [(None, 1)]               0         \n",
            "                                                                 \n",
            " char_vectorizer (TextVector  (None, 1745)             0         \n",
            " ization)                                                        \n",
            "                                                                 \n",
            " char_embed (Embedding)      (None, 1745, 25)          1750      \n",
            "                                                                 \n",
            " conv1d_1 (Conv1D)           (None, 1745, 128)         16128     \n",
            "                                                                 \n",
            " global_max_pooling1d_1 (Glo  (None, 128)              0         \n",
            " balMaxPooling1D)                                                \n",
            "                                                                 \n",
            " dense_3 (Dense)             (None, 151)               19479     \n",
            "                                                                 \n",
            "=================================================================\n",
            "Total params: 37,357\n",
            "Trainable params: 37,357\n",
            "Non-trainable params: 0\n",
            "_________________________________________________________________\n"
          ]
        }
      ]
    },
    {
      "cell_type": "code",
      "source": [
        "type(train_chars)"
      ],
      "metadata": {
        "colab": {
          "base_uri": "https://localhost:8080/"
        },
        "id": "MMtJJFCefVUq",
        "outputId": "b9381c7b-393f-4429-b62e-3de6089eb8b6"
      },
      "execution_count": 111,
      "outputs": [
        {
          "output_type": "execute_result",
          "data": {
            "text/plain": [
              "list"
            ]
          },
          "metadata": {},
          "execution_count": 111
        }
      ]
    },
    {
      "cell_type": "code",
      "source": [
        "def make_dataset(dataframe, char_list,is_train=True):\n",
        "  labels = tf.ragged.constant(dataframe['terms'].values)\n",
        "  label_binarized = lookup(labels).numpy()\n",
        "  dataset = tf.data.Dataset.from_tensor_slices(\n",
        "      (char_list, label_binarized)\n",
        "  )\n",
        "  dataset = dataset.shuffle(batch_size * 10) if is_train else dataset\n",
        "  return dataset.batch(32).prefetch(tf.data.AUTOTUNE)"
      ],
      "metadata": {
        "id": "1V2AkD1NfEUN"
      },
      "execution_count": 112,
      "outputs": []
    },
    {
      "cell_type": "code",
      "source": [
        "train_char_dataset = make_dataset(train_data, train_chars, is_train = True)\n",
        "val_char_dataset = make_dataset(val_data, val_chars, is_train = False)\n",
        "test_char_dataset = make_dataset(test_data, test_chars, is_train = False)"
      ],
      "metadata": {
        "id": "RB6kbY1Rew2M"
      },
      "execution_count": 113,
      "outputs": []
    },
    {
      "cell_type": "code",
      "source": [
        "train_char_dataset"
      ],
      "metadata": {
        "colab": {
          "base_uri": "https://localhost:8080/"
        },
        "id": "F7wREF0bgE0I",
        "outputId": "9523c347-20db-4d75-bd29-052548f50b57"
      },
      "execution_count": 114,
      "outputs": [
        {
          "output_type": "execute_result",
          "data": {
            "text/plain": [
              "<_PrefetchDataset element_spec=(TensorSpec(shape=(None,), dtype=tf.string, name=None), TensorSpec(shape=(None, 151), dtype=tf.float32, name=None))>"
            ]
          },
          "metadata": {},
          "execution_count": 114
        }
      ]
    },
    {
      "cell_type": "code",
      "source": [
        "model_3_history = model_3.fit(train_char_dataset,\n",
        "                              steps_per_epoch = int(0.1 * len(train_char_dataset)),\n",
        "                              epochs = 10,\n",
        "                              validation_data = val_char_dataset,\n",
        "                              validation_steps = int(0.1*len(val_char_dataset)))"
      ],
      "metadata": {
        "colab": {
          "base_uri": "https://localhost:8080/"
        },
        "id": "zlC5RkBmgGro",
        "outputId": "5b701d9e-f7cc-40a3-e4a4-be26ecef2ec0"
      },
      "execution_count": 115,
      "outputs": [
        {
          "output_type": "stream",
          "name": "stdout",
          "text": [
            "Epoch 1/10\n",
            "91/91 [==============================] - 6s 52ms/step - loss: 0.2413 - accuracy: 0.4952 - val_loss: 0.0281 - val_accuracy: 0.5966\n",
            "Epoch 2/10\n",
            "91/91 [==============================] - 1s 13ms/step - loss: 0.0287 - accuracy: 0.5604 - val_loss: 0.0267 - val_accuracy: 0.5966\n",
            "Epoch 3/10\n",
            "91/91 [==============================] - 1s 15ms/step - loss: 0.0284 - accuracy: 0.5728 - val_loss: 0.0263 - val_accuracy: 0.6818\n",
            "Epoch 4/10\n",
            "91/91 [==============================] - 1s 14ms/step - loss: 0.0274 - accuracy: 0.6288 - val_loss: 0.0263 - val_accuracy: 0.5710\n",
            "Epoch 5/10\n",
            "91/91 [==============================] - 1s 12ms/step - loss: 0.0277 - accuracy: 0.6666 - val_loss: 0.0257 - val_accuracy: 0.6619\n",
            "Epoch 6/10\n",
            "91/91 [==============================] - 1s 12ms/step - loss: 0.0274 - accuracy: 0.7304 - val_loss: 0.0256 - val_accuracy: 0.7670\n",
            "Epoch 7/10\n",
            "91/91 [==============================] - 1s 12ms/step - loss: 0.0264 - accuracy: 0.7754 - val_loss: 0.0249 - val_accuracy: 0.7841\n",
            "Epoch 8/10\n",
            "91/91 [==============================] - 1s 12ms/step - loss: 0.0263 - accuracy: 0.7758 - val_loss: 0.0246 - val_accuracy: 0.7812\n",
            "Epoch 9/10\n",
            "91/91 [==============================] - 1s 14ms/step - loss: 0.0270 - accuracy: 0.7562 - val_loss: 0.0243 - val_accuracy: 0.7727\n",
            "Epoch 10/10\n",
            "91/91 [==============================] - 2s 21ms/step - loss: 0.0252 - accuracy: 0.7720 - val_loss: 0.0236 - val_accuracy: 0.7812\n"
          ]
        }
      ]
    },
    {
      "cell_type": "code",
      "source": [
        "plot_loss_curves(model_3_history)"
      ],
      "metadata": {
        "colab": {
          "base_uri": "https://localhost:8080/",
          "height": 410
        },
        "id": "9CTUTPD6gPIw",
        "outputId": "4a7b0853-fe62-4a63-f584-219e33e4bbb0"
      },
      "execution_count": 116,
      "outputs": [
        {
          "output_type": "display_data",
          "data": {
            "text/plain": [
              "<Figure size 800x400 with 2 Axes>"
            ],
            "image/png": "[encoded data removed]"
          },
          "metadata": {}
        }
      ]
    },
    {
      "cell_type": "code",
      "source": [
        "model_3.evaluate(test_char_dataset)"
      ],
      "metadata": {
        "colab": {
          "base_uri": "https://localhost:8080/"
        },
        "id": "39cgjHM5gYje",
        "outputId": "d5b7df94-da42-4835-addc-1ad6d83515a4"
      },
      "execution_count": 117,
      "outputs": [
        {
          "output_type": "stream",
          "name": "stdout",
          "text": [
            "115/115 [==============================] - 1s 9ms/step - loss: 0.0255 - accuracy: 0.7824\n"
          ]
        },
        {
          "output_type": "execute_result",
          "data": {
            "text/plain": [
              "[0.025506187230348587, 0.7823834419250488]"
            ]
          },
          "metadata": {},
          "execution_count": 117
        }
      ]
    },
    {
      "cell_type": "markdown",
      "source": [
        "# Model4: Combining pretrained token + character embeddings"
      ],
      "metadata": {
        "id": "vOdBk9pogfa6"
      }
    },
    {
      "cell_type": "markdown",
      "source": [
        "##Setup token inputs/model"
      ],
      "metadata": {
        "id": "KCbqUBZyCg_6"
      }
    },
    {
      "cell_type": "code",
      "source": [
        "token_inputs = layers.Input(shape = [], dtype = tf.string, name = 'token_input')\n",
        "token_embeddings = tf_hub_embedding_layer(token_inputs)\n",
        "token_output = layers.Dense(128, activation = 'relu')(token_embeddings)\n",
        "token_model = tf.keras.Model(token_inputs,token_output)"
      ],
      "metadata": {
        "id": "UtMqVO-Z6W_o"
      },
      "execution_count": 130,
      "outputs": []
    },
    {
      "cell_type": "markdown",
      "source": [
        "## Setup Char inputs/mmodel"
      ],
      "metadata": {
        "id": "5DsXO7l1CnZ-"
      }
    },
    {
      "cell_type": "code",
      "source": [
        "char_inputs = layers.Input(shape = (1,), dtype =tf.string, name = 'char_input')\n",
        "char_vectors = char_vectorizer(char_inputs)\n",
        "char_embeddings = char_embed(char_vectors)\n",
        "char_bi_lstm = layers.Bidirectional(layers.LSTM(24))(char_embeddings)\n",
        "char_model = tf.keras.Model(char_inputs,\n",
        "                            char_bi_lstm)\n"
      ],
      "metadata": {
        "id": "MiKEd9KpCZzU"
      },
      "execution_count": 131,
      "outputs": []
    },
    {
      "cell_type": "markdown",
      "source": [
        "###Concatenate Token and char inputs"
      ],
      "metadata": {
        "id": "NRRoUFzYCezv"
      }
    },
    {
      "cell_type": "code",
      "source": [
        "token_char_concat = layers.Concatenate(name = 'token_char_hybrid')([token_model.output,char_model.output])"
      ],
      "metadata": {
        "id": "YxzaotDsDYXi"
      },
      "execution_count": 132,
      "outputs": []
    },
    {
      "cell_type": "code",
      "source": [
        "# num_classes"
      ],
      "metadata": {
        "id": "HPXpQjh_Ijxu"
      },
      "execution_count": 133,
      "outputs": []
    },
    {
      "cell_type": "code",
      "source": [
        "combined_dropout = layers.Dropout(0.5)(token_char_concat)\n",
        "combined_dense = layers.Dense(128, activation = 'relu')(combined_dropout)\n",
        "final_dropout = layers.Dropout(0.5)(combined_dense)\n",
        "\n",
        "output_layer = layers.Dense(151, activation = 'sigmoid')(final_dropout)"
      ],
      "metadata": {
        "id": "Az39tzaoDubX"
      },
      "execution_count": 134,
      "outputs": []
    },
    {
      "cell_type": "code",
      "source": [
        "model_4 = tf.keras.Model(inputs = [token_model.input,char_model.input],\n",
        "                         outputs = output_layer,\n",
        "                         name = 'model_4_token_nd_char_emmbedding')"
      ],
      "metadata": {
        "id": "R2xTZ9URIoaQ"
      },
      "execution_count": 135,
      "outputs": []
    },
    {
      "cell_type": "code",
      "source": [
        "model_4.summary()"
      ],
      "metadata": {
        "colab": {
          "base_uri": "https://localhost:8080/"
        },
        "id": "rXNAVNoJkmux",
        "outputId": "143a0e02-3568-427e-b9b7-b9fe9afa5713"
      },
      "execution_count": 136,
      "outputs": [
        {
          "output_type": "stream",
          "name": "stdout",
          "text": [
            "Model: \"model_4_token_nd_char_emmbedding\"\n",
            "__________________________________________________________________________________________________\n",
            " Layer (type)                   Output Shape         Param #     Connected to                     \n",
            "==================================================================================================\n",
            " char_input (InputLayer)        [(None, 1)]          0           []                               \n",
            "                                                                                                  \n",
            " token_input (InputLayer)       [(None,)]            0           []                               \n",
            "                                                                                                  \n",
            " char_vectorizer (TextVectoriza  (None, 1745)        0           ['char_input[0][0]']             \n",
            " tion)                                                                                            \n",
            "                                                                                                  \n",
            " universal_sentance_encoder (Ke  (None, 512)         256797824   ['token_input[0][0]']            \n",
            " rasLayer)                                                                                        \n",
            "                                                                                                  \n",
            " char_embed (Embedding)         (None, 1745, 25)     1750        ['char_vectorizer[2][0]']        \n",
            "                                                                                                  \n",
            " dense_7 (Dense)                (None, 128)          65664       ['universal_sentance_encoder[2][0\n",
            "                                                                 ]']                              \n",
            "                                                                                                  \n",
            " bidirectional_1 (Bidirectional  (None, 48)          9600        ['char_embed[2][0]']             \n",
            " )                                                                                                \n",
            "                                                                                                  \n",
            " token_char_hybrid (Concatenate  (None, 176)         0           ['dense_7[0][0]',                \n",
            " )                                                                'bidirectional_1[0][0]']        \n",
            "                                                                                                  \n",
            " dropout_2 (Dropout)            (None, 176)          0           ['token_char_hybrid[0][0]']      \n",
            "                                                                                                  \n",
            " dense_8 (Dense)                (None, 128)          22656       ['dropout_2[0][0]']              \n",
            "                                                                                                  \n",
            " dropout_3 (Dropout)            (None, 128)          0           ['dense_8[0][0]']                \n",
            "                                                                                                  \n",
            " dense_9 (Dense)                (None, 151)          19479       ['dropout_3[0][0]']              \n",
            "                                                                                                  \n",
            "==================================================================================================\n",
            "Total params: 256,916,973\n",
            "Trainable params: 119,149\n",
            "Non-trainable params: 256,797,824\n",
            "__________________________________________________________________________________________________\n"
          ]
        }
      ]
    },
    {
      "cell_type": "code",
      "source": [
        "model_4.compile(loss = 'binary_crossentropy',\n",
        "                optimizer = tf.keras.optimizers.Adam(),\n",
        "                metrics = ['accuracy'])"
      ],
      "metadata": {
        "id": "TSCxSNvokpFc"
      },
      "execution_count": 137,
      "outputs": []
    },
    {
      "cell_type": "markdown",
      "source": [
        "## combiningg token and char data into tf.data dataset"
      ],
      "metadata": {
        "id": "cOXe-sJ6k0Tv"
      }
    },
    {
      "cell_type": "code",
      "source": [
        "def make_dataset(dataframe, char_list,is_train=True):\n",
        "  labels = tf.ragged.constant(dataframe['terms'].values)\n",
        "  label_binarized = lookup(labels).numpy()\n",
        "  dataset = tf.data.Dataset.from_tensor_slices(\n",
        "      (char_list, label_binarized)\n",
        "  )\n",
        "  dataset = dataset.shuffle(batch_size * 10) if is_train else dataset\n",
        "  return dataset.batch(32).prefetch(tf.data.AUTOTUNE)"
      ],
      "metadata": {
        "id": "kktV1UTFl2BQ"
      },
      "execution_count": 138,
      "outputs": []
    },
    {
      "cell_type": "code",
      "source": [
        "def make_dataset(dataframe, char_list,is_train=True):\n",
        "  labels = tf.ragged.constant(dataframe['terms'].values)\n",
        "  label_binarized = lookup(labels).numpy()\n",
        "\n",
        "\n",
        "  char_token_data = tf.data.Dataset.from_tensor_slices((dataframe['cleaned_summary'].tolist(),char_list))\n",
        "  char_token_labels = tf.data.Dataset.from_tensor_slices(label_binarized)\n",
        "\n",
        "  dataset = tf.data.Dataset.zip(\n",
        "      ( char_token_data, char_token_labels)\n",
        "  )\n",
        "  dataset = dataset.shuffle(batch_size * 10) if is_train else dataset\n",
        "  return dataset.batch(32).prefetch(tf.data.AUTOTUNE)"
      ],
      "metadata": {
        "id": "bXFmERhHk8kO"
      },
      "execution_count": 139,
      "outputs": []
    },
    {
      "cell_type": "code",
      "source": [
        "train_char_token_dataset = make_dataset(train_data, train_chars, is_train= True)\n",
        "val_char_token_dataset = make_dataset(val_data, val_chars, is_train= False)\n",
        "test_char_token_dataset = make_dataset(test_data, test_chars, is_train= False)"
      ],
      "metadata": {
        "id": "j63km1JQmeIE"
      },
      "execution_count": 140,
      "outputs": []
    },
    {
      "cell_type": "code",
      "source": [
        "train_char_token_dataset"
      ],
      "metadata": {
        "colab": {
          "base_uri": "https://localhost:8080/"
        },
        "id": "KIeER9Gqm2j5",
        "outputId": "f9dd1e2c-4b3d-48e3-cc7e-73a57821a20f"
      },
      "execution_count": 141,
      "outputs": [
        {
          "output_type": "execute_result",
          "data": {
            "text/plain": [
              "<_PrefetchDataset element_spec=((TensorSpec(shape=(None,), dtype=tf.string, name=None), TensorSpec(shape=(None,), dtype=tf.string, name=None)), TensorSpec(shape=(None, 151), dtype=tf.float32, name=None))>"
            ]
          },
          "metadata": {},
          "execution_count": 141
        }
      ]
    },
    {
      "cell_type": "code",
      "source": [
        "# fit a model\n",
        "model_4_history = model_4.fit(train_char_token_dataset,\n",
        "                              steps_per_epoch = int(0.1*len(train_char_token_dataset)),\n",
        "                              epochs = 10,\n",
        "                              validation_data = val_char_token_dataset,\n",
        "                              validation_steps = int(0.1* len(val_char_token_dataset)))"
      ],
      "metadata": {
        "colab": {
          "base_uri": "https://localhost:8080/"
        },
        "id": "nKKCtVnbm72F",
        "outputId": "d18f0dd9-64ab-4b09-f9eb-91b5efc5db14"
      },
      "execution_count": 142,
      "outputs": [
        {
          "output_type": "stream",
          "name": "stdout",
          "text": [
            "Epoch 1/10\n",
            "91/91 [==============================] - 27s 176ms/step - loss: 0.1798 - accuracy: 0.3647 - val_loss: 0.0271 - val_accuracy: 0.6335\n",
            "Epoch 2/10\n",
            "91/91 [==============================] - 11s 116ms/step - loss: 0.0332 - accuracy: 0.5086 - val_loss: 0.0247 - val_accuracy: 0.8608\n",
            "Epoch 3/10\n",
            "91/91 [==============================] - 10s 115ms/step - loss: 0.0286 - accuracy: 0.6823 - val_loss: 0.0217 - val_accuracy: 0.8693\n",
            "Epoch 4/10\n",
            "91/91 [==============================] - 11s 118ms/step - loss: 0.0261 - accuracy: 0.7819 - val_loss: 0.0205 - val_accuracy: 0.8722\n",
            "Epoch 5/10\n",
            "91/91 [==============================] - 11s 117ms/step - loss: 0.0250 - accuracy: 0.8259 - val_loss: 0.0200 - val_accuracy: 0.8835\n",
            "Epoch 6/10\n",
            "91/91 [==============================] - 11s 119ms/step - loss: 0.0246 - accuracy: 0.8280 - val_loss: 0.0199 - val_accuracy: 0.8949\n",
            "Epoch 7/10\n",
            "91/91 [==============================] - 10s 108ms/step - loss: 0.0238 - accuracy: 0.8427 - val_loss: 0.0194 - val_accuracy: 0.9034\n",
            "Epoch 8/10\n",
            "91/91 [==============================] - 11s 121ms/step - loss: 0.0230 - accuracy: 0.8633 - val_loss: 0.0191 - val_accuracy: 0.8977\n",
            "Epoch 9/10\n",
            "91/91 [==============================] - 11s 119ms/step - loss: 0.0241 - accuracy: 0.8523 - val_loss: 0.0192 - val_accuracy: 0.8977\n",
            "Epoch 10/10\n",
            "91/91 [==============================] - 11s 117ms/step - loss: 0.0227 - accuracy: 0.8640 - val_loss: 0.0191 - val_accuracy: 0.9034\n"
          ]
        }
      ]
    },
    {
      "cell_type": "code",
      "source": [
        "plot_loss_curves(model_4_history)"
      ],
      "metadata": {
        "colab": {
          "base_uri": "https://localhost:8080/",
          "height": 410
        },
        "id": "xrtAD4f_oIxO",
        "outputId": "76cb8c4b-fbea-4925-ca50-1046cdb47de4"
      },
      "execution_count": 143,
      "outputs": [
        {
          "output_type": "display_data",
          "data": {
            "text/plain": [
              "<Figure size 800x400 with 2 Axes>"
            ],
            "image/png": "[encoded data removed]"
          },
          "metadata": {}
        }
      ]
    },
    {
      "cell_type": "code",
      "source": [
        "model_4.evaluate(test_char_token_dataset)"
      ],
      "metadata": {
        "colab": {
          "base_uri": "https://localhost:8080/"
        },
        "id": "CEDkBEV3nW8g",
        "outputId": "2d591350-8389-42ba-8891-d16b8cae22d1"
      },
      "execution_count": 148,
      "outputs": [
        {
          "output_type": "stream",
          "name": "stdout",
          "text": [
            "115/115 [==============================] - 10s 86ms/step - loss: 0.0210 - accuracy: 0.8696\n"
          ]
        },
        {
          "output_type": "execute_result",
          "data": {
            "text/plain": [
              "[0.021038470789790154, 0.8696482181549072]"
            ]
          },
          "metadata": {},
          "execution_count": 148
        }
      ]
    },
    {
      "cell_type": "markdown",
      "source": [
        "## compare accuracy and loss of every model"
      ],
      "metadata": {
        "id": "MzQWoWmSoont"
      }
    },
    {
      "cell_type": "code",
      "source": [
        "model_1_Conv1D = model_1.evaluate(test_dataset)\n",
        "model_2_Tf_hub = model_2.evaluate(test_dataset)\n",
        "model_3_char_embed = model_3.evaluate(test_char_dataset)\n",
        "model_4_hybrid = model_4.evaluate(test_char_token_dataset)"
      ],
      "metadata": {
        "colab": {
          "base_uri": "https://localhost:8080/"
        },
        "id": "-Cyjh6hxpF4o",
        "outputId": "93d88c1c-d4a9-44da-c5c0-2dbdd778bbed"
      },
      "execution_count": 150,
      "outputs": [
        {
          "output_type": "stream",
          "name": "stdout",
          "text": [
            "115/115 [==============================] - 1s 9ms/step - loss: 0.0213 - accuracy: 0.8956\n",
            "115/115 [==============================] - 4s 35ms/step - loss: 0.0214 - accuracy: 0.8596\n",
            "115/115 [==============================] - 1s 8ms/step - loss: 0.0255 - accuracy: 0.7769\n",
            "115/115 [==============================] - 6s 55ms/step - loss: 0.0210 - accuracy: 0.8696\n"
          ]
        }
      ]
    },
    {
      "cell_type": "code",
      "source": [
        "data = {'loss': [model_1_Conv1D[0],model_2_Tf_hub[0],model_3_char_embed[0],model_4_hybrid[0],],\n",
        "        'accuracy': [model_1_Conv1D[1],model_2_Tf_hub[1],model_3_char_embed[1],model_4_hybrid[1],]}\n",
        "\n",
        "\n",
        "compare_df = pd.DataFrame(data, index=['model_1_Conv1D',\n",
        "                               'Model_2_Tf_hub',\n",
        "                               'Model_3_char_embedd',\n",
        "                               'Model_4_hybrid'])\n",
        "\n",
        "\n",
        "compare_df"
      ],
      "metadata": {
        "colab": {
          "base_uri": "https://localhost:8080/",
          "height": 175
        },
        "id": "OZCoMD8rph18",
        "outputId": "c0cda258-f949-47d4-a60c-8e128d06dc89"
      },
      "execution_count": 151,
      "outputs": [
        {
          "output_type": "execute_result",
          "data": {
            "text/plain": [
              "                         loss  accuracy\n",
              "model_1_Conv1D       0.021266  0.895555\n",
              "Model_2_Tf_hub       0.021435  0.859558\n",
              "Model_3_char_embedd  0.025533  0.776929\n",
              "Model_4_hybrid       0.021038  0.869648"
            ],
            "text/html": [
              "\n",
              "\n",
              "  <div id=\"df-abfd854b-8215-4a87-ae3f-fcc13c296a54\">\n",
              "    <div class=\"colab-df-container\">\n",
              "      <div>\n",
              "<style scoped>\n",
              "    .dataframe tbody tr th:only-of-type {\n",
              "        vertical-align: middle;\n",
              "    }\n",
              "\n",
              "    .dataframe tbody tr th {\n",
              "        vertical-align: top;\n",
              "    }\n",
              "\n",
              "    .dataframe thead th {\n",
              "        text-align: right;\n",
              "    }\n",
              "</style>\n",
              "<table border=\"1\" class=\"dataframe\">\n",
              "  <thead>\n",
              "    <tr style=\"text-align: right;\">\n",
              "      <th></th>\n",
              "      <th>loss</th>\n",
              "      <th>accuracy</th>\n",
              "    </tr>\n",
              "  </thead>\n",
              "  <tbody>\n",
              "    <tr>\n",
              "      <th>model_1_Conv1D</th>\n",
              "      <td>0.021266</td>\n",
              "      <td>0.895555</td>\n",
              "    </tr>\n",
              "    <tr>\n",
              "      <th>Model_2_Tf_hub</th>\n",
              "      <td>0.021435</td>\n",
              "      <td>0.859558</td>\n",
              "    </tr>\n",
              "    <tr>\n",
              "      <th>Model_3_char_embedd</th>\n",
              "      <td>0.025533</td>\n",
              "      <td>0.776929</td>\n",
              "    </tr>\n",
              "    <tr>\n",
              "      <th>Model_4_hybrid</th>\n",
              "      <td>0.021038</td>\n",
              "      <td>0.869648</td>\n",
              "    </tr>\n",
              "  </tbody>\n",
              "</table>\n",
              "</div>\n",
              "      <button class=\"colab-df-convert\" onclick=\"convertToInteractive('df-abfd854b-8215-4a87-ae3f-fcc13c296a54')\"\n",
              "              title=\"Convert this dataframe to an interactive table.\"\n",
              "              style=\"display:none;\">\n",
              "\n",
              "  <svg xmlns=\"http://www.w3.org/2000/svg\" height=\"24px\"viewBox=\"0 0 24 24\"\n",
              "       width=\"24px\">\n",
              "    <path d=\"M0 0h24v24H0V0z\" fill=\"none\"/>\n",
              "    <path d=\"M18.56 5.44l.94 2.06.94-2.06 2.06-.94-2.06-.94-.94-2.06-.94 2.06-2.06.94zm-11 1L8.5 8.5l.94-2.06 2.06-.94-2.06-.94L8.5 2.5l-.94 2.06-2.06.94zm10 10l.94 2.06.94-2.06 2.06-.94-2.06-.94-.94-2.06-.94 2.06-2.06.94z\"/><path d=\"M17.41 7.96l-1.37-1.37c-.4-.4-.92-.59-1.43-.59-.52 0-1.04.2-1.43.59L10.3 9.45l-7.72 7.72c-.78.78-.78 2.05 0 2.83L4 21.41c.39.39.9.59 1.41.59.51 0 1.02-.2 1.41-.59l7.78-7.78 2.81-2.81c.8-.78.8-2.07 0-2.86zM5.41 20L4 18.59l7.72-7.72 1.47 1.35L5.41 20z\"/>\n",
              "  </svg>\n",
              "      </button>\n",
              "\n",
              "\n",
              "\n",
              "    <div id=\"df-e4f0a842-a2ef-4b87-8afe-bcfdec4f3520\">\n",
              "      <button class=\"colab-df-quickchart\" onclick=\"quickchart('df-e4f0a842-a2ef-4b87-8afe-bcfdec4f3520')\"\n",
              "              title=\"Suggest charts.\"\n",
              "              style=\"display:none;\">\n",
              "\n",
              "<svg xmlns=\"http://www.w3.org/2000/svg\" height=\"24px\"viewBox=\"0 0 24 24\"\n",
              "     width=\"24px\">\n",
              "    <g>\n",
              "        <path d=\"M19 3H5c-1.1 0-2 .9-2 2v14c0 1.1.9 2 2 2h14c1.1 0 2-.9 2-2V5c0-1.1-.9-2-2-2zM9 17H7v-7h2v7zm4 0h-2V7h2v10zm4 0h-2v-4h2v4z\"/>\n",
              "    </g>\n",
              "</svg>\n",
              "      </button>\n",
              "    </div>\n",
              "\n",
              "<style>\n",
              "  .colab-df-quickchart {\n",
              "    background-color: #E8F0FE;\n",
              "    border: none;\n",
              "    border-radius: 50%;\n",
              "    cursor: pointer;\n",
              "    display: none;\n",
              "    fill: #1967D2;\n",
              "    height: 32px;\n",
              "    padding: 0 0 0 0;\n",
              "    width: 32px;\n",
              "  }\n",
              "\n",
              "  .colab-df-quickchart:hover {\n",
              "    background-color: #E2EBFA;\n",
              "    box-shadow: 0px 1px 2px rgba(60, 64, 67, 0.3), 0px 1px 3px 1px rgba(60, 64, 67, 0.15);\n",
              "    fill: #174EA6;\n",
              "  }\n",
              "\n",
              "  [theme=dark] .colab-df-quickchart {\n",
              "    background-color: #3B4455;\n",
              "    fill: #D2E3FC;\n",
              "  }\n",
              "\n",
              "  [theme=dark] .colab-df-quickchart:hover {\n",
              "    background-color: #434B5C;\n",
              "    box-shadow: 0px 1px 3px 1px rgba(0, 0, 0, 0.15);\n",
              "    filter: drop-shadow(0px 1px 2px rgba(0, 0, 0, 0.3));\n",
              "    fill: #FFFFFF;\n",
              "  }\n",
              "</style>\n",
              "\n",
              "    <script>\n",
              "      async function quickchart(key) {\n",
              "        const containerElement = document.querySelector('#' + key);\n",
              "        const charts = await google.colab.kernel.invokeFunction(\n",
              "            'suggestCharts', [key], {});\n",
              "      }\n",
              "    </script>\n",
              "\n",
              "      <script>\n",
              "\n",
              "function displayQuickchartButton(domScope) {\n",
              "  let quickchartButtonEl =\n",
              "    domScope.querySelector('#df-e4f0a842-a2ef-4b87-8afe-bcfdec4f3520 button.colab-df-quickchart');\n",
              "  quickchartButtonEl.style.display =\n",
              "    google.colab.kernel.accessAllowed ? 'block' : 'none';\n",
              "}\n",
              "\n",
              "        displayQuickchartButton(document);\n",
              "      </script>\n",
              "      <style>\n",
              "    .colab-df-container {\n",
              "      display:flex;\n",
              "      flex-wrap:wrap;\n",
              "      gap: 12px;\n",
              "    }\n",
              "\n",
              "    .colab-df-convert {\n",
              "      background-color: #E8F0FE;\n",
              "      border: none;\n",
              "      border-radius: 50%;\n",
              "      cursor: pointer;\n",
              "      display: none;\n",
              "      fill: #1967D2;\n",
              "      height: 32px;\n",
              "      padding: 0 0 0 0;\n",
              "      width: 32px;\n",
              "    }\n",
              "\n",
              "    .colab-df-convert:hover {\n",
              "      background-color: #E2EBFA;\n",
              "      box-shadow: 0px 1px 2px rgba(60, 64, 67, 0.3), 0px 1px 3px 1px rgba(60, 64, 67, 0.15);\n",
              "      fill: #174EA6;\n",
              "    }\n",
              "\n",
              "    [theme=dark] .colab-df-convert {\n",
              "      background-color: #3B4455;\n",
              "      fill: #D2E3FC;\n",
              "    }\n",
              "\n",
              "    [theme=dark] .colab-df-convert:hover {\n",
              "      background-color: #434B5C;\n",
              "      box-shadow: 0px 1px 3px 1px rgba(0, 0, 0, 0.15);\n",
              "      filter: drop-shadow(0px 1px 2px rgba(0, 0, 0, 0.3));\n",
              "      fill: #FFFFFF;\n",
              "    }\n",
              "  </style>\n",
              "\n",
              "      <script>\n",
              "        const buttonEl =\n",
              "          document.querySelector('#df-abfd854b-8215-4a87-ae3f-fcc13c296a54 button.colab-df-convert');\n",
              "        buttonEl.style.display =\n",
              "          google.colab.kernel.accessAllowed ? 'block' : 'none';\n",
              "\n",
              "        async function convertToInteractive(key) {\n",
              "          const element = document.querySelector('#df-abfd854b-8215-4a87-ae3f-fcc13c296a54');\n",
              "          const dataTable =\n",
              "            await google.colab.kernel.invokeFunction('convertToInteractive',\n",
              "                                                     [key], {});\n",
              "          if (!dataTable) return;\n",
              "\n",
              "          const docLinkHtml = 'Like what you see? Visit the ' +\n",
              "            '<a target=\"_blank\" href=https://colab.research.google.com/notebooks/data_table.ipynb>data table notebook</a>'\n",
              "            + ' to learn more about interactive tables.';\n",
              "          element.innerHTML = '';\n",
              "          dataTable['output_type'] = 'display_data';\n",
              "          await google.colab.output.renderOutput(dataTable, element);\n",
              "          const docLink = document.createElement('div');\n",
              "          docLink.innerHTML = docLinkHtml;\n",
              "          element.appendChild(docLink);\n",
              "        }\n",
              "      </script>\n",
              "    </div>\n",
              "  </div>\n"
            ]
          },
          "metadata": {},
          "execution_count": 151
        }
      ]
    },
    {
      "cell_type": "code",
      "source": [],
      "metadata": {
        "id": "bsUvlumTqpcM"
      },
      "execution_count": null,
      "outputs": []
    }
  ]
}