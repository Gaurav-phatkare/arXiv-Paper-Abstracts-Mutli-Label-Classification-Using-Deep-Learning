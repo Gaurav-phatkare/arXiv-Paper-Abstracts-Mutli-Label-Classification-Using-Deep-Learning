{
  "nbformat": 4,
  "nbformat_minor": 0,
  "metadata": {
    "colab": {
      "provenance": [],
      "gpuType": "T4",
      "include_colab_link": true
    },
    "kernelspec": {
      "name": "python3",
      "display_name": "Python 3"
    },
    "language_info": {
      "name": "python"
    },
    "accelerator": "GPU"
  },
  "cells": [
    {
      "cell_type": "markdown",
      "metadata": {
        "id": "view-in-github",
        "colab_type": "text"
      },
      "source": [
        "<a href=\"https://colab.research.google.com/github/Gaurav-phatkare/arXiv-Paper-Abstracts-Mutli-Label-Classification-Using-Deep-Learning/blob/main/Multilabel_Text_Classification_of_Research_Papers_different_models.ipynb\" target=\"_parent\"><img src=\"https://colab.research.google.com/assets/colab-badge.svg\" alt=\"Open In Colab\"/></a>"
      ]
    },
    {
      "cell_type": "code",
      "execution_count": 1,
      "metadata": {
        "colab": {
          "base_uri": "https://localhost:8080/"
        },
        "id": "LZG031iCXwCX",
        "outputId": "fd6f81c2-3e90-4efc-8c5b-0d9781bc15b5"
      },
      "outputs": [
        {
          "output_type": "stream",
          "name": "stdout",
          "text": [
            "Sat Aug  5 16:03:54 2023       \n",
            "+-----------------------------------------------------------------------------+\n",
            "| NVIDIA-SMI 525.105.17   Driver Version: 525.105.17   CUDA Version: 12.0     |\n",
            "|-------------------------------+----------------------+----------------------+\n",
            "| GPU  Name        Persistence-M| Bus-Id        Disp.A | Volatile Uncorr. ECC |\n",
            "| Fan  Temp  Perf  Pwr:Usage/Cap|         Memory-Usage | GPU-Util  Compute M. |\n",
            "|                               |                      |               MIG M. |\n",
            "|===============================+======================+======================|\n",
            "|   0  Tesla T4            Off  | 00000000:00:04.0 Off |                    0 |\n",
            "| N/A   58C    P8    12W /  70W |      0MiB / 15360MiB |      0%      Default |\n",
            "|                               |                      |                  N/A |\n",
            "+-------------------------------+----------------------+----------------------+\n",
            "                                                                               \n",
            "+-----------------------------------------------------------------------------+\n",
            "| Processes:                                                                  |\n",
            "|  GPU   GI   CI        PID   Type   Process name                  GPU Memory |\n",
            "|        ID   ID                                                   Usage      |\n",
            "|=============================================================================|\n",
            "|  No running processes found                                                 |\n",
            "+-----------------------------------------------------------------------------+\n"
          ]
        }
      ],
      "source": [
        "!nvidia-smi"
      ]
    },
    {
      "cell_type": "code",
      "source": [
        "import pandas as pd\n",
        "import numpy as np\n",
        "import matplotlib.pyplot as plt\n",
        "import seaborn as sns\n",
        "import tensorflow as tf"
      ],
      "metadata": {
        "id": "c17etficYib0"
      },
      "execution_count": 2,
      "outputs": []
    },
    {
      "cell_type": "code",
      "source": [
        "!pip install kaggle"
      ],
      "metadata": {
        "colab": {
          "base_uri": "https://localhost:8080/"
        },
        "id": "G88XD7JBYojR",
        "outputId": "f19ba6a5-fc56-4779-c121-d79c1376fdbb"
      },
      "execution_count": 3,
      "outputs": [
        {
          "output_type": "stream",
          "name": "stdout",
          "text": [
            "Requirement already satisfied: kaggle in /usr/local/lib/python3.10/dist-packages (1.5.16)\n",
            "Requirement already satisfied: six>=1.10 in /usr/local/lib/python3.10/dist-packages (from kaggle) (1.16.0)\n",
            "Requirement already satisfied: certifi in /usr/local/lib/python3.10/dist-packages (from kaggle) (2023.7.22)\n",
            "Requirement already satisfied: python-dateutil in /usr/local/lib/python3.10/dist-packages (from kaggle) (2.8.2)\n",
            "Requirement already satisfied: requests in /usr/local/lib/python3.10/dist-packages (from kaggle) (2.27.1)\n",
            "Requirement already satisfied: tqdm in /usr/local/lib/python3.10/dist-packages (from kaggle) (4.65.0)\n",
            "Requirement already satisfied: python-slugify in /usr/local/lib/python3.10/dist-packages (from kaggle) (8.0.1)\n",
            "Requirement already satisfied: urllib3 in /usr/local/lib/python3.10/dist-packages (from kaggle) (1.26.16)\n",
            "Requirement already satisfied: bleach in /usr/local/lib/python3.10/dist-packages (from kaggle) (6.0.0)\n",
            "Requirement already satisfied: webencodings in /usr/local/lib/python3.10/dist-packages (from bleach->kaggle) (0.5.1)\n",
            "Requirement already satisfied: text-unidecode>=1.3 in /usr/local/lib/python3.10/dist-packages (from python-slugify->kaggle) (1.3)\n",
            "Requirement already satisfied: charset-normalizer~=2.0.0 in /usr/local/lib/python3.10/dist-packages (from requests->kaggle) (2.0.12)\n",
            "Requirement already satisfied: idna<4,>=2.5 in /usr/local/lib/python3.10/dist-packages (from requests->kaggle) (3.4)\n"
          ]
        }
      ]
    },
    {
      "cell_type": "code",
      "source": [
        "!mkdir ~/.kaggle"
      ],
      "metadata": {
        "id": "6gxIMLlO671J"
      },
      "execution_count": 4,
      "outputs": []
    },
    {
      "cell_type": "code",
      "source": [
        "!cp kaggle.json ~/.kaggle/"
      ],
      "metadata": {
        "id": "hHLR3Oc46-5s"
      },
      "execution_count": 5,
      "outputs": []
    },
    {
      "cell_type": "code",
      "source": [
        "!chmod 600 ~/.kaggle/kaggle.json"
      ],
      "metadata": {
        "id": "zRUsfqIU7AEm"
      },
      "execution_count": 6,
      "outputs": []
    },
    {
      "cell_type": "code",
      "source": [
        "!kaggle datasets download -d spsayakpaul/arxiv-paper-abstracts"
      ],
      "metadata": {
        "colab": {
          "base_uri": "https://localhost:8080/"
        },
        "id": "I7bt0OFz7Gdu",
        "outputId": "27cb0862-ba5d-4434-93c1-0e59ed974a8c"
      },
      "execution_count": 7,
      "outputs": [
        {
          "output_type": "stream",
          "name": "stdout",
          "text": [
            "Downloading arxiv-paper-abstracts.zip to /content\n",
            " 61% 27.0M/44.6M [00:00<00:00, 157MB/s] \n",
            "100% 44.6M/44.6M [00:00<00:00, 175MB/s]\n"
          ]
        }
      ]
    },
    {
      "cell_type": "code",
      "source": [
        "!unzip /content/arxiv-paper-abstracts.zip"
      ],
      "metadata": {
        "colab": {
          "base_uri": "https://localhost:8080/"
        },
        "id": "ca57RTQ87Hu1",
        "outputId": "42858d27-ea96-43a2-c308-3005c4e6ad16"
      },
      "execution_count": 8,
      "outputs": [
        {
          "output_type": "stream",
          "name": "stdout",
          "text": [
            "Archive:  /content/arxiv-paper-abstracts.zip\n",
            "  inflating: arxiv_data.csv          \n",
            "  inflating: arxiv_data_210930-054931.csv  \n"
          ]
        }
      ]
    },
    {
      "cell_type": "code",
      "source": [
        "df = pd.read_csv(\"/content/arxiv_data.csv\")"
      ],
      "metadata": {
        "id": "1G5vHOno7Jj7"
      },
      "execution_count": 9,
      "outputs": []
    },
    {
      "cell_type": "code",
      "source": [
        "df.shape"
      ],
      "metadata": {
        "colab": {
          "base_uri": "https://localhost:8080/"
        },
        "id": "SwL0gdt47LRS",
        "outputId": "ebf79cc1-921f-4bf9-dfcf-a90fa63e2586"
      },
      "execution_count": 10,
      "outputs": [
        {
          "output_type": "execute_result",
          "data": {
            "text/plain": [
              "(51774, 3)"
            ]
          },
          "metadata": {},
          "execution_count": 10
        }
      ]
    },
    {
      "cell_type": "code",
      "source": [
        "df.head()"
      ],
      "metadata": {
        "colab": {
          "base_uri": "https://localhost:8080/",
          "height": 337
        },
        "id": "IhxchxdV7Mfw",
        "outputId": "3fd405d8-414f-4a8d-b073-992914e0b2a2"
      },
      "execution_count": 11,
      "outputs": [
        {
          "output_type": "execute_result",
          "data": {
            "text/plain": [
              "                                              titles  \\\n",
              "0  Survey on Semantic Stereo Matching / Semantic ...   \n",
              "1  FUTURE-AI: Guiding Principles and Consensus Re...   \n",
              "2  Enforcing Mutual Consistency of Hard Regions f...   \n",
              "3  Parameter Decoupling Strategy for Semi-supervi...   \n",
              "4  Background-Foreground Segmentation for Interio...   \n",
              "\n",
              "                                           summaries  \\\n",
              "0  Stereo matching is one of the widely used tech...   \n",
              "1  The recent advancements in artificial intellig...   \n",
              "2  In this paper, we proposed a novel mutual cons...   \n",
              "3  Consistency training has proven to be an advan...   \n",
              "4  To ensure safety in automated driving, the cor...   \n",
              "\n",
              "                         terms  \n",
              "0           ['cs.CV', 'cs.LG']  \n",
              "1  ['cs.CV', 'cs.AI', 'cs.LG']  \n",
              "2           ['cs.CV', 'cs.AI']  \n",
              "3                    ['cs.CV']  \n",
              "4           ['cs.CV', 'cs.LG']  "
            ],
            "text/html": [
              "\n",
              "\n",
              "  <div id=\"df-101e10cd-b3d5-469b-8a4f-158c832e35e0\">\n",
              "    <div class=\"colab-df-container\">\n",
              "      <div>\n",
              "<style scoped>\n",
              "    .dataframe tbody tr th:only-of-type {\n",
              "        vertical-align: middle;\n",
              "    }\n",
              "\n",
              "    .dataframe tbody tr th {\n",
              "        vertical-align: top;\n",
              "    }\n",
              "\n",
              "    .dataframe thead th {\n",
              "        text-align: right;\n",
              "    }\n",
              "</style>\n",
              "<table border=\"1\" class=\"dataframe\">\n",
              "  <thead>\n",
              "    <tr style=\"text-align: right;\">\n",
              "      <th></th>\n",
              "      <th>titles</th>\n",
              "      <th>summaries</th>\n",
              "      <th>terms</th>\n",
              "    </tr>\n",
              "  </thead>\n",
              "  <tbody>\n",
              "    <tr>\n",
              "      <th>0</th>\n",
              "      <td>Survey on Semantic Stereo Matching / Semantic ...</td>\n",
              "      <td>Stereo matching is one of the widely used tech...</td>\n",
              "      <td>['cs.CV', 'cs.LG']</td>\n",
              "    </tr>\n",
              "    <tr>\n",
              "      <th>1</th>\n",
              "      <td>FUTURE-AI: Guiding Principles and Consensus Re...</td>\n",
              "      <td>The recent advancements in artificial intellig...</td>\n",
              "      <td>['cs.CV', 'cs.AI', 'cs.LG']</td>\n",
              "    </tr>\n",
              "    <tr>\n",
              "      <th>2</th>\n",
              "      <td>Enforcing Mutual Consistency of Hard Regions f...</td>\n",
              "      <td>In this paper, we proposed a novel mutual cons...</td>\n",
              "      <td>['cs.CV', 'cs.AI']</td>\n",
              "    </tr>\n",
              "    <tr>\n",
              "      <th>3</th>\n",
              "      <td>Parameter Decoupling Strategy for Semi-supervi...</td>\n",
              "      <td>Consistency training has proven to be an advan...</td>\n",
              "      <td>['cs.CV']</td>\n",
              "    </tr>\n",
              "    <tr>\n",
              "      <th>4</th>\n",
              "      <td>Background-Foreground Segmentation for Interio...</td>\n",
              "      <td>To ensure safety in automated driving, the cor...</td>\n",
              "      <td>['cs.CV', 'cs.LG']</td>\n",
              "    </tr>\n",
              "  </tbody>\n",
              "</table>\n",
              "</div>\n",
              "      <button class=\"colab-df-convert\" onclick=\"convertToInteractive('df-101e10cd-b3d5-469b-8a4f-158c832e35e0')\"\n",
              "              title=\"Convert this dataframe to an interactive table.\"\n",
              "              style=\"display:none;\">\n",
              "\n",
              "  <svg xmlns=\"http://www.w3.org/2000/svg\" height=\"24px\"viewBox=\"0 0 24 24\"\n",
              "       width=\"24px\">\n",
              "    <path d=\"M0 0h24v24H0V0z\" fill=\"none\"/>\n",
              "    <path d=\"M18.56 5.44l.94 2.06.94-2.06 2.06-.94-2.06-.94-.94-2.06-.94 2.06-2.06.94zm-11 1L8.5 8.5l.94-2.06 2.06-.94-2.06-.94L8.5 2.5l-.94 2.06-2.06.94zm10 10l.94 2.06.94-2.06 2.06-.94-2.06-.94-.94-2.06-.94 2.06-2.06.94z\"/><path d=\"M17.41 7.96l-1.37-1.37c-.4-.4-.92-.59-1.43-.59-.52 0-1.04.2-1.43.59L10.3 9.45l-7.72 7.72c-.78.78-.78 2.05 0 2.83L4 21.41c.39.39.9.59 1.41.59.51 0 1.02-.2 1.41-.59l7.78-7.78 2.81-2.81c.8-.78.8-2.07 0-2.86zM5.41 20L4 18.59l7.72-7.72 1.47 1.35L5.41 20z\"/>\n",
              "  </svg>\n",
              "      </button>\n",
              "\n",
              "\n",
              "\n",
              "    <div id=\"df-aa2436cc-08af-4880-b675-2e7cc72bef38\">\n",
              "      <button class=\"colab-df-quickchart\" onclick=\"quickchart('df-aa2436cc-08af-4880-b675-2e7cc72bef38')\"\n",
              "              title=\"Suggest charts.\"\n",
              "              style=\"display:none;\">\n",
              "\n",
              "<svg xmlns=\"http://www.w3.org/2000/svg\" height=\"24px\"viewBox=\"0 0 24 24\"\n",
              "     width=\"24px\">\n",
              "    <g>\n",
              "        <path d=\"M19 3H5c-1.1 0-2 .9-2 2v14c0 1.1.9 2 2 2h14c1.1 0 2-.9 2-2V5c0-1.1-.9-2-2-2zM9 17H7v-7h2v7zm4 0h-2V7h2v10zm4 0h-2v-4h2v4z\"/>\n",
              "    </g>\n",
              "</svg>\n",
              "      </button>\n",
              "    </div>\n",
              "\n",
              "<style>\n",
              "  .colab-df-quickchart {\n",
              "    background-color: #E8F0FE;\n",
              "    border: none;\n",
              "    border-radius: 50%;\n",
              "    cursor: pointer;\n",
              "    display: none;\n",
              "    fill: #1967D2;\n",
              "    height: 32px;\n",
              "    padding: 0 0 0 0;\n",
              "    width: 32px;\n",
              "  }\n",
              "\n",
              "  .colab-df-quickchart:hover {\n",
              "    background-color: #E2EBFA;\n",
              "    box-shadow: 0px 1px 2px rgba(60, 64, 67, 0.3), 0px 1px 3px 1px rgba(60, 64, 67, 0.15);\n",
              "    fill: #174EA6;\n",
              "  }\n",
              "\n",
              "  [theme=dark] .colab-df-quickchart {\n",
              "    background-color: #3B4455;\n",
              "    fill: #D2E3FC;\n",
              "  }\n",
              "\n",
              "  [theme=dark] .colab-df-quickchart:hover {\n",
              "    background-color: #434B5C;\n",
              "    box-shadow: 0px 1px 3px 1px rgba(0, 0, 0, 0.15);\n",
              "    filter: drop-shadow(0px 1px 2px rgba(0, 0, 0, 0.3));\n",
              "    fill: #FFFFFF;\n",
              "  }\n",
              "</style>\n",
              "\n",
              "    <script>\n",
              "      async function quickchart(key) {\n",
              "        const containerElement = document.querySelector('#' + key);\n",
              "        const charts = await google.colab.kernel.invokeFunction(\n",
              "            'suggestCharts', [key], {});\n",
              "      }\n",
              "    </script>\n",
              "\n",
              "      <script>\n",
              "\n",
              "function displayQuickchartButton(domScope) {\n",
              "  let quickchartButtonEl =\n",
              "    domScope.querySelector('#df-aa2436cc-08af-4880-b675-2e7cc72bef38 button.colab-df-quickchart');\n",
              "  quickchartButtonEl.style.display =\n",
              "    google.colab.kernel.accessAllowed ? 'block' : 'none';\n",
              "}\n",
              "\n",
              "        displayQuickchartButton(document);\n",
              "      </script>\n",
              "      <style>\n",
              "    .colab-df-container {\n",
              "      display:flex;\n",
              "      flex-wrap:wrap;\n",
              "      gap: 12px;\n",
              "    }\n",
              "\n",
              "    .colab-df-convert {\n",
              "      background-color: #E8F0FE;\n",
              "      border: none;\n",
              "      border-radius: 50%;\n",
              "      cursor: pointer;\n",
              "      display: none;\n",
              "      fill: #1967D2;\n",
              "      height: 32px;\n",
              "      padding: 0 0 0 0;\n",
              "      width: 32px;\n",
              "    }\n",
              "\n",
              "    .colab-df-convert:hover {\n",
              "      background-color: #E2EBFA;\n",
              "      box-shadow: 0px 1px 2px rgba(60, 64, 67, 0.3), 0px 1px 3px 1px rgba(60, 64, 67, 0.15);\n",
              "      fill: #174EA6;\n",
              "    }\n",
              "\n",
              "    [theme=dark] .colab-df-convert {\n",
              "      background-color: #3B4455;\n",
              "      fill: #D2E3FC;\n",
              "    }\n",
              "\n",
              "    [theme=dark] .colab-df-convert:hover {\n",
              "      background-color: #434B5C;\n",
              "      box-shadow: 0px 1px 3px 1px rgba(0, 0, 0, 0.15);\n",
              "      filter: drop-shadow(0px 1px 2px rgba(0, 0, 0, 0.3));\n",
              "      fill: #FFFFFF;\n",
              "    }\n",
              "  </style>\n",
              "\n",
              "      <script>\n",
              "        const buttonEl =\n",
              "          document.querySelector('#df-101e10cd-b3d5-469b-8a4f-158c832e35e0 button.colab-df-convert');\n",
              "        buttonEl.style.display =\n",
              "          google.colab.kernel.accessAllowed ? 'block' : 'none';\n",
              "\n",
              "        async function convertToInteractive(key) {\n",
              "          const element = document.querySelector('#df-101e10cd-b3d5-469b-8a4f-158c832e35e0');\n",
              "          const dataTable =\n",
              "            await google.colab.kernel.invokeFunction('convertToInteractive',\n",
              "                                                     [key], {});\n",
              "          if (!dataTable) return;\n",
              "\n",
              "          const docLinkHtml = 'Like what you see? Visit the ' +\n",
              "            '<a target=\"_blank\" href=https://colab.research.google.com/notebooks/data_table.ipynb>data table notebook</a>'\n",
              "            + ' to learn more about interactive tables.';\n",
              "          element.innerHTML = '';\n",
              "          dataTable['output_type'] = 'display_data';\n",
              "          await google.colab.output.renderOutput(dataTable, element);\n",
              "          const docLink = document.createElement('div');\n",
              "          docLink.innerHTML = docLinkHtml;\n",
              "          element.appendChild(docLink);\n",
              "        }\n",
              "      </script>\n",
              "    </div>\n",
              "  </div>\n"
            ]
          },
          "metadata": {},
          "execution_count": 11
        }
      ]
    },
    {
      "cell_type": "code",
      "source": [
        "df.iloc[4].summaries,df.iloc[4].terms"
      ],
      "metadata": {
        "colab": {
          "base_uri": "https://localhost:8080/"
        },
        "id": "4ymwaki57PHF",
        "outputId": "6bacb32d-e3fa-4d19-d37e-10a85430a021"
      },
      "execution_count": 12,
      "outputs": [
        {
          "output_type": "execute_result",
          "data": {
            "text/plain": [
              "('To ensure safety in automated driving, the correct perception of the\\nsituation inside the car is as important as its environment. Thus, seat\\noccupancy detection and classification of detected instances play an important\\nrole in interior sensing. By the knowledge of the seat occupancy status, it is\\npossible to, e.g., automate the airbag deployment control. Furthermore, the\\npresence of a driver, which is necessary for partially automated driving cars\\nat the automation levels two to four can be verified. In this work, we compare\\ndifferent statistical methods from the field of image segmentation to approach\\nthe problem of background-foreground segmentation in camera based interior\\nsensing. In the recent years, several methods based on different techniques\\nhave been developed and applied to images or videos from different\\napplications. The peculiarity of the given scenarios of interior sensing is,\\nthat the foreground instances and the background both contain static as well as\\ndynamic elements. In data considered in this work, even the camera position is\\nnot completely fixed. We review and benchmark three different methods ranging,\\ni.e., Gaussian Mixture Models (GMM), Morphological Snakes and a deep neural\\nnetwork, namely a Mask R-CNN. In particular, the limitations of the classical\\nmethods, GMM and Morphological Snakes, for interior sensing are shown.\\nFurthermore, it turns, that it is possible to overcome these limitations by\\ndeep learning, e.g.\\\\ using a Mask R-CNN. Although only a small amount of ground\\ntruth data was available for training, we enabled the Mask R-CNN to produce\\nhigh quality background-foreground masks via transfer learning. Moreover, we\\ndemonstrate that certain augmentation as well as pre- and post-processing\\nmethods further enhance the performance of the investigated methods.',\n",
              " \"['cs.CV', 'cs.LG']\")"
            ]
          },
          "metadata": {},
          "execution_count": 12
        }
      ]
    },
    {
      "cell_type": "code",
      "source": [
        "df['titles'].duplicated().sum()"
      ],
      "metadata": {
        "colab": {
          "base_uri": "https://localhost:8080/"
        },
        "id": "usvKOgBD8qdt",
        "outputId": "6184a8df-6214-48c7-d4e3-7b6fb7e3af97"
      },
      "execution_count": 13,
      "outputs": [
        {
          "output_type": "execute_result",
          "data": {
            "text/plain": [
              "12802"
            ]
          },
          "metadata": {},
          "execution_count": 13
        }
      ]
    },
    {
      "cell_type": "code",
      "source": [
        "df.drop_duplicates(inplace = True)"
      ],
      "metadata": {
        "id": "UhqhXojC88nd"
      },
      "execution_count": 14,
      "outputs": []
    },
    {
      "cell_type": "code",
      "source": [
        "df.shape"
      ],
      "metadata": {
        "colab": {
          "base_uri": "https://localhost:8080/"
        },
        "id": "pek6hNut9A85",
        "outputId": "a7277eb9-0466-4b45-edb3-97db0639e2f4"
      },
      "execution_count": 15,
      "outputs": [
        {
          "output_type": "execute_result",
          "data": {
            "text/plain": [
              "(38991, 3)"
            ]
          },
          "metadata": {},
          "execution_count": 15
        }
      ]
    },
    {
      "cell_type": "code",
      "source": [
        "import re\n",
        "def Text_cleaning(text):\n",
        "  text = re.sub(r\"\\n\" , \" \", text)\n",
        "\n",
        "  text = re.sub(r\"\\s+\" , \" \", text)\n",
        "\n",
        "  text = text.lower()\n",
        "  text = text.replace('\\n',\" \")\n",
        "\n",
        "  return text\n",
        "\n"
      ],
      "metadata": {
        "id": "_Y2dmL0l9Ccl"
      },
      "execution_count": 16,
      "outputs": []
    },
    {
      "cell_type": "code",
      "source": [
        "Text_cleaning(df.iloc[4].summaries)"
      ],
      "metadata": {
        "colab": {
          "base_uri": "https://localhost:8080/",
          "height": 258
        },
        "id": "eicvEAWQ9Dyw",
        "outputId": "677f7a6b-2026-4684-a3b3-a48beb46d17c"
      },
      "execution_count": 17,
      "outputs": [
        {
          "output_type": "execute_result",
          "data": {
            "text/plain": [
              "'to ensure safety in automated driving, the correct perception of the situation inside the car is as important as its environment. thus, seat occupancy detection and classification of detected instances play an important role in interior sensing. by the knowledge of the seat occupancy status, it is possible to, e.g., automate the airbag deployment control. furthermore, the presence of a driver, which is necessary for partially automated driving cars at the automation levels two to four can be verified. in this work, we compare different statistical methods from the field of image segmentation to approach the problem of background-foreground segmentation in camera based interior sensing. in the recent years, several methods based on different techniques have been developed and applied to images or videos from different applications. the peculiarity of the given scenarios of interior sensing is, that the foreground instances and the background both contain static as well as dynamic elements. in data considered in this work, even the camera position is not completely fixed. we review and benchmark three different methods ranging, i.e., gaussian mixture models (gmm), morphological snakes and a deep neural network, namely a mask r-cnn. in particular, the limitations of the classical methods, gmm and morphological snakes, for interior sensing are shown. furthermore, it turns, that it is possible to overcome these limitations by deep learning, e.g.\\\\ using a mask r-cnn. although only a small amount of ground truth data was available for training, we enabled the mask r-cnn to produce high quality background-foreground masks via transfer learning. moreover, we demonstrate that certain augmentation as well as pre- and post-processing methods further enhance the performance of the investigated methods.'"
            ],
            "application/vnd.google.colaboratory.intrinsic+json": {
              "type": "string"
            }
          },
          "metadata": {},
          "execution_count": 17
        }
      ]
    },
    {
      "cell_type": "code",
      "source": [
        "df['cleaned_summary'] = df['summaries'].apply(Text_cleaning)"
      ],
      "metadata": {
        "id": "auxSmlm49E5j"
      },
      "execution_count": 18,
      "outputs": []
    },
    {
      "cell_type": "code",
      "source": [
        "df.head()"
      ],
      "metadata": {
        "colab": {
          "base_uri": "https://localhost:8080/",
          "height": 424
        },
        "id": "ANoNoXvI9HhF",
        "outputId": "3eca66f8-d114-45e4-db9e-bb9e89e89012"
      },
      "execution_count": 19,
      "outputs": [
        {
          "output_type": "execute_result",
          "data": {
            "text/plain": [
              "                                              titles  \\\n",
              "0  Survey on Semantic Stereo Matching / Semantic ...   \n",
              "1  FUTURE-AI: Guiding Principles and Consensus Re...   \n",
              "2  Enforcing Mutual Consistency of Hard Regions f...   \n",
              "3  Parameter Decoupling Strategy for Semi-supervi...   \n",
              "4  Background-Foreground Segmentation for Interio...   \n",
              "\n",
              "                                           summaries  \\\n",
              "0  Stereo matching is one of the widely used tech...   \n",
              "1  The recent advancements in artificial intellig...   \n",
              "2  In this paper, we proposed a novel mutual cons...   \n",
              "3  Consistency training has proven to be an advan...   \n",
              "4  To ensure safety in automated driving, the cor...   \n",
              "\n",
              "                         terms  \\\n",
              "0           ['cs.CV', 'cs.LG']   \n",
              "1  ['cs.CV', 'cs.AI', 'cs.LG']   \n",
              "2           ['cs.CV', 'cs.AI']   \n",
              "3                    ['cs.CV']   \n",
              "4           ['cs.CV', 'cs.LG']   \n",
              "\n",
              "                                     cleaned_summary  \n",
              "0  stereo matching is one of the widely used tech...  \n",
              "1  the recent advancements in artificial intellig...  \n",
              "2  in this paper, we proposed a novel mutual cons...  \n",
              "3  consistency training has proven to be an advan...  \n",
              "4  to ensure safety in automated driving, the cor...  "
            ],
            "text/html": [
              "\n",
              "\n",
              "  <div id=\"df-b9473997-ce36-48e4-b709-fac3cbd5b270\">\n",
              "    <div class=\"colab-df-container\">\n",
              "      <div>\n",
              "<style scoped>\n",
              "    .dataframe tbody tr th:only-of-type {\n",
              "        vertical-align: middle;\n",
              "    }\n",
              "\n",
              "    .dataframe tbody tr th {\n",
              "        vertical-align: top;\n",
              "    }\n",
              "\n",
              "    .dataframe thead th {\n",
              "        text-align: right;\n",
              "    }\n",
              "</style>\n",
              "<table border=\"1\" class=\"dataframe\">\n",
              "  <thead>\n",
              "    <tr style=\"text-align: right;\">\n",
              "      <th></th>\n",
              "      <th>titles</th>\n",
              "      <th>summaries</th>\n",
              "      <th>terms</th>\n",
              "      <th>cleaned_summary</th>\n",
              "    </tr>\n",
              "  </thead>\n",
              "  <tbody>\n",
              "    <tr>\n",
              "      <th>0</th>\n",
              "      <td>Survey on Semantic Stereo Matching / Semantic ...</td>\n",
              "      <td>Stereo matching is one of the widely used tech...</td>\n",
              "      <td>['cs.CV', 'cs.LG']</td>\n",
              "      <td>stereo matching is one of the widely used tech...</td>\n",
              "    </tr>\n",
              "    <tr>\n",
              "      <th>1</th>\n",
              "      <td>FUTURE-AI: Guiding Principles and Consensus Re...</td>\n",
              "      <td>The recent advancements in artificial intellig...</td>\n",
              "      <td>['cs.CV', 'cs.AI', 'cs.LG']</td>\n",
              "      <td>the recent advancements in artificial intellig...</td>\n",
              "    </tr>\n",
              "    <tr>\n",
              "      <th>2</th>\n",
              "      <td>Enforcing Mutual Consistency of Hard Regions f...</td>\n",
              "      <td>In this paper, we proposed a novel mutual cons...</td>\n",
              "      <td>['cs.CV', 'cs.AI']</td>\n",
              "      <td>in this paper, we proposed a novel mutual cons...</td>\n",
              "    </tr>\n",
              "    <tr>\n",
              "      <th>3</th>\n",
              "      <td>Parameter Decoupling Strategy for Semi-supervi...</td>\n",
              "      <td>Consistency training has proven to be an advan...</td>\n",
              "      <td>['cs.CV']</td>\n",
              "      <td>consistency training has proven to be an advan...</td>\n",
              "    </tr>\n",
              "    <tr>\n",
              "      <th>4</th>\n",
              "      <td>Background-Foreground Segmentation for Interio...</td>\n",
              "      <td>To ensure safety in automated driving, the cor...</td>\n",
              "      <td>['cs.CV', 'cs.LG']</td>\n",
              "      <td>to ensure safety in automated driving, the cor...</td>\n",
              "    </tr>\n",
              "  </tbody>\n",
              "</table>\n",
              "</div>\n",
              "      <button class=\"colab-df-convert\" onclick=\"convertToInteractive('df-b9473997-ce36-48e4-b709-fac3cbd5b270')\"\n",
              "              title=\"Convert this dataframe to an interactive table.\"\n",
              "              style=\"display:none;\">\n",
              "\n",
              "  <svg xmlns=\"http://www.w3.org/2000/svg\" height=\"24px\"viewBox=\"0 0 24 24\"\n",
              "       width=\"24px\">\n",
              "    <path d=\"M0 0h24v24H0V0z\" fill=\"none\"/>\n",
              "    <path d=\"M18.56 5.44l.94 2.06.94-2.06 2.06-.94-2.06-.94-.94-2.06-.94 2.06-2.06.94zm-11 1L8.5 8.5l.94-2.06 2.06-.94-2.06-.94L8.5 2.5l-.94 2.06-2.06.94zm10 10l.94 2.06.94-2.06 2.06-.94-2.06-.94-.94-2.06-.94 2.06-2.06.94z\"/><path d=\"M17.41 7.96l-1.37-1.37c-.4-.4-.92-.59-1.43-.59-.52 0-1.04.2-1.43.59L10.3 9.45l-7.72 7.72c-.78.78-.78 2.05 0 2.83L4 21.41c.39.39.9.59 1.41.59.51 0 1.02-.2 1.41-.59l7.78-7.78 2.81-2.81c.8-.78.8-2.07 0-2.86zM5.41 20L4 18.59l7.72-7.72 1.47 1.35L5.41 20z\"/>\n",
              "  </svg>\n",
              "      </button>\n",
              "\n",
              "\n",
              "\n",
              "    <div id=\"df-31c72fcc-0a0d-4703-8970-59bb9477699c\">\n",
              "      <button class=\"colab-df-quickchart\" onclick=\"quickchart('df-31c72fcc-0a0d-4703-8970-59bb9477699c')\"\n",
              "              title=\"Suggest charts.\"\n",
              "              style=\"display:none;\">\n",
              "\n",
              "<svg xmlns=\"http://www.w3.org/2000/svg\" height=\"24px\"viewBox=\"0 0 24 24\"\n",
              "     width=\"24px\">\n",
              "    <g>\n",
              "        <path d=\"M19 3H5c-1.1 0-2 .9-2 2v14c0 1.1.9 2 2 2h14c1.1 0 2-.9 2-2V5c0-1.1-.9-2-2-2zM9 17H7v-7h2v7zm4 0h-2V7h2v10zm4 0h-2v-4h2v4z\"/>\n",
              "    </g>\n",
              "</svg>\n",
              "      </button>\n",
              "    </div>\n",
              "\n",
              "<style>\n",
              "  .colab-df-quickchart {\n",
              "    background-color: #E8F0FE;\n",
              "    border: none;\n",
              "    border-radius: 50%;\n",
              "    cursor: pointer;\n",
              "    display: none;\n",
              "    fill: #1967D2;\n",
              "    height: 32px;\n",
              "    padding: 0 0 0 0;\n",
              "    width: 32px;\n",
              "  }\n",
              "\n",
              "  .colab-df-quickchart:hover {\n",
              "    background-color: #E2EBFA;\n",
              "    box-shadow: 0px 1px 2px rgba(60, 64, 67, 0.3), 0px 1px 3px 1px rgba(60, 64, 67, 0.15);\n",
              "    fill: #174EA6;\n",
              "  }\n",
              "\n",
              "  [theme=dark] .colab-df-quickchart {\n",
              "    background-color: #3B4455;\n",
              "    fill: #D2E3FC;\n",
              "  }\n",
              "\n",
              "  [theme=dark] .colab-df-quickchart:hover {\n",
              "    background-color: #434B5C;\n",
              "    box-shadow: 0px 1px 3px 1px rgba(0, 0, 0, 0.15);\n",
              "    filter: drop-shadow(0px 1px 2px rgba(0, 0, 0, 0.3));\n",
              "    fill: #FFFFFF;\n",
              "  }\n",
              "</style>\n",
              "\n",
              "    <script>\n",
              "      async function quickchart(key) {\n",
              "        const containerElement = document.querySelector('#' + key);\n",
              "        const charts = await google.colab.kernel.invokeFunction(\n",
              "            'suggestCharts', [key], {});\n",
              "      }\n",
              "    </script>\n",
              "\n",
              "      <script>\n",
              "\n",
              "function displayQuickchartButton(domScope) {\n",
              "  let quickchartButtonEl =\n",
              "    domScope.querySelector('#df-31c72fcc-0a0d-4703-8970-59bb9477699c button.colab-df-quickchart');\n",
              "  quickchartButtonEl.style.display =\n",
              "    google.colab.kernel.accessAllowed ? 'block' : 'none';\n",
              "}\n",
              "\n",
              "        displayQuickchartButton(document);\n",
              "      </script>\n",
              "      <style>\n",
              "    .colab-df-container {\n",
              "      display:flex;\n",
              "      flex-wrap:wrap;\n",
              "      gap: 12px;\n",
              "    }\n",
              "\n",
              "    .colab-df-convert {\n",
              "      background-color: #E8F0FE;\n",
              "      border: none;\n",
              "      border-radius: 50%;\n",
              "      cursor: pointer;\n",
              "      display: none;\n",
              "      fill: #1967D2;\n",
              "      height: 32px;\n",
              "      padding: 0 0 0 0;\n",
              "      width: 32px;\n",
              "    }\n",
              "\n",
              "    .colab-df-convert:hover {\n",
              "      background-color: #E2EBFA;\n",
              "      box-shadow: 0px 1px 2px rgba(60, 64, 67, 0.3), 0px 1px 3px 1px rgba(60, 64, 67, 0.15);\n",
              "      fill: #174EA6;\n",
              "    }\n",
              "\n",
              "    [theme=dark] .colab-df-convert {\n",
              "      background-color: #3B4455;\n",
              "      fill: #D2E3FC;\n",
              "    }\n",
              "\n",
              "    [theme=dark] .colab-df-convert:hover {\n",
              "      background-color: #434B5C;\n",
              "      box-shadow: 0px 1px 3px 1px rgba(0, 0, 0, 0.15);\n",
              "      filter: drop-shadow(0px 1px 2px rgba(0, 0, 0, 0.3));\n",
              "      fill: #FFFFFF;\n",
              "    }\n",
              "  </style>\n",
              "\n",
              "      <script>\n",
              "        const buttonEl =\n",
              "          document.querySelector('#df-b9473997-ce36-48e4-b709-fac3cbd5b270 button.colab-df-convert');\n",
              "        buttonEl.style.display =\n",
              "          google.colab.kernel.accessAllowed ? 'block' : 'none';\n",
              "\n",
              "        async function convertToInteractive(key) {\n",
              "          const element = document.querySelector('#df-b9473997-ce36-48e4-b709-fac3cbd5b270');\n",
              "          const dataTable =\n",
              "            await google.colab.kernel.invokeFunction('convertToInteractive',\n",
              "                                                     [key], {});\n",
              "          if (!dataTable) return;\n",
              "\n",
              "          const docLinkHtml = 'Like what you see? Visit the ' +\n",
              "            '<a target=\"_blank\" href=https://colab.research.google.com/notebooks/data_table.ipynb>data table notebook</a>'\n",
              "            + ' to learn more about interactive tables.';\n",
              "          element.innerHTML = '';\n",
              "          dataTable['output_type'] = 'display_data';\n",
              "          await google.colab.output.renderOutput(dataTable, element);\n",
              "          const docLink = document.createElement('div');\n",
              "          docLink.innerHTML = docLinkHtml;\n",
              "          element.appendChild(docLink);\n",
              "        }\n",
              "      </script>\n",
              "    </div>\n",
              "  </div>\n"
            ]
          },
          "metadata": {},
          "execution_count": 19
        }
      ]
    },
    {
      "cell_type": "code",
      "source": [
        "df.info()"
      ],
      "metadata": {
        "colab": {
          "base_uri": "https://localhost:8080/"
        },
        "id": "5SBUZzHi9I7s",
        "outputId": "07e0be85-548d-42ca-89a2-226c930af480"
      },
      "execution_count": 20,
      "outputs": [
        {
          "output_type": "stream",
          "name": "stdout",
          "text": [
            "<class 'pandas.core.frame.DataFrame'>\n",
            "Int64Index: 38991 entries, 0 to 51772\n",
            "Data columns (total 4 columns):\n",
            " #   Column           Non-Null Count  Dtype \n",
            "---  ------           --------------  ----- \n",
            " 0   titles           38991 non-null  object\n",
            " 1   summaries        38991 non-null  object\n",
            " 2   terms            38991 non-null  object\n",
            " 3   cleaned_summary  38991 non-null  object\n",
            "dtypes: object(4)\n",
            "memory usage: 1.5+ MB\n"
          ]
        }
      ]
    },
    {
      "cell_type": "code",
      "source": [
        "df.terms.value_counts()"
      ],
      "metadata": {
        "colab": {
          "base_uri": "https://localhost:8080/"
        },
        "id": "riT5cJg29SCp",
        "outputId": "97ebd839-5cd1-4288-9a74-39a5d1d2638d"
      },
      "execution_count": 21,
      "outputs": [
        {
          "output_type": "execute_result",
          "data": {
            "text/plain": [
              "['cs.CV']                                          12753\n",
              "['cs.LG', 'stat.ML']                                4076\n",
              "['cs.LG']                                           2047\n",
              "['cs.CV', 'cs.LG']                                  1488\n",
              "['cs.LG', 'cs.AI']                                  1207\n",
              "                                                   ...  \n",
              "['cs.LG', 'cs.CL', 'cs.HC', 'stat.ML']                 1\n",
              "['cs.LG', 'cs.AI', 'cs.CL', 'cs.PL', 'stat.ML']        1\n",
              "['cs.LG', 'cs.CL', 'stat.ME', 'stat.ML']               1\n",
              "['cs.LG', 'cs.CL', 'cs.LO', 'stat.ML']                 1\n",
              "['stat.ML', 'cs.CV', 'cs.LG', 'q-bio.QM']              1\n",
              "Name: terms, Length: 3157, dtype: int64"
            ]
          },
          "metadata": {},
          "execution_count": 21
        }
      ]
    },
    {
      "cell_type": "code",
      "source": [
        "new_df = df.groupby('terms').filter(lambda x: len(x) > 1)"
      ],
      "metadata": {
        "id": "llrK57tI9TqU"
      },
      "execution_count": 22,
      "outputs": []
    },
    {
      "cell_type": "code",
      "source": [
        "new_df.terms.value_counts()"
      ],
      "metadata": {
        "colab": {
          "base_uri": "https://localhost:8080/"
        },
        "id": "15-JRp7S9U_D",
        "outputId": "232b94f0-7963-4a98-94b2-aabd2d3b9b64"
      },
      "execution_count": 23,
      "outputs": [
        {
          "output_type": "execute_result",
          "data": {
            "text/plain": [
              "['cs.CV']                                                         12753\n",
              "['cs.LG', 'stat.ML']                                               4076\n",
              "['cs.LG']                                                          2047\n",
              "['cs.CV', 'cs.LG']                                                 1488\n",
              "['cs.LG', 'cs.AI']                                                 1207\n",
              "                                                                  ...  \n",
              "['cs.CV', 'cs.LG', 'eess.IV', 'eess.SP', 'stat.ML']                   2\n",
              "['cs.LG', 'cs.CL', 'cs.CV', 'cs.NE', 'stat.ML']                       2\n",
              "['stat.ML', 'cs.IT', 'cs.LG', 'math.IT', 'math.ST', 'stat.TH']        2\n",
              "['cs.CV', 'cs.CL', 'cs.LG', 'eess.AS', 'eess.IV']                     2\n",
              "['cs.LG', 'G.3']                                                      2\n",
              "Name: terms, Length: 836, dtype: int64"
            ]
          },
          "metadata": {},
          "execution_count": 23
        }
      ]
    },
    {
      "cell_type": "code",
      "source": [
        "len(new_df.iloc[2].terms),new_df.iloc[2].terms"
      ],
      "metadata": {
        "colab": {
          "base_uri": "https://localhost:8080/"
        },
        "id": "MxpjZd-k9WGT",
        "outputId": "8c1613d4-431b-4990-dd33-3f2f25d93bf8"
      },
      "execution_count": 24,
      "outputs": [
        {
          "output_type": "execute_result",
          "data": {
            "text/plain": [
              "(18, \"['cs.CV', 'cs.AI']\")"
            ]
          },
          "metadata": {},
          "execution_count": 24
        }
      ]
    },
    {
      "cell_type": "code",
      "source": [
        "new_df['terms'].values[:5]"
      ],
      "metadata": {
        "colab": {
          "base_uri": "https://localhost:8080/"
        },
        "id": "Rj66a_Qg9Xhw",
        "outputId": "b2efefc7-c2d3-490e-e36f-b5f46f519c9a"
      },
      "execution_count": 25,
      "outputs": [
        {
          "output_type": "execute_result",
          "data": {
            "text/plain": [
              "array([\"['cs.CV', 'cs.LG']\", \"['cs.CV', 'cs.AI', 'cs.LG']\",\n",
              "       \"['cs.CV', 'cs.AI']\", \"['cs.CV']\", \"['cs.CV', 'cs.LG']\"],\n",
              "      dtype=object)"
            ]
          },
          "metadata": {},
          "execution_count": 25
        }
      ]
    },
    {
      "cell_type": "markdown",
      "source": [
        "## convert the string labels to lists of strings"
      ],
      "metadata": {
        "id": "vDFCaI4gH7Rg"
      }
    },
    {
      "cell_type": "code",
      "source": [
        "import ast\n",
        "new_df['terms'] = new_df['terms'].apply(lambda x: ast.literal_eval(x))"
      ],
      "metadata": {
        "id": "2dSou-XYH7JY"
      },
      "execution_count": 26,
      "outputs": []
    },
    {
      "cell_type": "code",
      "source": [
        "len(new_df.iloc[2].terms),new_df.iloc[2].terms"
      ],
      "metadata": {
        "colab": {
          "base_uri": "https://localhost:8080/"
        },
        "id": "2hIPUKoBH7Bg",
        "outputId": "0074f99f-3e90-41ee-ebad-85daae0f09ce"
      },
      "execution_count": 27,
      "outputs": [
        {
          "output_type": "execute_result",
          "data": {
            "text/plain": [
              "(2, ['cs.CV', 'cs.AI'])"
            ]
          },
          "metadata": {},
          "execution_count": 27
        }
      ]
    },
    {
      "cell_type": "code",
      "source": [
        "new_df['terms'].values[:5]"
      ],
      "metadata": {
        "colab": {
          "base_uri": "https://localhost:8080/"
        },
        "id": "-8yvN72SH65G",
        "outputId": "137b9772-70be-41f5-89eb-20599edcb121"
      },
      "execution_count": 28,
      "outputs": [
        {
          "output_type": "execute_result",
          "data": {
            "text/plain": [
              "array([list(['cs.CV', 'cs.LG']), list(['cs.CV', 'cs.AI', 'cs.LG']),\n",
              "       list(['cs.CV', 'cs.AI']), list(['cs.CV']),\n",
              "       list(['cs.CV', 'cs.LG'])], dtype=object)"
            ]
          },
          "metadata": {},
          "execution_count": 28
        }
      ]
    },
    {
      "cell_type": "markdown",
      "source": [
        "## Spliting into train test split"
      ],
      "metadata": {
        "id": "LJSGDKdNA2R7"
      }
    },
    {
      "cell_type": "code",
      "source": [
        "from sklearn.model_selection import train_test_split\n",
        "\n",
        "def split_dataset(data, train_ratio=0.8, test_ratio=0.1, val_ratio=0.1, random_seed=42):\n",
        "\n",
        "    train_data, temp_data = train_test_split(data, train_size=train_ratio, random_state=random_seed)\n",
        "    test_data, val_data = train_test_split(temp_data, train_size=test_ratio / (test_ratio + val_ratio),\n",
        "                                           random_state=random_seed)\n",
        "\n",
        "    return train_data, test_data, val_data\n",
        "\n",
        "\n",
        "train_data, test_data, val_data = split_dataset(new_df, train_ratio=0.8, test_ratio=0.1, val_ratio=0.1)\n"
      ],
      "metadata": {
        "id": "-3YvakoVCiE-"
      },
      "execution_count": 29,
      "outputs": []
    },
    {
      "cell_type": "code",
      "source": [
        "len(train_data),len(test_data),len(val_data)"
      ],
      "metadata": {
        "colab": {
          "base_uri": "https://localhost:8080/"
        },
        "id": "cOAYXmHFCkp1",
        "outputId": "64ead992-6080-4b29-c5f1-9f78f3236090"
      },
      "execution_count": 30,
      "outputs": [
        {
          "output_type": "execute_result",
          "data": {
            "text/plain": [
              "(29336, 3667, 3667)"
            ]
          },
          "metadata": {},
          "execution_count": 30
        }
      ]
    },
    {
      "cell_type": "markdown",
      "source": [
        "### Multi-label Binarization"
      ],
      "metadata": {
        "id": "JHP2VYUmCmK6"
      }
    },
    {
      "cell_type": "code",
      "source": [
        "tf.keras.layers.StringLookup(output_mode = 'multi_hot')"
      ],
      "metadata": {
        "colab": {
          "base_uri": "https://localhost:8080/"
        },
        "id": "4bc-yE8TCpDc",
        "outputId": "dac8c492-287b-47aa-f651-e49235686599"
      },
      "execution_count": 31,
      "outputs": [
        {
          "output_type": "execute_result",
          "data": {
            "text/plain": [
              "<keras.layers.preprocessing.string_lookup.StringLookup at 0x783e65d6a110>"
            ]
          },
          "metadata": {},
          "execution_count": 31
        }
      ]
    },
    {
      "cell_type": "code",
      "source": [
        "terms = tf.ragged.constant(train_data['terms'].values)\n",
        "lookup = tf.keras.layers.StringLookup(output_mode = 'multi_hot')\n",
        "lookup.adapt(terms)\n",
        "vocab = lookup.get_vocabulary()"
      ],
      "metadata": {
        "id": "LJJQTGGQHlfq"
      },
      "execution_count": 32,
      "outputs": []
    },
    {
      "cell_type": "code",
      "source": [
        "terms[:5]"
      ],
      "metadata": {
        "colab": {
          "base_uri": "https://localhost:8080/"
        },
        "id": "5GnHkfoeHpts",
        "outputId": "f623cb7b-b891-4827-fc55-c03e11c69e2a"
      },
      "execution_count": 33,
      "outputs": [
        {
          "output_type": "execute_result",
          "data": {
            "text/plain": [
              "<tf.RaggedTensor [[b'cs.CV', b'cs.LG', b'eess.IV'], [b'cs.CV', b'cs.AI', b'stat.ML'],\n",
              " [b'cs.LG'], [b'cs.CV'], [b'cs.CV', b'cs.AI']]>"
            ]
          },
          "metadata": {},
          "execution_count": 33
        }
      ]
    },
    {
      "cell_type": "code",
      "source": [
        "vocab"
      ],
      "metadata": {
        "colab": {
          "base_uri": "https://localhost:8080/"
        },
        "id": "A_E5MR2yHrN8",
        "outputId": "3c7936be-2976-470c-98ad-2e0ea3a2ddb8"
      },
      "execution_count": 34,
      "outputs": [
        {
          "output_type": "execute_result",
          "data": {
            "text/plain": [
              "['[UNK]',\n",
              " 'cs.CV',\n",
              " 'cs.LG',\n",
              " 'stat.ML',\n",
              " 'cs.AI',\n",
              " 'eess.IV',\n",
              " 'cs.RO',\n",
              " 'cs.CL',\n",
              " 'cs.NE',\n",
              " 'cs.CR',\n",
              " 'math.OC',\n",
              " 'eess.SP',\n",
              " 'cs.GR',\n",
              " 'cs.SI',\n",
              " 'cs.MM',\n",
              " 'cs.SY',\n",
              " 'cs.IR',\n",
              " 'eess.SY',\n",
              " 'cs.MA',\n",
              " 'cs.HC',\n",
              " 'cs.DC',\n",
              " 'math.IT',\n",
              " 'cs.IT',\n",
              " 'cs.CY',\n",
              " 'stat.AP',\n",
              " 'stat.TH',\n",
              " 'math.ST',\n",
              " 'stat.ME',\n",
              " 'eess.AS',\n",
              " 'cs.SD',\n",
              " 'q-bio.QM',\n",
              " 'cs.DS',\n",
              " 'q-bio.NC',\n",
              " 'cs.NI',\n",
              " 'cs.SE',\n",
              " 'I.2.6',\n",
              " 'stat.CO',\n",
              " 'cs.CG',\n",
              " 'cs.GT',\n",
              " 'math.NA',\n",
              " 'physics.chem-ph',\n",
              " 'cs.NA',\n",
              " 'cs.DB',\n",
              " 'cs.LO',\n",
              " 'cs.PL',\n",
              " '68T45',\n",
              " 'q-bio.BM',\n",
              " 'physics.comp-ph',\n",
              " 'math.PR',\n",
              " 'cs.AR',\n",
              " 'cond-mat.dis-nn',\n",
              " 'math.DS',\n",
              " 'I.2.10',\n",
              " 'cs.CE',\n",
              " 'physics.data-an',\n",
              " 'quant-ph',\n",
              " '68T05',\n",
              " 'q-fin.ST',\n",
              " 'cond-mat.stat-mech',\n",
              " 'cs.DM',\n",
              " 'physics.soc-ph',\n",
              " 'cs.CC',\n",
              " 'astro-ph.IM',\n",
              " 'I.4.6',\n",
              " 'q-bio.GN',\n",
              " 'econ.EM',\n",
              " 'physics.med-ph',\n",
              " 'cs.PF',\n",
              " 'I.4.8',\n",
              " 'q-fin.TR',\n",
              " 'physics.ao-ph',\n",
              " '68U10',\n",
              " 'math.AT',\n",
              " 'I.2',\n",
              " 'hep-ex',\n",
              " 'cs.FL',\n",
              " 'cond-mat.mtrl-sci',\n",
              " 'I.5.4',\n",
              " 'I.4',\n",
              " 'physics.optics',\n",
              " 'physics.geo-ph',\n",
              " 'math.AP',\n",
              " 'I.4; I.5',\n",
              " 'I.2.6; I.2.8',\n",
              " '68T01',\n",
              " '65D19',\n",
              " 'q-fin.CP',\n",
              " 'physics.flu-dyn',\n",
              " 'nlin.CD',\n",
              " '68T10',\n",
              " 'math.CO',\n",
              " 'cs.SC',\n",
              " 'cs.MS',\n",
              " 'I.4.9',\n",
              " 'I.2.8',\n",
              " 'I.2.6; I.5.1',\n",
              " 'I.2.0; I.2.6',\n",
              " '68U01',\n",
              " '68T30',\n",
              " '68T07',\n",
              " '68',\n",
              " 'q-fin.GN',\n",
              " 'q-fin.EC',\n",
              " 'econ.GN',\n",
              " 'cs.ET',\n",
              " 'K.3.2',\n",
              " 'I.4.5',\n",
              " 'I.2; I.5',\n",
              " 'I.2.10; I.4.8',\n",
              " 'q-fin.RM',\n",
              " 'q-bio.TO',\n",
              " 'q-bio.OT',\n",
              " 'q-bio.MN',\n",
              " 'physics.bio-ph',\n",
              " 'math.FA',\n",
              " 'cond-mat.soft',\n",
              " 'I.4.9; I.5.4',\n",
              " 'I.4.6; I.4.8',\n",
              " 'I.4.4',\n",
              " 'I.4.3',\n",
              " 'I.2; I.4; I.5',\n",
              " 'I.2; I.2.6; I.2.7',\n",
              " 'I.2.7',\n",
              " 'I.2.6; I.5.4',\n",
              " 'I.2.6; I.2.9',\n",
              " 'I.2.6; I.2.7; H.3.1; H.3.3',\n",
              " 'I.2.6; I.2.7',\n",
              " 'I.2.6, I.5.4',\n",
              " 'I.2.1; J.3',\n",
              " 'I.2.10; I.4; I.5',\n",
              " 'I.2.10; I.4.8; I.5.4',\n",
              " 'I.2.1',\n",
              " 'H.3.1; I.2.6; I.2.7',\n",
              " 'H.3.1; H.3.3; I.2.6; I.2.7',\n",
              " 'G.3',\n",
              " 'F.2.2; I.2.7',\n",
              " 'E.5; E.4; E.2; H.1.1; F.1.1; F.1.3',\n",
              " '68T99',\n",
              " '68Q32',\n",
              " '14J60 (Primary) 14F05, 14J26 (Secondary)',\n",
              " 'q-fin.PM',\n",
              " 'nlin.AO',\n",
              " 'hep-ph',\n",
              " 'I.4.0',\n",
              " 'I.2; J.2',\n",
              " 'I.2.6; I.2.10',\n",
              " 'I.2.10; I.5.1; I.4.8',\n",
              " 'I.2.10; I.2.6',\n",
              " '68Txx',\n",
              " '62H99',\n",
              " '62H30']"
            ]
          },
          "metadata": {},
          "execution_count": 34
        }
      ]
    },
    {
      "cell_type": "code",
      "source": [
        "def invert_multi_hot(encoded_labels):\n",
        "  hot_indices = np.argwhere(encoded_labels == 1.0)[:,0]\n",
        "  return np.take(vocab, hot_indices)"
      ],
      "metadata": {
        "id": "ueuK_ZWVIQZu"
      },
      "execution_count": 35,
      "outputs": []
    },
    {
      "cell_type": "code",
      "source": [
        "import numpy as np\n",
        "ind = np.argwhere([1,0,0,1,0])[:,0]\n",
        "np.take(['a','b','c','d','e'],ind)"
      ],
      "metadata": {
        "colab": {
          "base_uri": "https://localhost:8080/"
        },
        "id": "CVfH9_YBIUEu",
        "outputId": "b6d0eb90-af9c-4eee-91a5-d6f7dc278234"
      },
      "execution_count": 36,
      "outputs": [
        {
          "output_type": "execute_result",
          "data": {
            "text/plain": [
              "array(['a', 'd'], dtype='<U1')"
            ]
          },
          "metadata": {},
          "execution_count": 36
        }
      ]
    },
    {
      "cell_type": "markdown",
      "source": [
        "**Try multi hot with some sample**"
      ],
      "metadata": {
        "id": "y2fvf93nJKAq"
      }
    },
    {
      "cell_type": "code",
      "source": [
        "sample_label = train_data['terms'].iloc[0]\n",
        "sample_label"
      ],
      "metadata": {
        "colab": {
          "base_uri": "https://localhost:8080/"
        },
        "id": "HxU3WdXOJsWK",
        "outputId": "912e53a9-f8d2-4303-9ccf-6717ca7d719d"
      },
      "execution_count": 37,
      "outputs": [
        {
          "output_type": "execute_result",
          "data": {
            "text/plain": [
              "['cs.CV', 'cs.LG', 'eess.IV']"
            ]
          },
          "metadata": {},
          "execution_count": 37
        }
      ]
    },
    {
      "cell_type": "code",
      "source": [
        "label_binarized = lookup(sample_label)\n",
        "label_binarized"
      ],
      "metadata": {
        "colab": {
          "base_uri": "https://localhost:8080/"
        },
        "id": "2d3yg7f4Jtms",
        "outputId": "5363a993-05a0-4a04-9eda-43c6342db84a"
      },
      "execution_count": 38,
      "outputs": [
        {
          "output_type": "execute_result",
          "data": {
            "text/plain": [
              "<tf.Tensor: shape=(151,), dtype=float32, numpy=\n",
              "array([0., 1., 1., 0., 0., 1., 0., 0., 0., 0., 0., 0., 0., 0., 0., 0., 0.,\n",
              "       0., 0., 0., 0., 0., 0., 0., 0., 0., 0., 0., 0., 0., 0., 0., 0., 0.,\n",
              "       0., 0., 0., 0., 0., 0., 0., 0., 0., 0., 0., 0., 0., 0., 0., 0., 0.,\n",
              "       0., 0., 0., 0., 0., 0., 0., 0., 0., 0., 0., 0., 0., 0., 0., 0., 0.,\n",
              "       0., 0., 0., 0., 0., 0., 0., 0., 0., 0., 0., 0., 0., 0., 0., 0., 0.,\n",
              "       0., 0., 0., 0., 0., 0., 0., 0., 0., 0., 0., 0., 0., 0., 0., 0., 0.,\n",
              "       0., 0., 0., 0., 0., 0., 0., 0., 0., 0., 0., 0., 0., 0., 0., 0., 0.,\n",
              "       0., 0., 0., 0., 0., 0., 0., 0., 0., 0., 0., 0., 0., 0., 0., 0., 0.,\n",
              "       0., 0., 0., 0., 0., 0., 0., 0., 0., 0., 0., 0., 0., 0., 0.],\n",
              "      dtype=float32)>"
            ]
          },
          "metadata": {},
          "execution_count": 38
        }
      ]
    },
    {
      "cell_type": "markdown",
      "source": [
        "**Invert binarized labels to sample labels**"
      ],
      "metadata": {
        "id": "rjAKZV_uJwM1"
      }
    },
    {
      "cell_type": "code",
      "source": [
        "invert_multi_hot(label_binarized)"
      ],
      "metadata": {
        "colab": {
          "base_uri": "https://localhost:8080/"
        },
        "id": "32-MPBJKJzh4",
        "outputId": "56bc34b6-3443-447f-f0ff-f316bd3d1540"
      },
      "execution_count": 39,
      "outputs": [
        {
          "output_type": "execute_result",
          "data": {
            "text/plain": [
              "array(['cs.CV', 'cs.LG', 'eess.IV'], dtype='<U40')"
            ]
          },
          "metadata": {},
          "execution_count": 39
        }
      ]
    },
    {
      "cell_type": "code",
      "source": [
        "def length(x):\n",
        "  x = x.split(\" \")\n",
        "  return len(x)"
      ],
      "metadata": {
        "id": "vLZAC9e3J2hQ"
      },
      "execution_count": 40,
      "outputs": []
    },
    {
      "cell_type": "code",
      "source": [
        "train_data['cleaned_summary'].apply(length).describe()"
      ],
      "metadata": {
        "colab": {
          "base_uri": "https://localhost:8080/"
        },
        "id": "xOZfMQiqJ5an",
        "outputId": "dadc4987-5c3c-4118-f71f-2ee0452db2b1"
      },
      "execution_count": 41,
      "outputs": [
        {
          "output_type": "execute_result",
          "data": {
            "text/plain": [
              "count    29336.000000\n",
              "mean       171.597491\n",
              "std         45.364715\n",
              "min          5.000000\n",
              "25%        140.000000\n",
              "50%        169.000000\n",
              "75%        201.000000\n",
              "max        498.000000\n",
              "Name: cleaned_summary, dtype: float64"
            ]
          },
          "metadata": {},
          "execution_count": 41
        }
      ]
    },
    {
      "cell_type": "markdown",
      "source": [
        "##Preprocessing the data"
      ],
      "metadata": {
        "id": "UZKjnvlIJ6jG"
      }
    },
    {
      "cell_type": "code",
      "source": [
        "max_length = 250\n",
        "batch_size = 32\n",
        "padding_token = '<pad>'\n",
        "auto = tf.data.AUTOTUNE"
      ],
      "metadata": {
        "id": "hjulf_whJ-fx"
      },
      "execution_count": 42,
      "outputs": []
    },
    {
      "cell_type": "code",
      "source": [
        "tf.ragged.constant(train_data['terms'].values)"
      ],
      "metadata": {
        "colab": {
          "base_uri": "https://localhost:8080/"
        },
        "id": "JY3HDJfEKFRw",
        "outputId": "fce22c69-880d-48a5-9859-8e3c84bd3ade"
      },
      "execution_count": 43,
      "outputs": [
        {
          "output_type": "execute_result",
          "data": {
            "text/plain": [
              "<tf.RaggedTensor [[b'cs.CV', b'cs.LG', b'eess.IV'], [b'cs.CV', b'cs.AI', b'stat.ML'],\n",
              " [b'cs.LG'], ..., [b'cs.CV', b'cs.CL'], [b'cs.CV'], [b'cs.CV', b'cs.CL']]>"
            ]
          },
          "metadata": {},
          "execution_count": 43
        }
      ]
    },
    {
      "cell_type": "code",
      "source": [
        "lookup([b'cs.CV', b'cs.AI', b'stat.ML']).numpy()"
      ],
      "metadata": {
        "colab": {
          "base_uri": "https://localhost:8080/"
        },
        "id": "l-5HGg2lKxep",
        "outputId": "26fb3c7c-2dd4-4201-fd57-31e07303aa84"
      },
      "execution_count": 44,
      "outputs": [
        {
          "output_type": "execute_result",
          "data": {
            "text/plain": [
              "array([0., 1., 0., 1., 1., 0., 0., 0., 0., 0., 0., 0., 0., 0., 0., 0., 0.,\n",
              "       0., 0., 0., 0., 0., 0., 0., 0., 0., 0., 0., 0., 0., 0., 0., 0., 0.,\n",
              "       0., 0., 0., 0., 0., 0., 0., 0., 0., 0., 0., 0., 0., 0., 0., 0., 0.,\n",
              "       0., 0., 0., 0., 0., 0., 0., 0., 0., 0., 0., 0., 0., 0., 0., 0., 0.,\n",
              "       0., 0., 0., 0., 0., 0., 0., 0., 0., 0., 0., 0., 0., 0., 0., 0., 0.,\n",
              "       0., 0., 0., 0., 0., 0., 0., 0., 0., 0., 0., 0., 0., 0., 0., 0., 0.,\n",
              "       0., 0., 0., 0., 0., 0., 0., 0., 0., 0., 0., 0., 0., 0., 0., 0., 0.,\n",
              "       0., 0., 0., 0., 0., 0., 0., 0., 0., 0., 0., 0., 0., 0., 0., 0., 0.,\n",
              "       0., 0., 0., 0., 0., 0., 0., 0., 0., 0., 0., 0., 0., 0., 0.],\n",
              "      dtype=float32)"
            ]
          },
          "metadata": {},
          "execution_count": 44
        }
      ]
    },
    {
      "cell_type": "code",
      "source": [
        "vocabulary = set()\n",
        "train_data['cleaned_summary'].str.split().apply(vocabulary.update)\n",
        "vocabulary_size = len(vocabulary)\n",
        "print(vocabulary_size)"
      ],
      "metadata": {
        "colab": {
          "base_uri": "https://localhost:8080/"
        },
        "id": "aITFpfUgLptO",
        "outputId": "e05d7258-2149-4b3e-9b04-b4ce81b09675"
      },
      "execution_count": 45,
      "outputs": [
        {
          "output_type": "stream",
          "name": "stdout",
          "text": [
            "141608\n"
          ]
        }
      ]
    },
    {
      "cell_type": "code",
      "source": [
        "from tensorflow.keras.layers.experimental.preprocessing import TextVectorization\n",
        "\n",
        "text_vectorizer = TextVectorization(max_tokens = vocabulary_size,\n",
        "                                    output_sequence_length = max_length)"
      ],
      "metadata": {
        "id": "OoubTXgXMH2M"
      },
      "execution_count": 46,
      "outputs": []
    },
    {
      "cell_type": "code",
      "source": [
        "# train_data['cleaned_summary'].tolist()"
      ],
      "metadata": {
        "id": "9YvjGkdGMsdT"
      },
      "execution_count": 47,
      "outputs": []
    },
    {
      "cell_type": "code",
      "source": [
        "text_vectorizer.adapt(train_data['cleaned_summary'].tolist())"
      ],
      "metadata": {
        "id": "1lb510RyMhRE"
      },
      "execution_count": 48,
      "outputs": []
    },
    {
      "cell_type": "code",
      "source": [
        "import random\n",
        "\n",
        "target_sentance = random.choice(train_data['cleaned_summary'].tolist())\n",
        "print(f'text:\\n{target_sentance}')\n",
        "print(f'text_length:\\n{length(target_sentance)}')\n",
        "print(f'\\nVectorized text: {text_vectorizer([target_sentance])}')"
      ],
      "metadata": {
        "colab": {
          "base_uri": "https://localhost:8080/"
        },
        "id": "Ca0DEKzdMx8A",
        "outputId": "95583e42-f8c8-4d8b-b745-ab98bfc153f9"
      },
      "execution_count": 49,
      "outputs": [
        {
          "output_type": "stream",
          "name": "stdout",
          "text": [
            "text:\n",
            "a semi-parametric, non-linear regression model in the presence of latent variables is introduced. these latent variables can correspond to unmodeled phenomena or unmeasured agents in a complex networked system. this new formulation allows joint estimation of certain non-linearities in the system, the direct interactions between measured variables, and the effects of unmodeled elements on the observed system. the particular form of the model adopted is justified, and learning is posed as a regularized empirical risk minimization. this leads to classes of structured convex optimization problems with a \"sparse plus low-rank\" flavor. relations between the proposed model and several common model paradigms, such as those of robust principal component analysis (pca) and vector autoregression (var), are established. particularly in the var setting, the low-rank contributions can come from broad trends exhibited in the time series. details of the algorithm for learning the model are presented. experiments demonstrate the performance of the model and the estimation algorithm on simulated and real data.\n",
            "text_length:\n",
            "160\n",
            "\n",
            "Vectorized text: [[    6  6907   620   382    23     7     2  1236     3   209   575     9\n",
            "    594    53   209   575    25  2567     5 12324  3098    49 15310   309\n",
            "      7     6   206  6513   178    13    66   818   285   492   157     3\n",
            "    787  5485     7     2   178     2  1093   580    71  1933   575     4\n",
            "      2   970     3 12324  1376    11     2   625   178     2   275   494\n",
            "      3     2    23  1295     9  5888     4    15     9  4083    16     6\n",
            "   1979   456   932  1583    13   555     5   335     3   689  1469   185\n",
            "    152    14     6   305  4438  1848 16319   737    71     2    33    23\n",
            "      4   151   352    23  3277    45    16   437     3   221  2349   663\n",
            "    139  2578     4   556 12232  6191    19  1643   821     7     2  6191\n",
            "    348     2  1848  1241    25  2256    21  1686  2575  4917     7     2\n",
            "     78   184   840     3     2    81    10    15     2    23    19   784\n",
            "     74    80     2    34     3     2    23     4     2   157    81    11\n",
            "   1006     4   183    22     0     0     0     0     0     0     0     0\n",
            "      0     0     0     0     0     0     0     0     0     0     0     0\n",
            "      0     0     0     0     0     0     0     0     0     0     0     0\n",
            "      0     0     0     0     0     0     0     0     0     0     0     0\n",
            "      0     0     0     0     0     0     0     0     0     0     0     0\n",
            "      0     0     0     0     0     0     0     0     0     0     0     0\n",
            "      0     0     0     0     0     0     0     0     0     0     0     0\n",
            "      0     0     0     0     0     0     0     0     0     0]]\n"
          ]
        }
      ]
    },
    {
      "cell_type": "code",
      "source": [
        "\n",
        "# get the config of our text vectorizer\n",
        "text_vectorizer.get_config()\n"
      ],
      "metadata": {
        "colab": {
          "base_uri": "https://localhost:8080/"
        },
        "id": "NP4vBLddNDWF",
        "outputId": "bc586bb2-6fc3-469e-e2b5-09bef39b07ce"
      },
      "execution_count": 50,
      "outputs": [
        {
          "output_type": "execute_result",
          "data": {
            "text/plain": [
              "{'name': 'text_vectorization',\n",
              " 'trainable': True,\n",
              " 'dtype': 'string',\n",
              " 'batch_input_shape': (None,),\n",
              " 'max_tokens': 141608,\n",
              " 'standardize': 'lower_and_strip_punctuation',\n",
              " 'split': 'whitespace',\n",
              " 'ngrams': None,\n",
              " 'output_mode': 'int',\n",
              " 'output_sequence_length': 250,\n",
              " 'pad_to_max_tokens': False,\n",
              " 'sparse': False,\n",
              " 'ragged': False,\n",
              " 'vocabulary': None,\n",
              " 'idf_weights': None,\n",
              " 'encoding': 'utf-8',\n",
              " 'vocabulary_size': 81092}"
            ]
          },
          "metadata": {},
          "execution_count": 50
        }
      ]
    },
    {
      "cell_type": "code",
      "source": [
        "# custom text embedding\n",
        "\n",
        "text_vocab = text_vectorizer.get_vocabulary()\n",
        "print(f\"Number of words in vocabulary: {len(text_vocab)}\"),\n",
        "print(f\"Most common words in the vocabulary: {text_vocab[:5]}\")\n",
        "print(f\"Least common words in the vocabulary: {text_vocab[-5:]}\")"
      ],
      "metadata": {
        "colab": {
          "base_uri": "https://localhost:8080/"
        },
        "id": "xbULTh0rNL7M",
        "outputId": "45ece68c-8f3e-4d52-8dc2-38df7c53e122"
      },
      "execution_count": 51,
      "outputs": [
        {
          "output_type": "stream",
          "name": "stdout",
          "text": [
            "Number of words in vocabulary: 81092\n",
            "Most common words in the vocabulary: ['', '[UNK]', 'the', 'of', 'and']\n",
            "Least common words in the vocabulary: ['000168', '00013acer', '00010', '00003', '00002']\n"
          ]
        }
      ]
    },
    {
      "cell_type": "code",
      "source": [
        "import tensorflow as tf\n",
        "\n",
        "token_embed = tf.keras.layers.Embedding(input_dim = len(text_vocab),\n",
        "                                        output_dim = 256,\n",
        "                                        mask_zero = True,\n",
        "                                        name = 'token_embedding')"
      ],
      "metadata": {
        "id": "vHboNesLOL8q"
      },
      "execution_count": 52,
      "outputs": []
    },
    {
      "cell_type": "code",
      "source": [
        "print(f'Target sentance:\\n{target_sentance}\\n\\n')\n",
        "print(f'Vectorized target sentance:\\n{text_vectorizer([target_sentance])}\\n\\n')\n",
        "print(f'shape of vectorized sentance:{text_vectorizer([target_sentance]).shape}\\n\\n')\n",
        "print(f'embedded target sentance:\\n{token_embed(text_vectorizer([target_sentance]))}\\n\\n')\n",
        "print(f'shape of embedded sentance:{token_embed(text_vectorizer([target_sentance])).shape}')"
      ],
      "metadata": {
        "colab": {
          "base_uri": "https://localhost:8080/"
        },
        "id": "wBxsPxZOOe1S",
        "outputId": "34f3dbf2-8452-43b3-f5bf-647f1acde707"
      },
      "execution_count": 53,
      "outputs": [
        {
          "output_type": "stream",
          "name": "stdout",
          "text": [
            "Target sentance:\n",
            "a semi-parametric, non-linear regression model in the presence of latent variables is introduced. these latent variables can correspond to unmodeled phenomena or unmeasured agents in a complex networked system. this new formulation allows joint estimation of certain non-linearities in the system, the direct interactions between measured variables, and the effects of unmodeled elements on the observed system. the particular form of the model adopted is justified, and learning is posed as a regularized empirical risk minimization. this leads to classes of structured convex optimization problems with a \"sparse plus low-rank\" flavor. relations between the proposed model and several common model paradigms, such as those of robust principal component analysis (pca) and vector autoregression (var), are established. particularly in the var setting, the low-rank contributions can come from broad trends exhibited in the time series. details of the algorithm for learning the model are presented. experiments demonstrate the performance of the model and the estimation algorithm on simulated and real data.\n",
            "\n",
            "\n",
            "Vectorized target sentance:\n",
            "[[    6  6907   620   382    23     7     2  1236     3   209   575     9\n",
            "    594    53   209   575    25  2567     5 12324  3098    49 15310   309\n",
            "      7     6   206  6513   178    13    66   818   285   492   157     3\n",
            "    787  5485     7     2   178     2  1093   580    71  1933   575     4\n",
            "      2   970     3 12324  1376    11     2   625   178     2   275   494\n",
            "      3     2    23  1295     9  5888     4    15     9  4083    16     6\n",
            "   1979   456   932  1583    13   555     5   335     3   689  1469   185\n",
            "    152    14     6   305  4438  1848 16319   737    71     2    33    23\n",
            "      4   151   352    23  3277    45    16   437     3   221  2349   663\n",
            "    139  2578     4   556 12232  6191    19  1643   821     7     2  6191\n",
            "    348     2  1848  1241    25  2256    21  1686  2575  4917     7     2\n",
            "     78   184   840     3     2    81    10    15     2    23    19   784\n",
            "     74    80     2    34     3     2    23     4     2   157    81    11\n",
            "   1006     4   183    22     0     0     0     0     0     0     0     0\n",
            "      0     0     0     0     0     0     0     0     0     0     0     0\n",
            "      0     0     0     0     0     0     0     0     0     0     0     0\n",
            "      0     0     0     0     0     0     0     0     0     0     0     0\n",
            "      0     0     0     0     0     0     0     0     0     0     0     0\n",
            "      0     0     0     0     0     0     0     0     0     0     0     0\n",
            "      0     0     0     0     0     0     0     0     0     0     0     0\n",
            "      0     0     0     0     0     0     0     0     0     0]]\n",
            "\n",
            "\n",
            "shape of vectorized sentance:(1, 250)\n",
            "\n",
            "\n",
            "embedded target sentance:\n",
            "[[[-0.04655807 -0.03272067 -0.0442309  ... -0.0360411  -0.046545\n",
            "   -0.02084727]\n",
            "  [ 0.01350102  0.01902611 -0.01702888 ... -0.02391498  0.03011731\n",
            "   -0.00034963]\n",
            "  [-0.04289868  0.0463484  -0.03937801 ... -0.03614066 -0.01829263\n",
            "    0.03187006]\n",
            "  ...\n",
            "  [ 0.02322096  0.0067867  -0.0240456  ...  0.00462143  0.02872198\n",
            "   -0.04379735]\n",
            "  [ 0.02322096  0.0067867  -0.0240456  ...  0.00462143  0.02872198\n",
            "   -0.04379735]\n",
            "  [ 0.02322096  0.0067867  -0.0240456  ...  0.00462143  0.02872198\n",
            "   -0.04379735]]]\n",
            "\n",
            "\n",
            "shape of embedded sentance:(1, 250, 256)\n"
          ]
        }
      ]
    },
    {
      "cell_type": "code",
      "source": [
        "# def make_dataset(dataframe, is_train=True):\n",
        "#   labels = tf.ragged.constant(dataframe['terms'].values)\n",
        "#   label_binarized = lookup(labels).numpy()\n",
        "#   dataset = tf.data.Dataset.from_tensor_slices(\n",
        "#       (dataframe['cleaned_summary'].values, label_binarized)\n",
        "#   )\n",
        "#   dataset = dataset.shuffle(batch_size * 10) if is_train else dataset\n",
        "#   return dataset.batch(batch_size)"
      ],
      "metadata": {
        "id": "mx9y552VOhZ-"
      },
      "execution_count": 54,
      "outputs": []
    },
    {
      "cell_type": "code",
      "source": [
        "train_sentances = train_data['cleaned_summary'].tolist()\n",
        "val_sentances = val_data['cleaned_summary'].tolist()\n",
        "test_sentances = test_data['cleaned_summary'].tolist()"
      ],
      "metadata": {
        "id": "wH72de04O-VY"
      },
      "execution_count": 55,
      "outputs": []
    },
    {
      "cell_type": "code",
      "source": [
        "def make_dataset(dataframe, is_train=True):\n",
        "  labels = tf.ragged.constant(dataframe['terms'].values)\n",
        "  label_binarized = lookup(labels).numpy()\n",
        "  dataset = tf.data.Dataset.from_tensor_slices(\n",
        "      (dataframe['cleaned_summary'].tolist(), label_binarized)\n",
        "  )\n",
        "  dataset = dataset.shuffle(batch_size * 10) if is_train else dataset\n",
        "  return dataset.batch(32).prefetch(tf.data.AUTOTUNE)"
      ],
      "metadata": {
        "id": "0k2KR6v3PASJ"
      },
      "execution_count": 56,
      "outputs": []
    },
    {
      "cell_type": "code",
      "source": [
        "train_dataset = make_dataset(train_data, is_train= True)\n",
        "val_dataset = make_dataset(val_data, is_train= False)\n",
        "test_dataset = make_dataset(test_data, is_train= False)"
      ],
      "metadata": {
        "id": "0LeFIg81QqAv"
      },
      "execution_count": 57,
      "outputs": []
    },
    {
      "cell_type": "code",
      "source": [
        "train_dataset"
      ],
      "metadata": {
        "colab": {
          "base_uri": "https://localhost:8080/"
        },
        "id": "oY2XKLiOSV8S",
        "outputId": "895c9ba9-0e03-4f3e-a329-90b8f23f5427"
      },
      "execution_count": 58,
      "outputs": [
        {
          "output_type": "execute_result",
          "data": {
            "text/plain": [
              "<_PrefetchDataset element_spec=(TensorSpec(shape=(None,), dtype=tf.string, name=None), TensorSpec(shape=(None, 151), dtype=tf.float32, name=None))>"
            ]
          },
          "metadata": {},
          "execution_count": 58
        }
      ]
    },
    {
      "cell_type": "code",
      "source": [
        "#model 1 : Conv1D witth token embeddings\n",
        "\n",
        "import tensorflow as tf\n",
        "from tensorflow.keras import layers\n",
        "\n",
        "inputs = layers.Input(shape=(1,), dtype = tf.string)\n",
        "text_vectors = text_vectorizer(inputs)\n",
        "\n",
        "token_embeddings = token_embed(text_vectors)\n",
        "\n",
        "x = layers.Conv1D(64, kernel_size = 5, padding = 'same',activation = 'relu')(token_embeddings)\n",
        "x = layers.GlobalMaxPooling1D()(x)\n",
        "outputs = layers.Dense(151, activation = 'sigmoid')(x)\n",
        "model_1 = tf.keras.Model(inputs,outputs)\n",
        "\n",
        "model_1.compile(loss=\"binary_crossentropy\", # if your labels are integer form (not one hot) use sparse_categorical_crossentropy\n",
        "                optimizer=tf.keras.optimizers.Adam(),\n",
        "                metrics=[\"binary_accuracy\"])"
      ],
      "metadata": {
        "id": "jJ2fZvOPSYfT"
      },
      "execution_count": 59,
      "outputs": []
    },
    {
      "cell_type": "code",
      "source": [
        "model_1.summary()"
      ],
      "metadata": {
        "colab": {
          "base_uri": "https://localhost:8080/"
        },
        "id": "nvaS5KOLT0_-",
        "outputId": "238c103d-6d8f-4085-e6fe-4f9d6bb0724d"
      },
      "execution_count": 60,
      "outputs": [
        {
          "output_type": "stream",
          "name": "stdout",
          "text": [
            "Model: \"model\"\n",
            "_________________________________________________________________\n",
            " Layer (type)                Output Shape              Param #   \n",
            "=================================================================\n",
            " input_1 (InputLayer)        [(None, 1)]               0         \n",
            "                                                                 \n",
            " text_vectorization (TextVec  (None, 250)              0         \n",
            " torization)                                                     \n",
            "                                                                 \n",
            " token_embedding (Embedding)  (None, 250, 256)         20759552  \n",
            "                                                                 \n",
            " conv1d (Conv1D)             (None, 250, 64)           81984     \n",
            "                                                                 \n",
            " global_max_pooling1d (Globa  (None, 64)               0         \n",
            " lMaxPooling1D)                                                  \n",
            "                                                                 \n",
            " dense (Dense)               (None, 151)               9815      \n",
            "                                                                 \n",
            "=================================================================\n",
            "Total params: 20,851,351\n",
            "Trainable params: 20,851,351\n",
            "Non-trainable params: 0\n",
            "_________________________________________________________________\n"
          ]
        }
      ]
    },
    {
      "cell_type": "code",
      "source": [
        "# fit the model\n",
        "\n",
        "model_1_history = model_1.fit(train_dataset,\n",
        "                              steps_per_epoch = int(0.1*len(train_dataset)),\n",
        "                              epochs = 5,\n",
        "                              validation_data = val_dataset,\n",
        "                              validation_steps = int(0.1*len(val_dataset)))"
      ],
      "metadata": {
        "colab": {
          "base_uri": "https://localhost:8080/"
        },
        "id": "kGMNtlc7UQRt",
        "outputId": "d0efa19a-ba5f-44f6-da95-d30d19ffbe00"
      },
      "execution_count": 61,
      "outputs": [
        {
          "output_type": "stream",
          "name": "stdout",
          "text": [
            "Epoch 1/5\n",
            "91/91 [==============================] - 29s 207ms/step - loss: 0.2043 - binary_accuracy: 0.9557 - val_loss: 0.0279 - val_binary_accuracy: 0.9896\n",
            "Epoch 2/5\n",
            "91/91 [==============================] - 13s 147ms/step - loss: 0.0285 - binary_accuracy: 0.9891 - val_loss: 0.0268 - val_binary_accuracy: 0.9899\n",
            "Epoch 3/5\n",
            "91/91 [==============================] - 11s 127ms/step - loss: 0.0279 - binary_accuracy: 0.9893 - val_loss: 0.0257 - val_binary_accuracy: 0.9910\n",
            "Epoch 4/5\n",
            "91/91 [==============================] - 9s 102ms/step - loss: 0.0262 - binary_accuracy: 0.9913 - val_loss: 0.0223 - val_binary_accuracy: 0.9934\n",
            "Epoch 5/5\n",
            "91/91 [==============================] - 4s 48ms/step - loss: 0.0238 - binary_accuracy: 0.9928 - val_loss: 0.0210 - val_binary_accuracy: 0.9938\n"
          ]
        }
      ]
    },
    {
      "cell_type": "code",
      "source": [
        "model_1.evaluate(val_dataset)"
      ],
      "metadata": {
        "colab": {
          "base_uri": "https://localhost:8080/"
        },
        "id": "hYsNTggaUjP0",
        "outputId": "5b8ae6c7-45bb-4e52-a07a-a145aeaca5ea"
      },
      "execution_count": 62,
      "outputs": [
        {
          "output_type": "stream",
          "name": "stdout",
          "text": [
            "115/115 [==============================] - 1s 5ms/step - loss: 0.0229 - binary_accuracy: 0.9932\n"
          ]
        },
        {
          "output_type": "execute_result",
          "data": {
            "text/plain": [
              "[0.022912124171853065, 0.9931658506393433]"
            ]
          },
          "metadata": {},
          "execution_count": 62
        }
      ]
    },
    {
      "cell_type": "code",
      "source": [
        "model_1.evaluate(test_dataset)"
      ],
      "metadata": {
        "colab": {
          "base_uri": "https://localhost:8080/"
        },
        "id": "0ZLZvG7AU5BC",
        "outputId": "936bec8b-146b-4c41-f4f5-f6283d4edfe6"
      },
      "execution_count": 63,
      "outputs": [
        {
          "output_type": "stream",
          "name": "stdout",
          "text": [
            "115/115 [==============================] - 1s 5ms/step - loss: 0.0231 - binary_accuracy: 0.9929\n"
          ]
        },
        {
          "output_type": "execute_result",
          "data": {
            "text/plain": [
              "[0.023121260106563568, 0.9929313659667969]"
            ]
          },
          "metadata": {},
          "execution_count": 63
        }
      ]
    },
    {
      "cell_type": "code",
      "source": [
        "model_1_pred_probs = model_1.predict(test_dataset)\n",
        "model_1_pred_probs"
      ],
      "metadata": {
        "colab": {
          "base_uri": "https://localhost:8080/"
        },
        "id": "DtH0AA38U65Y",
        "outputId": "93f61132-eeb0-4636-cfae-d512c0f11646"
      },
      "execution_count": 64,
      "outputs": [
        {
          "output_type": "stream",
          "name": "stdout",
          "text": [
            "115/115 [==============================] - 1s 4ms/step\n"
          ]
        },
        {
          "output_type": "execute_result",
          "data": {
            "text/plain": [
              "array([[2.3348288e-04, 1.5300047e-01, 8.8243443e-01, ..., 1.3306540e-04,\n",
              "        1.5361101e-04, 1.2416544e-04],\n",
              "       [6.8642001e-04, 9.5211411e-01, 1.9600789e-01, ..., 1.1204163e-03,\n",
              "        3.5037563e-04, 2.3970172e-04],\n",
              "       [1.9567694e-04, 1.8580246e-01, 8.6793315e-01, ..., 1.3967442e-04,\n",
              "        1.0635359e-04, 1.0752475e-04],\n",
              "       ...,\n",
              "       [2.8815512e-05, 9.8013157e-01, 1.4614795e-01, ..., 1.1768757e-04,\n",
              "        4.8349470e-05, 3.7988782e-05],\n",
              "       [7.3465271e-05, 9.8873866e-01, 1.3883586e-01, ..., 1.9512414e-04,\n",
              "        5.8149024e-05, 3.5653869e-05],\n",
              "       [1.8943110e-04, 2.1103632e-01, 8.3275074e-01, ..., 2.2949005e-04,\n",
              "        1.8184482e-04, 1.9700613e-04]], dtype=float32)"
            ]
          },
          "metadata": {},
          "execution_count": 64
        }
      ]
    },
    {
      "cell_type": "code",
      "source": [
        "model_1_pred_probs.shape"
      ],
      "metadata": {
        "colab": {
          "base_uri": "https://localhost:8080/"
        },
        "id": "9WdWT8DYVI9V",
        "outputId": "7acfd12b-a80e-493c-9302-7fed20a79717"
      },
      "execution_count": 65,
      "outputs": [
        {
          "output_type": "execute_result",
          "data": {
            "text/plain": [
              "(3667, 151)"
            ]
          },
          "metadata": {},
          "execution_count": 65
        }
      ]
    },
    {
      "cell_type": "code",
      "source": [
        "test_dataset"
      ],
      "metadata": {
        "colab": {
          "base_uri": "https://localhost:8080/"
        },
        "id": "UOdDU-l1VM2E",
        "outputId": "23a4b451-cc14-453e-da85-a0aad5c918a6"
      },
      "execution_count": 66,
      "outputs": [
        {
          "output_type": "execute_result",
          "data": {
            "text/plain": [
              "<_PrefetchDataset element_spec=(TensorSpec(shape=(None,), dtype=tf.string, name=None), TensorSpec(shape=(None, 151), dtype=tf.float32, name=None))>"
            ]
          },
          "metadata": {},
          "execution_count": 66
        }
      ]
    },
    {
      "cell_type": "code",
      "source": [
        "text, label = next(iter(test_dataset))\n",
        "\n",
        "print(text[15])\n",
        "print(label[15])\n",
        "print(invert_multi_hot(label[15]))"
      ],
      "metadata": {
        "colab": {
          "base_uri": "https://localhost:8080/"
        },
        "id": "CdfqZ6W2VTHT",
        "outputId": "69db020d-f7b3-456c-92dd-d9d9ac255dfb"
      },
      "execution_count": 74,
      "outputs": [
        {
          "output_type": "stream",
          "name": "stdout",
          "text": [
            "tf.Tensor(b\"in this work, we perform unsupervised learning of representations by maximizing mutual information between an input and the output of a deep neural network encoder. importantly, we show that structure matters: incorporating knowledge about locality of the input to the objective can greatly influence a representation's suitability for downstream tasks. we further control characteristics of the representation by matching to a prior distribution adversarially. our method, which we call deep infomax (dim), outperforms a number of popular unsupervised learning methods and competes with fully-supervised learning on several classification tasks. dim opens new avenues for unsupervised learning of representations and is an important step towards flexible formulations of representation-learning objectives for specific end-goals.\", shape=(), dtype=string)\n",
            "tf.Tensor(\n",
            "[0. 0. 1. 1. 0. 0. 0. 0. 0. 0. 0. 0. 0. 0. 0. 0. 0. 0. 0. 0. 0. 0. 0. 0.\n",
            " 0. 0. 0. 0. 0. 0. 0. 0. 0. 0. 0. 0. 0. 0. 0. 0. 0. 0. 0. 0. 0. 0. 0. 0.\n",
            " 0. 0. 0. 0. 0. 0. 0. 0. 0. 0. 0. 0. 0. 0. 0. 0. 0. 0. 0. 0. 0. 0. 0. 0.\n",
            " 0. 0. 0. 0. 0. 0. 0. 0. 0. 0. 0. 0. 0. 0. 0. 0. 0. 0. 0. 0. 0. 0. 0. 0.\n",
            " 0. 0. 0. 0. 0. 0. 0. 0. 0. 0. 0. 0. 0. 0. 0. 0. 0. 0. 0. 0. 0. 0. 0. 0.\n",
            " 0. 0. 0. 0. 0. 0. 0. 0. 0. 0. 0. 0. 0. 0. 0. 0. 0. 0. 0. 0. 0. 0. 0. 0.\n",
            " 0. 0. 0. 0. 0. 0. 0.], shape=(151,), dtype=float32)\n",
            "['cs.LG' 'stat.ML']\n"
          ]
        }
      ]
    },
    {
      "cell_type": "code",
      "source": [
        "test_pred_prob = model_1_pred_probs[15]"
      ],
      "metadata": {
        "id": "7nrz9dEXVYwm"
      },
      "execution_count": 75,
      "outputs": []
    },
    {
      "cell_type": "code",
      "source": [
        "test_pred_prob.shape"
      ],
      "metadata": {
        "colab": {
          "base_uri": "https://localhost:8080/"
        },
        "id": "TLn2LlnslU6-",
        "outputId": "040640d2-fbc1-4ea7-f33e-b3f5354b24de"
      },
      "execution_count": 94,
      "outputs": [
        {
          "output_type": "execute_result",
          "data": {
            "text/plain": [
              "(151,)"
            ]
          },
          "metadata": {},
          "execution_count": 94
        }
      ]
    },
    {
      "cell_type": "code",
      "source": [
        "sorted_prob = sorted(zip(test_pred_prob, vocab), key = lambda pair : pair[0],reverse = True)"
      ],
      "metadata": {
        "id": "zwMK3FnZVxoH"
      },
      "execution_count": 76,
      "outputs": []
    },
    {
      "cell_type": "code",
      "source": [
        "sorted_prob"
      ],
      "metadata": {
        "colab": {
          "base_uri": "https://localhost:8080/"
        },
        "id": "_sEHBCBwfOPE",
        "outputId": "68202e36-36ed-41bd-926b-d4cd2091ad83"
      },
      "execution_count": 77,
      "outputs": [
        {
          "output_type": "execute_result",
          "data": {
            "text/plain": [
              "[(0.88392806, 'cs.LG'),\n",
              " (0.6529016, 'stat.ML'),\n",
              " (0.271892, 'cs.AI'),\n",
              " (0.12052495, 'cs.CV'),\n",
              " (0.028467376, 'cs.NE'),\n",
              " (0.027929772, 'eess.IV'),\n",
              " (0.022925425, 'cs.CL'),\n",
              " (0.021290774, 'cs.RO'),\n",
              " (0.01558849, 'cs.CR'),\n",
              " (0.0127241025, 'eess.SP'),\n",
              " (0.011588188, 'math.OC'),\n",
              " (0.009846667, 'cs.SY'),\n",
              " (0.009747218, 'eess.SY'),\n",
              " (0.009248899, 'cs.MA'),\n",
              " (0.009191366, 'cs.DC'),\n",
              " (0.007531196, 'cs.IT'),\n",
              " (0.006561719, 'math.IT'),\n",
              " (0.0063598906, 'cs.IR'),\n",
              " (0.0061292406, 'cs.HC'),\n",
              " (0.005197547, 'stat.TH'),\n",
              " (0.005153965, 'stat.AP'),\n",
              " (0.0048100217, 'cs.SI'),\n",
              " (0.004398348, 'cs.CY'),\n",
              " (0.0040947264, 'cs.MM'),\n",
              " (0.0039578504, 'cs.DS'),\n",
              " (0.0037986974, 'cs.GR'),\n",
              " (0.0034507874, 'math.ST'),\n",
              " (0.0022313728, 'cs.CG'),\n",
              " (0.0019210523, 'math.NA'),\n",
              " (0.0016318634, 'eess.AS'),\n",
              " (0.0015051436, 'cs.SD'),\n",
              " (0.0014828136, 'q-bio.QM'),\n",
              " (0.0014694864, 'q-bio.NC'),\n",
              " (0.0013718328, 'stat.ME'),\n",
              " (0.0013613655, 'I.2.6'),\n",
              " (0.0013347517, 'cs.PL'),\n",
              " (0.0012743851, 'q-bio.BM'),\n",
              " (0.0012234383, 'cs.NA'),\n",
              " (0.0011324779, 'cs.SE'),\n",
              " (0.0010087149, 'stat.CO'),\n",
              " (0.00090199144, 'cs.NI'),\n",
              " (0.000785922, 'physics.data-an'),\n",
              " (0.00078258745, 'physics.chem-ph'),\n",
              " (0.0005539271, 'cs.GT'),\n",
              " (0.00055183505, 'math.PR'),\n",
              " (0.0005459155, 'cs.CE'),\n",
              " (0.0005297011, 'I.2.10'),\n",
              " (0.0005223734, 'econ.EM'),\n",
              " (0.0005097822, 'I.2.6; I.2.7; H.3.1; H.3.3'),\n",
              " (0.00049580366, 'astro-ph.IM'),\n",
              " (0.0004884064, 'math.DS'),\n",
              " (0.00046721866, 'I.4.8'),\n",
              " (0.00044602892, 'I.4'),\n",
              " (0.0004443232, 'physics.comp-ph'),\n",
              " (0.0004336722, 'cond-mat.stat-mech'),\n",
              " (0.00042235164, 'cond-mat.dis-nn'),\n",
              " (0.0004058503, 'q-fin.ST'),\n",
              " (0.00039778778, 'quant-ph'),\n",
              " (0.00039619693, '68T05'),\n",
              " (0.00038197736, 'cond-mat.mtrl-sci'),\n",
              " (0.00035124418, '68T45'),\n",
              " (0.00033714686, 'cs.PF'),\n",
              " (0.0003278958, 'math.FA'),\n",
              " (0.0003187754, '68U10'),\n",
              " (0.0003162674, 'cs.AR'),\n",
              " (0.0003159799, 'I.4.9'),\n",
              " (0.00030180783, 'I.4; I.5'),\n",
              " (0.00029145397, 'cs.DB'),\n",
              " (0.00028943256, 'I.2'),\n",
              " (0.00028818988, 'physics.flu-dyn'),\n",
              " (0.0002827529, 'physics.soc-ph'),\n",
              " (0.00028164336, 'cs.FL'),\n",
              " (0.00027535312, 'I.2.10; I.4; I.5'),\n",
              " (0.00026868386, 'I.4.6; I.4.8'),\n",
              " (0.00026341982, 'q-bio.OT'),\n",
              " (0.00025012568, 'q-bio.GN'),\n",
              " (0.00024329408, 'I.4.9; I.5.4'),\n",
              " (0.00024293363, 'cs.LO'),\n",
              " (0.00023846985, 'H.3.1; I.2.6; I.2.7'),\n",
              " (0.00022692, 'G.3'),\n",
              " (0.00021618737, 'physics.optics'),\n",
              " (0.00021349879, 'nlin.CD'),\n",
              " (0.00020744273, 'I.5.4'),\n",
              " (0.0002067262, 'cs.CC'),\n",
              " (0.0002008553, '68T07'),\n",
              " (0.0001940584, 'K.3.2'),\n",
              " (0.00018651114, 'q-fin.GN'),\n",
              " (0.00018140199, 'I.2; I.4; I.5'),\n",
              " (0.00018098875, 'cs.ET'),\n",
              " (0.00017954543, 'math.AT'),\n",
              " (0.00017894553, 'H.3.1; H.3.3; I.2.6; I.2.7'),\n",
              " (0.00017874925, '68'),\n",
              " (0.00017539586, 'I.2.6; I.2.8'),\n",
              " (0.00017462374, 'cs.DM'),\n",
              " (0.00017149745, 'physics.geo-ph'),\n",
              " (0.00016975806, 'F.2.2; I.2.7'),\n",
              " (0.00015901285, 'cond-mat.soft'),\n",
              " (0.00015809396, 'physics.bio-ph'),\n",
              " (0.00015796511, 'math.CO'),\n",
              " (0.00015628934, 'q-fin.CP'),\n",
              " (0.00015483954, 'I.4.5'),\n",
              " (0.00014832617, 'q-fin.TR'),\n",
              " (0.00014633218, 'I.4.6'),\n",
              " (0.00014026475, 'I.2.10; I.5.1; I.4.8'),\n",
              " (0.00013473789, '65D19'),\n",
              " (0.0001289894, 'I.2.7'),\n",
              " (0.00012796572, 'q-fin.EC'),\n",
              " (0.00012571551, 'cs.MS'),\n",
              " (0.00012420156, 'I.4.3'),\n",
              " (0.00012361964, 'I.2.1'),\n",
              " (0.00012155441, 'I.2; I.2.6; I.2.7'),\n",
              " (0.00011938016, 'I.2.6; I.2.10'),\n",
              " (0.00011854073, '14J60 (Primary) 14F05, 14J26 (Secondary)'),\n",
              " (0.00011640805, '68Q32'),\n",
              " (0.00011386487, 'I.2.8'),\n",
              " (0.000111203626, 'I.2.6; I.2.7'),\n",
              " (0.000109438435, '62H30'),\n",
              " (0.00010767434, 'q-fin.RM'),\n",
              " (0.00010737137, 'hep-ex'),\n",
              " (0.00010207807, 'hep-ph'),\n",
              " (0.00010207642, 'I.2.0; I.2.6'),\n",
              " (9.992517e-05, 'q-fin.PM'),\n",
              " (9.614211e-05, '62H99'),\n",
              " (9.1619724e-05, 'physics.ao-ph'),\n",
              " (8.9474495e-05, 'q-bio.MN'),\n",
              " (8.885331e-05, 'nlin.AO'),\n",
              " (8.78498e-05, '68T10'),\n",
              " (8.257311e-05, 'econ.GN'),\n",
              " (8.149469e-05, 'E.5; E.4; E.2; H.1.1; F.1.1; F.1.3'),\n",
              " (8.0378435e-05, '[UNK]'),\n",
              " (7.964855e-05, 'I.2; J.2'),\n",
              " (7.7395234e-05, 'I.2.10; I.4.8'),\n",
              " (7.6354714e-05, '68Txx'),\n",
              " (7.0068134e-05, 'I.2; I.5'),\n",
              " (6.882762e-05, 'I.4.0'),\n",
              " (6.840668e-05, '68T30'),\n",
              " (6.735296e-05, 'math.AP'),\n",
              " (6.536539e-05, '68T99'),\n",
              " (6.221053e-05, 'I.4.4'),\n",
              " (6.2000516e-05, 'q-bio.TO'),\n",
              " (5.8888316e-05, 'I.2.6; I.5.4'),\n",
              " (5.716126e-05, 'I.2.1; J.3'),\n",
              " (5.661589e-05, '68U01'),\n",
              " (5.4040243e-05, 'I.2.6; I.5.1'),\n",
              " (5.3098058e-05, 'cs.SC'),\n",
              " (5.279159e-05, 'I.2.10; I.4.8; I.5.4'),\n",
              " (5.2228457e-05, 'physics.med-ph'),\n",
              " (4.8587463e-05, 'I.2.6; I.2.9'),\n",
              " (4.6881785e-05, '68T01'),\n",
              " (4.4471122e-05, 'I.2.6, I.5.4'),\n",
              " (2.490875e-05, 'I.2.10; I.2.6')]"
            ]
          },
          "metadata": {},
          "execution_count": 77
        }
      ]
    },
    {
      "cell_type": "code",
      "source": [
        "i, j = next(iter(test_dataset))\n",
        "print(i[10])\n",
        "print(j[10])\n",
        "print(invert_multi_hot(j[10]))"
      ],
      "metadata": {
        "colab": {
          "base_uri": "https://localhost:8080/"
        },
        "id": "qNQCjpbNfhcl",
        "outputId": "01836589-74dc-4642-e9fd-a51ef96e3093"
      },
      "execution_count": 122,
      "outputs": [
        {
          "output_type": "stream",
          "name": "stdout",
          "text": [
            "tf.Tensor(b'in this paper, we introduce an alternative approach, namely gen (genetic evolution network) model, to the deep learning models. instead of building one single deep model, gen adopts a genetic-evolutionary learning strategy to build a group of unit models generations by generations. significantly different from the wellknown representation learning models with extremely deep structures, the unit models covered in gen are of a much shallower architecture. in the training process, from each generation, a subset of unit models will be selected based on their performance to evolve and generate the child models in the next generation. gen has significant advantages compared with existing deep representation learning models in terms of both learning effectiveness, efficiency and interpretability of the learning process and learned results. extensive experiments have been done on diverse benchmark datasets, and the experimental results have demonstrated the outstanding performance of gen compared with the state-of-the-art baseline methods in both effectiveness of efficiency.', shape=(), dtype=string)\n",
            "tf.Tensor(\n",
            "[0. 0. 1. 1. 0. 0. 0. 0. 1. 0. 0. 0. 0. 0. 0. 0. 0. 0. 0. 0. 0. 0. 0. 0.\n",
            " 0. 0. 0. 0. 0. 0. 0. 0. 0. 0. 0. 0. 0. 0. 0. 0. 0. 0. 0. 0. 0. 0. 0. 0.\n",
            " 0. 0. 0. 0. 0. 0. 0. 0. 0. 0. 0. 0. 0. 0. 0. 0. 0. 0. 0. 0. 0. 0. 0. 0.\n",
            " 0. 0. 0. 0. 0. 0. 0. 0. 0. 0. 0. 0. 0. 0. 0. 0. 0. 0. 0. 0. 0. 0. 0. 0.\n",
            " 0. 0. 0. 0. 0. 0. 0. 0. 0. 0. 0. 0. 0. 0. 0. 0. 0. 0. 0. 0. 0. 0. 0. 0.\n",
            " 0. 0. 0. 0. 0. 0. 0. 0. 0. 0. 0. 0. 0. 0. 0. 0. 0. 0. 0. 0. 0. 0. 0. 0.\n",
            " 0. 0. 0. 0. 0. 0. 0.], shape=(151,), dtype=float32)\n",
            "['cs.LG' 'stat.ML' 'cs.NE']\n"
          ]
        }
      ]
    },
    {
      "cell_type": "code",
      "source": [
        "test2 = model_1.predict(['in this paper, we introduce an alternative approach, namely gen (genetic evolution network) model, to the deep learning models. instead of building one single deep model, gen adopts a genetic-evolutionary learning strategy to build a group of unit models generations by generations. significantly different from the wellknown representation learning models with extremely deep structures, the unit models covered in gen are of a much shallower architecture. in the training process, from each generation, a subset of unit models will be selected based on their performance to evolve and generate the child models in the next generation. gen has significant advantages compared with existing deep representation learning models in terms of both learning effectiveness, efficiency and interpretability of the learning process and learned results. extensive experiments have been done on diverse benchmark datasets, and the experimental results have demonstrated the outstanding performance of gen compared with the state-of-the-art baseline methods in both effectiveness of efficiency.'])"
      ],
      "metadata": {
        "colab": {
          "base_uri": "https://localhost:8080/"
        },
        "id": "yaNNisJKiNFp",
        "outputId": "2f9ad608-667e-4374-ca55-81c498845ae5"
      },
      "execution_count": 124,
      "outputs": [
        {
          "output_type": "stream",
          "name": "stdout",
          "text": [
            "1/1 [==============================] - 0s 52ms/step\n"
          ]
        }
      ]
    },
    {
      "cell_type": "code",
      "source": [
        "tf.squeeze(test2).numpy()"
      ],
      "metadata": {
        "colab": {
          "base_uri": "https://localhost:8080/"
        },
        "id": "N53l-Z3PlOYx",
        "outputId": "a847976b-555c-4724-8402-40536cf342dd"
      },
      "execution_count": 125,
      "outputs": [
        {
          "output_type": "execute_result",
          "data": {
            "text/plain": [
              "array([1.4833226e-04, 2.1897906e-01, 8.8067156e-01, 5.6869400e-01,\n",
              "       2.5819525e-01, 2.8648123e-02, 2.3463275e-02, 2.9541301e-02,\n",
              "       3.0532857e-02, 1.6856827e-02, 1.2003086e-02, 2.2485455e-02,\n",
              "       6.5567438e-03, 6.5173539e-03, 4.6726302e-03, 1.3176239e-02,\n",
              "       7.0915180e-03, 1.6088450e-02, 1.2402689e-02, 5.9043872e-03,\n",
              "       8.8249203e-03, 6.5711965e-03, 5.8132699e-03, 3.6789195e-03,\n",
              "       4.5714420e-03, 5.5579236e-03, 4.9917102e-03, 1.3246312e-03,\n",
              "       1.4781167e-03, 1.3845598e-03, 1.8278838e-03, 5.6364643e-03,\n",
              "       2.0588855e-03, 7.3681248e-04, 1.2632380e-03, 1.1558816e-03,\n",
              "       1.2893811e-03, 1.5540672e-03, 5.6393974e-04, 1.7857635e-03,\n",
              "       1.4949925e-03, 1.2562447e-03, 2.6288794e-04, 2.4724888e-04,\n",
              "       1.1515542e-03, 5.2776636e-04, 1.0039596e-03, 7.1733689e-04,\n",
              "       7.3645799e-04, 7.1354269e-04, 4.5005360e-04, 4.2053167e-04,\n",
              "       8.6873391e-04, 5.5483758e-04, 7.9683319e-04, 4.9321842e-04,\n",
              "       5.0040265e-04, 4.7922184e-04, 3.7383410e-04, 2.5076899e-04,\n",
              "       2.3853077e-04, 1.8168606e-04, 5.3087017e-04, 1.7777599e-04,\n",
              "       3.5403430e-04, 3.7217402e-04, 8.6285290e-05, 3.3245081e-04,\n",
              "       3.3010330e-04, 2.0867964e-04, 1.1543521e-04, 3.2563164e-04,\n",
              "       1.6500644e-04, 3.6762020e-04, 1.3067943e-04, 3.2224381e-04,\n",
              "       5.5247656e-04, 2.2954258e-04, 7.3747913e-04, 1.8386591e-04,\n",
              "       1.5860521e-04, 6.0325383e-05, 2.7955772e-04, 2.5525404e-04,\n",
              "       7.9424950e-05, 1.8255433e-04, 3.0009777e-04, 3.2401236e-04,\n",
              "       2.9559954e-04, 1.2039692e-04, 2.0570865e-04, 8.5182342e-05,\n",
              "       1.0934414e-04, 2.3899110e-04, 1.7077764e-04, 5.7813293e-05,\n",
              "       8.7694629e-05, 5.5799770e-05, 1.1158039e-04, 2.2218299e-04,\n",
              "       1.6427612e-04, 2.9456874e-04, 9.5362884e-05, 9.8351273e-05,\n",
              "       1.0935612e-04, 1.5281452e-04, 2.4021260e-04, 4.9790731e-05,\n",
              "       1.6380608e-04, 9.7140226e-05, 7.6360178e-05, 1.8412573e-04,\n",
              "       9.2331808e-05, 1.2021876e-04, 3.7619364e-04, 1.5394461e-04,\n",
              "       2.3441348e-04, 3.7466292e-04, 9.5359246e-05, 2.1377642e-04,\n",
              "       1.5981894e-04, 2.1703992e-04, 1.8465176e-04, 1.3660516e-04,\n",
              "       7.8178622e-05, 2.8093348e-04, 1.8282536e-04, 5.9568512e-05,\n",
              "       7.4236050e-05, 2.6656326e-04, 6.7949375e-05, 1.0444085e-04,\n",
              "       2.1976029e-04, 1.3419565e-04, 3.0806893e-04, 1.0828473e-04,\n",
              "       6.7945875e-05, 7.2160619e-05, 1.3729898e-04, 1.9467091e-04,\n",
              "       1.1866231e-04, 1.1201321e-04, 9.9356126e-05, 9.9236357e-05,\n",
              "       6.1504506e-05, 3.4641620e-04, 1.6952741e-04, 2.5922476e-05,\n",
              "       1.0227956e-04, 1.0911176e-04, 9.5395808e-05], dtype=float32)"
            ]
          },
          "metadata": {},
          "execution_count": 125
        }
      ]
    },
    {
      "cell_type": "code",
      "source": [
        "sorted_prob_01 = sorted(zip(tf.squeeze(test2).numpy(), vocab), key = lambda pair : pair[0],reverse = True)"
      ],
      "metadata": {
        "id": "H9Pwke21jHNv"
      },
      "execution_count": 126,
      "outputs": []
    },
    {
      "cell_type": "code",
      "source": [
        "sorted_prob_01[:10]"
      ],
      "metadata": {
        "colab": {
          "base_uri": "https://localhost:8080/"
        },
        "id": "P0cDhaKLk--U",
        "outputId": "655ab62d-c75a-45d2-eff5-7f24f15dcf37"
      },
      "execution_count": 127,
      "outputs": [
        {
          "output_type": "execute_result",
          "data": {
            "text/plain": [
              "[(0.88067156, 'cs.LG'),\n",
              " (0.568694, 'stat.ML'),\n",
              " (0.25819525, 'cs.AI'),\n",
              " (0.21897906, 'cs.CV'),\n",
              " (0.030532857, 'cs.NE'),\n",
              " (0.0295413, 'cs.CL'),\n",
              " (0.028648123, 'eess.IV'),\n",
              " (0.023463275, 'cs.RO'),\n",
              " (0.022485455, 'eess.SP'),\n",
              " (0.016856827, 'cs.CR')]"
            ]
          },
          "metadata": {},
          "execution_count": 127
        }
      ]
    },
    {
      "cell_type": "code",
      "source": [],
      "metadata": {
        "id": "CR4FrGkllITC"
      },
      "execution_count": null,
      "outputs": []
    }
  ]
}