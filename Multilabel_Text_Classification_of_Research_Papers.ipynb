{
  "nbformat": 4,
  "nbformat_minor": 0,
  "metadata": {
    "colab": {
      "provenance": [],
      "gpuType": "T4",
      "include_colab_link": true
    },
    "kernelspec": {
      "name": "python3",
      "display_name": "Python 3"
    },
    "language_info": {
      "name": "python"
    },
    "accelerator": "GPU"
  },
  "cells": [
    {
      "cell_type": "markdown",
      "metadata": {
        "id": "view-in-github",
        "colab_type": "text"
      },
      "source": [
        "<a href=\"https://colab.research.google.com/github/Gaurav-phatkare/arXiv-Paper-Abstracts-Mutli-Label-Classification-Using-Deep-Learning/blob/main/Multilabel_Text_Classification_of_Research_Papers.ipynb\" target=\"_parent\"><img src=\"https://colab.research.google.com/assets/colab-badge.svg\" alt=\"Open In Colab\"/></a>"
      ]
    },
    {
      "cell_type": "code",
      "execution_count": 1,
      "metadata": {
        "colab": {
          "base_uri": "https://localhost:8080/"
        },
        "id": "U04hmFgUMhML",
        "outputId": "c736a32c-f69b-4dc1-9c48-c9f71ea11b48"
      },
      "outputs": [
        {
          "output_type": "stream",
          "name": "stdout",
          "text": [
            "Fri Aug  4 16:58:59 2023       \n",
            "+-----------------------------------------------------------------------------+\n",
            "| NVIDIA-SMI 525.105.17   Driver Version: 525.105.17   CUDA Version: 12.0     |\n",
            "|-------------------------------+----------------------+----------------------+\n",
            "| GPU  Name        Persistence-M| Bus-Id        Disp.A | Volatile Uncorr. ECC |\n",
            "| Fan  Temp  Perf  Pwr:Usage/Cap|         Memory-Usage | GPU-Util  Compute M. |\n",
            "|                               |                      |               MIG M. |\n",
            "|===============================+======================+======================|\n",
            "|   0  Tesla T4            Off  | 00000000:00:04.0 Off |                    0 |\n",
            "| N/A   59C    P8    10W /  70W |      0MiB / 15360MiB |      0%      Default |\n",
            "|                               |                      |                  N/A |\n",
            "+-------------------------------+----------------------+----------------------+\n",
            "                                                                               \n",
            "+-----------------------------------------------------------------------------+\n",
            "| Processes:                                                                  |\n",
            "|  GPU   GI   CI        PID   Type   Process name                  GPU Memory |\n",
            "|        ID   ID                                                   Usage      |\n",
            "|=============================================================================|\n",
            "|  No running processes found                                                 |\n",
            "+-----------------------------------------------------------------------------+\n"
          ]
        }
      ],
      "source": [
        "!nvidia-smi"
      ]
    },
    {
      "cell_type": "code",
      "source": [
        "import pandas as pd\n",
        "import numpy as np\n",
        "import matplotlib.pyplot as plt\n",
        "import seaborn as sns\n",
        "import tensorflow as tf"
      ],
      "metadata": {
        "id": "tpIVgr1oNBTl"
      },
      "execution_count": 2,
      "outputs": []
    },
    {
      "cell_type": "code",
      "source": [
        "!pip install kaggle"
      ],
      "metadata": {
        "colab": {
          "base_uri": "https://localhost:8080/"
        },
        "id": "Z5ehdK2eNK7l",
        "outputId": "06485ef6-2d16-4c4a-a93f-e896dcfa94d2"
      },
      "execution_count": 3,
      "outputs": [
        {
          "output_type": "stream",
          "name": "stdout",
          "text": [
            "Requirement already satisfied: kaggle in /usr/local/lib/python3.10/dist-packages (1.5.16)\n",
            "Requirement already satisfied: six>=1.10 in /usr/local/lib/python3.10/dist-packages (from kaggle) (1.16.0)\n",
            "Requirement already satisfied: certifi in /usr/local/lib/python3.10/dist-packages (from kaggle) (2023.7.22)\n",
            "Requirement already satisfied: python-dateutil in /usr/local/lib/python3.10/dist-packages (from kaggle) (2.8.2)\n",
            "Requirement already satisfied: requests in /usr/local/lib/python3.10/dist-packages (from kaggle) (2.27.1)\n",
            "Requirement already satisfied: tqdm in /usr/local/lib/python3.10/dist-packages (from kaggle) (4.65.0)\n",
            "Requirement already satisfied: python-slugify in /usr/local/lib/python3.10/dist-packages (from kaggle) (8.0.1)\n",
            "Requirement already satisfied: urllib3 in /usr/local/lib/python3.10/dist-packages (from kaggle) (1.26.16)\n",
            "Requirement already satisfied: bleach in /usr/local/lib/python3.10/dist-packages (from kaggle) (6.0.0)\n",
            "Requirement already satisfied: webencodings in /usr/local/lib/python3.10/dist-packages (from bleach->kaggle) (0.5.1)\n",
            "Requirement already satisfied: text-unidecode>=1.3 in /usr/local/lib/python3.10/dist-packages (from python-slugify->kaggle) (1.3)\n",
            "Requirement already satisfied: charset-normalizer~=2.0.0 in /usr/local/lib/python3.10/dist-packages (from requests->kaggle) (2.0.12)\n",
            "Requirement already satisfied: idna<4,>=2.5 in /usr/local/lib/python3.10/dist-packages (from requests->kaggle) (3.4)\n"
          ]
        }
      ]
    },
    {
      "cell_type": "code",
      "source": [
        "!mkdir ~/.kaggle"
      ],
      "metadata": {
        "id": "ZawQ5lGSNNba"
      },
      "execution_count": 4,
      "outputs": []
    },
    {
      "cell_type": "code",
      "source": [
        "!cp kaggle.json ~/.kaggle/"
      ],
      "metadata": {
        "id": "n-lxN8buNiZh"
      },
      "execution_count": 5,
      "outputs": []
    },
    {
      "cell_type": "code",
      "source": [
        "!chmod 600 ~/.kaggle/kaggle.json"
      ],
      "metadata": {
        "id": "0cbVVLAfNn1C"
      },
      "execution_count": 6,
      "outputs": []
    },
    {
      "cell_type": "code",
      "source": [
        "!kaggle datasets download -d spsayakpaul/arxiv-paper-abstracts"
      ],
      "metadata": {
        "colab": {
          "base_uri": "https://localhost:8080/"
        },
        "id": "KoGBXDUvNrkL",
        "outputId": "d5f16965-6a0f-4fc8-9feb-318ebdf0c7f5"
      },
      "execution_count": 7,
      "outputs": [
        {
          "output_type": "stream",
          "name": "stdout",
          "text": [
            "Downloading arxiv-paper-abstracts.zip to /content\n",
            " 90% 40.0M/44.6M [00:00<00:00, 138MB/s]\n",
            "100% 44.6M/44.6M [00:00<00:00, 133MB/s]\n"
          ]
        }
      ]
    },
    {
      "cell_type": "code",
      "source": [
        "!unzip /content/arxiv-paper-abstracts.zip"
      ],
      "metadata": {
        "colab": {
          "base_uri": "https://localhost:8080/"
        },
        "id": "l0g58nFCN2cF",
        "outputId": "996bfd63-a031-4ea4-997b-ff93c5d3bbde"
      },
      "execution_count": 8,
      "outputs": [
        {
          "output_type": "stream",
          "name": "stdout",
          "text": [
            "Archive:  /content/arxiv-paper-abstracts.zip\n",
            "  inflating: arxiv_data.csv          \n",
            "  inflating: arxiv_data_210930-054931.csv  \n"
          ]
        }
      ]
    },
    {
      "cell_type": "code",
      "source": [
        "df = pd.read_csv(\"/content/arxiv_data.csv\")"
      ],
      "metadata": {
        "id": "-ObPstnCN70d"
      },
      "execution_count": 9,
      "outputs": []
    },
    {
      "cell_type": "code",
      "source": [
        "df.shape"
      ],
      "metadata": {
        "colab": {
          "base_uri": "https://localhost:8080/"
        },
        "id": "wEXAwYLRO4Cx",
        "outputId": "07bd3ee9-cf7c-4583-a00c-33fef84174b4"
      },
      "execution_count": 10,
      "outputs": [
        {
          "output_type": "execute_result",
          "data": {
            "text/plain": [
              "(51774, 3)"
            ]
          },
          "metadata": {},
          "execution_count": 10
        }
      ]
    },
    {
      "cell_type": "code",
      "source": [
        "df.head()"
      ],
      "metadata": {
        "colab": {
          "base_uri": "https://localhost:8080/",
          "height": 206
        },
        "id": "Gg0NdSfePZTZ",
        "outputId": "b197bd17-5c00-4faa-e6be-132ba96cfdf3"
      },
      "execution_count": 11,
      "outputs": [
        {
          "output_type": "execute_result",
          "data": {
            "text/plain": [
              "                                              titles  \\\n",
              "0  Survey on Semantic Stereo Matching / Semantic ...   \n",
              "1  FUTURE-AI: Guiding Principles and Consensus Re...   \n",
              "2  Enforcing Mutual Consistency of Hard Regions f...   \n",
              "3  Parameter Decoupling Strategy for Semi-supervi...   \n",
              "4  Background-Foreground Segmentation for Interio...   \n",
              "\n",
              "                                           summaries  \\\n",
              "0  Stereo matching is one of the widely used tech...   \n",
              "1  The recent advancements in artificial intellig...   \n",
              "2  In this paper, we proposed a novel mutual cons...   \n",
              "3  Consistency training has proven to be an advan...   \n",
              "4  To ensure safety in automated driving, the cor...   \n",
              "\n",
              "                         terms  \n",
              "0           ['cs.CV', 'cs.LG']  \n",
              "1  ['cs.CV', 'cs.AI', 'cs.LG']  \n",
              "2           ['cs.CV', 'cs.AI']  \n",
              "3                    ['cs.CV']  \n",
              "4           ['cs.CV', 'cs.LG']  "
            ],
            "text/html": [
              "\n",
              "\n",
              "  <div id=\"df-f1f34b03-0968-482b-80a8-0d475d9a5c86\">\n",
              "    <div class=\"colab-df-container\">\n",
              "      <div>\n",
              "<style scoped>\n",
              "    .dataframe tbody tr th:only-of-type {\n",
              "        vertical-align: middle;\n",
              "    }\n",
              "\n",
              "    .dataframe tbody tr th {\n",
              "        vertical-align: top;\n",
              "    }\n",
              "\n",
              "    .dataframe thead th {\n",
              "        text-align: right;\n",
              "    }\n",
              "</style>\n",
              "<table border=\"1\" class=\"dataframe\">\n",
              "  <thead>\n",
              "    <tr style=\"text-align: right;\">\n",
              "      <th></th>\n",
              "      <th>titles</th>\n",
              "      <th>summaries</th>\n",
              "      <th>terms</th>\n",
              "    </tr>\n",
              "  </thead>\n",
              "  <tbody>\n",
              "    <tr>\n",
              "      <th>0</th>\n",
              "      <td>Survey on Semantic Stereo Matching / Semantic ...</td>\n",
              "      <td>Stereo matching is one of the widely used tech...</td>\n",
              "      <td>['cs.CV', 'cs.LG']</td>\n",
              "    </tr>\n",
              "    <tr>\n",
              "      <th>1</th>\n",
              "      <td>FUTURE-AI: Guiding Principles and Consensus Re...</td>\n",
              "      <td>The recent advancements in artificial intellig...</td>\n",
              "      <td>['cs.CV', 'cs.AI', 'cs.LG']</td>\n",
              "    </tr>\n",
              "    <tr>\n",
              "      <th>2</th>\n",
              "      <td>Enforcing Mutual Consistency of Hard Regions f...</td>\n",
              "      <td>In this paper, we proposed a novel mutual cons...</td>\n",
              "      <td>['cs.CV', 'cs.AI']</td>\n",
              "    </tr>\n",
              "    <tr>\n",
              "      <th>3</th>\n",
              "      <td>Parameter Decoupling Strategy for Semi-supervi...</td>\n",
              "      <td>Consistency training has proven to be an advan...</td>\n",
              "      <td>['cs.CV']</td>\n",
              "    </tr>\n",
              "    <tr>\n",
              "      <th>4</th>\n",
              "      <td>Background-Foreground Segmentation for Interio...</td>\n",
              "      <td>To ensure safety in automated driving, the cor...</td>\n",
              "      <td>['cs.CV', 'cs.LG']</td>\n",
              "    </tr>\n",
              "  </tbody>\n",
              "</table>\n",
              "</div>\n",
              "      <button class=\"colab-df-convert\" onclick=\"convertToInteractive('df-f1f34b03-0968-482b-80a8-0d475d9a5c86')\"\n",
              "              title=\"Convert this dataframe to an interactive table.\"\n",
              "              style=\"display:none;\">\n",
              "\n",
              "  <svg xmlns=\"http://www.w3.org/2000/svg\" height=\"24px\"viewBox=\"0 0 24 24\"\n",
              "       width=\"24px\">\n",
              "    <path d=\"M0 0h24v24H0V0z\" fill=\"none\"/>\n",
              "    <path d=\"M18.56 5.44l.94 2.06.94-2.06 2.06-.94-2.06-.94-.94-2.06-.94 2.06-2.06.94zm-11 1L8.5 8.5l.94-2.06 2.06-.94-2.06-.94L8.5 2.5l-.94 2.06-2.06.94zm10 10l.94 2.06.94-2.06 2.06-.94-2.06-.94-.94-2.06-.94 2.06-2.06.94z\"/><path d=\"M17.41 7.96l-1.37-1.37c-.4-.4-.92-.59-1.43-.59-.52 0-1.04.2-1.43.59L10.3 9.45l-7.72 7.72c-.78.78-.78 2.05 0 2.83L4 21.41c.39.39.9.59 1.41.59.51 0 1.02-.2 1.41-.59l7.78-7.78 2.81-2.81c.8-.78.8-2.07 0-2.86zM5.41 20L4 18.59l7.72-7.72 1.47 1.35L5.41 20z\"/>\n",
              "  </svg>\n",
              "      </button>\n",
              "\n",
              "\n",
              "\n",
              "    <div id=\"df-1e945af3-2d24-447b-bb14-9017ef5ed547\">\n",
              "      <button class=\"colab-df-quickchart\" onclick=\"quickchart('df-1e945af3-2d24-447b-bb14-9017ef5ed547')\"\n",
              "              title=\"Suggest charts.\"\n",
              "              style=\"display:none;\">\n",
              "\n",
              "<svg xmlns=\"http://www.w3.org/2000/svg\" height=\"24px\"viewBox=\"0 0 24 24\"\n",
              "     width=\"24px\">\n",
              "    <g>\n",
              "        <path d=\"M19 3H5c-1.1 0-2 .9-2 2v14c0 1.1.9 2 2 2h14c1.1 0 2-.9 2-2V5c0-1.1-.9-2-2-2zM9 17H7v-7h2v7zm4 0h-2V7h2v10zm4 0h-2v-4h2v4z\"/>\n",
              "    </g>\n",
              "</svg>\n",
              "      </button>\n",
              "    </div>\n",
              "\n",
              "<style>\n",
              "  .colab-df-quickchart {\n",
              "    background-color: #E8F0FE;\n",
              "    border: none;\n",
              "    border-radius: 50%;\n",
              "    cursor: pointer;\n",
              "    display: none;\n",
              "    fill: #1967D2;\n",
              "    height: 32px;\n",
              "    padding: 0 0 0 0;\n",
              "    width: 32px;\n",
              "  }\n",
              "\n",
              "  .colab-df-quickchart:hover {\n",
              "    background-color: #E2EBFA;\n",
              "    box-shadow: 0px 1px 2px rgba(60, 64, 67, 0.3), 0px 1px 3px 1px rgba(60, 64, 67, 0.15);\n",
              "    fill: #174EA6;\n",
              "  }\n",
              "\n",
              "  [theme=dark] .colab-df-quickchart {\n",
              "    background-color: #3B4455;\n",
              "    fill: #D2E3FC;\n",
              "  }\n",
              "\n",
              "  [theme=dark] .colab-df-quickchart:hover {\n",
              "    background-color: #434B5C;\n",
              "    box-shadow: 0px 1px 3px 1px rgba(0, 0, 0, 0.15);\n",
              "    filter: drop-shadow(0px 1px 2px rgba(0, 0, 0, 0.3));\n",
              "    fill: #FFFFFF;\n",
              "  }\n",
              "</style>\n",
              "\n",
              "    <script>\n",
              "      async function quickchart(key) {\n",
              "        const containerElement = document.querySelector('#' + key);\n",
              "        const charts = await google.colab.kernel.invokeFunction(\n",
              "            'suggestCharts', [key], {});\n",
              "      }\n",
              "    </script>\n",
              "\n",
              "      <script>\n",
              "\n",
              "function displayQuickchartButton(domScope) {\n",
              "  let quickchartButtonEl =\n",
              "    domScope.querySelector('#df-1e945af3-2d24-447b-bb14-9017ef5ed547 button.colab-df-quickchart');\n",
              "  quickchartButtonEl.style.display =\n",
              "    google.colab.kernel.accessAllowed ? 'block' : 'none';\n",
              "}\n",
              "\n",
              "        displayQuickchartButton(document);\n",
              "      </script>\n",
              "      <style>\n",
              "    .colab-df-container {\n",
              "      display:flex;\n",
              "      flex-wrap:wrap;\n",
              "      gap: 12px;\n",
              "    }\n",
              "\n",
              "    .colab-df-convert {\n",
              "      background-color: #E8F0FE;\n",
              "      border: none;\n",
              "      border-radius: 50%;\n",
              "      cursor: pointer;\n",
              "      display: none;\n",
              "      fill: #1967D2;\n",
              "      height: 32px;\n",
              "      padding: 0 0 0 0;\n",
              "      width: 32px;\n",
              "    }\n",
              "\n",
              "    .colab-df-convert:hover {\n",
              "      background-color: #E2EBFA;\n",
              "      box-shadow: 0px 1px 2px rgba(60, 64, 67, 0.3), 0px 1px 3px 1px rgba(60, 64, 67, 0.15);\n",
              "      fill: #174EA6;\n",
              "    }\n",
              "\n",
              "    [theme=dark] .colab-df-convert {\n",
              "      background-color: #3B4455;\n",
              "      fill: #D2E3FC;\n",
              "    }\n",
              "\n",
              "    [theme=dark] .colab-df-convert:hover {\n",
              "      background-color: #434B5C;\n",
              "      box-shadow: 0px 1px 3px 1px rgba(0, 0, 0, 0.15);\n",
              "      filter: drop-shadow(0px 1px 2px rgba(0, 0, 0, 0.3));\n",
              "      fill: #FFFFFF;\n",
              "    }\n",
              "  </style>\n",
              "\n",
              "      <script>\n",
              "        const buttonEl =\n",
              "          document.querySelector('#df-f1f34b03-0968-482b-80a8-0d475d9a5c86 button.colab-df-convert');\n",
              "        buttonEl.style.display =\n",
              "          google.colab.kernel.accessAllowed ? 'block' : 'none';\n",
              "\n",
              "        async function convertToInteractive(key) {\n",
              "          const element = document.querySelector('#df-f1f34b03-0968-482b-80a8-0d475d9a5c86');\n",
              "          const dataTable =\n",
              "            await google.colab.kernel.invokeFunction('convertToInteractive',\n",
              "                                                     [key], {});\n",
              "          if (!dataTable) return;\n",
              "\n",
              "          const docLinkHtml = 'Like what you see? Visit the ' +\n",
              "            '<a target=\"_blank\" href=https://colab.research.google.com/notebooks/data_table.ipynb>data table notebook</a>'\n",
              "            + ' to learn more about interactive tables.';\n",
              "          element.innerHTML = '';\n",
              "          dataTable['output_type'] = 'display_data';\n",
              "          await google.colab.output.renderOutput(dataTable, element);\n",
              "          const docLink = document.createElement('div');\n",
              "          docLink.innerHTML = docLinkHtml;\n",
              "          element.appendChild(docLink);\n",
              "        }\n",
              "      </script>\n",
              "    </div>\n",
              "  </div>\n"
            ]
          },
          "metadata": {},
          "execution_count": 11
        }
      ]
    },
    {
      "cell_type": "code",
      "source": [
        "df.iloc[4].summaries,df.iloc[4].terms"
      ],
      "metadata": {
        "colab": {
          "base_uri": "https://localhost:8080/"
        },
        "id": "8L7a-CAzPahG",
        "outputId": "c2460d37-7729-40cb-bc63-6ae85f7a21f4"
      },
      "execution_count": 12,
      "outputs": [
        {
          "output_type": "execute_result",
          "data": {
            "text/plain": [
              "('To ensure safety in automated driving, the correct perception of the\\nsituation inside the car is as important as its environment. Thus, seat\\noccupancy detection and classification of detected instances play an important\\nrole in interior sensing. By the knowledge of the seat occupancy status, it is\\npossible to, e.g., automate the airbag deployment control. Furthermore, the\\npresence of a driver, which is necessary for partially automated driving cars\\nat the automation levels two to four can be verified. In this work, we compare\\ndifferent statistical methods from the field of image segmentation to approach\\nthe problem of background-foreground segmentation in camera based interior\\nsensing. In the recent years, several methods based on different techniques\\nhave been developed and applied to images or videos from different\\napplications. The peculiarity of the given scenarios of interior sensing is,\\nthat the foreground instances and the background both contain static as well as\\ndynamic elements. In data considered in this work, even the camera position is\\nnot completely fixed. We review and benchmark three different methods ranging,\\ni.e., Gaussian Mixture Models (GMM), Morphological Snakes and a deep neural\\nnetwork, namely a Mask R-CNN. In particular, the limitations of the classical\\nmethods, GMM and Morphological Snakes, for interior sensing are shown.\\nFurthermore, it turns, that it is possible to overcome these limitations by\\ndeep learning, e.g.\\\\ using a Mask R-CNN. Although only a small amount of ground\\ntruth data was available for training, we enabled the Mask R-CNN to produce\\nhigh quality background-foreground masks via transfer learning. Moreover, we\\ndemonstrate that certain augmentation as well as pre- and post-processing\\nmethods further enhance the performance of the investigated methods.',\n",
              " \"['cs.CV', 'cs.LG']\")"
            ]
          },
          "metadata": {},
          "execution_count": 12
        }
      ]
    },
    {
      "cell_type": "code",
      "source": [
        "df['titles'].duplicated().sum()"
      ],
      "metadata": {
        "colab": {
          "base_uri": "https://localhost:8080/"
        },
        "id": "TlYZohgNP5x1",
        "outputId": "7a7a6e14-f077-4832-cb10-a4261296dd39"
      },
      "execution_count": 13,
      "outputs": [
        {
          "output_type": "execute_result",
          "data": {
            "text/plain": [
              "12802"
            ]
          },
          "metadata": {},
          "execution_count": 13
        }
      ]
    },
    {
      "cell_type": "code",
      "source": [
        "df.drop_duplicates(inplace = True)"
      ],
      "metadata": {
        "id": "jgjgrhrMSNiS"
      },
      "execution_count": 14,
      "outputs": []
    },
    {
      "cell_type": "code",
      "source": [
        "df.shape"
      ],
      "metadata": {
        "colab": {
          "base_uri": "https://localhost:8080/"
        },
        "id": "HssEhOASYbnn",
        "outputId": "f545fe6d-fa3f-4d33-cb86-b53d7492bf4b"
      },
      "execution_count": 15,
      "outputs": [
        {
          "output_type": "execute_result",
          "data": {
            "text/plain": [
              "(38991, 3)"
            ]
          },
          "metadata": {},
          "execution_count": 15
        }
      ]
    },
    {
      "cell_type": "code",
      "source": [
        "import re\n",
        "def Text_cleaning(text):\n",
        "  text = re.sub(r\"\\n\" , \" \", text)\n",
        "\n",
        "  text = re.sub(r\"\\s+\" , \" \", text)\n",
        "\n",
        "  text = text.lower()\n",
        "  text = text.replace('\\n',\" \")\n",
        "\n",
        "  return text\n",
        "\n"
      ],
      "metadata": {
        "id": "6GOx_bbzYdkr"
      },
      "execution_count": 16,
      "outputs": []
    },
    {
      "cell_type": "code",
      "source": [
        "Text_cleaning(df.iloc[4].summaries)"
      ],
      "metadata": {
        "colab": {
          "base_uri": "https://localhost:8080/",
          "height": 165
        },
        "id": "9A3J3KFLZlne",
        "outputId": "2d1235d7-38f3-4492-84de-ce3a70ff7160"
      },
      "execution_count": 17,
      "outputs": [
        {
          "output_type": "execute_result",
          "data": {
            "text/plain": [
              "'to ensure safety in automated driving, the correct perception of the situation inside the car is as important as its environment. thus, seat occupancy detection and classification of detected instances play an important role in interior sensing. by the knowledge of the seat occupancy status, it is possible to, e.g., automate the airbag deployment control. furthermore, the presence of a driver, which is necessary for partially automated driving cars at the automation levels two to four can be verified. in this work, we compare different statistical methods from the field of image segmentation to approach the problem of background-foreground segmentation in camera based interior sensing. in the recent years, several methods based on different techniques have been developed and applied to images or videos from different applications. the peculiarity of the given scenarios of interior sensing is, that the foreground instances and the background both contain static as well as dynamic elements. in data considered in this work, even the camera position is not completely fixed. we review and benchmark three different methods ranging, i.e., gaussian mixture models (gmm), morphological snakes and a deep neural network, namely a mask r-cnn. in particular, the limitations of the classical methods, gmm and morphological snakes, for interior sensing are shown. furthermore, it turns, that it is possible to overcome these limitations by deep learning, e.g.\\\\ using a mask r-cnn. although only a small amount of ground truth data was available for training, we enabled the mask r-cnn to produce high quality background-foreground masks via transfer learning. moreover, we demonstrate that certain augmentation as well as pre- and post-processing methods further enhance the performance of the investigated methods.'"
            ],
            "application/vnd.google.colaboratory.intrinsic+json": {
              "type": "string"
            }
          },
          "metadata": {},
          "execution_count": 17
        }
      ]
    },
    {
      "cell_type": "code",
      "source": [
        "df['cleaned_summary'] = df['summaries'].apply(Text_cleaning)"
      ],
      "metadata": {
        "id": "oAZr8RxRZqSV"
      },
      "execution_count": 18,
      "outputs": []
    },
    {
      "cell_type": "code",
      "source": [
        "df.head()"
      ],
      "metadata": {
        "colab": {
          "base_uri": "https://localhost:8080/",
          "height": 337
        },
        "id": "hgtig_YEaE6_",
        "outputId": "455d51ea-610b-4fbe-d7a9-1af512d71018"
      },
      "execution_count": 19,
      "outputs": [
        {
          "output_type": "execute_result",
          "data": {
            "text/plain": [
              "                                              titles  \\\n",
              "0  Survey on Semantic Stereo Matching / Semantic ...   \n",
              "1  FUTURE-AI: Guiding Principles and Consensus Re...   \n",
              "2  Enforcing Mutual Consistency of Hard Regions f...   \n",
              "3  Parameter Decoupling Strategy for Semi-supervi...   \n",
              "4  Background-Foreground Segmentation for Interio...   \n",
              "\n",
              "                                           summaries  \\\n",
              "0  Stereo matching is one of the widely used tech...   \n",
              "1  The recent advancements in artificial intellig...   \n",
              "2  In this paper, we proposed a novel mutual cons...   \n",
              "3  Consistency training has proven to be an advan...   \n",
              "4  To ensure safety in automated driving, the cor...   \n",
              "\n",
              "                         terms  \\\n",
              "0           ['cs.CV', 'cs.LG']   \n",
              "1  ['cs.CV', 'cs.AI', 'cs.LG']   \n",
              "2           ['cs.CV', 'cs.AI']   \n",
              "3                    ['cs.CV']   \n",
              "4           ['cs.CV', 'cs.LG']   \n",
              "\n",
              "                                     cleaned_summary  \n",
              "0  stereo matching is one of the widely used tech...  \n",
              "1  the recent advancements in artificial intellig...  \n",
              "2  in this paper, we proposed a novel mutual cons...  \n",
              "3  consistency training has proven to be an advan...  \n",
              "4  to ensure safety in automated driving, the cor...  "
            ],
            "text/html": [
              "\n",
              "\n",
              "  <div id=\"df-42018f66-ff10-4ec6-a927-193c0cbbb3f2\">\n",
              "    <div class=\"colab-df-container\">\n",
              "      <div>\n",
              "<style scoped>\n",
              "    .dataframe tbody tr th:only-of-type {\n",
              "        vertical-align: middle;\n",
              "    }\n",
              "\n",
              "    .dataframe tbody tr th {\n",
              "        vertical-align: top;\n",
              "    }\n",
              "\n",
              "    .dataframe thead th {\n",
              "        text-align: right;\n",
              "    }\n",
              "</style>\n",
              "<table border=\"1\" class=\"dataframe\">\n",
              "  <thead>\n",
              "    <tr style=\"text-align: right;\">\n",
              "      <th></th>\n",
              "      <th>titles</th>\n",
              "      <th>summaries</th>\n",
              "      <th>terms</th>\n",
              "      <th>cleaned_summary</th>\n",
              "    </tr>\n",
              "  </thead>\n",
              "  <tbody>\n",
              "    <tr>\n",
              "      <th>0</th>\n",
              "      <td>Survey on Semantic Stereo Matching / Semantic ...</td>\n",
              "      <td>Stereo matching is one of the widely used tech...</td>\n",
              "      <td>['cs.CV', 'cs.LG']</td>\n",
              "      <td>stereo matching is one of the widely used tech...</td>\n",
              "    </tr>\n",
              "    <tr>\n",
              "      <th>1</th>\n",
              "      <td>FUTURE-AI: Guiding Principles and Consensus Re...</td>\n",
              "      <td>The recent advancements in artificial intellig...</td>\n",
              "      <td>['cs.CV', 'cs.AI', 'cs.LG']</td>\n",
              "      <td>the recent advancements in artificial intellig...</td>\n",
              "    </tr>\n",
              "    <tr>\n",
              "      <th>2</th>\n",
              "      <td>Enforcing Mutual Consistency of Hard Regions f...</td>\n",
              "      <td>In this paper, we proposed a novel mutual cons...</td>\n",
              "      <td>['cs.CV', 'cs.AI']</td>\n",
              "      <td>in this paper, we proposed a novel mutual cons...</td>\n",
              "    </tr>\n",
              "    <tr>\n",
              "      <th>3</th>\n",
              "      <td>Parameter Decoupling Strategy for Semi-supervi...</td>\n",
              "      <td>Consistency training has proven to be an advan...</td>\n",
              "      <td>['cs.CV']</td>\n",
              "      <td>consistency training has proven to be an advan...</td>\n",
              "    </tr>\n",
              "    <tr>\n",
              "      <th>4</th>\n",
              "      <td>Background-Foreground Segmentation for Interio...</td>\n",
              "      <td>To ensure safety in automated driving, the cor...</td>\n",
              "      <td>['cs.CV', 'cs.LG']</td>\n",
              "      <td>to ensure safety in automated driving, the cor...</td>\n",
              "    </tr>\n",
              "  </tbody>\n",
              "</table>\n",
              "</div>\n",
              "      <button class=\"colab-df-convert\" onclick=\"convertToInteractive('df-42018f66-ff10-4ec6-a927-193c0cbbb3f2')\"\n",
              "              title=\"Convert this dataframe to an interactive table.\"\n",
              "              style=\"display:none;\">\n",
              "\n",
              "  <svg xmlns=\"http://www.w3.org/2000/svg\" height=\"24px\"viewBox=\"0 0 24 24\"\n",
              "       width=\"24px\">\n",
              "    <path d=\"M0 0h24v24H0V0z\" fill=\"none\"/>\n",
              "    <path d=\"M18.56 5.44l.94 2.06.94-2.06 2.06-.94-2.06-.94-.94-2.06-.94 2.06-2.06.94zm-11 1L8.5 8.5l.94-2.06 2.06-.94-2.06-.94L8.5 2.5l-.94 2.06-2.06.94zm10 10l.94 2.06.94-2.06 2.06-.94-2.06-.94-.94-2.06-.94 2.06-2.06.94z\"/><path d=\"M17.41 7.96l-1.37-1.37c-.4-.4-.92-.59-1.43-.59-.52 0-1.04.2-1.43.59L10.3 9.45l-7.72 7.72c-.78.78-.78 2.05 0 2.83L4 21.41c.39.39.9.59 1.41.59.51 0 1.02-.2 1.41-.59l7.78-7.78 2.81-2.81c.8-.78.8-2.07 0-2.86zM5.41 20L4 18.59l7.72-7.72 1.47 1.35L5.41 20z\"/>\n",
              "  </svg>\n",
              "      </button>\n",
              "\n",
              "\n",
              "\n",
              "    <div id=\"df-93187674-5ba1-4801-abb9-8975083e9330\">\n",
              "      <button class=\"colab-df-quickchart\" onclick=\"quickchart('df-93187674-5ba1-4801-abb9-8975083e9330')\"\n",
              "              title=\"Suggest charts.\"\n",
              "              style=\"display:none;\">\n",
              "\n",
              "<svg xmlns=\"http://www.w3.org/2000/svg\" height=\"24px\"viewBox=\"0 0 24 24\"\n",
              "     width=\"24px\">\n",
              "    <g>\n",
              "        <path d=\"M19 3H5c-1.1 0-2 .9-2 2v14c0 1.1.9 2 2 2h14c1.1 0 2-.9 2-2V5c0-1.1-.9-2-2-2zM9 17H7v-7h2v7zm4 0h-2V7h2v10zm4 0h-2v-4h2v4z\"/>\n",
              "    </g>\n",
              "</svg>\n",
              "      </button>\n",
              "    </div>\n",
              "\n",
              "<style>\n",
              "  .colab-df-quickchart {\n",
              "    background-color: #E8F0FE;\n",
              "    border: none;\n",
              "    border-radius: 50%;\n",
              "    cursor: pointer;\n",
              "    display: none;\n",
              "    fill: #1967D2;\n",
              "    height: 32px;\n",
              "    padding: 0 0 0 0;\n",
              "    width: 32px;\n",
              "  }\n",
              "\n",
              "  .colab-df-quickchart:hover {\n",
              "    background-color: #E2EBFA;\n",
              "    box-shadow: 0px 1px 2px rgba(60, 64, 67, 0.3), 0px 1px 3px 1px rgba(60, 64, 67, 0.15);\n",
              "    fill: #174EA6;\n",
              "  }\n",
              "\n",
              "  [theme=dark] .colab-df-quickchart {\n",
              "    background-color: #3B4455;\n",
              "    fill: #D2E3FC;\n",
              "  }\n",
              "\n",
              "  [theme=dark] .colab-df-quickchart:hover {\n",
              "    background-color: #434B5C;\n",
              "    box-shadow: 0px 1px 3px 1px rgba(0, 0, 0, 0.15);\n",
              "    filter: drop-shadow(0px 1px 2px rgba(0, 0, 0, 0.3));\n",
              "    fill: #FFFFFF;\n",
              "  }\n",
              "</style>\n",
              "\n",
              "    <script>\n",
              "      async function quickchart(key) {\n",
              "        const containerElement = document.querySelector('#' + key);\n",
              "        const charts = await google.colab.kernel.invokeFunction(\n",
              "            'suggestCharts', [key], {});\n",
              "      }\n",
              "    </script>\n",
              "\n",
              "      <script>\n",
              "\n",
              "function displayQuickchartButton(domScope) {\n",
              "  let quickchartButtonEl =\n",
              "    domScope.querySelector('#df-93187674-5ba1-4801-abb9-8975083e9330 button.colab-df-quickchart');\n",
              "  quickchartButtonEl.style.display =\n",
              "    google.colab.kernel.accessAllowed ? 'block' : 'none';\n",
              "}\n",
              "\n",
              "        displayQuickchartButton(document);\n",
              "      </script>\n",
              "      <style>\n",
              "    .colab-df-container {\n",
              "      display:flex;\n",
              "      flex-wrap:wrap;\n",
              "      gap: 12px;\n",
              "    }\n",
              "\n",
              "    .colab-df-convert {\n",
              "      background-color: #E8F0FE;\n",
              "      border: none;\n",
              "      border-radius: 50%;\n",
              "      cursor: pointer;\n",
              "      display: none;\n",
              "      fill: #1967D2;\n",
              "      height: 32px;\n",
              "      padding: 0 0 0 0;\n",
              "      width: 32px;\n",
              "    }\n",
              "\n",
              "    .colab-df-convert:hover {\n",
              "      background-color: #E2EBFA;\n",
              "      box-shadow: 0px 1px 2px rgba(60, 64, 67, 0.3), 0px 1px 3px 1px rgba(60, 64, 67, 0.15);\n",
              "      fill: #174EA6;\n",
              "    }\n",
              "\n",
              "    [theme=dark] .colab-df-convert {\n",
              "      background-color: #3B4455;\n",
              "      fill: #D2E3FC;\n",
              "    }\n",
              "\n",
              "    [theme=dark] .colab-df-convert:hover {\n",
              "      background-color: #434B5C;\n",
              "      box-shadow: 0px 1px 3px 1px rgba(0, 0, 0, 0.15);\n",
              "      filter: drop-shadow(0px 1px 2px rgba(0, 0, 0, 0.3));\n",
              "      fill: #FFFFFF;\n",
              "    }\n",
              "  </style>\n",
              "\n",
              "      <script>\n",
              "        const buttonEl =\n",
              "          document.querySelector('#df-42018f66-ff10-4ec6-a927-193c0cbbb3f2 button.colab-df-convert');\n",
              "        buttonEl.style.display =\n",
              "          google.colab.kernel.accessAllowed ? 'block' : 'none';\n",
              "\n",
              "        async function convertToInteractive(key) {\n",
              "          const element = document.querySelector('#df-42018f66-ff10-4ec6-a927-193c0cbbb3f2');\n",
              "          const dataTable =\n",
              "            await google.colab.kernel.invokeFunction('convertToInteractive',\n",
              "                                                     [key], {});\n",
              "          if (!dataTable) return;\n",
              "\n",
              "          const docLinkHtml = 'Like what you see? Visit the ' +\n",
              "            '<a target=\"_blank\" href=https://colab.research.google.com/notebooks/data_table.ipynb>data table notebook</a>'\n",
              "            + ' to learn more about interactive tables.';\n",
              "          element.innerHTML = '';\n",
              "          dataTable['output_type'] = 'display_data';\n",
              "          await google.colab.output.renderOutput(dataTable, element);\n",
              "          const docLink = document.createElement('div');\n",
              "          docLink.innerHTML = docLinkHtml;\n",
              "          element.appendChild(docLink);\n",
              "        }\n",
              "      </script>\n",
              "    </div>\n",
              "  </div>\n"
            ]
          },
          "metadata": {},
          "execution_count": 19
        }
      ]
    },
    {
      "cell_type": "code",
      "source": [
        "df.info()"
      ],
      "metadata": {
        "colab": {
          "base_uri": "https://localhost:8080/"
        },
        "id": "no9r3nE4aOF4",
        "outputId": "509a0f8b-6439-41ce-cbf8-e143ee9c6743"
      },
      "execution_count": 20,
      "outputs": [
        {
          "output_type": "stream",
          "name": "stdout",
          "text": [
            "<class 'pandas.core.frame.DataFrame'>\n",
            "Int64Index: 38991 entries, 0 to 51772\n",
            "Data columns (total 4 columns):\n",
            " #   Column           Non-Null Count  Dtype \n",
            "---  ------           --------------  ----- \n",
            " 0   titles           38991 non-null  object\n",
            " 1   summaries        38991 non-null  object\n",
            " 2   terms            38991 non-null  object\n",
            " 3   cleaned_summary  38991 non-null  object\n",
            "dtypes: object(4)\n",
            "memory usage: 1.5+ MB\n"
          ]
        }
      ]
    },
    {
      "cell_type": "code",
      "source": [
        "df.terms.value_counts()"
      ],
      "metadata": {
        "colab": {
          "base_uri": "https://localhost:8080/"
        },
        "id": "JDawFoxtBKoL",
        "outputId": "6e89d425-761e-4c34-ba4b-c120f458d7d0"
      },
      "execution_count": 21,
      "outputs": [
        {
          "output_type": "execute_result",
          "data": {
            "text/plain": [
              "['cs.CV']                                          12753\n",
              "['cs.LG', 'stat.ML']                                4076\n",
              "['cs.LG']                                           2047\n",
              "['cs.CV', 'cs.LG']                                  1488\n",
              "['cs.LG', 'cs.AI']                                  1207\n",
              "                                                   ...  \n",
              "['cs.LG', 'cs.CL', 'cs.HC', 'stat.ML']                 1\n",
              "['cs.LG', 'cs.AI', 'cs.CL', 'cs.PL', 'stat.ML']        1\n",
              "['cs.LG', 'cs.CL', 'stat.ME', 'stat.ML']               1\n",
              "['cs.LG', 'cs.CL', 'cs.LO', 'stat.ML']                 1\n",
              "['stat.ML', 'cs.CV', 'cs.LG', 'q-bio.QM']              1\n",
              "Name: terms, Length: 3157, dtype: int64"
            ]
          },
          "metadata": {},
          "execution_count": 21
        }
      ]
    },
    {
      "cell_type": "code",
      "source": [],
      "metadata": {
        "id": "YNFZnlemBKe5"
      },
      "execution_count": 21,
      "outputs": []
    },
    {
      "cell_type": "code",
      "source": [
        "new_df = df.groupby('terms').filter(lambda x: len(x) > 1)"
      ],
      "metadata": {
        "id": "YZY_WfnQyOEM"
      },
      "execution_count": 22,
      "outputs": []
    },
    {
      "cell_type": "code",
      "source": [
        "new_df.terms.value_counts()"
      ],
      "metadata": {
        "colab": {
          "base_uri": "https://localhost:8080/"
        },
        "id": "_vRdoQ8o9xtg",
        "outputId": "a4c7fca2-5946-427e-83a7-290cfc178538"
      },
      "execution_count": 23,
      "outputs": [
        {
          "output_type": "execute_result",
          "data": {
            "text/plain": [
              "['cs.CV']                                                         12753\n",
              "['cs.LG', 'stat.ML']                                               4076\n",
              "['cs.LG']                                                          2047\n",
              "['cs.CV', 'cs.LG']                                                 1488\n",
              "['cs.LG', 'cs.AI']                                                 1207\n",
              "                                                                  ...  \n",
              "['cs.CV', 'cs.LG', 'eess.IV', 'eess.SP', 'stat.ML']                   2\n",
              "['cs.LG', 'cs.CL', 'cs.CV', 'cs.NE', 'stat.ML']                       2\n",
              "['stat.ML', 'cs.IT', 'cs.LG', 'math.IT', 'math.ST', 'stat.TH']        2\n",
              "['cs.CV', 'cs.CL', 'cs.LG', 'eess.AS', 'eess.IV']                     2\n",
              "['cs.LG', 'G.3']                                                      2\n",
              "Name: terms, Length: 836, dtype: int64"
            ]
          },
          "metadata": {},
          "execution_count": 23
        }
      ]
    },
    {
      "cell_type": "code",
      "source": [
        "len(new_df.iloc[2].terms),new_df.iloc[2].terms"
      ],
      "metadata": {
        "colab": {
          "base_uri": "https://localhost:8080/"
        },
        "id": "Z97fM8UI9xlm",
        "outputId": "9e4367a8-d081-4c90-83d8-99e9fda1ef1c"
      },
      "execution_count": 24,
      "outputs": [
        {
          "output_type": "execute_result",
          "data": {
            "text/plain": [
              "(18, \"['cs.CV', 'cs.AI']\")"
            ]
          },
          "metadata": {},
          "execution_count": 24
        }
      ]
    },
    {
      "cell_type": "markdown",
      "source": [
        "## convert the string labels to lists of strings"
      ],
      "metadata": {
        "id": "YXZoL7tY14si"
      }
    },
    {
      "cell_type": "code",
      "source": [
        "import ast\n",
        "new_df['terms'] = new_df['terms'].apply(lambda x: ast.literal_eval(x))"
      ],
      "metadata": {
        "id": "Bakwn30V14jY"
      },
      "execution_count": 25,
      "outputs": []
    },
    {
      "cell_type": "code",
      "source": [
        "len(new_df.iloc[2].terms),new_df.iloc[2].terms"
      ],
      "metadata": {
        "colab": {
          "base_uri": "https://localhost:8080/"
        },
        "id": "7nNLqKCw14ZY",
        "outputId": "94ddd5c5-7ee1-446f-88b9-7be213972366"
      },
      "execution_count": 26,
      "outputs": [
        {
          "output_type": "execute_result",
          "data": {
            "text/plain": [
              "(2, ['cs.CV', 'cs.AI'])"
            ]
          },
          "metadata": {},
          "execution_count": 26
        }
      ]
    },
    {
      "cell_type": "code",
      "source": [
        "new_df['terms'].values[:5]"
      ],
      "metadata": {
        "colab": {
          "base_uri": "https://localhost:8080/"
        },
        "id": "khgidRiO49-L",
        "outputId": "d5cba07f-f8db-45d9-892e-6d475ecd0c74"
      },
      "execution_count": 27,
      "outputs": [
        {
          "output_type": "execute_result",
          "data": {
            "text/plain": [
              "array([list(['cs.CV', 'cs.LG']), list(['cs.CV', 'cs.AI', 'cs.LG']),\n",
              "       list(['cs.CV', 'cs.AI']), list(['cs.CV']),\n",
              "       list(['cs.CV', 'cs.LG'])], dtype=object)"
            ]
          },
          "metadata": {},
          "execution_count": 27
        }
      ]
    },
    {
      "cell_type": "markdown",
      "source": [
        "## Spliting into train test split"
      ],
      "metadata": {
        "id": "GfHLShvBdNde"
      }
    },
    {
      "cell_type": "code",
      "source": [
        "from sklearn.model_selection import train_test_split\n",
        "# train_df, test_df_0 = train_test_split(\n",
        "#     new_df,\n",
        "#     test_size = 0.1,\n",
        "#     stratify = new_df['terms'].values\n",
        "# )"
      ],
      "metadata": {
        "id": "zI3iXIBCdWvG"
      },
      "execution_count": 28,
      "outputs": []
    },
    {
      "cell_type": "code",
      "source": [
        "# train_df.shape, test_df_0.shape"
      ],
      "metadata": {
        "id": "6i_mS6pyy3dX"
      },
      "execution_count": 29,
      "outputs": []
    },
    {
      "cell_type": "code",
      "source": [
        "# # spliting test data further into test and validation\n",
        "\n",
        "# test_df, val_df = train_test_split(\n",
        "#     test_df_0,\n",
        "#     train_size = 0.5,\n",
        "#     stratify = new_df['terms'].values\n",
        "# )"
      ],
      "metadata": {
        "id": "sGY0dhHMgW7d"
      },
      "execution_count": 30,
      "outputs": []
    },
    {
      "cell_type": "code",
      "source": [
        "from sklearn.model_selection import train_test_split\n",
        "\n",
        "def split_dataset(data, train_ratio=0.8, test_ratio=0.1, val_ratio=0.1, random_seed=42):\n",
        "\n",
        "    train_data, temp_data = train_test_split(data, train_size=train_ratio, random_state=random_seed)\n",
        "    test_data, val_data = train_test_split(temp_data, train_size=test_ratio / (test_ratio + val_ratio),\n",
        "                                           random_state=random_seed)\n",
        "\n",
        "    return train_data, test_data, val_data\n",
        "\n",
        "\n",
        "train_data, test_data, val_data = split_dataset(new_df, train_ratio=0.8, test_ratio=0.1, val_ratio=0.1)\n"
      ],
      "metadata": {
        "id": "AvYvYGr3yv1h"
      },
      "execution_count": 31,
      "outputs": []
    },
    {
      "cell_type": "code",
      "source": [
        "len(train_data),len(test_data),len(val_data)"
      ],
      "metadata": {
        "colab": {
          "base_uri": "https://localhost:8080/"
        },
        "id": "XlyRsS_d0kjc",
        "outputId": "9fed55d2-21e9-496b-f190-f92c5441d25a"
      },
      "execution_count": 32,
      "outputs": [
        {
          "output_type": "execute_result",
          "data": {
            "text/plain": [
              "(29336, 3667, 3667)"
            ]
          },
          "metadata": {},
          "execution_count": 32
        }
      ]
    },
    {
      "cell_type": "markdown",
      "source": [
        "### Multi-label Binarization"
      ],
      "metadata": {
        "id": "BR1npxc-0puN"
      }
    },
    {
      "cell_type": "code",
      "source": [
        "tf.keras.layers.StringLookup(output_mode = 'multi_hot')"
      ],
      "metadata": {
        "colab": {
          "base_uri": "https://localhost:8080/"
        },
        "id": "TX-_9LfUQZoU",
        "outputId": "d604ae87-3ae2-4859-f9f6-bf957bee9d1a"
      },
      "execution_count": 33,
      "outputs": [
        {
          "output_type": "execute_result",
          "data": {
            "text/plain": [
              "<keras.layers.preprocessing.string_lookup.StringLookup at 0x7f21142ab4f0>"
            ]
          },
          "metadata": {},
          "execution_count": 33
        }
      ]
    },
    {
      "cell_type": "code",
      "source": [
        "terms = tf.ragged.constant(train_data['terms'].values)\n",
        "lookup = tf.keras.layers.StringLookup(output_mode = 'multi_hot')\n",
        "lookup.adapt(terms)\n",
        "vocab = lookup.get_vocabulary()"
      ],
      "metadata": {
        "id": "4fJx11Wy6j5t"
      },
      "execution_count": 34,
      "outputs": []
    },
    {
      "cell_type": "code",
      "source": [
        "vocab"
      ],
      "metadata": {
        "colab": {
          "base_uri": "https://localhost:8080/"
        },
        "id": "7hisc_u06v2Q",
        "outputId": "3a313dee-9674-4ea3-deac-3c3b3be6ec8b"
      },
      "execution_count": 35,
      "outputs": [
        {
          "output_type": "execute_result",
          "data": {
            "text/plain": [
              "['[UNK]',\n",
              " 'cs.CV',\n",
              " 'cs.LG',\n",
              " 'stat.ML',\n",
              " 'cs.AI',\n",
              " 'eess.IV',\n",
              " 'cs.RO',\n",
              " 'cs.CL',\n",
              " 'cs.NE',\n",
              " 'cs.CR',\n",
              " 'math.OC',\n",
              " 'eess.SP',\n",
              " 'cs.GR',\n",
              " 'cs.SI',\n",
              " 'cs.MM',\n",
              " 'cs.SY',\n",
              " 'cs.IR',\n",
              " 'eess.SY',\n",
              " 'cs.MA',\n",
              " 'cs.HC',\n",
              " 'cs.DC',\n",
              " 'math.IT',\n",
              " 'cs.IT',\n",
              " 'cs.CY',\n",
              " 'stat.AP',\n",
              " 'stat.TH',\n",
              " 'math.ST',\n",
              " 'stat.ME',\n",
              " 'eess.AS',\n",
              " 'cs.SD',\n",
              " 'q-bio.QM',\n",
              " 'cs.DS',\n",
              " 'q-bio.NC',\n",
              " 'cs.NI',\n",
              " 'cs.SE',\n",
              " 'I.2.6',\n",
              " 'stat.CO',\n",
              " 'cs.CG',\n",
              " 'cs.GT',\n",
              " 'math.NA',\n",
              " 'physics.chem-ph',\n",
              " 'cs.NA',\n",
              " 'cs.DB',\n",
              " 'cs.LO',\n",
              " 'cs.PL',\n",
              " '68T45',\n",
              " 'q-bio.BM',\n",
              " 'physics.comp-ph',\n",
              " 'math.PR',\n",
              " 'cs.AR',\n",
              " 'cond-mat.dis-nn',\n",
              " 'math.DS',\n",
              " 'I.2.10',\n",
              " 'cs.CE',\n",
              " 'physics.data-an',\n",
              " 'quant-ph',\n",
              " '68T05',\n",
              " 'q-fin.ST',\n",
              " 'cond-mat.stat-mech',\n",
              " 'cs.DM',\n",
              " 'physics.soc-ph',\n",
              " 'cs.CC',\n",
              " 'astro-ph.IM',\n",
              " 'I.4.6',\n",
              " 'q-bio.GN',\n",
              " 'econ.EM',\n",
              " 'physics.med-ph',\n",
              " 'cs.PF',\n",
              " 'I.4.8',\n",
              " 'q-fin.TR',\n",
              " 'physics.ao-ph',\n",
              " '68U10',\n",
              " 'math.AT',\n",
              " 'I.2',\n",
              " 'hep-ex',\n",
              " 'cs.FL',\n",
              " 'cond-mat.mtrl-sci',\n",
              " 'I.5.4',\n",
              " 'I.4',\n",
              " 'physics.optics',\n",
              " 'physics.geo-ph',\n",
              " 'math.AP',\n",
              " 'I.4; I.5',\n",
              " 'I.2.6; I.2.8',\n",
              " '68T01',\n",
              " '65D19',\n",
              " 'q-fin.CP',\n",
              " 'physics.flu-dyn',\n",
              " 'nlin.CD',\n",
              " '68T10',\n",
              " 'math.CO',\n",
              " 'cs.SC',\n",
              " 'cs.MS',\n",
              " 'I.4.9',\n",
              " 'I.2.8',\n",
              " 'I.2.6; I.5.1',\n",
              " 'I.2.0; I.2.6',\n",
              " '68U01',\n",
              " '68T30',\n",
              " '68T07',\n",
              " '68',\n",
              " 'q-fin.GN',\n",
              " 'q-fin.EC',\n",
              " 'econ.GN',\n",
              " 'cs.ET',\n",
              " 'K.3.2',\n",
              " 'I.4.5',\n",
              " 'I.2; I.5',\n",
              " 'I.2.10; I.4.8',\n",
              " 'q-fin.RM',\n",
              " 'q-bio.TO',\n",
              " 'q-bio.OT',\n",
              " 'q-bio.MN',\n",
              " 'physics.bio-ph',\n",
              " 'math.FA',\n",
              " 'cond-mat.soft',\n",
              " 'I.4.9; I.5.4',\n",
              " 'I.4.6; I.4.8',\n",
              " 'I.4.4',\n",
              " 'I.4.3',\n",
              " 'I.2; I.4; I.5',\n",
              " 'I.2; I.2.6; I.2.7',\n",
              " 'I.2.7',\n",
              " 'I.2.6; I.5.4',\n",
              " 'I.2.6; I.2.9',\n",
              " 'I.2.6; I.2.7; H.3.1; H.3.3',\n",
              " 'I.2.6; I.2.7',\n",
              " 'I.2.6, I.5.4',\n",
              " 'I.2.1; J.3',\n",
              " 'I.2.10; I.4; I.5',\n",
              " 'I.2.10; I.4.8; I.5.4',\n",
              " 'I.2.1',\n",
              " 'H.3.1; I.2.6; I.2.7',\n",
              " 'H.3.1; H.3.3; I.2.6; I.2.7',\n",
              " 'G.3',\n",
              " 'F.2.2; I.2.7',\n",
              " 'E.5; E.4; E.2; H.1.1; F.1.1; F.1.3',\n",
              " '68T99',\n",
              " '68Q32',\n",
              " '14J60 (Primary) 14F05, 14J26 (Secondary)',\n",
              " 'q-fin.PM',\n",
              " 'nlin.AO',\n",
              " 'hep-ph',\n",
              " 'I.4.0',\n",
              " 'I.2; J.2',\n",
              " 'I.2.6; I.2.10',\n",
              " 'I.2.10; I.5.1; I.4.8',\n",
              " 'I.2.10; I.2.6',\n",
              " '68Txx',\n",
              " '62H99',\n",
              " '62H30']"
            ]
          },
          "metadata": {},
          "execution_count": 35
        }
      ]
    },
    {
      "cell_type": "code",
      "source": [
        "def invert_multi_hot(encoded_labels):\n",
        "  hot_indices = np.argwhere(encoded_labels == 1.0)[:,0]\n",
        "  return np.take(vocab, hot_indices)"
      ],
      "metadata": {
        "id": "NXVYqwiU6xkt"
      },
      "execution_count": 36,
      "outputs": []
    },
    {
      "cell_type": "code",
      "source": [
        "import numpy as np\n",
        "ind = np.argwhere([1,0,0,1,0])[:,0]\n",
        "np.take(['a','b','c','d','e'],ind)"
      ],
      "metadata": {
        "colab": {
          "base_uri": "https://localhost:8080/"
        },
        "id": "0iMOx3hR945y",
        "outputId": "f6694b36-3786-4bc4-cb29-43b14dd5162a"
      },
      "execution_count": 37,
      "outputs": [
        {
          "output_type": "execute_result",
          "data": {
            "text/plain": [
              "array(['a', 'd'], dtype='<U1')"
            ]
          },
          "metadata": {},
          "execution_count": 37
        }
      ]
    },
    {
      "cell_type": "markdown",
      "source": [
        "**Try multi hot with some sample**"
      ],
      "metadata": {
        "id": "SW0Hu7dOHp-6"
      }
    },
    {
      "cell_type": "code",
      "source": [
        "sample_label = train_data['terms'].iloc[0]\n",
        "sample_label"
      ],
      "metadata": {
        "colab": {
          "base_uri": "https://localhost:8080/"
        },
        "id": "ew4Dxy5c96Gd",
        "outputId": "0944f100-3225-4420-ce95-a224b0c294de"
      },
      "execution_count": 38,
      "outputs": [
        {
          "output_type": "execute_result",
          "data": {
            "text/plain": [
              "['cs.CV', 'cs.LG', 'eess.IV']"
            ]
          },
          "metadata": {},
          "execution_count": 38
        }
      ]
    },
    {
      "cell_type": "code",
      "source": [
        "label_binarized = lookup(sample_label)\n",
        "label_binarized"
      ],
      "metadata": {
        "colab": {
          "base_uri": "https://localhost:8080/"
        },
        "id": "YyHrOgiYG5ko",
        "outputId": "ff8dbbaf-1729-4991-ac9d-bafba0833828"
      },
      "execution_count": 39,
      "outputs": [
        {
          "output_type": "execute_result",
          "data": {
            "text/plain": [
              "<tf.Tensor: shape=(151,), dtype=float32, numpy=\n",
              "array([0., 1., 1., 0., 0., 1., 0., 0., 0., 0., 0., 0., 0., 0., 0., 0., 0.,\n",
              "       0., 0., 0., 0., 0., 0., 0., 0., 0., 0., 0., 0., 0., 0., 0., 0., 0.,\n",
              "       0., 0., 0., 0., 0., 0., 0., 0., 0., 0., 0., 0., 0., 0., 0., 0., 0.,\n",
              "       0., 0., 0., 0., 0., 0., 0., 0., 0., 0., 0., 0., 0., 0., 0., 0., 0.,\n",
              "       0., 0., 0., 0., 0., 0., 0., 0., 0., 0., 0., 0., 0., 0., 0., 0., 0.,\n",
              "       0., 0., 0., 0., 0., 0., 0., 0., 0., 0., 0., 0., 0., 0., 0., 0., 0.,\n",
              "       0., 0., 0., 0., 0., 0., 0., 0., 0., 0., 0., 0., 0., 0., 0., 0., 0.,\n",
              "       0., 0., 0., 0., 0., 0., 0., 0., 0., 0., 0., 0., 0., 0., 0., 0., 0.,\n",
              "       0., 0., 0., 0., 0., 0., 0., 0., 0., 0., 0., 0., 0., 0., 0.],\n",
              "      dtype=float32)>"
            ]
          },
          "metadata": {},
          "execution_count": 39
        }
      ]
    },
    {
      "cell_type": "markdown",
      "source": [
        "**Invert binarized labels to sample labels**"
      ],
      "metadata": {
        "id": "5b8oJ4ESIwEx"
      }
    },
    {
      "cell_type": "code",
      "source": [
        "invert_multi_hot(label_binarized)"
      ],
      "metadata": {
        "colab": {
          "base_uri": "https://localhost:8080/"
        },
        "id": "69r8mhvWH-x1",
        "outputId": "cc5274d5-a0d0-4a7a-cfac-44f06d64260e"
      },
      "execution_count": 40,
      "outputs": [
        {
          "output_type": "execute_result",
          "data": {
            "text/plain": [
              "array(['cs.CV', 'cs.LG', 'eess.IV'], dtype='<U40')"
            ]
          },
          "metadata": {},
          "execution_count": 40
        }
      ]
    },
    {
      "cell_type": "code",
      "source": [
        "def length(x):\n",
        "  x = x.split(\" \")\n",
        "  return len(x)"
      ],
      "metadata": {
        "id": "61cYZcibKf6M"
      },
      "execution_count": 41,
      "outputs": []
    },
    {
      "cell_type": "code",
      "source": [
        "train_data['cleaned_summary'].apply(length).describe()"
      ],
      "metadata": {
        "colab": {
          "base_uri": "https://localhost:8080/"
        },
        "id": "eDDmAFHWIU0h",
        "outputId": "a71db360-2bdc-4295-976c-349447b2f659"
      },
      "execution_count": 42,
      "outputs": [
        {
          "output_type": "execute_result",
          "data": {
            "text/plain": [
              "count    29336.000000\n",
              "mean       171.597491\n",
              "std         45.364715\n",
              "min          5.000000\n",
              "25%        140.000000\n",
              "50%        169.000000\n",
              "75%        201.000000\n",
              "max        498.000000\n",
              "Name: cleaned_summary, dtype: float64"
            ]
          },
          "metadata": {},
          "execution_count": 42
        }
      ]
    },
    {
      "cell_type": "markdown",
      "source": [
        "## Preprocessing dataset"
      ],
      "metadata": {
        "id": "4MuyjLHMKsdm"
      }
    },
    {
      "cell_type": "code",
      "source": [
        "max_len = 160\n",
        "batch_size = 32\n",
        "padding_token = '<pad>'\n",
        "auto = tf.data.AUTOTUNE\n",
        "\n",
        "\n",
        "def make_dataset(dataframe, is_train=True):\n",
        "  labels = tf.ragged.constant(dataframe['terms'].values)\n",
        "  label_binarized = lookup(labels).numpy()\n",
        "  dataset = tf.data.Dataset.from_tensor_slices(\n",
        "      (dataframe['cleaned_summary'].values, label_binarized)\n",
        "  )\n",
        "  dataset = dataset.shuffle(batch_size * 10) if is_train else dataset\n",
        "  return dataset.batch(batch_size)"
      ],
      "metadata": {
        "id": "87Eb8bqeLS_U"
      },
      "execution_count": 43,
      "outputs": []
    },
    {
      "cell_type": "code",
      "source": [
        "train_dataset = make_dataset(train_data,is_train=True)\n",
        "val_dataset = make_dataset(val_data,is_train=False)\n",
        "test_dataset = make_dataset(test_data,is_train=False)"
      ],
      "metadata": {
        "id": "DAhW6gmqNNcW"
      },
      "execution_count": 44,
      "outputs": []
    },
    {
      "cell_type": "code",
      "source": [
        "text_batch, label_batch = next(iter(train_dataset))\n",
        "\n",
        "for i, text in enumerate(text_batch[:5]):\n",
        "    label = label_batch[i].numpy()\n",
        "    print(f'Abstract:{text}')\n",
        "    print(f'labels:{invert_multi_hot(label)}')\n",
        "    print(\" \")\n",
        "#   label = label_batch[i].numpy()[None,...]\n",
        "#   print(f'Abstract:{text}')\n",
        "#   print(f\"labels: {invert_multi_hot(label[0])}\")\n",
        "#   print(\" \")"
      ],
      "metadata": {
        "colab": {
          "base_uri": "https://localhost:8080/"
        },
        "id": "n9s46KowNZQE",
        "outputId": "773ca439-ab15-4153-fa32-bf9fd00ff94c"
      },
      "execution_count": 45,
      "outputs": [
        {
          "output_type": "stream",
          "name": "stdout",
          "text": [
            "Abstract:b'we introduce a new problem, the online selective anomaly detection (osad), to model a specific scenario emerging from research in sleep science. scientists have segmented sleep into several stages and stage two is characterized by two patterns (or anomalies) in the eeg time series recorded on sleep subjects. these two patterns are sleep spindle (ss) and k-complex. the osad problem was introduced to design a residual system, where all anomalies (known and unknown) are detected but the system only triggers an alarm when non-ss anomalies appear. the solution of the osad problem required us to combine techniques from both machine learning and control theory. experiments on data from real subjects attest to the effectiveness of our approach.'\n",
            "labels:['cs.LG']\n",
            " \n",
            "Abstract:b\"aiming to reduce pollutant emissions, bicycles are regaining popularity specially in urban areas. however, the number of cyclists' fatalities is not showing the same decreasing trend as the other traffic groups. hence, monitoring cyclists' data appears as a keystone to foster urban cyclists' safety by helping urban planners to design safer cyclist routes. in this work, we propose a fully image-based framework to assess the rout risk from the cyclist perspective. from smartphone sequences of images, this generic framework is able to automatically identify events considering different risk criteria based on the cyclist's motion and object detection. moreover, since it is entirely based on images, our method provides context on the situation and is independent from the expertise level of the cyclist. additionally, we build on an existing platform and introduce several improvements on its mobile app to acquire smartphone sensor data, including video. from the inertial sensor data, we automatically detect the route segments performed by bicycle, applying behavior analysis techniques. we test our methods on real data, attaining very promising results in terms of risk classification, according to two different criteria, and behavior analysis accuracy.\"\n",
            "labels:['cs.CV']\n",
            " \n",
            "Abstract:b'for successful scene text recognition (str) models, synthetic text image generators have alleviated the lack of annotated text images from the real world. specifically, they generate multiple text images with diverse backgrounds, font styles, and text shapes and enable str models to learn visual patterns that might not be accessible from manually annotated data. in this paper, we introduce a new synthetic text image generator, synthtiger, by analyzing techniques used for text image synthesis and integrating effective ones under a single algorithm. moreover, we propose two techniques that alleviate the long-tail problem in length and character distributions of training data. in our experiments, synthtiger achieves better str performance than the combination of synthetic datasets, mjsynth (mj) and synthtext (st). our ablation study demonstrates the benefits of using sub-components of synthtiger and the guideline on generating synthetic text images for str models. our implementation is publicly available at https://github.com/clovaai/synthtiger.'\n",
            "labels:['cs.CV']\n",
            " \n",
            "Abstract:b'geostatistical modeling of petrophysical properties is a key step in modern integrated oil and gas reservoir studies. recently, generative adversarial networks (gan) have been shown to be a successful method for generating unconditional simulations of pore- and reservoir-scale models. this contribution leverages the differentiable nature of neural networks to extend gans to the conditional simulation of three-dimensional pore- and reservoir-scale models. based on the previous work of yeh et al. (2016), we use a content loss to constrain to the conditioning data and a perceptual loss obtained from the evaluation of the gan discriminator network. the technique is tested on the generation of three-dimensional micro-ct images of a ketton limestone constrained by two-dimensional cross-sections, and on the simulation of the maules creek alluvial aquifer constrained by one-dimensional sections. our results show that gans represent a powerful method for sampling conditioned pore and reservoir samples for stochastic reservoir evaluation workflows.'\n",
            "labels:['cs.CV' 'stat.ML' 'physics.geo-ph']\n",
            " \n",
            "Abstract:b\"graph neural networks (gnns) have achieved high performance in analyzing graph-structured data and have been widely deployed in safety-critical areas, such as finance and autonomous driving. however, only a few works have explored gnns' robustness to adversarial attacks, and their designs are usually limited by the scale of input datasets (i.e., focusing on small graphs with only thousands of nodes). in this work, we propose, sag, the first scalable adversarial attack method with alternating direction method of multipliers (admm). we first decouple the large-scale graph into several smaller graph partitions and cast the original problem into several subproblems. then, we propose to solve these subproblems using projected gradient descent on both the graph topology and the node features that lead to considerably lower memory consumption compared to the conventional attack methods. rigorous experiments further demonstrate that sag can significantly reduce the computation and memory overhead compared with the state-of-the-art approach, making sag applicable towards graphs with large size of nodes and edges.\"\n",
            "labels:['cs.LG' 'stat.ML' 'cs.AI']\n",
            " \n"
          ]
        }
      ]
    },
    {
      "cell_type": "markdown",
      "source": [
        "## Vectorization"
      ],
      "metadata": {
        "id": "jY-Sza6uN3El"
      }
    },
    {
      "cell_type": "code",
      "source": [
        "train_data.head()"
      ],
      "metadata": {
        "colab": {
          "base_uri": "https://localhost:8080/",
          "height": 337
        },
        "id": "SUumHq72FUTj",
        "outputId": "2e490d77-ad39-4447-e1c4-bcd0befdebcf"
      },
      "execution_count": 46,
      "outputs": [
        {
          "output_type": "execute_result",
          "data": {
            "text/plain": [
              "                                                  titles  \\\n",
              "28824  MNEW: Multi-domain Neighborhood Embedding and ...   \n",
              "17210  StackGAN: Text to Photo-realistic Image Synthe...   \n",
              "51329  Sleep Analytics and Online Selective Anomaly D...   \n",
              "7337   C-MIL: Continuation Multiple Instance Learning...   \n",
              "20794  Border-SegGCN: Improving Semantic Segmentation...   \n",
              "\n",
              "                                               summaries  \\\n",
              "28824  Point clouds have been widely adopted in 3D se...   \n",
              "17210  Synthesizing high-quality images from text des...   \n",
              "51329  We introduce a new problem, the Online Selecti...   \n",
              "7337   Weakly supervised object detection (WSOD) is a...   \n",
              "20794  We present Border-SegGCN, a novel architecture...   \n",
              "\n",
              "                         terms  \\\n",
              "28824  [cs.CV, cs.LG, eess.IV]   \n",
              "17210  [cs.CV, cs.AI, stat.ML]   \n",
              "51329                  [cs.LG]   \n",
              "7337                   [cs.CV]   \n",
              "20794           [cs.CV, cs.AI]   \n",
              "\n",
              "                                         cleaned_summary  \n",
              "28824  point clouds have been widely adopted in 3d se...  \n",
              "17210  synthesizing high-quality images from text des...  \n",
              "51329  we introduce a new problem, the online selecti...  \n",
              "7337   weakly supervised object detection (wsod) is a...  \n",
              "20794  we present border-seggcn, a novel architecture...  "
            ],
            "text/html": [
              "\n",
              "\n",
              "  <div id=\"df-692b9f24-b07c-4611-974e-053ee5e46abb\">\n",
              "    <div class=\"colab-df-container\">\n",
              "      <div>\n",
              "<style scoped>\n",
              "    .dataframe tbody tr th:only-of-type {\n",
              "        vertical-align: middle;\n",
              "    }\n",
              "\n",
              "    .dataframe tbody tr th {\n",
              "        vertical-align: top;\n",
              "    }\n",
              "\n",
              "    .dataframe thead th {\n",
              "        text-align: right;\n",
              "    }\n",
              "</style>\n",
              "<table border=\"1\" class=\"dataframe\">\n",
              "  <thead>\n",
              "    <tr style=\"text-align: right;\">\n",
              "      <th></th>\n",
              "      <th>titles</th>\n",
              "      <th>summaries</th>\n",
              "      <th>terms</th>\n",
              "      <th>cleaned_summary</th>\n",
              "    </tr>\n",
              "  </thead>\n",
              "  <tbody>\n",
              "    <tr>\n",
              "      <th>28824</th>\n",
              "      <td>MNEW: Multi-domain Neighborhood Embedding and ...</td>\n",
              "      <td>Point clouds have been widely adopted in 3D se...</td>\n",
              "      <td>[cs.CV, cs.LG, eess.IV]</td>\n",
              "      <td>point clouds have been widely adopted in 3d se...</td>\n",
              "    </tr>\n",
              "    <tr>\n",
              "      <th>17210</th>\n",
              "      <td>StackGAN: Text to Photo-realistic Image Synthe...</td>\n",
              "      <td>Synthesizing high-quality images from text des...</td>\n",
              "      <td>[cs.CV, cs.AI, stat.ML]</td>\n",
              "      <td>synthesizing high-quality images from text des...</td>\n",
              "    </tr>\n",
              "    <tr>\n",
              "      <th>51329</th>\n",
              "      <td>Sleep Analytics and Online Selective Anomaly D...</td>\n",
              "      <td>We introduce a new problem, the Online Selecti...</td>\n",
              "      <td>[cs.LG]</td>\n",
              "      <td>we introduce a new problem, the online selecti...</td>\n",
              "    </tr>\n",
              "    <tr>\n",
              "      <th>7337</th>\n",
              "      <td>C-MIL: Continuation Multiple Instance Learning...</td>\n",
              "      <td>Weakly supervised object detection (WSOD) is a...</td>\n",
              "      <td>[cs.CV]</td>\n",
              "      <td>weakly supervised object detection (wsod) is a...</td>\n",
              "    </tr>\n",
              "    <tr>\n",
              "      <th>20794</th>\n",
              "      <td>Border-SegGCN: Improving Semantic Segmentation...</td>\n",
              "      <td>We present Border-SegGCN, a novel architecture...</td>\n",
              "      <td>[cs.CV, cs.AI]</td>\n",
              "      <td>we present border-seggcn, a novel architecture...</td>\n",
              "    </tr>\n",
              "  </tbody>\n",
              "</table>\n",
              "</div>\n",
              "      <button class=\"colab-df-convert\" onclick=\"convertToInteractive('df-692b9f24-b07c-4611-974e-053ee5e46abb')\"\n",
              "              title=\"Convert this dataframe to an interactive table.\"\n",
              "              style=\"display:none;\">\n",
              "\n",
              "  <svg xmlns=\"http://www.w3.org/2000/svg\" height=\"24px\"viewBox=\"0 0 24 24\"\n",
              "       width=\"24px\">\n",
              "    <path d=\"M0 0h24v24H0V0z\" fill=\"none\"/>\n",
              "    <path d=\"M18.56 5.44l.94 2.06.94-2.06 2.06-.94-2.06-.94-.94-2.06-.94 2.06-2.06.94zm-11 1L8.5 8.5l.94-2.06 2.06-.94-2.06-.94L8.5 2.5l-.94 2.06-2.06.94zm10 10l.94 2.06.94-2.06 2.06-.94-2.06-.94-.94-2.06-.94 2.06-2.06.94z\"/><path d=\"M17.41 7.96l-1.37-1.37c-.4-.4-.92-.59-1.43-.59-.52 0-1.04.2-1.43.59L10.3 9.45l-7.72 7.72c-.78.78-.78 2.05 0 2.83L4 21.41c.39.39.9.59 1.41.59.51 0 1.02-.2 1.41-.59l7.78-7.78 2.81-2.81c.8-.78.8-2.07 0-2.86zM5.41 20L4 18.59l7.72-7.72 1.47 1.35L5.41 20z\"/>\n",
              "  </svg>\n",
              "      </button>\n",
              "\n",
              "\n",
              "\n",
              "    <div id=\"df-d5f94016-5969-44fc-a274-d9d46ba430e1\">\n",
              "      <button class=\"colab-df-quickchart\" onclick=\"quickchart('df-d5f94016-5969-44fc-a274-d9d46ba430e1')\"\n",
              "              title=\"Suggest charts.\"\n",
              "              style=\"display:none;\">\n",
              "\n",
              "<svg xmlns=\"http://www.w3.org/2000/svg\" height=\"24px\"viewBox=\"0 0 24 24\"\n",
              "     width=\"24px\">\n",
              "    <g>\n",
              "        <path d=\"M19 3H5c-1.1 0-2 .9-2 2v14c0 1.1.9 2 2 2h14c1.1 0 2-.9 2-2V5c0-1.1-.9-2-2-2zM9 17H7v-7h2v7zm4 0h-2V7h2v10zm4 0h-2v-4h2v4z\"/>\n",
              "    </g>\n",
              "</svg>\n",
              "      </button>\n",
              "    </div>\n",
              "\n",
              "<style>\n",
              "  .colab-df-quickchart {\n",
              "    background-color: #E8F0FE;\n",
              "    border: none;\n",
              "    border-radius: 50%;\n",
              "    cursor: pointer;\n",
              "    display: none;\n",
              "    fill: #1967D2;\n",
              "    height: 32px;\n",
              "    padding: 0 0 0 0;\n",
              "    width: 32px;\n",
              "  }\n",
              "\n",
              "  .colab-df-quickchart:hover {\n",
              "    background-color: #E2EBFA;\n",
              "    box-shadow: 0px 1px 2px rgba(60, 64, 67, 0.3), 0px 1px 3px 1px rgba(60, 64, 67, 0.15);\n",
              "    fill: #174EA6;\n",
              "  }\n",
              "\n",
              "  [theme=dark] .colab-df-quickchart {\n",
              "    background-color: #3B4455;\n",
              "    fill: #D2E3FC;\n",
              "  }\n",
              "\n",
              "  [theme=dark] .colab-df-quickchart:hover {\n",
              "    background-color: #434B5C;\n",
              "    box-shadow: 0px 1px 3px 1px rgba(0, 0, 0, 0.15);\n",
              "    filter: drop-shadow(0px 1px 2px rgba(0, 0, 0, 0.3));\n",
              "    fill: #FFFFFF;\n",
              "  }\n",
              "</style>\n",
              "\n",
              "    <script>\n",
              "      async function quickchart(key) {\n",
              "        const containerElement = document.querySelector('#' + key);\n",
              "        const charts = await google.colab.kernel.invokeFunction(\n",
              "            'suggestCharts', [key], {});\n",
              "      }\n",
              "    </script>\n",
              "\n",
              "      <script>\n",
              "\n",
              "function displayQuickchartButton(domScope) {\n",
              "  let quickchartButtonEl =\n",
              "    domScope.querySelector('#df-d5f94016-5969-44fc-a274-d9d46ba430e1 button.colab-df-quickchart');\n",
              "  quickchartButtonEl.style.display =\n",
              "    google.colab.kernel.accessAllowed ? 'block' : 'none';\n",
              "}\n",
              "\n",
              "        displayQuickchartButton(document);\n",
              "      </script>\n",
              "      <style>\n",
              "    .colab-df-container {\n",
              "      display:flex;\n",
              "      flex-wrap:wrap;\n",
              "      gap: 12px;\n",
              "    }\n",
              "\n",
              "    .colab-df-convert {\n",
              "      background-color: #E8F0FE;\n",
              "      border: none;\n",
              "      border-radius: 50%;\n",
              "      cursor: pointer;\n",
              "      display: none;\n",
              "      fill: #1967D2;\n",
              "      height: 32px;\n",
              "      padding: 0 0 0 0;\n",
              "      width: 32px;\n",
              "    }\n",
              "\n",
              "    .colab-df-convert:hover {\n",
              "      background-color: #E2EBFA;\n",
              "      box-shadow: 0px 1px 2px rgba(60, 64, 67, 0.3), 0px 1px 3px 1px rgba(60, 64, 67, 0.15);\n",
              "      fill: #174EA6;\n",
              "    }\n",
              "\n",
              "    [theme=dark] .colab-df-convert {\n",
              "      background-color: #3B4455;\n",
              "      fill: #D2E3FC;\n",
              "    }\n",
              "\n",
              "    [theme=dark] .colab-df-convert:hover {\n",
              "      background-color: #434B5C;\n",
              "      box-shadow: 0px 1px 3px 1px rgba(0, 0, 0, 0.15);\n",
              "      filter: drop-shadow(0px 1px 2px rgba(0, 0, 0, 0.3));\n",
              "      fill: #FFFFFF;\n",
              "    }\n",
              "  </style>\n",
              "\n",
              "      <script>\n",
              "        const buttonEl =\n",
              "          document.querySelector('#df-692b9f24-b07c-4611-974e-053ee5e46abb button.colab-df-convert');\n",
              "        buttonEl.style.display =\n",
              "          google.colab.kernel.accessAllowed ? 'block' : 'none';\n",
              "\n",
              "        async function convertToInteractive(key) {\n",
              "          const element = document.querySelector('#df-692b9f24-b07c-4611-974e-053ee5e46abb');\n",
              "          const dataTable =\n",
              "            await google.colab.kernel.invokeFunction('convertToInteractive',\n",
              "                                                     [key], {});\n",
              "          if (!dataTable) return;\n",
              "\n",
              "          const docLinkHtml = 'Like what you see? Visit the ' +\n",
              "            '<a target=\"_blank\" href=https://colab.research.google.com/notebooks/data_table.ipynb>data table notebook</a>'\n",
              "            + ' to learn more about interactive tables.';\n",
              "          element.innerHTML = '';\n",
              "          dataTable['output_type'] = 'display_data';\n",
              "          await google.colab.output.renderOutput(dataTable, element);\n",
              "          const docLink = document.createElement('div');\n",
              "          docLink.innerHTML = docLinkHtml;\n",
              "          element.appendChild(docLink);\n",
              "        }\n",
              "      </script>\n",
              "    </div>\n",
              "  </div>\n"
            ]
          },
          "metadata": {},
          "execution_count": 46
        }
      ]
    },
    {
      "cell_type": "code",
      "source": [
        "vocabulary = set()\n",
        "train_data['cleaned_summary'].str.split().apply(vocabulary.update)\n",
        "vocabulary_size = len(vocabulary)\n",
        "print(vocabulary_size)"
      ],
      "metadata": {
        "colab": {
          "base_uri": "https://localhost:8080/"
        },
        "id": "03YY7MpTFCcO",
        "outputId": "40a13513-c639-4cd6-d9c2-83a60f3e0291"
      },
      "execution_count": 47,
      "outputs": [
        {
          "output_type": "stream",
          "name": "stdout",
          "text": [
            "141608\n"
          ]
        }
      ]
    },
    {
      "cell_type": "code",
      "source": [
        "text_vectorizer = tf.keras.layers.TextVectorization(\n",
        "    max_tokens = vocabulary_size,ngrams = 2,output_mode = 'tf_idf'\n",
        ")\n",
        "\n",
        "text_vectorizer.adapt(train_dataset.map(lambda text, label:text))"
      ],
      "metadata": {
        "id": "HP03jZljFP3g"
      },
      "execution_count": 48,
      "outputs": []
    },
    {
      "cell_type": "code",
      "source": [
        "i, j = next(iter(train_dataset))\n",
        "print(i[3])\n",
        "print(text_vectorizer(i[3]))"
      ],
      "metadata": {
        "colab": {
          "base_uri": "https://localhost:8080/"
        },
        "id": "U_a_WvZxFcNU",
        "outputId": "a0b9e579-1792-4111-fafb-40b1f6f5e551"
      },
      "execution_count": 50,
      "outputs": [
        {
          "output_type": "stream",
          "name": "stdout",
          "text": [
            "tf.Tensor(b'a crucial component of an autonomous vehicle (av) is the artificial intelligence (ai) is able to drive towards a desired destination. today, there are different paradigms addressing the development of ai drivers. on the one hand, we find modular pipelines, which divide the driving task into sub-tasks such as perception and maneuver planning and control. on the other hand, we find end-to-end driving approaches that try to learn a direct mapping from input raw sensor data to vehicle control signals. the later are relatively less studied, but are gaining popularity since they are less demanding in terms of sensor data annotation. this paper focuses on end-to-end autonomous driving. so far, most proposals relying on this paradigm assume rgb images as input sensor data. however, avs will not be equipped only with cameras, but also with active sensors providing accurate depth information (e.g., lidars). accordingly, this paper analyses whether combining rgb and depth modalities, i.e. using rgbd data, produces better end-to-end ai drivers than relying on a single modality. we consider multimodality based on early, mid and late fusion schemes, both in multisensory and single-sensor (monocular depth estimation) settings. using the carla simulator and conditional imitation learning (cil), we show how, indeed, early fusion multimodality outperforms single-modality.', shape=(), dtype=string)\n",
            "tf.Tensor(\n",
            "[508.78125     4.867712    2.1061258 ...   0.          0.\n",
            "   0.       ], shape=(141608,), dtype=float32)\n"
          ]
        }
      ]
    },
    {
      "cell_type": "code",
      "source": [
        "train_dataset = train_dataset.map(lambda text, label:(text_vectorizer(text), label), num_parallel_calls = auto).prefetch(auto)\n",
        "val_dataset = val_dataset.map(lambda text, label:(text_vectorizer(text), label), num_parallel_calls = auto).prefetch(auto)\n",
        "test_dataset = test_dataset.map(lambda text, label:(text_vectorizer(text), label), num_parallel_calls = auto).prefetch(auto)"
      ],
      "metadata": {
        "id": "skPnfKhXJnRB"
      },
      "execution_count": 51,
      "outputs": []
    },
    {
      "cell_type": "code",
      "source": [
        "train_dataset"
      ],
      "metadata": {
        "colab": {
          "base_uri": "https://localhost:8080/"
        },
        "id": "2xAHkjrfJ9ah",
        "outputId": "02d2fb1d-42d4-4019-cff2-54869b274b4d"
      },
      "execution_count": 52,
      "outputs": [
        {
          "output_type": "execute_result",
          "data": {
            "text/plain": [
              "<_PrefetchDataset element_spec=(TensorSpec(shape=(None, 141608), dtype=tf.float32, name=None), TensorSpec(shape=(None, 151), dtype=tf.float32, name=None))>"
            ]
          },
          "metadata": {},
          "execution_count": 52
        }
      ]
    },
    {
      "cell_type": "code",
      "source": [
        "i, j = next(iter(train_dataset))\n",
        "print(i[3])"
      ],
      "metadata": {
        "colab": {
          "base_uri": "https://localhost:8080/"
        },
        "id": "_Dc4R-DKLBg9",
        "outputId": "b64b5f48-92ce-4041-89b2-cb91461abaa6"
      },
      "execution_count": 53,
      "outputs": [
        {
          "output_type": "stream",
          "name": "stdout",
          "text": [
            "tf.Tensor(\n",
            "[346.8963      4.867712    2.1061258 ...   0.          0.\n",
            "   0.       ], shape=(141608,), dtype=float32)\n"
          ]
        }
      ]
    },
    {
      "cell_type": "markdown",
      "source": [
        "# model 0: Baseline model"
      ],
      "metadata": {
        "id": "BeIWclJ9LHvZ"
      }
    },
    {
      "cell_type": "code",
      "source": [],
      "metadata": {
        "id": "IGbkJ2K0Y4Gs"
      },
      "execution_count": 53,
      "outputs": []
    },
    {
      "cell_type": "code",
      "source": [
        "model_0 = tf.keras.Sequential([\n",
        "    tf.keras.layers.Dense(512, activation = 'relu'),\n",
        "    tf.keras.layers.Dense(256, activation = 'relu'),\n",
        "    tf.keras.layers.Dense(151, activation = 'sigmoid')\n",
        "])\n",
        "\n",
        "model_0.compile(\n",
        "    loss = 'binary_crossentropy',\n",
        "    optimizer = 'adam',\n",
        "    metrics = ['binary_accuracy']\n",
        ")\n",
        "\n",
        "history_0 = model_0.fit(\n",
        "    train_dataset,\n",
        "    validation_data = val_dataset,\n",
        "    epochs = 15\n",
        ")"
      ],
      "metadata": {
        "colab": {
          "base_uri": "https://localhost:8080/"
        },
        "id": "qGkuPi5VYD0g",
        "outputId": "5fd8c28f-701f-49d5-9c67-981795eeeb70"
      },
      "execution_count": 55,
      "outputs": [
        {
          "output_type": "stream",
          "name": "stdout",
          "text": [
            "Epoch 1/15\n",
            "917/917 [==============================] - 24s 25ms/step - loss: 0.0245 - binary_accuracy: 0.9925 - val_loss: 0.0187 - val_binary_accuracy: 0.9939\n",
            "Epoch 2/15\n",
            "917/917 [==============================] - 25s 27ms/step - loss: 0.0031 - binary_accuracy: 0.9989 - val_loss: 0.0259 - val_binary_accuracy: 0.9937\n",
            "Epoch 3/15\n",
            "917/917 [==============================] - 23s 25ms/step - loss: 0.0014 - binary_accuracy: 0.9996 - val_loss: 0.0333 - val_binary_accuracy: 0.9937\n",
            "Epoch 4/15\n",
            "917/917 [==============================] - 23s 25ms/step - loss: 0.0012 - binary_accuracy: 0.9997 - val_loss: 0.0376 - val_binary_accuracy: 0.9932\n",
            "Epoch 5/15\n",
            "917/917 [==============================] - 24s 26ms/step - loss: 0.0014 - binary_accuracy: 0.9996 - val_loss: 0.0405 - val_binary_accuracy: 0.9933\n",
            "Epoch 6/15\n",
            "917/917 [==============================] - 23s 25ms/step - loss: 0.0014 - binary_accuracy: 0.9996 - val_loss: 0.0461 - val_binary_accuracy: 0.9934\n",
            "Epoch 7/15\n",
            "917/917 [==============================] - 24s 26ms/step - loss: 0.0013 - binary_accuracy: 0.9997 - val_loss: 0.0508 - val_binary_accuracy: 0.9935\n",
            "Epoch 8/15\n",
            "917/917 [==============================] - 23s 25ms/step - loss: 0.0012 - binary_accuracy: 0.9997 - val_loss: 0.0575 - val_binary_accuracy: 0.9930\n",
            "Epoch 9/15\n",
            "917/917 [==============================] - 23s 25ms/step - loss: 0.0011 - binary_accuracy: 0.9997 - val_loss: 0.0572 - val_binary_accuracy: 0.9932\n",
            "Epoch 10/15\n",
            "917/917 [==============================] - 23s 25ms/step - loss: 0.0010 - binary_accuracy: 0.9998 - val_loss: 0.0600 - val_binary_accuracy: 0.9933\n",
            "Epoch 11/15\n",
            "917/917 [==============================] - 23s 25ms/step - loss: 9.8892e-04 - binary_accuracy: 0.9998 - val_loss: 0.0623 - val_binary_accuracy: 0.9935\n",
            "Epoch 12/15\n",
            "917/917 [==============================] - 24s 26ms/step - loss: 8.8061e-04 - binary_accuracy: 0.9998 - val_loss: 0.0651 - val_binary_accuracy: 0.9931\n",
            "Epoch 13/15\n",
            "917/917 [==============================] - 23s 25ms/step - loss: 8.0046e-04 - binary_accuracy: 0.9998 - val_loss: 0.0777 - val_binary_accuracy: 0.9930\n",
            "Epoch 14/15\n",
            "917/917 [==============================] - 23s 25ms/step - loss: 8.8222e-04 - binary_accuracy: 0.9998 - val_loss: 0.0811 - val_binary_accuracy: 0.9934\n",
            "Epoch 15/15\n",
            "917/917 [==============================] - 23s 25ms/step - loss: 8.1085e-04 - binary_accuracy: 0.9998 - val_loss: 0.0855 - val_binary_accuracy: 0.9934\n"
          ]
        }
      ]
    },
    {
      "cell_type": "code",
      "source": [
        "# helper function\n",
        "def plot_loss_curves(history):\n",
        "\n",
        "    loss = history.history['loss']\n",
        "    val_loss = history.history['val_loss']\n",
        "\n",
        "    accuracy = history.history['binary_accuracy']\n",
        "    val_accuracy = history.history['val_binary_accuracy']\n",
        "\n",
        "    epochs = range(len(history.history['loss']))\n",
        "\n",
        "\n",
        "    plt.figure(figsize = (8,4))\n",
        "\n",
        "    plt.subplot(1,2,1)\n",
        "\n",
        "    # plot losss\n",
        "    plt.plot(epochs, loss, label = 'training_loss')\n",
        "    plt.plot(epochs, val_loss, label = 'val_loss')\n",
        "    plt.title('Loss')\n",
        "    plt.xlabel('Epochs')\n",
        "    plt.legend()\n",
        "\n",
        "    plt.subplot(1,2,2)\n",
        "    # plot accuracy\n",
        "    plt.plot(epochs, accuracy, label = 'training_accuracy')\n",
        "    plt.plot(epochs, val_accuracy, label = 'val_accuracy')\n",
        "    plt.title('accuracy')\n",
        "    plt.xlabel('Epochs')\n",
        "    plt.legend()\n"
      ],
      "metadata": {
        "id": "qkB5e3-0ZdAv"
      },
      "execution_count": 56,
      "outputs": []
    },
    {
      "cell_type": "code",
      "source": [
        "plot_loss_curves(history_0)"
      ],
      "metadata": {
        "colab": {
          "base_uri": "https://localhost:8080/",
          "height": 410
        },
        "id": "rPxLcOH2cgS-",
        "outputId": "2b31b803-521f-4943-d83e-7ace68d87f1f"
      },
      "execution_count": 57,
      "outputs": [
        {
          "output_type": "display_data",
          "data": {
            "text/plain": [
              "<Figure size 800x400 with 2 Axes>"
            ],
            "image/png": "[encoded data removed]"
          },
          "metadata": {}
        }
      ]
    },
    {
      "cell_type": "code",
      "source": [
        "model_0.evaluate(test_dataset)"
      ],
      "metadata": {
        "colab": {
          "base_uri": "https://localhost:8080/"
        },
        "id": "dTmpcao2ciBo",
        "outputId": "d878d4ad-9b5c-435c-e9ed-4a7ea96be4ef"
      },
      "execution_count": 58,
      "outputs": [
        {
          "output_type": "stream",
          "name": "stdout",
          "text": [
            "115/115 [==============================] - 1s 11ms/step - loss: 0.0845 - binary_accuracy: 0.9935\n"
          ]
        },
        {
          "output_type": "execute_result",
          "data": {
            "text/plain": [
              "[0.08454015105962753, 0.9934513568878174]"
            ]
          },
          "metadata": {},
          "execution_count": 58
        }
      ]
    },
    {
      "cell_type": "code",
      "source": [],
      "metadata": {
        "id": "t65z6xm1dMN1"
      },
      "execution_count": null,
      "outputs": []
    }
  ]
}